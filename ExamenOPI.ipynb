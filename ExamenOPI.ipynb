{
  "nbformat": 4,
  "nbformat_minor": 0,
  "metadata": {
    "colab": {
      "name": "ExamenOPI.ipynb",
      "provenance": [],
      "authorship_tag": "ABX9TyNFQWpfbJnWXTTDzdCQhQy+",
      "include_colab_link": true
    },
    "kernelspec": {
      "name": "python3",
      "display_name": "Python 3"
    },
    "language_info": {
      "name": "python"
    }
  },
  "cells": [
    {
      "cell_type": "markdown",
      "metadata": {
        "id": "view-in-github",
        "colab_type": "text"
      },
      "source": [
        "<a href=\"https://colab.research.google.com/github/rmoracode/examenopi/blob/main/ExamenOPI.ipynb\" target=\"_parent\"><img src=\"https://colab.research.google.com/assets/colab-badge.svg\" alt=\"Open In Colab\"/></a>"
      ]
    },
    {
      "cell_type": "markdown",
      "metadata": {
        "id": "REYm8tG-5Oo_"
      },
      "source": [
        "**1.- ¿Qué pruebas identificarías para asegurar la calidad de estos datos?**"
      ]
    },
    {
      "cell_type": "markdown",
      "metadata": {
        "id": "PPMV2TWv5Ygi"
      },
      "source": [
        "Normalmente empiezo con un análisis de datos básico, medidas de centralización, dispersión y asimetría para ver como se situan los datos, cuanto se desplazan de la media y momento de orden R con respecto a la media.  Prueba de normalidad de muestras pequeñas, el método de prueba de Shapiro-Wilk. Otra prueba es prueba de Kolmogorov-Smirnov  para comprobar si los datos de la muestra obedecen a una determinada distribución. La otra es la prueba de homogeneidad de varianza y análisis de correlación."
      ]
    },
    {
      "cell_type": "markdown",
      "metadata": {
        "id": "vADKBRI-kbhZ"
      },
      "source": [
        "**PASO 1: IMPORTAR LIBRERÍAS Y DATASETS**"
      ]
    },
    {
      "cell_type": "code",
      "metadata": {
        "id": "cqVpl9WlhyiT"
      },
      "source": [
        "#Importar librerias\n",
        "import pandas as pd\n",
        "import numpy as np\n",
        "import seaborn as sns\n",
        "import matplotlib.pyplot as plt\n",
        "import zipfile\n",
        "import datetime\n",
        "import cv2\n",
        "from IPython.display import display\n",
        "from sklearn.preprocessing import StandardScaler, normalize\n",
        "from sklearn.cluster import KMeans\n",
        "from sklearn.decomposition import PCA\n",
        "from sklearn.metrics import silhouette_score\n",
        "from sklearn.manifold import TSNE\n",
        "from sklearn.metrics.pairwise import cosine_similarity\n",
        "import plotly.express as px\n",
        "import plotly.graph_objects as go\n"
      ],
      "execution_count": 2,
      "outputs": []
    },
    {
      "cell_type": "code",
      "metadata": {
        "colab": {
          "base_uri": "https://localhost:8080/"
        },
        "id": "nSElVLCO05Fy",
        "outputId": "5fed5409-149b-4d64-8bdc-b718e1c8f0dd"
      },
      "source": [
        "df.dtypes"
      ],
      "execution_count": 193,
      "outputs": [
        {
          "output_type": "execute_result",
          "data": {
            "text/plain": [
              "ao_hechos                      float64\n",
              "mes_hechos                      object\n",
              "fecha_hechos            datetime64[ns]\n",
              "ao_inicio                        int64\n",
              "mes_inicio                      object\n",
              "fecha_inicio            datetime64[ns]\n",
              "delito                          object\n",
              "fiscalia                        object\n",
              "agencia                         object\n",
              "unidad_investigacion            object\n",
              "categoria_delito                object\n",
              "calle_hechos                    object\n",
              "colonia_hechos                  object\n",
              "alcaldia_hechos                 object\n",
              "longitud                       float64\n",
              "latitud                        float64\n",
              "date                            object\n",
              "dtype: object"
            ]
          },
          "metadata": {},
          "execution_count": 193
        }
      ]
    },
    {
      "cell_type": "code",
      "metadata": {
        "colab": {
          "base_uri": "https://localhost:8080/"
        },
        "id": "QLOL6Wm4lKS2",
        "outputId": "d7432c6d-ca01-4b2a-a600-e590fb8705e8"
      },
      "source": [
        "#Conectar con drive\n",
        "from google.colab import drive\n",
        "drive.mount('/content/drive')"
      ],
      "execution_count": 4,
      "outputs": [
        {
          "output_type": "stream",
          "name": "stdout",
          "text": [
            "Mounted at /content/drive\n"
          ]
        }
      ]
    },
    {
      "cell_type": "code",
      "metadata": {
        "colab": {
          "base_uri": "https://localhost:8080/"
        },
        "id": "T1EPfRSAlUl9",
        "outputId": "5c4b2ec3-93d2-4857-87b4-8e843d8d9673"
      },
      "source": [
        "#Cargar dataset\n",
        "df = pd.read_csv('/content/drive/MyDrive/carpetas_completa_septiembre_2021.csv', encoding = 'utf8')"
      ],
      "execution_count": 6,
      "outputs": [
        {
          "output_type": "stream",
          "name": "stderr",
          "text": [
            "/usr/local/lib/python3.7/dist-packages/IPython/core/interactiveshell.py:2718: DtypeWarning:\n",
            "\n",
            "Columns (15) have mixed types.Specify dtype option on import or set low_memory=False.\n",
            "\n"
          ]
        }
      ]
    },
    {
      "cell_type": "code",
      "metadata": {
        "colab": {
          "base_uri": "https://localhost:8080/",
          "height": 250
        },
        "id": "_duzTkGNl5bw",
        "outputId": "7f8b5af9-d925-4eb9-a814-38617c57d873"
      },
      "source": [
        "#Veamos el dataframe\n",
        "df.head(2)"
      ],
      "execution_count": 7,
      "outputs": [
        {
          "output_type": "execute_result",
          "data": {
            "text/html": [
              "<div>\n",
              "<style scoped>\n",
              "    .dataframe tbody tr th:only-of-type {\n",
              "        vertical-align: middle;\n",
              "    }\n",
              "\n",
              "    .dataframe tbody tr th {\n",
              "        vertical-align: top;\n",
              "    }\n",
              "\n",
              "    .dataframe thead th {\n",
              "        text-align: right;\n",
              "    }\n",
              "</style>\n",
              "<table border=\"1\" class=\"dataframe\">\n",
              "  <thead>\n",
              "    <tr style=\"text-align: right;\">\n",
              "      <th></th>\n",
              "      <th>ao_hechos</th>\n",
              "      <th>mes_hechos</th>\n",
              "      <th>fecha_hechos</th>\n",
              "      <th>ao_inicio</th>\n",
              "      <th>mes_inicio</th>\n",
              "      <th>fecha_inicio</th>\n",
              "      <th>delito</th>\n",
              "      <th>fiscalia</th>\n",
              "      <th>agencia</th>\n",
              "      <th>unidad_investigacion</th>\n",
              "      <th>categoria_delito</th>\n",
              "      <th>calle_hechos</th>\n",
              "      <th>calle_hechos2</th>\n",
              "      <th>colonia_hechos</th>\n",
              "      <th>alcaldia_hechos</th>\n",
              "      <th>competencia</th>\n",
              "      <th>longitud</th>\n",
              "      <th>latitud</th>\n",
              "      <th>tempo</th>\n",
              "    </tr>\n",
              "  </thead>\n",
              "  <tbody>\n",
              "    <tr>\n",
              "      <th>0</th>\n",
              "      <td>2016.0</td>\n",
              "      <td>Enero</td>\n",
              "      <td>2016-01-31 22:16:00</td>\n",
              "      <td>2016</td>\n",
              "      <td>Febrero</td>\n",
              "      <td>2016-02-01 00:25:44</td>\n",
              "      <td>DAÑO EN PROPIEDAD AJENA INTENCIONAL</td>\n",
              "      <td>INVESTIGACIÓN EN BENITO JUÁREZ</td>\n",
              "      <td>BJ-2</td>\n",
              "      <td>UI-3CD</td>\n",
              "      <td>DELITO DE BAJO IMPACTO</td>\n",
              "      <td>CALZ. DE TLALPAN</td>\n",
              "      <td>LAGO PTE.</td>\n",
              "      <td>AMÉRICAS UNIDAS</td>\n",
              "      <td>BENITO JUAREZ</td>\n",
              "      <td>NaN</td>\n",
              "      <td>-99.140215</td>\n",
              "      <td>19.380315</td>\n",
              "      <td>NaN</td>\n",
              "    </tr>\n",
              "    <tr>\n",
              "      <th>1</th>\n",
              "      <td>2016.0</td>\n",
              "      <td>Enero</td>\n",
              "      <td>2016-01-31 20:50:00</td>\n",
              "      <td>2016</td>\n",
              "      <td>Febrero</td>\n",
              "      <td>2016-02-01 00:52:37</td>\n",
              "      <td>ROBO DE VEHICULO DE SERVICIO PARTICULAR CON VI...</td>\n",
              "      <td>INVESTIGACIÓN PARA LA ATENCIÓN DEL DELITO DE R...</td>\n",
              "      <td>ORIENTEII</td>\n",
              "      <td>UI-3CD</td>\n",
              "      <td>ROBO DE VEHÍCULO CON Y SIN VIOLENCIA</td>\n",
              "      <td>SUR 25 A</td>\n",
              "      <td>GRANJEROS</td>\n",
              "      <td>LOS CIPRESES</td>\n",
              "      <td>IZTAPALAPA</td>\n",
              "      <td>NaN</td>\n",
              "      <td>-99.108403</td>\n",
              "      <td>19.352859</td>\n",
              "      <td>NaN</td>\n",
              "    </tr>\n",
              "  </tbody>\n",
              "</table>\n",
              "</div>"
            ],
            "text/plain": [
              "   ao_hechos mes_hechos         fecha_hechos  ...   longitud    latitud tempo\n",
              "0     2016.0      Enero  2016-01-31 22:16:00  ... -99.140215  19.380315   NaN\n",
              "1     2016.0      Enero  2016-01-31 20:50:00  ... -99.108403  19.352859   NaN\n",
              "\n",
              "[2 rows x 19 columns]"
            ]
          },
          "metadata": {},
          "execution_count": 7
        }
      ]
    },
    {
      "cell_type": "code",
      "metadata": {
        "colab": {
          "base_uri": "https://localhost:8080/"
        },
        "id": "PBwTN3uOp_4X",
        "outputId": "4c55e451-2633-4381-8d44-43b7861a4272"
      },
      "source": [
        "#veamos su estructura\n",
        "df.shape"
      ],
      "execution_count": 11,
      "outputs": [
        {
          "output_type": "execute_result",
          "data": {
            "text/plain": [
              "(1307211, 19)"
            ]
          },
          "metadata": {},
          "execution_count": 11
        }
      ]
    },
    {
      "cell_type": "code",
      "metadata": {
        "colab": {
          "base_uri": "https://localhost:8080/"
        },
        "id": "m4RFnh-qmjhX",
        "outputId": "c85900aa-adac-430e-b0d9-d0bb8444c4c3"
      },
      "source": [
        "# Veamos los tipos de datos\n",
        "df.dtypes"
      ],
      "execution_count": 5,
      "outputs": [
        {
          "output_type": "execute_result",
          "data": {
            "text/plain": [
              "ao_hechos               float64\n",
              "mes_hechos               object\n",
              "fecha_hechos             object\n",
              "ao_inicio                 int64\n",
              "mes_inicio               object\n",
              "fecha_inicio             object\n",
              "delito                   object\n",
              "fiscalia                 object\n",
              "agencia                  object\n",
              "unidad_investigacion     object\n",
              "categoria_delito         object\n",
              "calle_hechos             object\n",
              "calle_hechos2            object\n",
              "colonia_hechos           object\n",
              "alcaldia_hechos          object\n",
              "competencia              object\n",
              "longitud                float64\n",
              "latitud                 float64\n",
              "tempo                   float64\n",
              "dtype: object"
            ]
          },
          "metadata": {},
          "execution_count": 5
        }
      ]
    },
    {
      "cell_type": "code",
      "metadata": {
        "colab": {
          "base_uri": "https://localhost:8080/"
        },
        "id": "oKO2BTcLm2Mc",
        "outputId": "7ef8f10a-9856-4578-fe8a-be3ac576f109"
      },
      "source": [
        "# Convertimos la fecha del pedido en formato de fecha y hora\n",
        "df['fecha_hechos'] = pd.to_datetime(df['fecha_hechos'])\n",
        "df['fecha_inicio'] = pd.to_datetime(df['fecha_inicio'])\n",
        "# Comprobamos el tipo de datos\n",
        "df.dtypes"
      ],
      "execution_count": 6,
      "outputs": [
        {
          "output_type": "execute_result",
          "data": {
            "text/plain": [
              "ao_hechos                      float64\n",
              "mes_hechos                      object\n",
              "fecha_hechos            datetime64[ns]\n",
              "ao_inicio                        int64\n",
              "mes_inicio                      object\n",
              "fecha_inicio            datetime64[ns]\n",
              "delito                          object\n",
              "fiscalia                        object\n",
              "agencia                         object\n",
              "unidad_investigacion            object\n",
              "categoria_delito                object\n",
              "calle_hechos                    object\n",
              "calle_hechos2                   object\n",
              "colonia_hechos                  object\n",
              "alcaldia_hechos                 object\n",
              "competencia                     object\n",
              "longitud                       float64\n",
              "latitud                        float64\n",
              "tempo                          float64\n",
              "dtype: object"
            ]
          },
          "metadata": {},
          "execution_count": 6
        }
      ]
    },
    {
      "cell_type": "code",
      "metadata": {
        "colab": {
          "base_uri": "https://localhost:8080/"
        },
        "id": "qhJtac0KnUiE",
        "outputId": "723a73b9-15cc-40fd-d5ec-1e41b701bc5f"
      },
      "source": [
        "# Comprobamos el númeto de elementos no nulos del data frame\n",
        "df.info()\n",
        "\n",
        "# Comprobar el número de elementos nulos del data frame\n",
        "df.isnull().sum()"
      ],
      "execution_count": 7,
      "outputs": [
        {
          "output_type": "stream",
          "name": "stdout",
          "text": [
            "<class 'pandas.core.frame.DataFrame'>\n",
            "RangeIndex: 1307211 entries, 0 to 1307210\n",
            "Data columns (total 19 columns):\n",
            " #   Column                Non-Null Count    Dtype         \n",
            "---  ------                --------------    -----         \n",
            " 0   ao_hechos             1306767 non-null  float64       \n",
            " 1   mes_hechos            1306767 non-null  object        \n",
            " 2   fecha_hechos          1306767 non-null  datetime64[ns]\n",
            " 3   ao_inicio             1307211 non-null  int64         \n",
            " 4   mes_inicio            1307211 non-null  object        \n",
            " 5   fecha_inicio          1307208 non-null  datetime64[ns]\n",
            " 6   delito                1307211 non-null  object        \n",
            " 7   fiscalia              1307209 non-null  object        \n",
            " 8   agencia               1307211 non-null  object        \n",
            " 9   unidad_investigacion  1306984 non-null  object        \n",
            " 10  categoria_delito      1307211 non-null  object        \n",
            " 11  calle_hechos          1303945 non-null  object        \n",
            " 12  calle_hechos2         507656 non-null   object        \n",
            " 13  colonia_hechos        1252553 non-null  object        \n",
            " 14  alcaldia_hechos       1303432 non-null  object        \n",
            " 15  competencia           243132 non-null   object        \n",
            " 16  longitud              1253509 non-null  float64       \n",
            " 17  latitud               1253509 non-null  float64       \n",
            " 18  tempo                 0 non-null        float64       \n",
            "dtypes: datetime64[ns](2), float64(4), int64(1), object(12)\n",
            "memory usage: 189.5+ MB\n"
          ]
        },
        {
          "output_type": "execute_result",
          "data": {
            "text/plain": [
              "ao_hechos                   444\n",
              "mes_hechos                  444\n",
              "fecha_hechos                444\n",
              "ao_inicio                     0\n",
              "mes_inicio                    0\n",
              "fecha_inicio                  3\n",
              "delito                        0\n",
              "fiscalia                      2\n",
              "agencia                       0\n",
              "unidad_investigacion        227\n",
              "categoria_delito              0\n",
              "calle_hechos               3266\n",
              "calle_hechos2            799555\n",
              "colonia_hechos            54658\n",
              "alcaldia_hechos            3779\n",
              "competencia             1064079\n",
              "longitud                  53702\n",
              "latitud                   53702\n",
              "tempo                   1307211\n",
              "dtype: int64"
            ]
          },
          "metadata": {},
          "execution_count": 7
        }
      ]
    },
    {
      "cell_type": "code",
      "metadata": {
        "colab": {
          "base_uri": "https://localhost:8080/",
          "height": 250
        },
        "id": "dUfuATH2oi2f",
        "outputId": "a8e9b15f-eed6-41a0-fcad-3b4b76c34060"
      },
      "source": [
        "#Eliminamos columnas que tiene valores nulos en su mayoria al no generar valor\n",
        "df_drop  = ['tempo', 'competencia', 'calle_hechos2']\n",
        "df = df.drop(df_drop, axis = 1)\n",
        "df.head(2)"
      ],
      "execution_count": 13,
      "outputs": [
        {
          "output_type": "execute_result",
          "data": {
            "text/html": [
              "<div>\n",
              "<style scoped>\n",
              "    .dataframe tbody tr th:only-of-type {\n",
              "        vertical-align: middle;\n",
              "    }\n",
              "\n",
              "    .dataframe tbody tr th {\n",
              "        vertical-align: top;\n",
              "    }\n",
              "\n",
              "    .dataframe thead th {\n",
              "        text-align: right;\n",
              "    }\n",
              "</style>\n",
              "<table border=\"1\" class=\"dataframe\">\n",
              "  <thead>\n",
              "    <tr style=\"text-align: right;\">\n",
              "      <th></th>\n",
              "      <th>ao_hechos</th>\n",
              "      <th>mes_hechos</th>\n",
              "      <th>fecha_hechos</th>\n",
              "      <th>ao_inicio</th>\n",
              "      <th>mes_inicio</th>\n",
              "      <th>fecha_inicio</th>\n",
              "      <th>delito</th>\n",
              "      <th>fiscalia</th>\n",
              "      <th>agencia</th>\n",
              "      <th>unidad_investigacion</th>\n",
              "      <th>categoria_delito</th>\n",
              "      <th>calle_hechos</th>\n",
              "      <th>colonia_hechos</th>\n",
              "      <th>alcaldia_hechos</th>\n",
              "      <th>longitud</th>\n",
              "      <th>latitud</th>\n",
              "    </tr>\n",
              "  </thead>\n",
              "  <tbody>\n",
              "    <tr>\n",
              "      <th>0</th>\n",
              "      <td>2016.0</td>\n",
              "      <td>Enero</td>\n",
              "      <td>2016-01-31 22:16:00</td>\n",
              "      <td>2016</td>\n",
              "      <td>Febrero</td>\n",
              "      <td>2016-02-01 00:25:44</td>\n",
              "      <td>DAÃO EN PROPIEDAD AJENA INTENCIONAL</td>\n",
              "      <td>INVESTIGACIÃN EN BENITO JUÃREZ</td>\n",
              "      <td>BJ-2</td>\n",
              "      <td>UI-3CD</td>\n",
              "      <td>DELITO DE BAJO IMPACTO</td>\n",
              "      <td>CALZ. DE TLALPAN</td>\n",
              "      <td>AMÃRICAS UNIDAS</td>\n",
              "      <td>BENITO JUAREZ</td>\n",
              "      <td>-99.140215</td>\n",
              "      <td>19.380315</td>\n",
              "    </tr>\n",
              "    <tr>\n",
              "      <th>1</th>\n",
              "      <td>2016.0</td>\n",
              "      <td>Enero</td>\n",
              "      <td>2016-01-31 20:50:00</td>\n",
              "      <td>2016</td>\n",
              "      <td>Febrero</td>\n",
              "      <td>2016-02-01 00:52:37</td>\n",
              "      <td>ROBO DE VEHICULO DE SERVICIO PARTICULAR CON VI...</td>\n",
              "      <td>INVESTIGACIÃN PARA LA ATENCIÃN DEL DELITO DE...</td>\n",
              "      <td>ORIENTEII</td>\n",
              "      <td>UI-3CD</td>\n",
              "      <td>ROBO DE VEHÃCULO CON Y SIN VIOLENCIA</td>\n",
              "      <td>SUR 25 A</td>\n",
              "      <td>LOS CIPRESES</td>\n",
              "      <td>IZTAPALAPA</td>\n",
              "      <td>-99.108403</td>\n",
              "      <td>19.352859</td>\n",
              "    </tr>\n",
              "  </tbody>\n",
              "</table>\n",
              "</div>"
            ],
            "text/plain": [
              "   ao_hechos mes_hechos  ...   longitud    latitud\n",
              "0     2016.0      Enero  ... -99.140215  19.380315\n",
              "1     2016.0      Enero  ... -99.108403  19.352859\n",
              "\n",
              "[2 rows x 16 columns]"
            ]
          },
          "metadata": {},
          "execution_count": 13
        }
      ]
    },
    {
      "cell_type": "code",
      "metadata": {
        "id": "T7K2g5-erd49"
      },
      "source": [
        "#Eliminamos las filas con nulos de los campos más importantes fecha_hechos y alcaldia_hechos\n",
        "df = df[df['alcaldia_hechos'].notna()]\n",
        "df = df[df['fecha_hechos'].notna()]"
      ],
      "execution_count": 14,
      "outputs": []
    },
    {
      "cell_type": "code",
      "metadata": {
        "colab": {
          "base_uri": "https://localhost:8080/"
        },
        "id": "lU4n9nPWtNNw",
        "outputId": "3d025768-bba4-4e6b-a025-2fff1c05164d"
      },
      "source": [
        "# Comprobar una vez más el número de elementos nulos del data frame\n",
        "df.isnull().sum()"
      ],
      "execution_count": 15,
      "outputs": [
        {
          "output_type": "execute_result",
          "data": {
            "text/plain": [
              "ao_hechos                   0\n",
              "mes_hechos                  0\n",
              "fecha_hechos                0\n",
              "ao_inicio                   0\n",
              "mes_inicio                  0\n",
              "fecha_inicio                3\n",
              "delito                      0\n",
              "fiscalia                    2\n",
              "agencia                     0\n",
              "unidad_investigacion      226\n",
              "categoria_delito            0\n",
              "calle_hechos             3101\n",
              "colonia_hechos          50802\n",
              "alcaldia_hechos             0\n",
              "longitud                49844\n",
              "latitud                 49844\n",
              "dtype: int64"
            ]
          },
          "metadata": {},
          "execution_count": 15
        }
      ]
    },
    {
      "cell_type": "code",
      "metadata": {
        "colab": {
          "base_uri": "https://localhost:8080/"
        },
        "id": "vret4FZ0tf4m",
        "outputId": "cc628887-32aa-4081-bb34-c51875cd69a9"
      },
      "source": [
        "# Revisamos los valores únicas de cada columna\n",
        "df.nunique()"
      ],
      "execution_count": 16,
      "outputs": [
        {
          "output_type": "execute_result",
          "data": {
            "text/plain": [
              "ao_hechos                    73\n",
              "mes_hechos                   12\n",
              "fecha_hechos             433496\n",
              "ao_inicio                     6\n",
              "mes_inicio                   12\n",
              "fecha_inicio            1211466\n",
              "delito                      344\n",
              "fiscalia                     73\n",
              "agencia                     209\n",
              "unidad_investigacion        129\n",
              "categoria_delito             18\n",
              "calle_hechos             265541\n",
              "colonia_hechos             1663\n",
              "alcaldia_hechos             557\n",
              "longitud                 872433\n",
              "latitud                  882048\n",
              "dtype: int64"
            ]
          },
          "metadata": {},
          "execution_count": 16
        }
      ]
    },
    {
      "cell_type": "markdown",
      "metadata": {
        "id": "KQ813T-ttse6"
      },
      "source": [
        "**PASO 2: ANALISIS EXPLORATORIO DE LOS DATOS Y LIMPIEZA**"
      ]
    },
    {
      "cell_type": "code",
      "metadata": {
        "colab": {
          "base_uri": "https://localhost:8080/"
        },
        "id": "36BGq2batsGf",
        "outputId": "1661748f-47ba-4941-d8e4-52a46f1b0dae"
      },
      "source": [
        "df['delito'].value_counts().index"
      ],
      "execution_count": 71,
      "outputs": [
        {
          "output_type": "execute_result",
          "data": {
            "text/plain": [
              "Index(['VIOLENCIA FAMILIAR', 'FRAUDE', 'ROBO DE OBJETOS', 'AMENAZAS',\n",
              "       'ROBO A NEGOCIO SIN VIOLENCIA',\n",
              "       'ROBO A TRANSEUNTE EN VIA PUBLICA CON VIOLENCIA',\n",
              "       'ROBO DE ACCESORIOS DE AUTO', 'DENUNCIA DE HECHOS',\n",
              "       'ROBO DE OBJETOS DEL INTERIOR DE UN VEHICULO',\n",
              "       'ROBO DE VEHICULO DE SERVICIO PARTICULAR SIN VIOLENCIA',\n",
              "       ...\n",
              "       'CALUMNIAS', 'VIOLACION A LOS DERECHOS HUMANOS',\n",
              "       'ASOCIACION DELICTUOSA', 'EJERCICIO INDEBIDO DEL PROPIO DER.',\n",
              "       'CONTRA LA LEY GENERAL DE EXPLOSIVOS',\n",
              "       'PROCREACION ASISTIDA, INSEMINACION ARTIFICIAL Y ESTERILIZACION FORZADA',\n",
              "       'ROBO DE VEHICULO Y NOMINA CON VIOLENCIA',\n",
              "       'ROBO A TRANSEUNTE EN VIA PUBLICA (NOMINA) SIN VIOLENCIA',\n",
              "       'PROCREACION ASISTIDA', 'DESACATO'],\n",
              "      dtype='object', length=344)"
            ]
          },
          "metadata": {},
          "execution_count": 71
        }
      ]
    },
    {
      "cell_type": "code",
      "metadata": {
        "colab": {
          "base_uri": "https://localhost:8080/"
        },
        "id": "nIh74rPOzGBN",
        "outputId": "1869c373-1b57-4bed-fabf-67e5cd777edd"
      },
      "source": [
        "df['delito'].value_counts().head(20)"
      ],
      "execution_count": 47,
      "outputs": [
        {
          "output_type": "execute_result",
          "data": {
            "text/plain": [
              "VIOLENCIA FAMILIAR                                                      137303\n",
              "FRAUDE                                                                   81745\n",
              "ROBO DE OBJETOS                                                          75875\n",
              "AMENAZAS                                                                 71535\n",
              "ROBO A NEGOCIO SIN VIOLENCIA                                             67516\n",
              "ROBO A TRANSEUNTE EN VIA PUBLICA CON VIOLENCIA                           64020\n",
              "ROBO DE ACCESORIOS DE AUTO                                               41710\n",
              "DENUNCIA DE HECHOS                                                       39730\n",
              "ROBO DE OBJETOS DEL INTERIOR DE UN VEHICULO                              36005\n",
              "ROBO DE VEHICULO DE SERVICIO PARTICULAR SIN VIOLENCIA                    32871\n",
              "ROBO A CASA HABITACION SIN VIOLENCIA                                     30794\n",
              "ABUSO DE CONFIANZA                                                       22642\n",
              "DESPOJO                                                                  21803\n",
              "NARCOMENUDEO POSESION SIMPLE                                             19659\n",
              "DAÃO EN PROPIEDAD AJENA CULPOSA POR TRÃNSITO VEHICULAR A AUTOMOVIL     19388\n",
              "ROBO A NEGOCIO CON VIOLENCIA                                             19008\n",
              "FALSIFICACION DE TITULOS AL PORTADOR Y DOCUMENTOS DE CREDITO PUBLICO     18662\n",
              "ABUSO SEXUAL                                                             16553\n",
              "USURPACIÃN DE IDENTIDAD                                                 16086\n",
              "LESIONES INTENCIONALES POR GOLPES                                        15777\n",
              "Name: delito, dtype: int64"
            ]
          },
          "metadata": {},
          "execution_count": 47
        }
      ]
    },
    {
      "cell_type": "code",
      "metadata": {
        "colab": {
          "base_uri": "https://localhost:8080/"
        },
        "id": "3Stf8BzgEdsM",
        "outputId": "12c387b9-cbc0-4213-a4af-fa0895c3b390"
      },
      "source": [
        "#40 tipos de delitos hacen el pareto es decir concentran el 80% de ocurrencias y 10 tipos de delitos el 50%\n",
        "sum(df['delito'].value_counts().head(40))/sum(df['delito'].value_counts())"
      ],
      "execution_count": 106,
      "outputs": [
        {
          "output_type": "execute_result",
          "data": {
            "text/plain": [
              "0.8104815283534805"
            ]
          },
          "metadata": {},
          "execution_count": 106
        }
      ]
    },
    {
      "cell_type": "code",
      "metadata": {
        "colab": {
          "base_uri": "https://localhost:8080/",
          "height": 359
        },
        "id": "czPkO1euGgjl",
        "outputId": "d8e28203-6901-4d20-ae25-b0d79775082d"
      },
      "source": [
        "top = df['delito'].value_counts().head(10)\n",
        "top\n",
        "topdf = pd.DataFrame(top)\n",
        "topdf\n",
        "topdf['nombre'] = topdf.index\n",
        "topdf"
      ],
      "execution_count": 98,
      "outputs": [
        {
          "output_type": "execute_result",
          "data": {
            "text/html": [
              "<div>\n",
              "<style scoped>\n",
              "    .dataframe tbody tr th:only-of-type {\n",
              "        vertical-align: middle;\n",
              "    }\n",
              "\n",
              "    .dataframe tbody tr th {\n",
              "        vertical-align: top;\n",
              "    }\n",
              "\n",
              "    .dataframe thead th {\n",
              "        text-align: right;\n",
              "    }\n",
              "</style>\n",
              "<table border=\"1\" class=\"dataframe\">\n",
              "  <thead>\n",
              "    <tr style=\"text-align: right;\">\n",
              "      <th></th>\n",
              "      <th>delito</th>\n",
              "      <th>nombre</th>\n",
              "    </tr>\n",
              "  </thead>\n",
              "  <tbody>\n",
              "    <tr>\n",
              "      <th>VIOLENCIA FAMILIAR</th>\n",
              "      <td>137303</td>\n",
              "      <td>VIOLENCIA FAMILIAR</td>\n",
              "    </tr>\n",
              "    <tr>\n",
              "      <th>FRAUDE</th>\n",
              "      <td>81745</td>\n",
              "      <td>FRAUDE</td>\n",
              "    </tr>\n",
              "    <tr>\n",
              "      <th>ROBO DE OBJETOS</th>\n",
              "      <td>75875</td>\n",
              "      <td>ROBO DE OBJETOS</td>\n",
              "    </tr>\n",
              "    <tr>\n",
              "      <th>AMENAZAS</th>\n",
              "      <td>71535</td>\n",
              "      <td>AMENAZAS</td>\n",
              "    </tr>\n",
              "    <tr>\n",
              "      <th>ROBO A NEGOCIO SIN VIOLENCIA</th>\n",
              "      <td>67516</td>\n",
              "      <td>ROBO A NEGOCIO SIN VIOLENCIA</td>\n",
              "    </tr>\n",
              "    <tr>\n",
              "      <th>ROBO A TRANSEUNTE EN VIA PUBLICA CON VIOLENCIA</th>\n",
              "      <td>64020</td>\n",
              "      <td>ROBO A TRANSEUNTE EN VIA PUBLICA CON VIOLENCIA</td>\n",
              "    </tr>\n",
              "    <tr>\n",
              "      <th>ROBO DE ACCESORIOS DE AUTO</th>\n",
              "      <td>41710</td>\n",
              "      <td>ROBO DE ACCESORIOS DE AUTO</td>\n",
              "    </tr>\n",
              "    <tr>\n",
              "      <th>DENUNCIA DE HECHOS</th>\n",
              "      <td>39730</td>\n",
              "      <td>DENUNCIA DE HECHOS</td>\n",
              "    </tr>\n",
              "    <tr>\n",
              "      <th>ROBO DE OBJETOS DEL INTERIOR DE UN VEHICULO</th>\n",
              "      <td>36005</td>\n",
              "      <td>ROBO DE OBJETOS DEL INTERIOR DE UN VEHICULO</td>\n",
              "    </tr>\n",
              "    <tr>\n",
              "      <th>ROBO DE VEHICULO DE SERVICIO PARTICULAR SIN VIOLENCIA</th>\n",
              "      <td>32871</td>\n",
              "      <td>ROBO DE VEHICULO DE SERVICIO PARTICULAR SIN VI...</td>\n",
              "    </tr>\n",
              "  </tbody>\n",
              "</table>\n",
              "</div>"
            ],
            "text/plain": [
              "                                                    delito                                             nombre\n",
              "VIOLENCIA FAMILIAR                                  137303                                 VIOLENCIA FAMILIAR\n",
              "FRAUDE                                               81745                                             FRAUDE\n",
              "ROBO DE OBJETOS                                      75875                                    ROBO DE OBJETOS\n",
              "AMENAZAS                                             71535                                           AMENAZAS\n",
              "ROBO A NEGOCIO SIN VIOLENCIA                         67516                       ROBO A NEGOCIO SIN VIOLENCIA\n",
              "ROBO A TRANSEUNTE EN VIA PUBLICA CON VIOLENCIA       64020     ROBO A TRANSEUNTE EN VIA PUBLICA CON VIOLENCIA\n",
              "ROBO DE ACCESORIOS DE AUTO                           41710                         ROBO DE ACCESORIOS DE AUTO\n",
              "DENUNCIA DE HECHOS                                   39730                                 DENUNCIA DE HECHOS\n",
              "ROBO DE OBJETOS DEL INTERIOR DE UN VEHICULO          36005        ROBO DE OBJETOS DEL INTERIOR DE UN VEHICULO\n",
              "ROBO DE VEHICULO DE SERVICIO PARTICULAR SIN VIO...   32871  ROBO DE VEHICULO DE SERVICIO PARTICULAR SIN VI..."
            ]
          },
          "metadata": {},
          "execution_count": 98
        }
      ]
    },
    {
      "cell_type": "code",
      "metadata": {
        "colab": {
          "base_uri": "https://localhost:8080/",
          "height": 542
        },
        "id": "_8U20RnY12or",
        "outputId": "0c9771e3-addf-4434-b257-966f47cfc796"
      },
      "source": [
        "# GRAFICAMOS\n",
        "fig = px.bar(topdf, x=\"nombre\", y=\"delito\", title=\"#delitos con mayor frecuencia\")\n",
        "fig.show()"
      ],
      "execution_count": 99,
      "outputs": [
        {
          "output_type": "display_data",
          "data": {
            "text/html": [
              "<html>\n",
              "<head><meta charset=\"utf-8\" /></head>\n",
              "<body>\n",
              "    <div>\n",
              "            <script src=\"https://cdnjs.cloudflare.com/ajax/libs/mathjax/2.7.5/MathJax.js?config=TeX-AMS-MML_SVG\"></script><script type=\"text/javascript\">if (window.MathJax) {MathJax.Hub.Config({SVG: {font: \"STIX-Web\"}});}</script>\n",
              "                <script type=\"text/javascript\">window.PlotlyConfig = {MathJaxConfig: 'local'};</script>\n",
              "        <script src=\"https://cdn.plot.ly/plotly-latest.min.js\"></script>    \n",
              "            <div id=\"940c331c-2c11-441a-b6c3-9271a79df813\" class=\"plotly-graph-div\" style=\"height:525px; width:100%;\"></div>\n",
              "            <script type=\"text/javascript\">\n",
              "                \n",
              "                    window.PLOTLYENV=window.PLOTLYENV || {};\n",
              "                    \n",
              "                if (document.getElementById(\"940c331c-2c11-441a-b6c3-9271a79df813\")) {\n",
              "                    Plotly.newPlot(\n",
              "                        '940c331c-2c11-441a-b6c3-9271a79df813',\n",
              "                        [{\"alignmentgroup\": \"True\", \"hoverlabel\": {\"namelength\": 0}, \"hovertemplate\": \"nombre=%{x}<br>delito=%{y}\", \"legendgroup\": \"\", \"marker\": {\"color\": \"#636efa\"}, \"name\": \"\", \"offsetgroup\": \"\", \"orientation\": \"v\", \"showlegend\": false, \"textposition\": \"auto\", \"type\": \"bar\", \"x\": [\"VIOLENCIA FAMILIAR\", \"FRAUDE\", \"ROBO DE OBJETOS\", \"AMENAZAS\", \"ROBO A NEGOCIO SIN VIOLENCIA\", \"ROBO A TRANSEUNTE EN VIA PUBLICA CON VIOLENCIA\", \"ROBO DE ACCESORIOS DE AUTO\", \"DENUNCIA DE HECHOS\", \"ROBO DE OBJETOS DEL INTERIOR DE UN VEHICULO\", \"ROBO DE VEHICULO DE SERVICIO PARTICULAR SIN VIOLENCIA\"], \"xaxis\": \"x\", \"y\": [137303, 81745, 75875, 71535, 67516, 64020, 41710, 39730, 36005, 32871], \"yaxis\": \"y\"}],\n",
              "                        {\"barmode\": \"relative\", \"legend\": {\"tracegroupgap\": 0}, \"template\": {\"data\": {\"bar\": [{\"error_x\": {\"color\": \"#2a3f5f\"}, \"error_y\": {\"color\": \"#2a3f5f\"}, \"marker\": {\"line\": {\"color\": \"#E5ECF6\", \"width\": 0.5}}, \"type\": \"bar\"}], \"barpolar\": [{\"marker\": {\"line\": {\"color\": \"#E5ECF6\", \"width\": 0.5}}, \"type\": \"barpolar\"}], \"carpet\": [{\"aaxis\": {\"endlinecolor\": \"#2a3f5f\", \"gridcolor\": \"white\", \"linecolor\": \"white\", \"minorgridcolor\": \"white\", \"startlinecolor\": \"#2a3f5f\"}, \"baxis\": {\"endlinecolor\": \"#2a3f5f\", \"gridcolor\": \"white\", \"linecolor\": \"white\", \"minorgridcolor\": \"white\", \"startlinecolor\": \"#2a3f5f\"}, \"type\": \"carpet\"}], \"choropleth\": [{\"colorbar\": {\"outlinewidth\": 0, \"ticks\": \"\"}, \"type\": \"choropleth\"}], \"contour\": [{\"colorbar\": {\"outlinewidth\": 0, \"ticks\": \"\"}, \"colorscale\": [[0.0, \"#0d0887\"], [0.1111111111111111, \"#46039f\"], [0.2222222222222222, \"#7201a8\"], [0.3333333333333333, \"#9c179e\"], [0.4444444444444444, \"#bd3786\"], [0.5555555555555556, \"#d8576b\"], [0.6666666666666666, \"#ed7953\"], [0.7777777777777778, \"#fb9f3a\"], [0.8888888888888888, \"#fdca26\"], [1.0, \"#f0f921\"]], \"type\": \"contour\"}], \"contourcarpet\": [{\"colorbar\": {\"outlinewidth\": 0, \"ticks\": \"\"}, \"type\": \"contourcarpet\"}], \"heatmap\": [{\"colorbar\": {\"outlinewidth\": 0, \"ticks\": \"\"}, \"colorscale\": [[0.0, \"#0d0887\"], [0.1111111111111111, \"#46039f\"], [0.2222222222222222, \"#7201a8\"], [0.3333333333333333, \"#9c179e\"], [0.4444444444444444, \"#bd3786\"], [0.5555555555555556, \"#d8576b\"], [0.6666666666666666, \"#ed7953\"], [0.7777777777777778, \"#fb9f3a\"], [0.8888888888888888, \"#fdca26\"], [1.0, \"#f0f921\"]], \"type\": \"heatmap\"}], \"heatmapgl\": [{\"colorbar\": {\"outlinewidth\": 0, \"ticks\": \"\"}, \"colorscale\": [[0.0, \"#0d0887\"], [0.1111111111111111, \"#46039f\"], [0.2222222222222222, \"#7201a8\"], [0.3333333333333333, \"#9c179e\"], [0.4444444444444444, \"#bd3786\"], [0.5555555555555556, \"#d8576b\"], [0.6666666666666666, \"#ed7953\"], [0.7777777777777778, \"#fb9f3a\"], [0.8888888888888888, \"#fdca26\"], [1.0, \"#f0f921\"]], \"type\": \"heatmapgl\"}], \"histogram\": [{\"marker\": {\"colorbar\": {\"outlinewidth\": 0, \"ticks\": \"\"}}, \"type\": \"histogram\"}], \"histogram2d\": [{\"colorbar\": {\"outlinewidth\": 0, \"ticks\": \"\"}, \"colorscale\": [[0.0, \"#0d0887\"], [0.1111111111111111, \"#46039f\"], [0.2222222222222222, \"#7201a8\"], [0.3333333333333333, \"#9c179e\"], [0.4444444444444444, \"#bd3786\"], [0.5555555555555556, \"#d8576b\"], [0.6666666666666666, \"#ed7953\"], [0.7777777777777778, \"#fb9f3a\"], [0.8888888888888888, \"#fdca26\"], [1.0, \"#f0f921\"]], \"type\": \"histogram2d\"}], \"histogram2dcontour\": [{\"colorbar\": {\"outlinewidth\": 0, \"ticks\": \"\"}, \"colorscale\": [[0.0, \"#0d0887\"], [0.1111111111111111, \"#46039f\"], [0.2222222222222222, \"#7201a8\"], [0.3333333333333333, \"#9c179e\"], [0.4444444444444444, \"#bd3786\"], [0.5555555555555556, \"#d8576b\"], [0.6666666666666666, \"#ed7953\"], [0.7777777777777778, \"#fb9f3a\"], [0.8888888888888888, \"#fdca26\"], [1.0, \"#f0f921\"]], \"type\": \"histogram2dcontour\"}], \"mesh3d\": [{\"colorbar\": {\"outlinewidth\": 0, \"ticks\": \"\"}, \"type\": \"mesh3d\"}], \"parcoords\": [{\"line\": {\"colorbar\": {\"outlinewidth\": 0, \"ticks\": \"\"}}, \"type\": \"parcoords\"}], \"pie\": [{\"automargin\": true, \"type\": \"pie\"}], \"scatter\": [{\"marker\": {\"colorbar\": {\"outlinewidth\": 0, \"ticks\": \"\"}}, \"type\": \"scatter\"}], \"scatter3d\": [{\"line\": {\"colorbar\": {\"outlinewidth\": 0, \"ticks\": \"\"}}, \"marker\": {\"colorbar\": {\"outlinewidth\": 0, \"ticks\": \"\"}}, \"type\": \"scatter3d\"}], \"scattercarpet\": [{\"marker\": {\"colorbar\": {\"outlinewidth\": 0, \"ticks\": \"\"}}, \"type\": \"scattercarpet\"}], \"scattergeo\": [{\"marker\": {\"colorbar\": {\"outlinewidth\": 0, \"ticks\": \"\"}}, \"type\": \"scattergeo\"}], \"scattergl\": [{\"marker\": {\"colorbar\": {\"outlinewidth\": 0, \"ticks\": \"\"}}, \"type\": \"scattergl\"}], \"scattermapbox\": [{\"marker\": {\"colorbar\": {\"outlinewidth\": 0, \"ticks\": \"\"}}, \"type\": \"scattermapbox\"}], \"scatterpolar\": [{\"marker\": {\"colorbar\": {\"outlinewidth\": 0, \"ticks\": \"\"}}, \"type\": \"scatterpolar\"}], \"scatterpolargl\": [{\"marker\": {\"colorbar\": {\"outlinewidth\": 0, \"ticks\": \"\"}}, \"type\": \"scatterpolargl\"}], \"scatterternary\": [{\"marker\": {\"colorbar\": {\"outlinewidth\": 0, \"ticks\": \"\"}}, \"type\": \"scatterternary\"}], \"surface\": [{\"colorbar\": {\"outlinewidth\": 0, \"ticks\": \"\"}, \"colorscale\": [[0.0, \"#0d0887\"], [0.1111111111111111, \"#46039f\"], [0.2222222222222222, \"#7201a8\"], [0.3333333333333333, \"#9c179e\"], [0.4444444444444444, \"#bd3786\"], [0.5555555555555556, \"#d8576b\"], [0.6666666666666666, \"#ed7953\"], [0.7777777777777778, \"#fb9f3a\"], [0.8888888888888888, \"#fdca26\"], [1.0, \"#f0f921\"]], \"type\": \"surface\"}], \"table\": [{\"cells\": {\"fill\": {\"color\": \"#EBF0F8\"}, \"line\": {\"color\": \"white\"}}, \"header\": {\"fill\": {\"color\": \"#C8D4E3\"}, \"line\": {\"color\": \"white\"}}, \"type\": \"table\"}]}, \"layout\": {\"annotationdefaults\": {\"arrowcolor\": \"#2a3f5f\", \"arrowhead\": 0, \"arrowwidth\": 1}, \"coloraxis\": {\"colorbar\": {\"outlinewidth\": 0, \"ticks\": \"\"}}, \"colorscale\": {\"diverging\": [[0, \"#8e0152\"], [0.1, \"#c51b7d\"], [0.2, \"#de77ae\"], [0.3, \"#f1b6da\"], [0.4, \"#fde0ef\"], [0.5, \"#f7f7f7\"], [0.6, \"#e6f5d0\"], [0.7, \"#b8e186\"], [0.8, \"#7fbc41\"], [0.9, \"#4d9221\"], [1, \"#276419\"]], \"sequential\": [[0.0, \"#0d0887\"], [0.1111111111111111, \"#46039f\"], [0.2222222222222222, \"#7201a8\"], [0.3333333333333333, \"#9c179e\"], [0.4444444444444444, \"#bd3786\"], [0.5555555555555556, \"#d8576b\"], [0.6666666666666666, \"#ed7953\"], [0.7777777777777778, \"#fb9f3a\"], [0.8888888888888888, \"#fdca26\"], [1.0, \"#f0f921\"]], \"sequentialminus\": [[0.0, \"#0d0887\"], [0.1111111111111111, \"#46039f\"], [0.2222222222222222, \"#7201a8\"], [0.3333333333333333, \"#9c179e\"], [0.4444444444444444, \"#bd3786\"], [0.5555555555555556, \"#d8576b\"], [0.6666666666666666, \"#ed7953\"], [0.7777777777777778, \"#fb9f3a\"], [0.8888888888888888, \"#fdca26\"], [1.0, \"#f0f921\"]]}, \"colorway\": [\"#636efa\", \"#EF553B\", \"#00cc96\", \"#ab63fa\", \"#FFA15A\", \"#19d3f3\", \"#FF6692\", \"#B6E880\", \"#FF97FF\", \"#FECB52\"], \"font\": {\"color\": \"#2a3f5f\"}, \"geo\": {\"bgcolor\": \"white\", \"lakecolor\": \"white\", \"landcolor\": \"#E5ECF6\", \"showlakes\": true, \"showland\": true, \"subunitcolor\": \"white\"}, \"hoverlabel\": {\"align\": \"left\"}, \"hovermode\": \"closest\", \"mapbox\": {\"style\": \"light\"}, \"paper_bgcolor\": \"white\", \"plot_bgcolor\": \"#E5ECF6\", \"polar\": {\"angularaxis\": {\"gridcolor\": \"white\", \"linecolor\": \"white\", \"ticks\": \"\"}, \"bgcolor\": \"#E5ECF6\", \"radialaxis\": {\"gridcolor\": \"white\", \"linecolor\": \"white\", \"ticks\": \"\"}}, \"scene\": {\"xaxis\": {\"backgroundcolor\": \"#E5ECF6\", \"gridcolor\": \"white\", \"gridwidth\": 2, \"linecolor\": \"white\", \"showbackground\": true, \"ticks\": \"\", \"zerolinecolor\": \"white\"}, \"yaxis\": {\"backgroundcolor\": \"#E5ECF6\", \"gridcolor\": \"white\", \"gridwidth\": 2, \"linecolor\": \"white\", \"showbackground\": true, \"ticks\": \"\", \"zerolinecolor\": \"white\"}, \"zaxis\": {\"backgroundcolor\": \"#E5ECF6\", \"gridcolor\": \"white\", \"gridwidth\": 2, \"linecolor\": \"white\", \"showbackground\": true, \"ticks\": \"\", \"zerolinecolor\": \"white\"}}, \"shapedefaults\": {\"line\": {\"color\": \"#2a3f5f\"}}, \"ternary\": {\"aaxis\": {\"gridcolor\": \"white\", \"linecolor\": \"white\", \"ticks\": \"\"}, \"baxis\": {\"gridcolor\": \"white\", \"linecolor\": \"white\", \"ticks\": \"\"}, \"bgcolor\": \"#E5ECF6\", \"caxis\": {\"gridcolor\": \"white\", \"linecolor\": \"white\", \"ticks\": \"\"}}, \"title\": {\"x\": 0.05}, \"xaxis\": {\"automargin\": true, \"gridcolor\": \"white\", \"linecolor\": \"white\", \"ticks\": \"\", \"title\": {\"standoff\": 15}, \"zerolinecolor\": \"white\", \"zerolinewidth\": 2}, \"yaxis\": {\"automargin\": true, \"gridcolor\": \"white\", \"linecolor\": \"white\", \"ticks\": \"\", \"title\": {\"standoff\": 15}, \"zerolinecolor\": \"white\", \"zerolinewidth\": 2}}}, \"title\": {\"text\": \"#delitos con mayor frecuencia\"}, \"xaxis\": {\"anchor\": \"y\", \"domain\": [0.0, 1.0], \"title\": {\"text\": \"nombre\"}}, \"yaxis\": {\"anchor\": \"x\", \"domain\": [0.0, 1.0], \"title\": {\"text\": \"delito\"}}},\n",
              "                        {\"responsive\": true}\n",
              "                    ).then(function(){\n",
              "                            \n",
              "var gd = document.getElementById('940c331c-2c11-441a-b6c3-9271a79df813');\n",
              "var x = new MutationObserver(function (mutations, observer) {{\n",
              "        var display = window.getComputedStyle(gd).display;\n",
              "        if (!display || display === 'none') {{\n",
              "            console.log([gd, 'removed!']);\n",
              "            Plotly.purge(gd);\n",
              "            observer.disconnect();\n",
              "        }}\n",
              "}});\n",
              "\n",
              "// Listen for the removal of the full notebook cells\n",
              "var notebookContainer = gd.closest('#notebook-container');\n",
              "if (notebookContainer) {{\n",
              "    x.observe(notebookContainer, {childList: true});\n",
              "}}\n",
              "\n",
              "// Listen for the clearing of the current output cell\n",
              "var outputEl = gd.closest('.output');\n",
              "if (outputEl) {{\n",
              "    x.observe(outputEl, {childList: true});\n",
              "}}\n",
              "\n",
              "                        })\n",
              "                };\n",
              "                \n",
              "            </script>\n",
              "        </div>\n",
              "</body>\n",
              "</html>"
            ]
          },
          "metadata": {}
        }
      ]
    },
    {
      "cell_type": "code",
      "metadata": {
        "colab": {
          "base_uri": "https://localhost:8080/"
        },
        "id": "cl3OzvGrM4YP",
        "outputId": "c2433a77-fb11-4f71-fd31-e544c857c814"
      },
      "source": [
        "#df['delito'].value_counts().index\n",
        "topdf.index"
      ],
      "execution_count": 102,
      "outputs": [
        {
          "output_type": "execute_result",
          "data": {
            "text/plain": [
              "Index(['VIOLENCIA FAMILIAR', 'FRAUDE', 'ROBO DE OBJETOS', 'AMENAZAS',\n",
              "       'ROBO A NEGOCIO SIN VIOLENCIA',\n",
              "       'ROBO A TRANSEUNTE EN VIA PUBLICA CON VIOLENCIA',\n",
              "       'ROBO DE ACCESORIOS DE AUTO', 'DENUNCIA DE HECHOS',\n",
              "       'ROBO DE OBJETOS DEL INTERIOR DE UN VEHICULO',\n",
              "       'ROBO DE VEHICULO DE SERVICIO PARTICULAR SIN VIOLENCIA'],\n",
              "      dtype='object')"
            ]
          },
          "metadata": {},
          "execution_count": 102
        }
      ]
    },
    {
      "cell_type": "code",
      "metadata": {
        "colab": {
          "base_uri": "https://localhost:8080/",
          "height": 666
        },
        "id": "9Lm4v2DrMNTi",
        "outputId": "0a6289ba-9303-406a-a12d-15a07f73e32c"
      },
      "source": [
        "#Filtramos en el dataframe original los delitos con mayor ocurrencia\n",
        "values_1=['VIOLENCIA FAMILIAR', 'FRAUDE', 'ROBO DE OBJETOS', 'AMENAZAS',\n",
        "       'ROBO A NEGOCIO SIN VIOLENCIA',\n",
        "       'ROBO A TRANSEUNTE EN VIA PUBLICA CON VIOLENCIA',\n",
        "       'ROBO DE ACCESORIOS DE AUTO', 'DENUNCIA DE HECHOS',\n",
        "       'ROBO DE OBJETOS DEL INTERIOR DE UN VEHICULO',\n",
        "       'ROBO DE VEHICULO DE SERVICIO PARTICULAR SIN VIOLENCIA']\n",
        "filtered_df = df[df.delito.isin(values_1)]\n",
        "print(filtered_df)\n",
        "filtered_df.head()"
      ],
      "execution_count": 103,
      "outputs": [
        {
          "output_type": "stream",
          "name": "stdout",
          "text": [
            "         ao_hechos  mes_hechos  ...   longitud    latitud\n",
            "3           2016.0       Enero  ... -98.976379  19.331633\n",
            "4           2015.0   Diciembre  ... -99.172189  19.387114\n",
            "7           2012.0      Agosto  ... -99.173480  19.394918\n",
            "8           2012.0   Diciembre  ... -99.173480  19.394918\n",
            "9           2016.0       Enero  ... -99.126451  19.399273\n",
            "...            ...         ...  ...        ...        ...\n",
            "1307201     2021.0  Septiembre  ... -99.199457  19.278167\n",
            "1307203     2021.0  Septiembre  ... -99.106908  19.457341\n",
            "1307205     2021.0  Septiembre  ... -99.111359  19.346721\n",
            "1307207     2021.0  Septiembre  ... -99.114591  19.340434\n",
            "1307210     2021.0  Septiembre  ... -99.209475  19.476235\n",
            "\n",
            "[648310 rows x 16 columns]\n"
          ]
        },
        {
          "output_type": "execute_result",
          "data": {
            "text/html": [
              "<div>\n",
              "<style scoped>\n",
              "    .dataframe tbody tr th:only-of-type {\n",
              "        vertical-align: middle;\n",
              "    }\n",
              "\n",
              "    .dataframe tbody tr th {\n",
              "        vertical-align: top;\n",
              "    }\n",
              "\n",
              "    .dataframe thead th {\n",
              "        text-align: right;\n",
              "    }\n",
              "</style>\n",
              "<table border=\"1\" class=\"dataframe\">\n",
              "  <thead>\n",
              "    <tr style=\"text-align: right;\">\n",
              "      <th></th>\n",
              "      <th>ao_hechos</th>\n",
              "      <th>mes_hechos</th>\n",
              "      <th>fecha_hechos</th>\n",
              "      <th>ao_inicio</th>\n",
              "      <th>mes_inicio</th>\n",
              "      <th>fecha_inicio</th>\n",
              "      <th>delito</th>\n",
              "      <th>fiscalia</th>\n",
              "      <th>agencia</th>\n",
              "      <th>unidad_investigacion</th>\n",
              "      <th>categoria_delito</th>\n",
              "      <th>calle_hechos</th>\n",
              "      <th>colonia_hechos</th>\n",
              "      <th>alcaldia_hechos</th>\n",
              "      <th>longitud</th>\n",
              "      <th>latitud</th>\n",
              "    </tr>\n",
              "  </thead>\n",
              "  <tbody>\n",
              "    <tr>\n",
              "      <th>3</th>\n",
              "      <td>2016.0</td>\n",
              "      <td>Enero</td>\n",
              "      <td>2016-01-31 22:00:00</td>\n",
              "      <td>2016</td>\n",
              "      <td>Febrero</td>\n",
              "      <td>2016-02-01 02:09:11</td>\n",
              "      <td>ROBO A TRANSEUNTE EN VIA PUBLICA CON VIOLENCIA</td>\n",
              "      <td>INVESTIGACIÃN EN IZTAPALAPA</td>\n",
              "      <td>IZP-6</td>\n",
              "      <td>UI-3CD</td>\n",
              "      <td>ROBO A TRANSEUNTE EN VÃA PÃBLICA CON Y SIN V...</td>\n",
              "      <td>GERANIO</td>\n",
              "      <td>EMILIANO ZAPATA</td>\n",
              "      <td>IZTAPALAPA</td>\n",
              "      <td>-98.976379</td>\n",
              "      <td>19.331633</td>\n",
              "    </tr>\n",
              "    <tr>\n",
              "      <th>4</th>\n",
              "      <td>2015.0</td>\n",
              "      <td>Diciembre</td>\n",
              "      <td>2015-12-25 12:00:00</td>\n",
              "      <td>2016</td>\n",
              "      <td>Febrero</td>\n",
              "      <td>2016-02-01 02:16:49</td>\n",
              "      <td>DENUNCIA DE HECHOS</td>\n",
              "      <td>INVESTIGACIÃN EN BENITO JUÃREZ</td>\n",
              "      <td>BJ-1</td>\n",
              "      <td>UI-3SD</td>\n",
              "      <td>HECHO NO DELICTIVO</td>\n",
              "      <td>SAN FRANCISCO</td>\n",
              "      <td>DEL VALLE CENTRO</td>\n",
              "      <td>BENITO JUAREZ</td>\n",
              "      <td>-99.172189</td>\n",
              "      <td>19.387114</td>\n",
              "    </tr>\n",
              "    <tr>\n",
              "      <th>7</th>\n",
              "      <td>2012.0</td>\n",
              "      <td>Agosto</td>\n",
              "      <td>2012-08-16 12:00:00</td>\n",
              "      <td>2016</td>\n",
              "      <td>Febrero</td>\n",
              "      <td>2016-02-01 03:44:15</td>\n",
              "      <td>FRAUDE</td>\n",
              "      <td>INVESTIGACIÃN EN BENITO JUÃREZ</td>\n",
              "      <td>BJ-1</td>\n",
              "      <td>UI-3SD</td>\n",
              "      <td>DELITO DE BAJO IMPACTO</td>\n",
              "      <td>MONTECITO</td>\n",
              "      <td>NAPOLES</td>\n",
              "      <td>BENITO JUAREZ</td>\n",
              "      <td>-99.173480</td>\n",
              "      <td>19.394918</td>\n",
              "    </tr>\n",
              "    <tr>\n",
              "      <th>8</th>\n",
              "      <td>2012.0</td>\n",
              "      <td>Diciembre</td>\n",
              "      <td>2012-12-28 12:00:00</td>\n",
              "      <td>2016</td>\n",
              "      <td>Febrero</td>\n",
              "      <td>2016-02-01 04:40:59</td>\n",
              "      <td>FRAUDE</td>\n",
              "      <td>INVESTIGACIÃN EN BENITO JUÃREZ</td>\n",
              "      <td>BJ-1</td>\n",
              "      <td>UI-3SD</td>\n",
              "      <td>DELITO DE BAJO IMPACTO</td>\n",
              "      <td>MONTECITO</td>\n",
              "      <td>NAPOLES</td>\n",
              "      <td>BENITO JUAREZ</td>\n",
              "      <td>-99.173480</td>\n",
              "      <td>19.394918</td>\n",
              "    </tr>\n",
              "    <tr>\n",
              "      <th>9</th>\n",
              "      <td>2016.0</td>\n",
              "      <td>Enero</td>\n",
              "      <td>2016-01-27 11:30:00</td>\n",
              "      <td>2016</td>\n",
              "      <td>Febrero</td>\n",
              "      <td>2016-02-01 05:57:36</td>\n",
              "      <td>VIOLENCIA FAMILIAR</td>\n",
              "      <td>INVESTIGACIÃN EN CUAUHTEMOC</td>\n",
              "      <td>CUH-8</td>\n",
              "      <td>UI-3SD</td>\n",
              "      <td>DELITO DE BAJO IMPACTO</td>\n",
              "      <td>ALVARO  OBREGON</td>\n",
              "      <td>NUEVA SANTA ANITA</td>\n",
              "      <td>IZTACALCO</td>\n",
              "      <td>-99.126451</td>\n",
              "      <td>19.399273</td>\n",
              "    </tr>\n",
              "  </tbody>\n",
              "</table>\n",
              "</div>"
            ],
            "text/plain": [
              "   ao_hechos mes_hechos  ...   longitud    latitud\n",
              "3     2016.0      Enero  ... -98.976379  19.331633\n",
              "4     2015.0  Diciembre  ... -99.172189  19.387114\n",
              "7     2012.0     Agosto  ... -99.173480  19.394918\n",
              "8     2012.0  Diciembre  ... -99.173480  19.394918\n",
              "9     2016.0      Enero  ... -99.126451  19.399273\n",
              "\n",
              "[5 rows x 16 columns]"
            ]
          },
          "metadata": {},
          "execution_count": 103
        }
      ]
    },
    {
      "cell_type": "code",
      "metadata": {
        "colab": {
          "base_uri": "https://localhost:8080/",
          "height": 204
        },
        "id": "q6fsqjhEOEag",
        "outputId": "a15b3901-ebc1-4c9f-8370-fdf64f45004d"
      },
      "source": [
        "df_group = filtered_df.groupby([\"delito\", \"ao_hechos\"], as_index=False)[\"mes_hechos\"].count()\n",
        "df_group.head()"
      ],
      "execution_count": 115,
      "outputs": [
        {
          "output_type": "execute_result",
          "data": {
            "text/html": [
              "<div>\n",
              "<style scoped>\n",
              "    .dataframe tbody tr th:only-of-type {\n",
              "        vertical-align: middle;\n",
              "    }\n",
              "\n",
              "    .dataframe tbody tr th {\n",
              "        vertical-align: top;\n",
              "    }\n",
              "\n",
              "    .dataframe thead th {\n",
              "        text-align: right;\n",
              "    }\n",
              "</style>\n",
              "<table border=\"1\" class=\"dataframe\">\n",
              "  <thead>\n",
              "    <tr style=\"text-align: right;\">\n",
              "      <th></th>\n",
              "      <th>delito</th>\n",
              "      <th>ao_hechos</th>\n",
              "      <th>mes_hechos</th>\n",
              "    </tr>\n",
              "  </thead>\n",
              "  <tbody>\n",
              "    <tr>\n",
              "      <th>0</th>\n",
              "      <td>AMENAZAS</td>\n",
              "      <td>1955.0</td>\n",
              "      <td>1</td>\n",
              "    </tr>\n",
              "    <tr>\n",
              "      <th>1</th>\n",
              "      <td>AMENAZAS</td>\n",
              "      <td>1956.0</td>\n",
              "      <td>1</td>\n",
              "    </tr>\n",
              "    <tr>\n",
              "      <th>2</th>\n",
              "      <td>AMENAZAS</td>\n",
              "      <td>1970.0</td>\n",
              "      <td>1</td>\n",
              "    </tr>\n",
              "    <tr>\n",
              "      <th>3</th>\n",
              "      <td>AMENAZAS</td>\n",
              "      <td>1972.0</td>\n",
              "      <td>1</td>\n",
              "    </tr>\n",
              "    <tr>\n",
              "      <th>4</th>\n",
              "      <td>AMENAZAS</td>\n",
              "      <td>1973.0</td>\n",
              "      <td>1</td>\n",
              "    </tr>\n",
              "  </tbody>\n",
              "</table>\n",
              "</div>"
            ],
            "text/plain": [
              "     delito  ao_hechos  mes_hechos\n",
              "0  AMENAZAS     1955.0           1\n",
              "1  AMENAZAS     1956.0           1\n",
              "2  AMENAZAS     1970.0           1\n",
              "3  AMENAZAS     1972.0           1\n",
              "4  AMENAZAS     1973.0           1"
            ]
          },
          "metadata": {},
          "execution_count": 115
        }
      ]
    },
    {
      "cell_type": "code",
      "metadata": {
        "id": "xNf5q_xobXpr"
      },
      "source": [
        "df_group['ao_hechos'] = df_group['ao_hechos'].astype(str)"
      ],
      "execution_count": 124,
      "outputs": []
    },
    {
      "cell_type": "code",
      "metadata": {
        "colab": {
          "base_uri": "https://localhost:8080/"
        },
        "id": "uJKNh_4mcLaQ",
        "outputId": "fbe2f61c-8753-414b-aca0-9c7be9ccba83"
      },
      "source": [
        "df_group.dtypes"
      ],
      "execution_count": 127,
      "outputs": [
        {
          "output_type": "execute_result",
          "data": {
            "text/plain": [
              "delito        object\n",
              "ao_hechos     object\n",
              "mes_hechos     int64\n",
              "dtype: object"
            ]
          },
          "metadata": {},
          "execution_count": 127
        }
      ]
    },
    {
      "cell_type": "code",
      "metadata": {
        "colab": {
          "base_uri": "https://localhost:8080/",
          "height": 542
        },
        "id": "Kk2hhfBlaZEX",
        "outputId": "302058d4-bef1-4bbe-89af-f1fca531f000"
      },
      "source": [
        "fig = px.bar(df_group, x=\"delito\", y=\"mes_hechos\", color=\"ao_hechos\", title=\"Evolutivo por delitos\")\n",
        "fig.show()"
      ],
      "execution_count": 129,
      "outputs": [
        {
          "output_type": "display_data",
          "data": {
            "text/html": [
              "<html>\n",
              "<head><meta charset=\"utf-8\" /></head>\n",
              "<body>\n",
              "    <div>\n",
              "            <script src=\"https://cdnjs.cloudflare.com/ajax/libs/mathjax/2.7.5/MathJax.js?config=TeX-AMS-MML_SVG\"></script><script type=\"text/javascript\">if (window.MathJax) {MathJax.Hub.Config({SVG: {font: \"STIX-Web\"}});}</script>\n",
              "                <script type=\"text/javascript\">window.PlotlyConfig = {MathJaxConfig: 'local'};</script>\n",
              "        <script src=\"https://cdn.plot.ly/plotly-latest.min.js\"></script>    \n",
              "            <div id=\"cbc628a6-5b15-4d0f-8426-de9dff9f7b0f\" class=\"plotly-graph-div\" style=\"height:525px; width:100%;\"></div>\n",
              "            <script type=\"text/javascript\">\n",
              "                \n",
              "                    window.PLOTLYENV=window.PLOTLYENV || {};\n",
              "                    \n",
              "                if (document.getElementById(\"cbc628a6-5b15-4d0f-8426-de9dff9f7b0f\")) {\n",
              "                    Plotly.newPlot(\n",
              "                        'cbc628a6-5b15-4d0f-8426-de9dff9f7b0f',\n",
              "                        [{\"alignmentgroup\": \"True\", \"hoverlabel\": {\"namelength\": 0}, \"hovertemplate\": \"ao_hechos=1955.0<br>delito=%{x}<br>mes_hechos=%{y}\", \"legendgroup\": \"ao_hechos=1955.0\", \"marker\": {\"color\": \"#636efa\"}, \"name\": \"ao_hechos=1955.0\", \"offsetgroup\": \"ao_hechos=1955.0\", \"orientation\": \"v\", \"showlegend\": true, \"textposition\": \"auto\", \"type\": \"bar\", \"x\": [\"AMENAZAS\"], \"xaxis\": \"x\", \"y\": [1], \"yaxis\": \"y\"}, {\"alignmentgroup\": \"True\", \"hoverlabel\": {\"namelength\": 0}, \"hovertemplate\": \"ao_hechos=1956.0<br>delito=%{x}<br>mes_hechos=%{y}\", \"legendgroup\": \"ao_hechos=1956.0\", \"marker\": {\"color\": \"#EF553B\"}, \"name\": \"ao_hechos=1956.0\", \"offsetgroup\": \"ao_hechos=1956.0\", \"orientation\": \"v\", \"showlegend\": true, \"textposition\": \"auto\", \"type\": \"bar\", \"x\": [\"AMENAZAS\"], \"xaxis\": \"x\", \"y\": [1], \"yaxis\": \"y\"}, {\"alignmentgroup\": \"True\", \"hoverlabel\": {\"namelength\": 0}, \"hovertemplate\": \"ao_hechos=1970.0<br>delito=%{x}<br>mes_hechos=%{y}\", \"legendgroup\": \"ao_hechos=1970.0\", \"marker\": {\"color\": \"#00cc96\"}, \"name\": \"ao_hechos=1970.0\", \"offsetgroup\": \"ao_hechos=1970.0\", \"orientation\": \"v\", \"showlegend\": true, \"textposition\": \"auto\", \"type\": \"bar\", \"x\": [\"AMENAZAS\", \"FRAUDE\", \"ROBO A NEGOCIO SIN VIOLENCIA\"], \"xaxis\": \"x\", \"y\": [1, 1, 1], \"yaxis\": \"y\"}, {\"alignmentgroup\": \"True\", \"hoverlabel\": {\"namelength\": 0}, \"hovertemplate\": \"ao_hechos=1972.0<br>delito=%{x}<br>mes_hechos=%{y}\", \"legendgroup\": \"ao_hechos=1972.0\", \"marker\": {\"color\": \"#ab63fa\"}, \"name\": \"ao_hechos=1972.0\", \"offsetgroup\": \"ao_hechos=1972.0\", \"orientation\": \"v\", \"showlegend\": true, \"textposition\": \"auto\", \"type\": \"bar\", \"x\": [\"AMENAZAS\", \"ROBO A TRANSEUNTE EN VIA PUBLICA CON VIOLENCIA\", \"ROBO DE OBJETOS\", \"VIOLENCIA FAMILIAR\"], \"xaxis\": \"x\", \"y\": [1, 1, 1, 2], \"yaxis\": \"y\"}, {\"alignmentgroup\": \"True\", \"hoverlabel\": {\"namelength\": 0}, \"hovertemplate\": \"ao_hechos=1973.0<br>delito=%{x}<br>mes_hechos=%{y}\", \"legendgroup\": \"ao_hechos=1973.0\", \"marker\": {\"color\": \"#FFA15A\"}, \"name\": \"ao_hechos=1973.0\", \"offsetgroup\": \"ao_hechos=1973.0\", \"orientation\": \"v\", \"showlegend\": true, \"textposition\": \"auto\", \"type\": \"bar\", \"x\": [\"AMENAZAS\", \"ROBO A NEGOCIO SIN VIOLENCIA\"], \"xaxis\": \"x\", \"y\": [1, 1], \"yaxis\": \"y\"}, {\"alignmentgroup\": \"True\", \"hoverlabel\": {\"namelength\": 0}, \"hovertemplate\": \"ao_hechos=1983.0<br>delito=%{x}<br>mes_hechos=%{y}\", \"legendgroup\": \"ao_hechos=1983.0\", \"marker\": {\"color\": \"#19d3f3\"}, \"name\": \"ao_hechos=1983.0\", \"offsetgroup\": \"ao_hechos=1983.0\", \"orientation\": \"v\", \"showlegend\": true, \"textposition\": \"auto\", \"type\": \"bar\", \"x\": [\"AMENAZAS\", \"DENUNCIA DE HECHOS\", \"FRAUDE\", \"ROBO A NEGOCIO SIN VIOLENCIA\", \"ROBO DE ACCESORIOS DE AUTO\"], \"xaxis\": \"x\", \"y\": [2, 2, 3, 1, 1], \"yaxis\": \"y\"}, {\"alignmentgroup\": \"True\", \"hoverlabel\": {\"namelength\": 0}, \"hovertemplate\": \"ao_hechos=1984.0<br>delito=%{x}<br>mes_hechos=%{y}\", \"legendgroup\": \"ao_hechos=1984.0\", \"marker\": {\"color\": \"#FF6692\"}, \"name\": \"ao_hechos=1984.0\", \"offsetgroup\": \"ao_hechos=1984.0\", \"orientation\": \"v\", \"showlegend\": true, \"textposition\": \"auto\", \"type\": \"bar\", \"x\": [\"AMENAZAS\", \"DENUNCIA DE HECHOS\", \"FRAUDE\", \"ROBO A TRANSEUNTE EN VIA PUBLICA CON VIOLENCIA\", \"ROBO DE ACCESORIOS DE AUTO\"], \"xaxis\": \"x\", \"y\": [1, 2, 2, 1, 2], \"yaxis\": \"y\"}, {\"alignmentgroup\": \"True\", \"hoverlabel\": {\"namelength\": 0}, \"hovertemplate\": \"ao_hechos=1987.0<br>delito=%{x}<br>mes_hechos=%{y}\", \"legendgroup\": \"ao_hechos=1987.0\", \"marker\": {\"color\": \"#B6E880\"}, \"name\": \"ao_hechos=1987.0\", \"offsetgroup\": \"ao_hechos=1987.0\", \"orientation\": \"v\", \"showlegend\": true, \"textposition\": \"auto\", \"type\": \"bar\", \"x\": [\"AMENAZAS\", \"DENUNCIA DE HECHOS\", \"FRAUDE\", \"ROBO A TRANSEUNTE EN VIA PUBLICA CON VIOLENCIA\", \"ROBO DE OBJETOS\", \"ROBO DE OBJETOS DEL INTERIOR DE UN VEHICULO\", \"VIOLENCIA FAMILIAR\"], \"xaxis\": \"x\", \"y\": [1, 2, 3, 2, 1, 1, 1], \"yaxis\": \"y\"}, {\"alignmentgroup\": \"True\", \"hoverlabel\": {\"namelength\": 0}, \"hovertemplate\": \"ao_hechos=1989.0<br>delito=%{x}<br>mes_hechos=%{y}\", \"legendgroup\": \"ao_hechos=1989.0\", \"marker\": {\"color\": \"#FF97FF\"}, \"name\": \"ao_hechos=1989.0\", \"offsetgroup\": \"ao_hechos=1989.0\", \"orientation\": \"v\", \"showlegend\": true, \"textposition\": \"auto\", \"type\": \"bar\", \"x\": [\"AMENAZAS\", \"DENUNCIA DE HECHOS\", \"FRAUDE\", \"ROBO DE OBJETOS\", \"VIOLENCIA FAMILIAR\"], \"xaxis\": \"x\", \"y\": [1, 4, 6, 1, 1], \"yaxis\": \"y\"}, {\"alignmentgroup\": \"True\", \"hoverlabel\": {\"namelength\": 0}, \"hovertemplate\": \"ao_hechos=1990.0<br>delito=%{x}<br>mes_hechos=%{y}\", \"legendgroup\": \"ao_hechos=1990.0\", \"marker\": {\"color\": \"#FECB52\"}, \"name\": \"ao_hechos=1990.0\", \"offsetgroup\": \"ao_hechos=1990.0\", \"orientation\": \"v\", \"showlegend\": true, \"textposition\": \"auto\", \"type\": \"bar\", \"x\": [\"AMENAZAS\", \"DENUNCIA DE HECHOS\", \"FRAUDE\", \"ROBO DE OBJETOS\", \"VIOLENCIA FAMILIAR\"], \"xaxis\": \"x\", \"y\": [1, 4, 6, 2, 2], \"yaxis\": \"y\"}, {\"alignmentgroup\": \"True\", \"hoverlabel\": {\"namelength\": 0}, \"hovertemplate\": \"ao_hechos=1992.0<br>delito=%{x}<br>mes_hechos=%{y}\", \"legendgroup\": \"ao_hechos=1992.0\", \"marker\": {\"color\": \"#636efa\"}, \"name\": \"ao_hechos=1992.0\", \"offsetgroup\": \"ao_hechos=1992.0\", \"orientation\": \"v\", \"showlegend\": true, \"textposition\": \"auto\", \"type\": \"bar\", \"x\": [\"AMENAZAS\", \"DENUNCIA DE HECHOS\", \"FRAUDE\", \"ROBO A TRANSEUNTE EN VIA PUBLICA CON VIOLENCIA\", \"VIOLENCIA FAMILIAR\"], \"xaxis\": \"x\", \"y\": [2, 3, 6, 2, 2], \"yaxis\": \"y\"}, {\"alignmentgroup\": \"True\", \"hoverlabel\": {\"namelength\": 0}, \"hovertemplate\": \"ao_hechos=1993.0<br>delito=%{x}<br>mes_hechos=%{y}\", \"legendgroup\": \"ao_hechos=1993.0\", \"marker\": {\"color\": \"#EF553B\"}, \"name\": \"ao_hechos=1993.0\", \"offsetgroup\": \"ao_hechos=1993.0\", \"orientation\": \"v\", \"showlegend\": true, \"textposition\": \"auto\", \"type\": \"bar\", \"x\": [\"AMENAZAS\", \"DENUNCIA DE HECHOS\", \"FRAUDE\", \"VIOLENCIA FAMILIAR\"], \"xaxis\": \"x\", \"y\": [1, 3, 5, 1], \"yaxis\": \"y\"}, {\"alignmentgroup\": \"True\", \"hoverlabel\": {\"namelength\": 0}, \"hovertemplate\": \"ao_hechos=1994.0<br>delito=%{x}<br>mes_hechos=%{y}\", \"legendgroup\": \"ao_hechos=1994.0\", \"marker\": {\"color\": \"#00cc96\"}, \"name\": \"ao_hechos=1994.0\", \"offsetgroup\": \"ao_hechos=1994.0\", \"orientation\": \"v\", \"showlegend\": true, \"textposition\": \"auto\", \"type\": \"bar\", \"x\": [\"AMENAZAS\", \"DENUNCIA DE HECHOS\", \"FRAUDE\", \"ROBO DE ACCESORIOS DE AUTO\", \"ROBO DE OBJETOS DEL INTERIOR DE UN VEHICULO\"], \"xaxis\": \"x\", \"y\": [1, 5, 6, 1, 1], \"yaxis\": \"y\"}, {\"alignmentgroup\": \"True\", \"hoverlabel\": {\"namelength\": 0}, \"hovertemplate\": \"ao_hechos=1999.0<br>delito=%{x}<br>mes_hechos=%{y}\", \"legendgroup\": \"ao_hechos=1999.0\", \"marker\": {\"color\": \"#ab63fa\"}, \"name\": \"ao_hechos=1999.0\", \"offsetgroup\": \"ao_hechos=1999.0\", \"orientation\": \"v\", \"showlegend\": true, \"textposition\": \"auto\", \"type\": \"bar\", \"x\": [\"AMENAZAS\", \"DENUNCIA DE HECHOS\", \"FRAUDE\", \"ROBO DE OBJETOS\", \"VIOLENCIA FAMILIAR\"], \"xaxis\": \"x\", \"y\": [1, 5, 8, 1, 2], \"yaxis\": \"y\"}, {\"alignmentgroup\": \"True\", \"hoverlabel\": {\"namelength\": 0}, \"hovertemplate\": \"ao_hechos=2000.0<br>delito=%{x}<br>mes_hechos=%{y}\", \"legendgroup\": \"ao_hechos=2000.0\", \"marker\": {\"color\": \"#FFA15A\"}, \"name\": \"ao_hechos=2000.0\", \"offsetgroup\": \"ao_hechos=2000.0\", \"orientation\": \"v\", \"showlegend\": true, \"textposition\": \"auto\", \"type\": \"bar\", \"x\": [\"AMENAZAS\", \"DENUNCIA DE HECHOS\", \"FRAUDE\", \"ROBO DE ACCESORIOS DE AUTO\", \"ROBO DE OBJETOS\", \"ROBO DE VEHICULO DE SERVICIO PARTICULAR SIN VIOLENCIA\", \"VIOLENCIA FAMILIAR\"], \"xaxis\": \"x\", \"y\": [2, 8, 24, 2, 4, 1, 4], \"yaxis\": \"y\"}, {\"alignmentgroup\": \"True\", \"hoverlabel\": {\"namelength\": 0}, \"hovertemplate\": \"ao_hechos=2001.0<br>delito=%{x}<br>mes_hechos=%{y}\", \"legendgroup\": \"ao_hechos=2001.0\", \"marker\": {\"color\": \"#19d3f3\"}, \"name\": \"ao_hechos=2001.0\", \"offsetgroup\": \"ao_hechos=2001.0\", \"orientation\": \"v\", \"showlegend\": true, \"textposition\": \"auto\", \"type\": \"bar\", \"x\": [\"AMENAZAS\", \"DENUNCIA DE HECHOS\", \"FRAUDE\", \"ROBO A TRANSEUNTE EN VIA PUBLICA CON VIOLENCIA\", \"ROBO DE ACCESORIOS DE AUTO\", \"ROBO DE OBJETOS\", \"ROBO DE OBJETOS DEL INTERIOR DE UN VEHICULO\", \"ROBO DE VEHICULO DE SERVICIO PARTICULAR SIN VIOLENCIA\", \"VIOLENCIA FAMILIAR\"], \"xaxis\": \"x\", \"y\": [11, 16, 18, 11, 1, 4, 2, 3, 15], \"yaxis\": \"y\"}, {\"alignmentgroup\": \"True\", \"hoverlabel\": {\"namelength\": 0}, \"hovertemplate\": \"ao_hechos=2002.0<br>delito=%{x}<br>mes_hechos=%{y}\", \"legendgroup\": \"ao_hechos=2002.0\", \"marker\": {\"color\": \"#FF6692\"}, \"name\": \"ao_hechos=2002.0\", \"offsetgroup\": \"ao_hechos=2002.0\", \"orientation\": \"v\", \"showlegend\": true, \"textposition\": \"auto\", \"type\": \"bar\", \"x\": [\"AMENAZAS\", \"DENUNCIA DE HECHOS\", \"FRAUDE\", \"ROBO A TRANSEUNTE EN VIA PUBLICA CON VIOLENCIA\", \"ROBO DE OBJETOS DEL INTERIOR DE UN VEHICULO\", \"ROBO DE VEHICULO DE SERVICIO PARTICULAR SIN VIOLENCIA\", \"VIOLENCIA FAMILIAR\"], \"xaxis\": \"x\", \"y\": [4, 8, 18, 2, 4, 1, 7], \"yaxis\": \"y\"}, {\"alignmentgroup\": \"True\", \"hoverlabel\": {\"namelength\": 0}, \"hovertemplate\": \"ao_hechos=2004.0<br>delito=%{x}<br>mes_hechos=%{y}\", \"legendgroup\": \"ao_hechos=2004.0\", \"marker\": {\"color\": \"#B6E880\"}, \"name\": \"ao_hechos=2004.0\", \"offsetgroup\": \"ao_hechos=2004.0\", \"orientation\": \"v\", \"showlegend\": true, \"textposition\": \"auto\", \"type\": \"bar\", \"x\": [\"AMENAZAS\", \"DENUNCIA DE HECHOS\", \"FRAUDE\", \"ROBO DE OBJETOS\", \"VIOLENCIA FAMILIAR\"], \"xaxis\": \"x\", \"y\": [1, 26, 29, 1, 5], \"yaxis\": \"y\"}, {\"alignmentgroup\": \"True\", \"hoverlabel\": {\"namelength\": 0}, \"hovertemplate\": \"ao_hechos=2007.0<br>delito=%{x}<br>mes_hechos=%{y}\", \"legendgroup\": \"ao_hechos=2007.0\", \"marker\": {\"color\": \"#FF97FF\"}, \"name\": \"ao_hechos=2007.0\", \"offsetgroup\": \"ao_hechos=2007.0\", \"orientation\": \"v\", \"showlegend\": true, \"textposition\": \"auto\", \"type\": \"bar\", \"x\": [\"AMENAZAS\", \"DENUNCIA DE HECHOS\", \"FRAUDE\", \"ROBO A NEGOCIO SIN VIOLENCIA\", \"ROBO A TRANSEUNTE EN VIA PUBLICA CON VIOLENCIA\", \"ROBO DE ACCESORIOS DE AUTO\", \"ROBO DE OBJETOS\", \"ROBO DE OBJETOS DEL INTERIOR DE UN VEHICULO\", \"VIOLENCIA FAMILIAR\"], \"xaxis\": \"x\", \"y\": [3, 34, 68, 2, 1, 1, 4, 2, 10], \"yaxis\": \"y\"}, {\"alignmentgroup\": \"True\", \"hoverlabel\": {\"namelength\": 0}, \"hovertemplate\": \"ao_hechos=2008.0<br>delito=%{x}<br>mes_hechos=%{y}\", \"legendgroup\": \"ao_hechos=2008.0\", \"marker\": {\"color\": \"#FECB52\"}, \"name\": \"ao_hechos=2008.0\", \"offsetgroup\": \"ao_hechos=2008.0\", \"orientation\": \"v\", \"showlegend\": true, \"textposition\": \"auto\", \"type\": \"bar\", \"x\": [\"AMENAZAS\", \"DENUNCIA DE HECHOS\", \"FRAUDE\", \"ROBO A NEGOCIO SIN VIOLENCIA\", \"ROBO A TRANSEUNTE EN VIA PUBLICA CON VIOLENCIA\", \"ROBO DE ACCESORIOS DE AUTO\", \"ROBO DE OBJETOS\", \"ROBO DE OBJETOS DEL INTERIOR DE UN VEHICULO\", \"ROBO DE VEHICULO DE SERVICIO PARTICULAR SIN VIOLENCIA\", \"VIOLENCIA FAMILIAR\"], \"xaxis\": \"x\", \"y\": [5, 45, 109, 2, 4, 1, 5, 1, 1, 10], \"yaxis\": \"y\"}, {\"alignmentgroup\": \"True\", \"hoverlabel\": {\"namelength\": 0}, \"hovertemplate\": \"ao_hechos=2009.0<br>delito=%{x}<br>mes_hechos=%{y}\", \"legendgroup\": \"ao_hechos=2009.0\", \"marker\": {\"color\": \"#636efa\"}, \"name\": \"ao_hechos=2009.0\", \"offsetgroup\": \"ao_hechos=2009.0\", \"orientation\": \"v\", \"showlegend\": true, \"textposition\": \"auto\", \"type\": \"bar\", \"x\": [\"AMENAZAS\", \"DENUNCIA DE HECHOS\", \"FRAUDE\", \"ROBO A NEGOCIO SIN VIOLENCIA\", \"ROBO A TRANSEUNTE EN VIA PUBLICA CON VIOLENCIA\", \"ROBO DE OBJETOS\", \"ROBO DE OBJETOS DEL INTERIOR DE UN VEHICULO\", \"VIOLENCIA FAMILIAR\"], \"xaxis\": \"x\", \"y\": [3, 54, 124, 1, 2, 5, 1, 9], \"yaxis\": \"y\"}, {\"alignmentgroup\": \"True\", \"hoverlabel\": {\"namelength\": 0}, \"hovertemplate\": \"ao_hechos=2010.0<br>delito=%{x}<br>mes_hechos=%{y}\", \"legendgroup\": \"ao_hechos=2010.0\", \"marker\": {\"color\": \"#EF553B\"}, \"name\": \"ao_hechos=2010.0\", \"offsetgroup\": \"ao_hechos=2010.0\", \"orientation\": \"v\", \"showlegend\": true, \"textposition\": \"auto\", \"type\": \"bar\", \"x\": [\"AMENAZAS\", \"DENUNCIA DE HECHOS\", \"FRAUDE\", \"ROBO A NEGOCIO SIN VIOLENCIA\", \"ROBO A TRANSEUNTE EN VIA PUBLICA CON VIOLENCIA\", \"ROBO DE ACCESORIOS DE AUTO\", \"ROBO DE OBJETOS\", \"ROBO DE OBJETOS DEL INTERIOR DE UN VEHICULO\", \"ROBO DE VEHICULO DE SERVICIO PARTICULAR SIN VIOLENCIA\", \"VIOLENCIA FAMILIAR\"], \"xaxis\": \"x\", \"y\": [24, 86, 231, 6, 6, 6, 15, 5, 10, 23], \"yaxis\": \"y\"}, {\"alignmentgroup\": \"True\", \"hoverlabel\": {\"namelength\": 0}, \"hovertemplate\": \"ao_hechos=2011.0<br>delito=%{x}<br>mes_hechos=%{y}\", \"legendgroup\": \"ao_hechos=2011.0\", \"marker\": {\"color\": \"#00cc96\"}, \"name\": \"ao_hechos=2011.0\", \"offsetgroup\": \"ao_hechos=2011.0\", \"orientation\": \"v\", \"showlegend\": true, \"textposition\": \"auto\", \"type\": \"bar\", \"x\": [\"AMENAZAS\", \"DENUNCIA DE HECHOS\", \"FRAUDE\", \"ROBO A NEGOCIO SIN VIOLENCIA\", \"ROBO A TRANSEUNTE EN VIA PUBLICA CON VIOLENCIA\", \"ROBO DE ACCESORIOS DE AUTO\", \"ROBO DE OBJETOS\", \"ROBO DE OBJETOS DEL INTERIOR DE UN VEHICULO\", \"ROBO DE VEHICULO DE SERVICIO PARTICULAR SIN VIOLENCIA\", \"VIOLENCIA FAMILIAR\"], \"xaxis\": \"x\", \"y\": [8, 130, 324, 4, 2, 3, 17, 2, 3, 27], \"yaxis\": \"y\"}, {\"alignmentgroup\": \"True\", \"hoverlabel\": {\"namelength\": 0}, \"hovertemplate\": \"ao_hechos=2012.0<br>delito=%{x}<br>mes_hechos=%{y}\", \"legendgroup\": \"ao_hechos=2012.0\", \"marker\": {\"color\": \"#ab63fa\"}, \"name\": \"ao_hechos=2012.0\", \"offsetgroup\": \"ao_hechos=2012.0\", \"orientation\": \"v\", \"showlegend\": true, \"textposition\": \"auto\", \"type\": \"bar\", \"x\": [\"AMENAZAS\", \"DENUNCIA DE HECHOS\", \"FRAUDE\", \"ROBO A NEGOCIO SIN VIOLENCIA\", \"ROBO A TRANSEUNTE EN VIA PUBLICA CON VIOLENCIA\", \"ROBO DE ACCESORIOS DE AUTO\", \"ROBO DE OBJETOS\", \"ROBO DE OBJETOS DEL INTERIOR DE UN VEHICULO\", \"ROBO DE VEHICULO DE SERVICIO PARTICULAR SIN VIOLENCIA\", \"VIOLENCIA FAMILIAR\"], \"xaxis\": \"x\", \"y\": [13, 201, 472, 8, 8, 5, 25, 4, 5, 36], \"yaxis\": \"y\"}, {\"alignmentgroup\": \"True\", \"hoverlabel\": {\"namelength\": 0}, \"hovertemplate\": \"ao_hechos=2013.0<br>delito=%{x}<br>mes_hechos=%{y}\", \"legendgroup\": \"ao_hechos=2013.0\", \"marker\": {\"color\": \"#FFA15A\"}, \"name\": \"ao_hechos=2013.0\", \"offsetgroup\": \"ao_hechos=2013.0\", \"orientation\": \"v\", \"showlegend\": true, \"textposition\": \"auto\", \"type\": \"bar\", \"x\": [\"AMENAZAS\", \"DENUNCIA DE HECHOS\", \"FRAUDE\", \"ROBO A NEGOCIO SIN VIOLENCIA\", \"ROBO A TRANSEUNTE EN VIA PUBLICA CON VIOLENCIA\", \"ROBO DE ACCESORIOS DE AUTO\", \"ROBO DE OBJETOS\", \"ROBO DE OBJETOS DEL INTERIOR DE UN VEHICULO\", \"ROBO DE VEHICULO DE SERVICIO PARTICULAR SIN VIOLENCIA\", \"VIOLENCIA FAMILIAR\"], \"xaxis\": \"x\", \"y\": [20, 331, 686, 6, 1, 4, 24, 4, 2, 44], \"yaxis\": \"y\"}, {\"alignmentgroup\": \"True\", \"hoverlabel\": {\"namelength\": 0}, \"hovertemplate\": \"ao_hechos=2014.0<br>delito=%{x}<br>mes_hechos=%{y}\", \"legendgroup\": \"ao_hechos=2014.0\", \"marker\": {\"color\": \"#19d3f3\"}, \"name\": \"ao_hechos=2014.0\", \"offsetgroup\": \"ao_hechos=2014.0\", \"orientation\": \"v\", \"showlegend\": true, \"textposition\": \"auto\", \"type\": \"bar\", \"x\": [\"AMENAZAS\", \"DENUNCIA DE HECHOS\", \"FRAUDE\", \"ROBO A NEGOCIO SIN VIOLENCIA\", \"ROBO A TRANSEUNTE EN VIA PUBLICA CON VIOLENCIA\", \"ROBO DE ACCESORIOS DE AUTO\", \"ROBO DE OBJETOS\", \"ROBO DE OBJETOS DEL INTERIOR DE UN VEHICULO\", \"ROBO DE VEHICULO DE SERVICIO PARTICULAR SIN VIOLENCIA\", \"VIOLENCIA FAMILIAR\"], \"xaxis\": \"x\", \"y\": [43, 592, 1434, 23, 12, 14, 80, 15, 16, 95], \"yaxis\": \"y\"}, {\"alignmentgroup\": \"True\", \"hoverlabel\": {\"namelength\": 0}, \"hovertemplate\": \"ao_hechos=2015.0<br>delito=%{x}<br>mes_hechos=%{y}\", \"legendgroup\": \"ao_hechos=2015.0\", \"marker\": {\"color\": \"#FF6692\"}, \"name\": \"ao_hechos=2015.0\", \"offsetgroup\": \"ao_hechos=2015.0\", \"orientation\": \"v\", \"showlegend\": true, \"textposition\": \"auto\", \"type\": \"bar\", \"x\": [\"AMENAZAS\", \"DENUNCIA DE HECHOS\", \"FRAUDE\", \"ROBO A NEGOCIO SIN VIOLENCIA\", \"ROBO A TRANSEUNTE EN VIA PUBLICA CON VIOLENCIA\", \"ROBO DE ACCESORIOS DE AUTO\", \"ROBO DE OBJETOS\", \"ROBO DE OBJETOS DEL INTERIOR DE UN VEHICULO\", \"ROBO DE VEHICULO DE SERVICIO PARTICULAR SIN VIOLENCIA\", \"VIOLENCIA FAMILIAR\"], \"xaxis\": \"x\", \"y\": [474, 1931, 3831, 307, 92, 67, 744, 94, 82, 1168], \"yaxis\": \"y\"}, {\"alignmentgroup\": \"True\", \"hoverlabel\": {\"namelength\": 0}, \"hovertemplate\": \"ao_hechos=2016.0<br>delito=%{x}<br>mes_hechos=%{y}\", \"legendgroup\": \"ao_hechos=2016.0\", \"marker\": {\"color\": \"#B6E880\"}, \"name\": \"ao_hechos=2016.0\", \"offsetgroup\": \"ao_hechos=2016.0\", \"orientation\": \"v\", \"showlegend\": true, \"textposition\": \"auto\", \"type\": \"bar\", \"x\": [\"AMENAZAS\", \"DENUNCIA DE HECHOS\", \"FRAUDE\", \"ROBO A NEGOCIO SIN VIOLENCIA\", \"ROBO A TRANSEUNTE EN VIA PUBLICA CON VIOLENCIA\", \"ROBO DE ACCESORIOS DE AUTO\", \"ROBO DE OBJETOS\", \"ROBO DE OBJETOS DEL INTERIOR DE UN VEHICULO\", \"ROBO DE VEHICULO DE SERVICIO PARTICULAR SIN VIOLENCIA\", \"VIOLENCIA FAMILIAR\"], \"xaxis\": \"x\", \"y\": [9971, 11246, 10867, 13434, 6318, 3797, 15014, 3856, 5716, 18107], \"yaxis\": \"y\"}, {\"alignmentgroup\": \"True\", \"hoverlabel\": {\"namelength\": 0}, \"hovertemplate\": \"ao_hechos=2017.0<br>delito=%{x}<br>mes_hechos=%{y}\", \"legendgroup\": \"ao_hechos=2017.0\", \"marker\": {\"color\": \"#FF97FF\"}, \"name\": \"ao_hechos=2017.0\", \"offsetgroup\": \"ao_hechos=2017.0\", \"orientation\": \"v\", \"showlegend\": true, \"textposition\": \"auto\", \"type\": \"bar\", \"x\": [\"AMENAZAS\", \"DENUNCIA DE HECHOS\", \"FRAUDE\", \"ROBO A NEGOCIO SIN VIOLENCIA\", \"ROBO A TRANSEUNTE EN VIA PUBLICA CON VIOLENCIA\", \"ROBO DE ACCESORIOS DE AUTO\", \"ROBO DE OBJETOS\", \"ROBO DE OBJETOS DEL INTERIOR DE UN VEHICULO\", \"ROBO DE VEHICULO DE SERVICIO PARTICULAR SIN VIOLENCIA\", \"VIOLENCIA FAMILIAR\"], \"xaxis\": \"x\", \"y\": [9526, 16564, 11725, 14870, 7081, 7111, 16150, 7515, 5357, 18574], \"yaxis\": \"y\"}, {\"alignmentgroup\": \"True\", \"hoverlabel\": {\"namelength\": 0}, \"hovertemplate\": \"ao_hechos=2018.0<br>delito=%{x}<br>mes_hechos=%{y}\", \"legendgroup\": \"ao_hechos=2018.0\", \"marker\": {\"color\": \"#FECB52\"}, \"name\": \"ao_hechos=2018.0\", \"offsetgroup\": \"ao_hechos=2018.0\", \"orientation\": \"v\", \"showlegend\": true, \"textposition\": \"auto\", \"type\": \"bar\", \"x\": [\"AMENAZAS\", \"DENUNCIA DE HECHOS\", \"FRAUDE\", \"ROBO A NEGOCIO SIN VIOLENCIA\", \"ROBO A TRANSEUNTE EN VIA PUBLICA CON VIOLENCIA\", \"ROBO DE ACCESORIOS DE AUTO\", \"ROBO DE OBJETOS\", \"ROBO DE OBJETOS DEL INTERIOR DE UN VEHICULO\", \"ROBO DE VEHICULO DE SERVICIO PARTICULAR SIN VIOLENCIA\", \"VIOLENCIA FAMILIAR\"], \"xaxis\": \"x\", \"y\": [11128, 7598, 13563, 15988, 21964, 8975, 14294, 8550, 7135, 20024], \"yaxis\": \"y\"}, {\"alignmentgroup\": \"True\", \"hoverlabel\": {\"namelength\": 0}, \"hovertemplate\": \"ao_hechos=2019.0<br>delito=%{x}<br>mes_hechos=%{y}\", \"legendgroup\": \"ao_hechos=2019.0\", \"marker\": {\"color\": \"#636efa\"}, \"name\": \"ao_hechos=2019.0\", \"offsetgroup\": \"ao_hechos=2019.0\", \"orientation\": \"v\", \"showlegend\": true, \"textposition\": \"auto\", \"type\": \"bar\", \"x\": [\"AMENAZAS\", \"DENUNCIA DE HECHOS\", \"FRAUDE\", \"ROBO A NEGOCIO SIN VIOLENCIA\", \"ROBO A TRANSEUNTE EN VIA PUBLICA CON VIOLENCIA\", \"ROBO DE ACCESORIOS DE AUTO\", \"ROBO DE OBJETOS\", \"ROBO DE OBJETOS DEL INTERIOR DE UN VEHICULO\", \"ROBO DE VEHICULO DE SERVICIO PARTICULAR SIN VIOLENCIA\", \"VIOLENCIA FAMILIAR\"], \"xaxis\": \"x\", \"y\": [13828, 714, 14319, 15756, 13381, 8200, 12528, 6662, 6541, 25974], \"yaxis\": \"y\"}, {\"alignmentgroup\": \"True\", \"hoverlabel\": {\"namelength\": 0}, \"hovertemplate\": \"ao_hechos=2020.0<br>delito=%{x}<br>mes_hechos=%{y}\", \"legendgroup\": \"ao_hechos=2020.0\", \"marker\": {\"color\": \"#EF553B\"}, \"name\": \"ao_hechos=2020.0\", \"offsetgroup\": \"ao_hechos=2020.0\", \"orientation\": \"v\", \"showlegend\": true, \"textposition\": \"auto\", \"type\": \"bar\", \"x\": [\"AMENAZAS\", \"DENUNCIA DE HECHOS\", \"FRAUDE\", \"ROBO A NEGOCIO SIN VIOLENCIA\", \"ROBO A TRANSEUNTE EN VIA PUBLICA CON VIOLENCIA\", \"ROBO DE ACCESORIOS DE AUTO\", \"ROBO DE OBJETOS\", \"ROBO DE OBJETOS DEL INTERIOR DE UN VEHICULO\", \"ROBO DE VEHICULO DE SERVICIO PARTICULAR SIN VIOLENCIA\", \"VIOLENCIA FAMILIAR\"], \"xaxis\": \"x\", \"y\": [14416, 13, 13482, 4452, 8663, 7408, 9138, 4949, 5173, 28292], \"yaxis\": \"y\"}, {\"alignmentgroup\": \"True\", \"hoverlabel\": {\"namelength\": 0}, \"hovertemplate\": \"ao_hechos=2021.0<br>delito=%{x}<br>mes_hechos=%{y}\", \"legendgroup\": \"ao_hechos=2021.0\", \"marker\": {\"color\": \"#00cc96\"}, \"name\": \"ao_hechos=2021.0\", \"offsetgroup\": \"ao_hechos=2021.0\", \"orientation\": \"v\", \"showlegend\": true, \"textposition\": \"auto\", \"type\": \"bar\", \"x\": [\"AMENAZAS\", \"DENUNCIA DE HECHOS\", \"FRAUDE\", \"ROBO A NEGOCIO SIN VIOLENCIA\", \"ROBO A TRANSEUNTE EN VIA PUBLICA CON VIOLENCIA\", \"ROBO DE ACCESORIOS DE AUTO\", \"ROBO DE OBJETOS\", \"ROBO DE OBJETOS DEL INTERIOR DE UN VEHICULO\", \"ROBO DE VEHICULO DE SERVICIO PARTICULAR SIN VIOLENCIA\", \"VIOLENCIA FAMILIAR\"], \"xaxis\": \"x\", \"y\": [12039, 8, 10189, 2650, 6461, 6104, 7798, 4331, 2821, 24837], \"yaxis\": \"y\"}, {\"alignmentgroup\": \"True\", \"hoverlabel\": {\"namelength\": 0}, \"hovertemplate\": \"ao_hechos=1957.0<br>delito=%{x}<br>mes_hechos=%{y}\", \"legendgroup\": \"ao_hechos=1957.0\", \"marker\": {\"color\": \"#ab63fa\"}, \"name\": \"ao_hechos=1957.0\", \"offsetgroup\": \"ao_hechos=1957.0\", \"orientation\": \"v\", \"showlegend\": true, \"textposition\": \"auto\", \"type\": \"bar\", \"x\": [\"DENUNCIA DE HECHOS\"], \"xaxis\": \"x\", \"y\": [1], \"yaxis\": \"y\"}, {\"alignmentgroup\": \"True\", \"hoverlabel\": {\"namelength\": 0}, \"hovertemplate\": \"ao_hechos=1960.0<br>delito=%{x}<br>mes_hechos=%{y}\", \"legendgroup\": \"ao_hechos=1960.0\", \"marker\": {\"color\": \"#FFA15A\"}, \"name\": \"ao_hechos=1960.0\", \"offsetgroup\": \"ao_hechos=1960.0\", \"orientation\": \"v\", \"showlegend\": true, \"textposition\": \"auto\", \"type\": \"bar\", \"x\": [\"DENUNCIA DE HECHOS\"], \"xaxis\": \"x\", \"y\": [1], \"yaxis\": \"y\"}, {\"alignmentgroup\": \"True\", \"hoverlabel\": {\"namelength\": 0}, \"hovertemplate\": \"ao_hechos=1966.0<br>delito=%{x}<br>mes_hechos=%{y}\", \"legendgroup\": \"ao_hechos=1966.0\", \"marker\": {\"color\": \"#19d3f3\"}, \"name\": \"ao_hechos=1966.0\", \"offsetgroup\": \"ao_hechos=1966.0\", \"orientation\": \"v\", \"showlegend\": true, \"textposition\": \"auto\", \"type\": \"bar\", \"x\": [\"DENUNCIA DE HECHOS\"], \"xaxis\": \"x\", \"y\": [1], \"yaxis\": \"y\"}, {\"alignmentgroup\": \"True\", \"hoverlabel\": {\"namelength\": 0}, \"hovertemplate\": \"ao_hechos=1969.0<br>delito=%{x}<br>mes_hechos=%{y}\", \"legendgroup\": \"ao_hechos=1969.0\", \"marker\": {\"color\": \"#FF6692\"}, \"name\": \"ao_hechos=1969.0\", \"offsetgroup\": \"ao_hechos=1969.0\", \"orientation\": \"v\", \"showlegend\": true, \"textposition\": \"auto\", \"type\": \"bar\", \"x\": [\"DENUNCIA DE HECHOS\", \"FRAUDE\", \"ROBO DE ACCESORIOS DE AUTO\", \"ROBO DE OBJETOS\", \"VIOLENCIA FAMILIAR\"], \"xaxis\": \"x\", \"y\": [1, 2, 3, 1, 1], \"yaxis\": \"y\"}, {\"alignmentgroup\": \"True\", \"hoverlabel\": {\"namelength\": 0}, \"hovertemplate\": \"ao_hechos=1971.0<br>delito=%{x}<br>mes_hechos=%{y}\", \"legendgroup\": \"ao_hechos=1971.0\", \"marker\": {\"color\": \"#B6E880\"}, \"name\": \"ao_hechos=1971.0\", \"offsetgroup\": \"ao_hechos=1971.0\", \"orientation\": \"v\", \"showlegend\": true, \"textposition\": \"auto\", \"type\": \"bar\", \"x\": [\"DENUNCIA DE HECHOS\"], \"xaxis\": \"x\", \"y\": [1], \"yaxis\": \"y\"}, {\"alignmentgroup\": \"True\", \"hoverlabel\": {\"namelength\": 0}, \"hovertemplate\": \"ao_hechos=1978.0<br>delito=%{x}<br>mes_hechos=%{y}\", \"legendgroup\": \"ao_hechos=1978.0\", \"marker\": {\"color\": \"#FF97FF\"}, \"name\": \"ao_hechos=1978.0\", \"offsetgroup\": \"ao_hechos=1978.0\", \"orientation\": \"v\", \"showlegend\": true, \"textposition\": \"auto\", \"type\": \"bar\", \"x\": [\"DENUNCIA DE HECHOS\"], \"xaxis\": \"x\", \"y\": [2], \"yaxis\": \"y\"}, {\"alignmentgroup\": \"True\", \"hoverlabel\": {\"namelength\": 0}, \"hovertemplate\": \"ao_hechos=1979.0<br>delito=%{x}<br>mes_hechos=%{y}\", \"legendgroup\": \"ao_hechos=1979.0\", \"marker\": {\"color\": \"#FECB52\"}, \"name\": \"ao_hechos=1979.0\", \"offsetgroup\": \"ao_hechos=1979.0\", \"orientation\": \"v\", \"showlegend\": true, \"textposition\": \"auto\", \"type\": \"bar\", \"x\": [\"DENUNCIA DE HECHOS\", \"VIOLENCIA FAMILIAR\"], \"xaxis\": \"x\", \"y\": [1, 1], \"yaxis\": \"y\"}, {\"alignmentgroup\": \"True\", \"hoverlabel\": {\"namelength\": 0}, \"hovertemplate\": \"ao_hechos=1980.0<br>delito=%{x}<br>mes_hechos=%{y}\", \"legendgroup\": \"ao_hechos=1980.0\", \"marker\": {\"color\": \"#636efa\"}, \"name\": \"ao_hechos=1980.0\", \"offsetgroup\": \"ao_hechos=1980.0\", \"orientation\": \"v\", \"showlegend\": true, \"textposition\": \"auto\", \"type\": \"bar\", \"x\": [\"DENUNCIA DE HECHOS\", \"FRAUDE\", \"VIOLENCIA FAMILIAR\"], \"xaxis\": \"x\", \"y\": [1, 1, 1], \"yaxis\": \"y\"}, {\"alignmentgroup\": \"True\", \"hoverlabel\": {\"namelength\": 0}, \"hovertemplate\": \"ao_hechos=1981.0<br>delito=%{x}<br>mes_hechos=%{y}\", \"legendgroup\": \"ao_hechos=1981.0\", \"marker\": {\"color\": \"#EF553B\"}, \"name\": \"ao_hechos=1981.0\", \"offsetgroup\": \"ao_hechos=1981.0\", \"orientation\": \"v\", \"showlegend\": true, \"textposition\": \"auto\", \"type\": \"bar\", \"x\": [\"DENUNCIA DE HECHOS\", \"FRAUDE\", \"ROBO A TRANSEUNTE EN VIA PUBLICA CON VIOLENCIA\", \"VIOLENCIA FAMILIAR\"], \"xaxis\": \"x\", \"y\": [1, 1, 1, 1], \"yaxis\": \"y\"}, {\"alignmentgroup\": \"True\", \"hoverlabel\": {\"namelength\": 0}, \"hovertemplate\": \"ao_hechos=1982.0<br>delito=%{x}<br>mes_hechos=%{y}\", \"legendgroup\": \"ao_hechos=1982.0\", \"marker\": {\"color\": \"#00cc96\"}, \"name\": \"ao_hechos=1982.0\", \"offsetgroup\": \"ao_hechos=1982.0\", \"orientation\": \"v\", \"showlegend\": true, \"textposition\": \"auto\", \"type\": \"bar\", \"x\": [\"DENUNCIA DE HECHOS\", \"ROBO DE OBJETOS DEL INTERIOR DE UN VEHICULO\"], \"xaxis\": \"x\", \"y\": [2, 2], \"yaxis\": \"y\"}, {\"alignmentgroup\": \"True\", \"hoverlabel\": {\"namelength\": 0}, \"hovertemplate\": \"ao_hechos=1985.0<br>delito=%{x}<br>mes_hechos=%{y}\", \"legendgroup\": \"ao_hechos=1985.0\", \"marker\": {\"color\": \"#ab63fa\"}, \"name\": \"ao_hechos=1985.0\", \"offsetgroup\": \"ao_hechos=1985.0\", \"orientation\": \"v\", \"showlegend\": true, \"textposition\": \"auto\", \"type\": \"bar\", \"x\": [\"DENUNCIA DE HECHOS\", \"FRAUDE\", \"ROBO A NEGOCIO SIN VIOLENCIA\", \"ROBO DE OBJETOS\", \"VIOLENCIA FAMILIAR\"], \"xaxis\": \"x\", \"y\": [1, 1, 1, 1, 1], \"yaxis\": \"y\"}, {\"alignmentgroup\": \"True\", \"hoverlabel\": {\"namelength\": 0}, \"hovertemplate\": \"ao_hechos=1991.0<br>delito=%{x}<br>mes_hechos=%{y}\", \"legendgroup\": \"ao_hechos=1991.0\", \"marker\": {\"color\": \"#FFA15A\"}, \"name\": \"ao_hechos=1991.0\", \"offsetgroup\": \"ao_hechos=1991.0\", \"orientation\": \"v\", \"showlegend\": true, \"textposition\": \"auto\", \"type\": \"bar\", \"x\": [\"DENUNCIA DE HECHOS\", \"FRAUDE\", \"ROBO DE ACCESORIOS DE AUTO\", \"VIOLENCIA FAMILIAR\"], \"xaxis\": \"x\", \"y\": [1, 7, 2, 2], \"yaxis\": \"y\"}, {\"alignmentgroup\": \"True\", \"hoverlabel\": {\"namelength\": 0}, \"hovertemplate\": \"ao_hechos=1995.0<br>delito=%{x}<br>mes_hechos=%{y}\", \"legendgroup\": \"ao_hechos=1995.0\", \"marker\": {\"color\": \"#19d3f3\"}, \"name\": \"ao_hechos=1995.0\", \"offsetgroup\": \"ao_hechos=1995.0\", \"orientation\": \"v\", \"showlegend\": true, \"textposition\": \"auto\", \"type\": \"bar\", \"x\": [\"DENUNCIA DE HECHOS\", \"FRAUDE\", \"ROBO DE ACCESORIOS DE AUTO\", \"ROBO DE OBJETOS\", \"VIOLENCIA FAMILIAR\"], \"xaxis\": \"x\", \"y\": [3, 5, 1, 1, 2], \"yaxis\": \"y\"}, {\"alignmentgroup\": \"True\", \"hoverlabel\": {\"namelength\": 0}, \"hovertemplate\": \"ao_hechos=1996.0<br>delito=%{x}<br>mes_hechos=%{y}\", \"legendgroup\": \"ao_hechos=1996.0\", \"marker\": {\"color\": \"#FF6692\"}, \"name\": \"ao_hechos=1996.0\", \"offsetgroup\": \"ao_hechos=1996.0\", \"orientation\": \"v\", \"showlegend\": true, \"textposition\": \"auto\", \"type\": \"bar\", \"x\": [\"DENUNCIA DE HECHOS\", \"FRAUDE\", \"ROBO DE OBJETOS DEL INTERIOR DE UN VEHICULO\"], \"xaxis\": \"x\", \"y\": [5, 6, 1], \"yaxis\": \"y\"}, {\"alignmentgroup\": \"True\", \"hoverlabel\": {\"namelength\": 0}, \"hovertemplate\": \"ao_hechos=1997.0<br>delito=%{x}<br>mes_hechos=%{y}\", \"legendgroup\": \"ao_hechos=1997.0\", \"marker\": {\"color\": \"#B6E880\"}, \"name\": \"ao_hechos=1997.0\", \"offsetgroup\": \"ao_hechos=1997.0\", \"orientation\": \"v\", \"showlegend\": true, \"textposition\": \"auto\", \"type\": \"bar\", \"x\": [\"DENUNCIA DE HECHOS\", \"FRAUDE\", \"ROBO DE OBJETOS\", \"ROBO DE OBJETOS DEL INTERIOR DE UN VEHICULO\", \"VIOLENCIA FAMILIAR\"], \"xaxis\": \"x\", \"y\": [2, 6, 1, 1, 1], \"yaxis\": \"y\"}, {\"alignmentgroup\": \"True\", \"hoverlabel\": {\"namelength\": 0}, \"hovertemplate\": \"ao_hechos=1998.0<br>delito=%{x}<br>mes_hechos=%{y}\", \"legendgroup\": \"ao_hechos=1998.0\", \"marker\": {\"color\": \"#FF97FF\"}, \"name\": \"ao_hechos=1998.0\", \"offsetgroup\": \"ao_hechos=1998.0\", \"orientation\": \"v\", \"showlegend\": true, \"textposition\": \"auto\", \"type\": \"bar\", \"x\": [\"DENUNCIA DE HECHOS\", \"FRAUDE\", \"ROBO DE VEHICULO DE SERVICIO PARTICULAR SIN VIOLENCIA\", \"VIOLENCIA FAMILIAR\"], \"xaxis\": \"x\", \"y\": [2, 15, 1, 3], \"yaxis\": \"y\"}, {\"alignmentgroup\": \"True\", \"hoverlabel\": {\"namelength\": 0}, \"hovertemplate\": \"ao_hechos=2003.0<br>delito=%{x}<br>mes_hechos=%{y}\", \"legendgroup\": \"ao_hechos=2003.0\", \"marker\": {\"color\": \"#FECB52\"}, \"name\": \"ao_hechos=2003.0\", \"offsetgroup\": \"ao_hechos=2003.0\", \"orientation\": \"v\", \"showlegend\": true, \"textposition\": \"auto\", \"type\": \"bar\", \"x\": [\"DENUNCIA DE HECHOS\", \"FRAUDE\", \"ROBO DE OBJETOS\"], \"xaxis\": \"x\", \"y\": [11, 28, 3], \"yaxis\": \"y\"}, {\"alignmentgroup\": \"True\", \"hoverlabel\": {\"namelength\": 0}, \"hovertemplate\": \"ao_hechos=2005.0<br>delito=%{x}<br>mes_hechos=%{y}\", \"legendgroup\": \"ao_hechos=2005.0\", \"marker\": {\"color\": \"#636efa\"}, \"name\": \"ao_hechos=2005.0\", \"offsetgroup\": \"ao_hechos=2005.0\", \"orientation\": \"v\", \"showlegend\": true, \"textposition\": \"auto\", \"type\": \"bar\", \"x\": [\"DENUNCIA DE HECHOS\", \"FRAUDE\", \"ROBO DE OBJETOS\", \"ROBO DE OBJETOS DEL INTERIOR DE UN VEHICULO\", \"ROBO DE VEHICULO DE SERVICIO PARTICULAR SIN VIOLENCIA\", \"VIOLENCIA FAMILIAR\"], \"xaxis\": \"x\", \"y\": [27, 50, 3, 1, 1, 3], \"yaxis\": \"y\"}, {\"alignmentgroup\": \"True\", \"hoverlabel\": {\"namelength\": 0}, \"hovertemplate\": \"ao_hechos=2006.0<br>delito=%{x}<br>mes_hechos=%{y}\", \"legendgroup\": \"ao_hechos=2006.0\", \"marker\": {\"color\": \"#EF553B\"}, \"name\": \"ao_hechos=2006.0\", \"offsetgroup\": \"ao_hechos=2006.0\", \"orientation\": \"v\", \"showlegend\": true, \"textposition\": \"auto\", \"type\": \"bar\", \"x\": [\"DENUNCIA DE HECHOS\", \"FRAUDE\", \"ROBO A NEGOCIO SIN VIOLENCIA\", \"ROBO A TRANSEUNTE EN VIA PUBLICA CON VIOLENCIA\", \"ROBO DE OBJETOS\", \"ROBO DE VEHICULO DE SERVICIO PARTICULAR SIN VIOLENCIA\", \"VIOLENCIA FAMILIAR\"], \"xaxis\": \"x\", \"y\": [31, 57, 1, 3, 5, 1, 4], \"yaxis\": \"y\"}, {\"alignmentgroup\": \"True\", \"hoverlabel\": {\"namelength\": 0}, \"hovertemplate\": \"ao_hechos=1915.0<br>delito=%{x}<br>mes_hechos=%{y}\", \"legendgroup\": \"ao_hechos=1915.0\", \"marker\": {\"color\": \"#00cc96\"}, \"name\": \"ao_hechos=1915.0\", \"offsetgroup\": \"ao_hechos=1915.0\", \"orientation\": \"v\", \"showlegend\": true, \"textposition\": \"auto\", \"type\": \"bar\", \"x\": [\"FRAUDE\"], \"xaxis\": \"x\", \"y\": [1], \"yaxis\": \"y\"}, {\"alignmentgroup\": \"True\", \"hoverlabel\": {\"namelength\": 0}, \"hovertemplate\": \"ao_hechos=1958.0<br>delito=%{x}<br>mes_hechos=%{y}\", \"legendgroup\": \"ao_hechos=1958.0\", \"marker\": {\"color\": \"#ab63fa\"}, \"name\": \"ao_hechos=1958.0\", \"offsetgroup\": \"ao_hechos=1958.0\", \"orientation\": \"v\", \"showlegend\": true, \"textposition\": \"auto\", \"type\": \"bar\", \"x\": [\"FRAUDE\"], \"xaxis\": \"x\", \"y\": [1], \"yaxis\": \"y\"}, {\"alignmentgroup\": \"True\", \"hoverlabel\": {\"namelength\": 0}, \"hovertemplate\": \"ao_hechos=1977.0<br>delito=%{x}<br>mes_hechos=%{y}\", \"legendgroup\": \"ao_hechos=1977.0\", \"marker\": {\"color\": \"#FFA15A\"}, \"name\": \"ao_hechos=1977.0\", \"offsetgroup\": \"ao_hechos=1977.0\", \"orientation\": \"v\", \"showlegend\": true, \"textposition\": \"auto\", \"type\": \"bar\", \"x\": [\"FRAUDE\"], \"xaxis\": \"x\", \"y\": [1], \"yaxis\": \"y\"}, {\"alignmentgroup\": \"True\", \"hoverlabel\": {\"namelength\": 0}, \"hovertemplate\": \"ao_hechos=1986.0<br>delito=%{x}<br>mes_hechos=%{y}\", \"legendgroup\": \"ao_hechos=1986.0\", \"marker\": {\"color\": \"#19d3f3\"}, \"name\": \"ao_hechos=1986.0\", \"offsetgroup\": \"ao_hechos=1986.0\", \"orientation\": \"v\", \"showlegend\": true, \"textposition\": \"auto\", \"type\": \"bar\", \"x\": [\"FRAUDE\", \"ROBO A TRANSEUNTE EN VIA PUBLICA CON VIOLENCIA\", \"ROBO DE ACCESORIOS DE AUTO\", \"ROBO DE OBJETOS\", \"ROBO DE VEHICULO DE SERVICIO PARTICULAR SIN VIOLENCIA\"], \"xaxis\": \"x\", \"y\": [2, 1, 1, 1, 1], \"yaxis\": \"y\"}, {\"alignmentgroup\": \"True\", \"hoverlabel\": {\"namelength\": 0}, \"hovertemplate\": \"ao_hechos=1988.0<br>delito=%{x}<br>mes_hechos=%{y}\", \"legendgroup\": \"ao_hechos=1988.0\", \"marker\": {\"color\": \"#FF6692\"}, \"name\": \"ao_hechos=1988.0\", \"offsetgroup\": \"ao_hechos=1988.0\", \"orientation\": \"v\", \"showlegend\": true, \"textposition\": \"auto\", \"type\": \"bar\", \"x\": [\"FRAUDE\", \"ROBO DE OBJETOS\", \"ROBO DE OBJETOS DEL INTERIOR DE UN VEHICULO\", \"VIOLENCIA FAMILIAR\"], \"xaxis\": \"x\", \"y\": [2, 1, 1, 1], \"yaxis\": \"y\"}, {\"alignmentgroup\": \"True\", \"hoverlabel\": {\"namelength\": 0}, \"hovertemplate\": \"ao_hechos=1963.0<br>delito=%{x}<br>mes_hechos=%{y}\", \"legendgroup\": \"ao_hechos=1963.0\", \"marker\": {\"color\": \"#B6E880\"}, \"name\": \"ao_hechos=1963.0\", \"offsetgroup\": \"ao_hechos=1963.0\", \"orientation\": \"v\", \"showlegend\": true, \"textposition\": \"auto\", \"type\": \"bar\", \"x\": [\"ROBO A NEGOCIO SIN VIOLENCIA\", \"VIOLENCIA FAMILIAR\"], \"xaxis\": \"x\", \"y\": [1, 1], \"yaxis\": \"y\"}, {\"alignmentgroup\": \"True\", \"hoverlabel\": {\"namelength\": 0}, \"hovertemplate\": \"ao_hechos=1976.0<br>delito=%{x}<br>mes_hechos=%{y}\", \"legendgroup\": \"ao_hechos=1976.0\", \"marker\": {\"color\": \"#FF97FF\"}, \"name\": \"ao_hechos=1976.0\", \"offsetgroup\": \"ao_hechos=1976.0\", \"orientation\": \"v\", \"showlegend\": true, \"textposition\": \"auto\", \"type\": \"bar\", \"x\": [\"ROBO A NEGOCIO SIN VIOLENCIA\"], \"xaxis\": \"x\", \"y\": [1], \"yaxis\": \"y\"}, {\"alignmentgroup\": \"True\", \"hoverlabel\": {\"namelength\": 0}, \"hovertemplate\": \"ao_hechos=1930.0<br>delito=%{x}<br>mes_hechos=%{y}\", \"legendgroup\": \"ao_hechos=1930.0\", \"marker\": {\"color\": \"#FECB52\"}, \"name\": \"ao_hechos=1930.0\", \"offsetgroup\": \"ao_hechos=1930.0\", \"orientation\": \"v\", \"showlegend\": true, \"textposition\": \"auto\", \"type\": \"bar\", \"x\": [\"ROBO DE OBJETOS\"], \"xaxis\": \"x\", \"y\": [1], \"yaxis\": \"y\"}, {\"alignmentgroup\": \"True\", \"hoverlabel\": {\"namelength\": 0}, \"hovertemplate\": \"ao_hechos=1974.0<br>delito=%{x}<br>mes_hechos=%{y}\", \"legendgroup\": \"ao_hechos=1974.0\", \"marker\": {\"color\": \"#636efa\"}, \"name\": \"ao_hechos=1974.0\", \"offsetgroup\": \"ao_hechos=1974.0\", \"orientation\": \"v\", \"showlegend\": true, \"textposition\": \"auto\", \"type\": \"bar\", \"x\": [\"ROBO DE OBJETOS\", \"VIOLENCIA FAMILIAR\"], \"xaxis\": \"x\", \"y\": [1, 3], \"yaxis\": \"y\"}, {\"alignmentgroup\": \"True\", \"hoverlabel\": {\"namelength\": 0}, \"hovertemplate\": \"ao_hechos=1906.0<br>delito=%{x}<br>mes_hechos=%{y}\", \"legendgroup\": \"ao_hechos=1906.0\", \"marker\": {\"color\": \"#EF553B\"}, \"name\": \"ao_hechos=1906.0\", \"offsetgroup\": \"ao_hechos=1906.0\", \"orientation\": \"v\", \"showlegend\": true, \"textposition\": \"auto\", \"type\": \"bar\", \"x\": [\"VIOLENCIA FAMILIAR\"], \"xaxis\": \"x\", \"y\": [1], \"yaxis\": \"y\"}, {\"alignmentgroup\": \"True\", \"hoverlabel\": {\"namelength\": 0}, \"hovertemplate\": \"ao_hechos=1942.0<br>delito=%{x}<br>mes_hechos=%{y}\", \"legendgroup\": \"ao_hechos=1942.0\", \"marker\": {\"color\": \"#00cc96\"}, \"name\": \"ao_hechos=1942.0\", \"offsetgroup\": \"ao_hechos=1942.0\", \"orientation\": \"v\", \"showlegend\": true, \"textposition\": \"auto\", \"type\": \"bar\", \"x\": [\"VIOLENCIA FAMILIAR\"], \"xaxis\": \"x\", \"y\": [1], \"yaxis\": \"y\"}, {\"alignmentgroup\": \"True\", \"hoverlabel\": {\"namelength\": 0}, \"hovertemplate\": \"ao_hechos=1964.0<br>delito=%{x}<br>mes_hechos=%{y}\", \"legendgroup\": \"ao_hechos=1964.0\", \"marker\": {\"color\": \"#ab63fa\"}, \"name\": \"ao_hechos=1964.0\", \"offsetgroup\": \"ao_hechos=1964.0\", \"orientation\": \"v\", \"showlegend\": true, \"textposition\": \"auto\", \"type\": \"bar\", \"x\": [\"VIOLENCIA FAMILIAR\"], \"xaxis\": \"x\", \"y\": [1], \"yaxis\": \"y\"}, {\"alignmentgroup\": \"True\", \"hoverlabel\": {\"namelength\": 0}, \"hovertemplate\": \"ao_hechos=1967.0<br>delito=%{x}<br>mes_hechos=%{y}\", \"legendgroup\": \"ao_hechos=1967.0\", \"marker\": {\"color\": \"#FFA15A\"}, \"name\": \"ao_hechos=1967.0\", \"offsetgroup\": \"ao_hechos=1967.0\", \"orientation\": \"v\", \"showlegend\": true, \"textposition\": \"auto\", \"type\": \"bar\", \"x\": [\"VIOLENCIA FAMILIAR\"], \"xaxis\": \"x\", \"y\": [1], \"yaxis\": \"y\"}, {\"alignmentgroup\": \"True\", \"hoverlabel\": {\"namelength\": 0}, \"hovertemplate\": \"ao_hechos=1968.0<br>delito=%{x}<br>mes_hechos=%{y}\", \"legendgroup\": \"ao_hechos=1968.0\", \"marker\": {\"color\": \"#19d3f3\"}, \"name\": \"ao_hechos=1968.0\", \"offsetgroup\": \"ao_hechos=1968.0\", \"orientation\": \"v\", \"showlegend\": true, \"textposition\": \"auto\", \"type\": \"bar\", \"x\": [\"VIOLENCIA FAMILIAR\"], \"xaxis\": \"x\", \"y\": [1], \"yaxis\": \"y\"}, {\"alignmentgroup\": \"True\", \"hoverlabel\": {\"namelength\": 0}, \"hovertemplate\": \"ao_hechos=1975.0<br>delito=%{x}<br>mes_hechos=%{y}\", \"legendgroup\": \"ao_hechos=1975.0\", \"marker\": {\"color\": \"#FF6692\"}, \"name\": \"ao_hechos=1975.0\", \"offsetgroup\": \"ao_hechos=1975.0\", \"orientation\": \"v\", \"showlegend\": true, \"textposition\": \"auto\", \"type\": \"bar\", \"x\": [\"VIOLENCIA FAMILIAR\"], \"xaxis\": \"x\", \"y\": [1], \"yaxis\": \"y\"}],\n",
              "                        {\"barmode\": \"relative\", \"legend\": {\"tracegroupgap\": 0}, \"template\": {\"data\": {\"bar\": [{\"error_x\": {\"color\": \"#2a3f5f\"}, \"error_y\": {\"color\": \"#2a3f5f\"}, \"marker\": {\"line\": {\"color\": \"#E5ECF6\", \"width\": 0.5}}, \"type\": \"bar\"}], \"barpolar\": [{\"marker\": {\"line\": {\"color\": \"#E5ECF6\", \"width\": 0.5}}, \"type\": \"barpolar\"}], \"carpet\": [{\"aaxis\": {\"endlinecolor\": \"#2a3f5f\", \"gridcolor\": \"white\", \"linecolor\": \"white\", \"minorgridcolor\": \"white\", \"startlinecolor\": \"#2a3f5f\"}, \"baxis\": {\"endlinecolor\": \"#2a3f5f\", \"gridcolor\": \"white\", \"linecolor\": \"white\", \"minorgridcolor\": \"white\", \"startlinecolor\": \"#2a3f5f\"}, \"type\": \"carpet\"}], \"choropleth\": [{\"colorbar\": {\"outlinewidth\": 0, \"ticks\": \"\"}, \"type\": \"choropleth\"}], \"contour\": [{\"colorbar\": {\"outlinewidth\": 0, \"ticks\": \"\"}, \"colorscale\": [[0.0, \"#0d0887\"], [0.1111111111111111, \"#46039f\"], [0.2222222222222222, \"#7201a8\"], [0.3333333333333333, \"#9c179e\"], [0.4444444444444444, \"#bd3786\"], [0.5555555555555556, \"#d8576b\"], [0.6666666666666666, \"#ed7953\"], [0.7777777777777778, \"#fb9f3a\"], [0.8888888888888888, \"#fdca26\"], [1.0, \"#f0f921\"]], \"type\": \"contour\"}], \"contourcarpet\": [{\"colorbar\": {\"outlinewidth\": 0, \"ticks\": \"\"}, \"type\": \"contourcarpet\"}], \"heatmap\": [{\"colorbar\": {\"outlinewidth\": 0, \"ticks\": \"\"}, \"colorscale\": [[0.0, \"#0d0887\"], [0.1111111111111111, \"#46039f\"], [0.2222222222222222, \"#7201a8\"], [0.3333333333333333, \"#9c179e\"], [0.4444444444444444, \"#bd3786\"], [0.5555555555555556, \"#d8576b\"], [0.6666666666666666, \"#ed7953\"], [0.7777777777777778, \"#fb9f3a\"], [0.8888888888888888, \"#fdca26\"], [1.0, \"#f0f921\"]], \"type\": \"heatmap\"}], \"heatmapgl\": [{\"colorbar\": {\"outlinewidth\": 0, \"ticks\": \"\"}, \"colorscale\": [[0.0, \"#0d0887\"], [0.1111111111111111, \"#46039f\"], [0.2222222222222222, \"#7201a8\"], [0.3333333333333333, \"#9c179e\"], [0.4444444444444444, \"#bd3786\"], [0.5555555555555556, \"#d8576b\"], [0.6666666666666666, \"#ed7953\"], [0.7777777777777778, \"#fb9f3a\"], [0.8888888888888888, \"#fdca26\"], [1.0, \"#f0f921\"]], \"type\": \"heatmapgl\"}], \"histogram\": [{\"marker\": {\"colorbar\": {\"outlinewidth\": 0, \"ticks\": \"\"}}, \"type\": \"histogram\"}], \"histogram2d\": [{\"colorbar\": {\"outlinewidth\": 0, \"ticks\": \"\"}, \"colorscale\": [[0.0, \"#0d0887\"], [0.1111111111111111, \"#46039f\"], [0.2222222222222222, \"#7201a8\"], [0.3333333333333333, \"#9c179e\"], [0.4444444444444444, \"#bd3786\"], [0.5555555555555556, \"#d8576b\"], [0.6666666666666666, \"#ed7953\"], [0.7777777777777778, \"#fb9f3a\"], [0.8888888888888888, \"#fdca26\"], [1.0, \"#f0f921\"]], \"type\": \"histogram2d\"}], \"histogram2dcontour\": [{\"colorbar\": {\"outlinewidth\": 0, \"ticks\": \"\"}, \"colorscale\": [[0.0, \"#0d0887\"], [0.1111111111111111, \"#46039f\"], [0.2222222222222222, \"#7201a8\"], [0.3333333333333333, \"#9c179e\"], [0.4444444444444444, \"#bd3786\"], [0.5555555555555556, \"#d8576b\"], [0.6666666666666666, \"#ed7953\"], [0.7777777777777778, \"#fb9f3a\"], [0.8888888888888888, \"#fdca26\"], [1.0, \"#f0f921\"]], \"type\": \"histogram2dcontour\"}], \"mesh3d\": [{\"colorbar\": {\"outlinewidth\": 0, \"ticks\": \"\"}, \"type\": \"mesh3d\"}], \"parcoords\": [{\"line\": {\"colorbar\": {\"outlinewidth\": 0, \"ticks\": \"\"}}, \"type\": \"parcoords\"}], \"pie\": [{\"automargin\": true, \"type\": \"pie\"}], \"scatter\": [{\"marker\": {\"colorbar\": {\"outlinewidth\": 0, \"ticks\": \"\"}}, \"type\": \"scatter\"}], \"scatter3d\": [{\"line\": {\"colorbar\": {\"outlinewidth\": 0, \"ticks\": \"\"}}, \"marker\": {\"colorbar\": {\"outlinewidth\": 0, \"ticks\": \"\"}}, \"type\": \"scatter3d\"}], \"scattercarpet\": [{\"marker\": {\"colorbar\": {\"outlinewidth\": 0, \"ticks\": \"\"}}, \"type\": \"scattercarpet\"}], \"scattergeo\": [{\"marker\": {\"colorbar\": {\"outlinewidth\": 0, \"ticks\": \"\"}}, \"type\": \"scattergeo\"}], \"scattergl\": [{\"marker\": {\"colorbar\": {\"outlinewidth\": 0, \"ticks\": \"\"}}, \"type\": \"scattergl\"}], \"scattermapbox\": [{\"marker\": {\"colorbar\": {\"outlinewidth\": 0, \"ticks\": \"\"}}, \"type\": \"scattermapbox\"}], \"scatterpolar\": [{\"marker\": {\"colorbar\": {\"outlinewidth\": 0, \"ticks\": \"\"}}, \"type\": \"scatterpolar\"}], \"scatterpolargl\": [{\"marker\": {\"colorbar\": {\"outlinewidth\": 0, \"ticks\": \"\"}}, \"type\": \"scatterpolargl\"}], \"scatterternary\": [{\"marker\": {\"colorbar\": {\"outlinewidth\": 0, \"ticks\": \"\"}}, \"type\": \"scatterternary\"}], \"surface\": [{\"colorbar\": {\"outlinewidth\": 0, \"ticks\": \"\"}, \"colorscale\": [[0.0, \"#0d0887\"], [0.1111111111111111, \"#46039f\"], [0.2222222222222222, \"#7201a8\"], [0.3333333333333333, \"#9c179e\"], [0.4444444444444444, \"#bd3786\"], [0.5555555555555556, \"#d8576b\"], [0.6666666666666666, \"#ed7953\"], [0.7777777777777778, \"#fb9f3a\"], [0.8888888888888888, \"#fdca26\"], [1.0, \"#f0f921\"]], \"type\": \"surface\"}], \"table\": [{\"cells\": {\"fill\": {\"color\": \"#EBF0F8\"}, \"line\": {\"color\": \"white\"}}, \"header\": {\"fill\": {\"color\": \"#C8D4E3\"}, \"line\": {\"color\": \"white\"}}, \"type\": \"table\"}]}, \"layout\": {\"annotationdefaults\": {\"arrowcolor\": \"#2a3f5f\", \"arrowhead\": 0, \"arrowwidth\": 1}, \"coloraxis\": {\"colorbar\": {\"outlinewidth\": 0, \"ticks\": \"\"}}, \"colorscale\": {\"diverging\": [[0, \"#8e0152\"], [0.1, \"#c51b7d\"], [0.2, \"#de77ae\"], [0.3, \"#f1b6da\"], [0.4, \"#fde0ef\"], [0.5, \"#f7f7f7\"], [0.6, \"#e6f5d0\"], [0.7, \"#b8e186\"], [0.8, \"#7fbc41\"], [0.9, \"#4d9221\"], [1, \"#276419\"]], \"sequential\": [[0.0, \"#0d0887\"], [0.1111111111111111, \"#46039f\"], [0.2222222222222222, \"#7201a8\"], [0.3333333333333333, \"#9c179e\"], [0.4444444444444444, \"#bd3786\"], [0.5555555555555556, \"#d8576b\"], [0.6666666666666666, \"#ed7953\"], [0.7777777777777778, \"#fb9f3a\"], [0.8888888888888888, \"#fdca26\"], [1.0, \"#f0f921\"]], \"sequentialminus\": [[0.0, \"#0d0887\"], [0.1111111111111111, \"#46039f\"], [0.2222222222222222, \"#7201a8\"], [0.3333333333333333, \"#9c179e\"], [0.4444444444444444, \"#bd3786\"], [0.5555555555555556, \"#d8576b\"], [0.6666666666666666, \"#ed7953\"], [0.7777777777777778, \"#fb9f3a\"], [0.8888888888888888, \"#fdca26\"], [1.0, \"#f0f921\"]]}, \"colorway\": [\"#636efa\", \"#EF553B\", \"#00cc96\", \"#ab63fa\", \"#FFA15A\", \"#19d3f3\", \"#FF6692\", \"#B6E880\", \"#FF97FF\", \"#FECB52\"], \"font\": {\"color\": \"#2a3f5f\"}, \"geo\": {\"bgcolor\": \"white\", \"lakecolor\": \"white\", \"landcolor\": \"#E5ECF6\", \"showlakes\": true, \"showland\": true, \"subunitcolor\": \"white\"}, \"hoverlabel\": {\"align\": \"left\"}, \"hovermode\": \"closest\", \"mapbox\": {\"style\": \"light\"}, \"paper_bgcolor\": \"white\", \"plot_bgcolor\": \"#E5ECF6\", \"polar\": {\"angularaxis\": {\"gridcolor\": \"white\", \"linecolor\": \"white\", \"ticks\": \"\"}, \"bgcolor\": \"#E5ECF6\", \"radialaxis\": {\"gridcolor\": \"white\", \"linecolor\": \"white\", \"ticks\": \"\"}}, \"scene\": {\"xaxis\": {\"backgroundcolor\": \"#E5ECF6\", \"gridcolor\": \"white\", \"gridwidth\": 2, \"linecolor\": \"white\", \"showbackground\": true, \"ticks\": \"\", \"zerolinecolor\": \"white\"}, \"yaxis\": {\"backgroundcolor\": \"#E5ECF6\", \"gridcolor\": \"white\", \"gridwidth\": 2, \"linecolor\": \"white\", \"showbackground\": true, \"ticks\": \"\", \"zerolinecolor\": \"white\"}, \"zaxis\": {\"backgroundcolor\": \"#E5ECF6\", \"gridcolor\": \"white\", \"gridwidth\": 2, \"linecolor\": \"white\", \"showbackground\": true, \"ticks\": \"\", \"zerolinecolor\": \"white\"}}, \"shapedefaults\": {\"line\": {\"color\": \"#2a3f5f\"}}, \"ternary\": {\"aaxis\": {\"gridcolor\": \"white\", \"linecolor\": \"white\", \"ticks\": \"\"}, \"baxis\": {\"gridcolor\": \"white\", \"linecolor\": \"white\", \"ticks\": \"\"}, \"bgcolor\": \"#E5ECF6\", \"caxis\": {\"gridcolor\": \"white\", \"linecolor\": \"white\", \"ticks\": \"\"}}, \"title\": {\"x\": 0.05}, \"xaxis\": {\"automargin\": true, \"gridcolor\": \"white\", \"linecolor\": \"white\", \"ticks\": \"\", \"title\": {\"standoff\": 15}, \"zerolinecolor\": \"white\", \"zerolinewidth\": 2}, \"yaxis\": {\"automargin\": true, \"gridcolor\": \"white\", \"linecolor\": \"white\", \"ticks\": \"\", \"title\": {\"standoff\": 15}, \"zerolinecolor\": \"white\", \"zerolinewidth\": 2}}}, \"title\": {\"text\": \"Evolutivo por delitos\"}, \"xaxis\": {\"anchor\": \"y\", \"domain\": [0.0, 1.0], \"title\": {\"text\": \"delito\"}}, \"yaxis\": {\"anchor\": \"x\", \"domain\": [0.0, 1.0], \"title\": {\"text\": \"mes_hechos\"}}},\n",
              "                        {\"responsive\": true}\n",
              "                    ).then(function(){\n",
              "                            \n",
              "var gd = document.getElementById('cbc628a6-5b15-4d0f-8426-de9dff9f7b0f');\n",
              "var x = new MutationObserver(function (mutations, observer) {{\n",
              "        var display = window.getComputedStyle(gd).display;\n",
              "        if (!display || display === 'none') {{\n",
              "            console.log([gd, 'removed!']);\n",
              "            Plotly.purge(gd);\n",
              "            observer.disconnect();\n",
              "        }}\n",
              "}});\n",
              "\n",
              "// Listen for the removal of the full notebook cells\n",
              "var notebookContainer = gd.closest('#notebook-container');\n",
              "if (notebookContainer) {{\n",
              "    x.observe(notebookContainer, {childList: true});\n",
              "}}\n",
              "\n",
              "// Listen for the clearing of the current output cell\n",
              "var outputEl = gd.closest('.output');\n",
              "if (outputEl) {{\n",
              "    x.observe(outputEl, {childList: true});\n",
              "}}\n",
              "\n",
              "                        })\n",
              "                };\n",
              "                \n",
              "            </script>\n",
              "        </div>\n",
              "</body>\n",
              "</html>"
            ]
          },
          "metadata": {}
        }
      ]
    },
    {
      "cell_type": "markdown",
      "metadata": {
        "id": "0BMlbQ2WDrEL"
      },
      "source": [
        "**2.- ¿Identifica los delitos que van a la alza y a la baja en la CDMX (ten cuidado con los delitos con pocas ocurrencias)?**"
      ]
    },
    {
      "cell_type": "markdown",
      "metadata": {
        "id": "Zlh-hFIrD7Hv"
      },
      "source": [
        "Dentro de los delitos con mayor ocurrencias los delitos y que van al alza, están la violencia familiar, amenazas. Por el lado de los delitos que van a la baja están, la mayoria en 2020 tuvieron una caida por tema pandemia como robo a negocio sin violencia, robo de objetos, denuncia de hechos, etc."
      ]
    },
    {
      "cell_type": "code",
      "metadata": {
        "colab": {
          "base_uri": "https://localhost:8080/",
          "height": 617
        },
        "id": "1Gpon0Chdvou",
        "outputId": "06652670-4f50-4e67-867a-b84ea4c91b38"
      },
      "source": [
        "# GRAFICAMOS\n",
        "\n",
        "def barplot_visualization(x):\n",
        "  fig = plt.Figure(figsize = (12, 6))\n",
        "  fig = px.bar(x = df[x].value_counts().index, y = df[x].value_counts(), color = df[x].value_counts().index, height = 600)\n",
        "  fig.show()\n",
        "\n",
        "barplot_visualization('alcaldia_hechos')"
      ],
      "execution_count": 132,
      "outputs": [
        {
          "output_type": "display_data",
          "data": {
            "text/html": [
              "<html>\n",
              "<head><meta charset=\"utf-8\" /></head>\n",
              "<body>\n",
              "    <div>\n",
              "            <script src=\"https://cdnjs.cloudflare.com/ajax/libs/mathjax/2.7.5/MathJax.js?config=TeX-AMS-MML_SVG\"></script><script type=\"text/javascript\">if (window.MathJax) {MathJax.Hub.Config({SVG: {font: \"STIX-Web\"}});}</script>\n",
              "                <script type=\"text/javascript\">window.PlotlyConfig = {MathJaxConfig: 'local'};</script>\n",
              "        <script src=\"https://cdn.plot.ly/plotly-latest.min.js\"></script>    \n",
              "            <div id=\"e2054888-0564-405d-b360-2723df9ea75b\" class=\"plotly-graph-div\" style=\"height:600px; width:100%;\"></div>\n",
              "            <script type=\"text/javascript\">\n",
              "                \n",
              "                    window.PLOTLYENV=window.PLOTLYENV || {};\n",
              "                    \n",
              "                if (document.getElementById(\"e2054888-0564-405d-b360-2723df9ea75b\")) {\n",
              "                    Plotly.newPlot(\n",
              "                        'e2054888-0564-405d-b360-2723df9ea75b',\n",
              "                        [{\"alignmentgroup\": \"True\", \"hoverlabel\": {\"namelength\": 0}, \"hovertemplate\": \"color=CUAUHTEMOC<br>x=%{x}<br>y=%{y}\", \"legendgroup\": \"color=CUAUHTEMOC\", \"marker\": {\"color\": \"#636efa\"}, \"name\": \"color=CUAUHTEMOC\", \"offsetgroup\": \"color=CUAUHTEMOC\", \"orientation\": \"v\", \"showlegend\": true, \"textposition\": \"auto\", \"type\": \"bar\", \"x\": [\"CUAUHTEMOC\"], \"xaxis\": \"x\", \"y\": [203350], \"yaxis\": \"y\"}, {\"alignmentgroup\": \"True\", \"hoverlabel\": {\"namelength\": 0}, \"hovertemplate\": \"color=IZTAPALAPA<br>x=%{x}<br>y=%{y}\", \"legendgroup\": \"color=IZTAPALAPA\", \"marker\": {\"color\": \"#EF553B\"}, \"name\": \"color=IZTAPALAPA\", \"offsetgroup\": \"color=IZTAPALAPA\", \"orientation\": \"v\", \"showlegend\": true, \"textposition\": \"auto\", \"type\": \"bar\", \"x\": [\"IZTAPALAPA\"], \"xaxis\": \"x\", \"y\": [196100], \"yaxis\": \"y\"}, {\"alignmentgroup\": \"True\", \"hoverlabel\": {\"namelength\": 0}, \"hovertemplate\": \"color=GUSTAVO A MADERO<br>x=%{x}<br>y=%{y}\", \"legendgroup\": \"color=GUSTAVO A MADERO\", \"marker\": {\"color\": \"#00cc96\"}, \"name\": \"color=GUSTAVO A MADERO\", \"offsetgroup\": \"color=GUSTAVO A MADERO\", \"orientation\": \"v\", \"showlegend\": true, \"textposition\": \"auto\", \"type\": \"bar\", \"x\": [\"GUSTAVO A MADERO\"], \"xaxis\": \"x\", \"y\": [131281], \"yaxis\": \"y\"}, {\"alignmentgroup\": \"True\", \"hoverlabel\": {\"namelength\": 0}, \"hovertemplate\": \"color=BENITO JUAREZ<br>x=%{x}<br>y=%{y}\", \"legendgroup\": \"color=BENITO JUAREZ\", \"marker\": {\"color\": \"#ab63fa\"}, \"name\": \"color=BENITO JUAREZ\", \"offsetgroup\": \"color=BENITO JUAREZ\", \"orientation\": \"v\", \"showlegend\": true, \"textposition\": \"auto\", \"type\": \"bar\", \"x\": [\"BENITO JUAREZ\"], \"xaxis\": \"x\", \"y\": [107496], \"yaxis\": \"y\"}, {\"alignmentgroup\": \"True\", \"hoverlabel\": {\"namelength\": 0}, \"hovertemplate\": \"color=ALVARO OBREGON<br>x=%{x}<br>y=%{y}\", \"legendgroup\": \"color=ALVARO OBREGON\", \"marker\": {\"color\": \"#FFA15A\"}, \"name\": \"color=ALVARO OBREGON\", \"offsetgroup\": \"color=ALVARO OBREGON\", \"orientation\": \"v\", \"showlegend\": true, \"textposition\": \"auto\", \"type\": \"bar\", \"x\": [\"ALVARO OBREGON\"], \"xaxis\": \"x\", \"y\": [88911], \"yaxis\": \"y\"}, {\"alignmentgroup\": \"True\", \"hoverlabel\": {\"namelength\": 0}, \"hovertemplate\": \"color=COYOACAN<br>x=%{x}<br>y=%{y}\", \"legendgroup\": \"color=COYOACAN\", \"marker\": {\"color\": \"#19d3f3\"}, \"name\": \"color=COYOACAN\", \"offsetgroup\": \"color=COYOACAN\", \"orientation\": \"v\", \"showlegend\": true, \"textposition\": \"auto\", \"type\": \"bar\", \"x\": [\"COYOACAN\"], \"xaxis\": \"x\", \"y\": [87361], \"yaxis\": \"y\"}, {\"alignmentgroup\": \"True\", \"hoverlabel\": {\"namelength\": 0}, \"hovertemplate\": \"color=MIGUEL HIDALGO<br>x=%{x}<br>y=%{y}\", \"legendgroup\": \"color=MIGUEL HIDALGO\", \"marker\": {\"color\": \"#FF6692\"}, \"name\": \"color=MIGUEL HIDALGO\", \"offsetgroup\": \"color=MIGUEL HIDALGO\", \"orientation\": \"v\", \"showlegend\": true, \"textposition\": \"auto\", \"type\": \"bar\", \"x\": [\"MIGUEL HIDALGO\"], \"xaxis\": \"x\", \"y\": [84588], \"yaxis\": \"y\"}, {\"alignmentgroup\": \"True\", \"hoverlabel\": {\"namelength\": 0}, \"hovertemplate\": \"color=TLALPAN<br>x=%{x}<br>y=%{y}\", \"legendgroup\": \"color=TLALPAN\", \"marker\": {\"color\": \"#B6E880\"}, \"name\": \"color=TLALPAN\", \"offsetgroup\": \"color=TLALPAN\", \"orientation\": \"v\", \"showlegend\": true, \"textposition\": \"auto\", \"type\": \"bar\", \"x\": [\"TLALPAN\"], \"xaxis\": \"x\", \"y\": [76763], \"yaxis\": \"y\"}, {\"alignmentgroup\": \"True\", \"hoverlabel\": {\"namelength\": 0}, \"hovertemplate\": \"color=VENUSTIANO CARRANZA<br>x=%{x}<br>y=%{y}\", \"legendgroup\": \"color=VENUSTIANO CARRANZA\", \"marker\": {\"color\": \"#FF97FF\"}, \"name\": \"color=VENUSTIANO CARRANZA\", \"offsetgroup\": \"color=VENUSTIANO CARRANZA\", \"orientation\": \"v\", \"showlegend\": true, \"textposition\": \"auto\", \"type\": \"bar\", \"x\": [\"VENUSTIANO CARRANZA\"], \"xaxis\": \"x\", \"y\": [75005], \"yaxis\": \"y\"}, {\"alignmentgroup\": \"True\", \"hoverlabel\": {\"namelength\": 0}, \"hovertemplate\": \"color=AZCAPOTZALCO<br>x=%{x}<br>y=%{y}\", \"legendgroup\": \"color=AZCAPOTZALCO\", \"marker\": {\"color\": \"#FECB52\"}, \"name\": \"color=AZCAPOTZALCO\", \"offsetgroup\": \"color=AZCAPOTZALCO\", \"orientation\": \"v\", \"showlegend\": true, \"textposition\": \"auto\", \"type\": \"bar\", \"x\": [\"AZCAPOTZALCO\"], \"xaxis\": \"x\", \"y\": [63559], \"yaxis\": \"y\"}, {\"alignmentgroup\": \"True\", \"hoverlabel\": {\"namelength\": 0}, \"hovertemplate\": \"color=IZTACALCO<br>x=%{x}<br>y=%{y}\", \"legendgroup\": \"color=IZTACALCO\", \"marker\": {\"color\": \"#636efa\"}, \"name\": \"color=IZTACALCO\", \"offsetgroup\": \"color=IZTACALCO\", \"orientation\": \"v\", \"showlegend\": true, \"textposition\": \"auto\", \"type\": \"bar\", \"x\": [\"IZTACALCO\"], \"xaxis\": \"x\", \"y\": [54294], \"yaxis\": \"y\"}, {\"alignmentgroup\": \"True\", \"hoverlabel\": {\"namelength\": 0}, \"hovertemplate\": \"color=XOCHIMILCO<br>x=%{x}<br>y=%{y}\", \"legendgroup\": \"color=XOCHIMILCO\", \"marker\": {\"color\": \"#EF553B\"}, \"name\": \"color=XOCHIMILCO\", \"offsetgroup\": \"color=XOCHIMILCO\", \"orientation\": \"v\", \"showlegend\": true, \"textposition\": \"auto\", \"type\": \"bar\", \"x\": [\"XOCHIMILCO\"], \"xaxis\": \"x\", \"y\": [41186], \"yaxis\": \"y\"}, {\"alignmentgroup\": \"True\", \"hoverlabel\": {\"namelength\": 0}, \"hovertemplate\": \"color=TLAHUAC<br>x=%{x}<br>y=%{y}\", \"legendgroup\": \"color=TLAHUAC\", \"marker\": {\"color\": \"#00cc96\"}, \"name\": \"color=TLAHUAC\", \"offsetgroup\": \"color=TLAHUAC\", \"orientation\": \"v\", \"showlegend\": true, \"textposition\": \"auto\", \"type\": \"bar\", \"x\": [\"TLAHUAC\"], \"xaxis\": \"x\", \"y\": [32432], \"yaxis\": \"y\"}, {\"alignmentgroup\": \"True\", \"hoverlabel\": {\"namelength\": 0}, \"hovertemplate\": \"color=LA MAGDALENA CONTRERAS<br>x=%{x}<br>y=%{y}\", \"legendgroup\": \"color=LA MAGDALENA CONTRERAS\", \"marker\": {\"color\": \"#ab63fa\"}, \"name\": \"color=LA MAGDALENA CONTRERAS\", \"offsetgroup\": \"color=LA MAGDALENA CONTRERAS\", \"orientation\": \"v\", \"showlegend\": true, \"textposition\": \"auto\", \"type\": \"bar\", \"x\": [\"LA MAGDALENA CONTRERAS\"], \"xaxis\": \"x\", \"y\": [21509], \"yaxis\": \"y\"}, {\"alignmentgroup\": \"True\", \"hoverlabel\": {\"namelength\": 0}, \"hovertemplate\": \"color=CUAJIMALPA DE MORELOS<br>x=%{x}<br>y=%{y}\", \"legendgroup\": \"color=CUAJIMALPA DE MORELOS\", \"marker\": {\"color\": \"#FFA15A\"}, \"name\": \"color=CUAJIMALPA DE MORELOS\", \"offsetgroup\": \"color=CUAJIMALPA DE MORELOS\", \"orientation\": \"v\", \"showlegend\": true, \"textposition\": \"auto\", \"type\": \"bar\", \"x\": [\"CUAJIMALPA DE MORELOS\"], \"xaxis\": \"x\", \"y\": [19521], \"yaxis\": \"y\"}, {\"alignmentgroup\": \"True\", \"hoverlabel\": {\"namelength\": 0}, \"hovertemplate\": \"color=MILPA ALTA<br>x=%{x}<br>y=%{y}\", \"legendgroup\": \"color=MILPA ALTA\", \"marker\": {\"color\": \"#19d3f3\"}, \"name\": \"color=MILPA ALTA\", \"offsetgroup\": \"color=MILPA ALTA\", \"orientation\": \"v\", \"showlegend\": true, \"textposition\": \"auto\", \"type\": \"bar\", \"x\": [\"MILPA ALTA\"], \"xaxis\": \"x\", \"y\": [9559], \"yaxis\": \"y\"}, {\"alignmentgroup\": \"True\", \"hoverlabel\": {\"namelength\": 0}, \"hovertemplate\": \"color=NEZAHUALCOYOTL<br>x=%{x}<br>y=%{y}\", \"legendgroup\": \"color=NEZAHUALCOYOTL\", \"marker\": {\"color\": \"#FF6692\"}, \"name\": \"color=NEZAHUALCOYOTL\", \"offsetgroup\": \"color=NEZAHUALCOYOTL\", \"orientation\": \"v\", \"showlegend\": true, \"textposition\": \"auto\", \"type\": \"bar\", \"x\": [\"NEZAHUALCOYOTL\"], \"xaxis\": \"x\", \"y\": [1400], \"yaxis\": \"y\"}, {\"alignmentgroup\": \"True\", \"hoverlabel\": {\"namelength\": 0}, \"hovertemplate\": \"color=TLALNEPANTLA DE BAZ<br>x=%{x}<br>y=%{y}\", \"legendgroup\": \"color=TLALNEPANTLA DE BAZ\", \"marker\": {\"color\": \"#B6E880\"}, \"name\": \"color=TLALNEPANTLA DE BAZ\", \"offsetgroup\": \"color=TLALNEPANTLA DE BAZ\", \"orientation\": \"v\", \"showlegend\": true, \"textposition\": \"auto\", \"type\": \"bar\", \"x\": [\"TLALNEPANTLA DE BAZ\"], \"xaxis\": \"x\", \"y\": [1101], \"yaxis\": \"y\"}, {\"alignmentgroup\": \"True\", \"hoverlabel\": {\"namelength\": 0}, \"hovertemplate\": \"color=ECATEPEC DE MORELOS<br>x=%{x}<br>y=%{y}\", \"legendgroup\": \"color=ECATEPEC DE MORELOS\", \"marker\": {\"color\": \"#FF97FF\"}, \"name\": \"color=ECATEPEC DE MORELOS\", \"offsetgroup\": \"color=ECATEPEC DE MORELOS\", \"orientation\": \"v\", \"showlegend\": true, \"textposition\": \"auto\", \"type\": \"bar\", \"x\": [\"ECATEPEC DE MORELOS\"], \"xaxis\": \"x\", \"y\": [1023], \"yaxis\": \"y\"}, {\"alignmentgroup\": \"True\", \"hoverlabel\": {\"namelength\": 0}, \"hovertemplate\": \"color=NAUCALPAN DE JUAREZ<br>x=%{x}<br>y=%{y}\", \"legendgroup\": \"color=NAUCALPAN DE JUAREZ\", \"marker\": {\"color\": \"#FECB52\"}, \"name\": \"color=NAUCALPAN DE JUAREZ\", \"offsetgroup\": \"color=NAUCALPAN DE JUAREZ\", \"orientation\": \"v\", \"showlegend\": true, \"textposition\": \"auto\", \"type\": \"bar\", \"x\": [\"NAUCALPAN DE JUAREZ\"], \"xaxis\": \"x\", \"y\": [786], \"yaxis\": \"y\"}, {\"alignmentgroup\": \"True\", \"hoverlabel\": {\"namelength\": 0}, \"hovertemplate\": \"color=SIN DATO<br>x=%{x}<br>y=%{y}\", \"legendgroup\": \"color=SIN DATO\", \"marker\": {\"color\": \"#636efa\"}, \"name\": \"color=SIN DATO\", \"offsetgroup\": \"color=SIN DATO\", \"orientation\": \"v\", \"showlegend\": true, \"textposition\": \"auto\", \"type\": \"bar\", \"x\": [\"SIN DATO\"], \"xaxis\": \"x\", \"y\": [359], \"yaxis\": \"y\"}, {\"alignmentgroup\": \"True\", \"hoverlabel\": {\"namelength\": 0}, \"hovertemplate\": \"color=LA PAZ<br>x=%{x}<br>y=%{y}\", \"legendgroup\": \"color=LA PAZ\", \"marker\": {\"color\": \"#EF553B\"}, \"name\": \"color=LA PAZ\", \"offsetgroup\": \"color=LA PAZ\", \"orientation\": \"v\", \"showlegend\": true, \"textposition\": \"auto\", \"type\": \"bar\", \"x\": [\"LA PAZ\"], \"xaxis\": \"x\", \"y\": [331], \"yaxis\": \"y\"}, {\"alignmentgroup\": \"True\", \"hoverlabel\": {\"namelength\": 0}, \"hovertemplate\": \"color=CHALCO<br>x=%{x}<br>y=%{y}\", \"legendgroup\": \"color=CHALCO\", \"marker\": {\"color\": \"#00cc96\"}, \"name\": \"color=CHALCO\", \"offsetgroup\": \"color=CHALCO\", \"orientation\": \"v\", \"showlegend\": true, \"textposition\": \"auto\", \"type\": \"bar\", \"x\": [\"CHALCO\"], \"xaxis\": \"x\", \"y\": [300], \"yaxis\": \"y\"}, {\"alignmentgroup\": \"True\", \"hoverlabel\": {\"namelength\": 0}, \"hovertemplate\": \"color=HUIXQUILUCAN<br>x=%{x}<br>y=%{y}\", \"legendgroup\": \"color=HUIXQUILUCAN\", \"marker\": {\"color\": \"#ab63fa\"}, \"name\": \"color=HUIXQUILUCAN\", \"offsetgroup\": \"color=HUIXQUILUCAN\", \"orientation\": \"v\", \"showlegend\": true, \"textposition\": \"auto\", \"type\": \"bar\", \"x\": [\"HUIXQUILUCAN\"], \"xaxis\": \"x\", \"y\": [293], \"yaxis\": \"y\"}, {\"alignmentgroup\": \"True\", \"hoverlabel\": {\"namelength\": 0}, \"hovertemplate\": \"color=CHIMALHUACAN<br>x=%{x}<br>y=%{y}\", \"legendgroup\": \"color=CHIMALHUACAN\", \"marker\": {\"color\": \"#FFA15A\"}, \"name\": \"color=CHIMALHUACAN\", \"offsetgroup\": \"color=CHIMALHUACAN\", \"orientation\": \"v\", \"showlegend\": true, \"textposition\": \"auto\", \"type\": \"bar\", \"x\": [\"CHIMALHUACAN\"], \"xaxis\": \"x\", \"y\": [279], \"yaxis\": \"y\"}, {\"alignmentgroup\": \"True\", \"hoverlabel\": {\"namelength\": 0}, \"hovertemplate\": \"color=TECAMAC<br>x=%{x}<br>y=%{y}\", \"legendgroup\": \"color=TECAMAC\", \"marker\": {\"color\": \"#19d3f3\"}, \"name\": \"color=TECAMAC\", \"offsetgroup\": \"color=TECAMAC\", \"orientation\": \"v\", \"showlegend\": true, \"textposition\": \"auto\", \"type\": \"bar\", \"x\": [\"TECAMAC\"], \"xaxis\": \"x\", \"y\": [181], \"yaxis\": \"y\"}, {\"alignmentgroup\": \"True\", \"hoverlabel\": {\"namelength\": 0}, \"hovertemplate\": \"color=IXTAPALUCA<br>x=%{x}<br>y=%{y}\", \"legendgroup\": \"color=IXTAPALUCA\", \"marker\": {\"color\": \"#FF6692\"}, \"name\": \"color=IXTAPALUCA\", \"offsetgroup\": \"color=IXTAPALUCA\", \"orientation\": \"v\", \"showlegend\": true, \"textposition\": \"auto\", \"type\": \"bar\", \"x\": [\"IXTAPALUCA\"], \"xaxis\": \"x\", \"y\": [176], \"yaxis\": \"y\"}, {\"alignmentgroup\": \"True\", \"hoverlabel\": {\"namelength\": 0}, \"hovertemplate\": \"color=CUAUTITLAN IZCALLI<br>x=%{x}<br>y=%{y}\", \"legendgroup\": \"color=CUAUTITLAN IZCALLI\", \"marker\": {\"color\": \"#B6E880\"}, \"name\": \"color=CUAUTITLAN IZCALLI\", \"offsetgroup\": \"color=CUAUTITLAN IZCALLI\", \"orientation\": \"v\", \"showlegend\": true, \"textposition\": \"auto\", \"type\": \"bar\", \"x\": [\"CUAUTITLAN IZCALLI\"], \"xaxis\": \"x\", \"y\": [157], \"yaxis\": \"y\"}, {\"alignmentgroup\": \"True\", \"hoverlabel\": {\"namelength\": 0}, \"hovertemplate\": \"color=ATIZAPAN DE ZARAGOZA<br>x=%{x}<br>y=%{y}\", \"legendgroup\": \"color=ATIZAPAN DE ZARAGOZA\", \"marker\": {\"color\": \"#FF97FF\"}, \"name\": \"color=ATIZAPAN DE ZARAGOZA\", \"offsetgroup\": \"color=ATIZAPAN DE ZARAGOZA\", \"orientation\": \"v\", \"showlegend\": true, \"textposition\": \"auto\", \"type\": \"bar\", \"x\": [\"ATIZAPAN DE ZARAGOZA\"], \"xaxis\": \"x\", \"y\": [137], \"yaxis\": \"y\"}, {\"alignmentgroup\": \"True\", \"hoverlabel\": {\"namelength\": 0}, \"hovertemplate\": \"color=TULTITLAN<br>x=%{x}<br>y=%{y}\", \"legendgroup\": \"color=TULTITLAN\", \"marker\": {\"color\": \"#FECB52\"}, \"name\": \"color=TULTITLAN\", \"offsetgroup\": \"color=TULTITLAN\", \"orientation\": \"v\", \"showlegend\": true, \"textposition\": \"auto\", \"type\": \"bar\", \"x\": [\"TULTITLAN\"], \"xaxis\": \"x\", \"y\": [134], \"yaxis\": \"y\"}, {\"alignmentgroup\": \"True\", \"hoverlabel\": {\"namelength\": 0}, \"hovertemplate\": \"color=VALLE DE CHALCO SOLIDARIDAD<br>x=%{x}<br>y=%{y}\", \"legendgroup\": \"color=VALLE DE CHALCO SOLIDARIDAD\", \"marker\": {\"color\": \"#636efa\"}, \"name\": \"color=VALLE DE CHALCO SOLIDARIDAD\", \"offsetgroup\": \"color=VALLE DE CHALCO SOLIDARIDAD\", \"orientation\": \"v\", \"showlegend\": true, \"textposition\": \"auto\", \"type\": \"bar\", \"x\": [\"VALLE DE CHALCO SOLIDARIDAD\"], \"xaxis\": \"x\", \"y\": [128], \"yaxis\": \"y\"}, {\"alignmentgroup\": \"True\", \"hoverlabel\": {\"namelength\": 0}, \"hovertemplate\": \"color=TOLUCA<br>x=%{x}<br>y=%{y}\", \"legendgroup\": \"color=TOLUCA\", \"marker\": {\"color\": \"#EF553B\"}, \"name\": \"color=TOLUCA\", \"offsetgroup\": \"color=TOLUCA\", \"orientation\": \"v\", \"showlegend\": true, \"textposition\": \"auto\", \"type\": \"bar\", \"x\": [\"TOLUCA\"], \"xaxis\": \"x\", \"y\": [126], \"yaxis\": \"y\"}, {\"alignmentgroup\": \"True\", \"hoverlabel\": {\"namelength\": 0}, \"hovertemplate\": \"color=CUERNAVACA<br>x=%{x}<br>y=%{y}\", \"legendgroup\": \"color=CUERNAVACA\", \"marker\": {\"color\": \"#00cc96\"}, \"name\": \"color=CUERNAVACA\", \"offsetgroup\": \"color=CUERNAVACA\", \"orientation\": \"v\", \"showlegend\": true, \"textposition\": \"auto\", \"type\": \"bar\", \"x\": [\"CUERNAVACA\"], \"xaxis\": \"x\", \"y\": [112], \"yaxis\": \"y\"}, {\"alignmentgroup\": \"True\", \"hoverlabel\": {\"namelength\": 0}, \"hovertemplate\": \"color=QUERETARO<br>x=%{x}<br>y=%{y}\", \"legendgroup\": \"color=QUERETARO\", \"marker\": {\"color\": \"#ab63fa\"}, \"name\": \"color=QUERETARO\", \"offsetgroup\": \"color=QUERETARO\", \"orientation\": \"v\", \"showlegend\": true, \"textposition\": \"auto\", \"type\": \"bar\", \"x\": [\"QUERETARO\"], \"xaxis\": \"x\", \"y\": [106], \"yaxis\": \"y\"}, {\"alignmentgroup\": \"True\", \"hoverlabel\": {\"namelength\": 0}, \"hovertemplate\": \"color=PUEBLA<br>x=%{x}<br>y=%{y}\", \"legendgroup\": \"color=PUEBLA\", \"marker\": {\"color\": \"#FFA15A\"}, \"name\": \"color=PUEBLA\", \"offsetgroup\": \"color=PUEBLA\", \"orientation\": \"v\", \"showlegend\": true, \"textposition\": \"auto\", \"type\": \"bar\", \"x\": [\"PUEBLA\"], \"xaxis\": \"x\", \"y\": [88], \"yaxis\": \"y\"}, {\"alignmentgroup\": \"True\", \"hoverlabel\": {\"namelength\": 0}, \"hovertemplate\": \"color=TEXCOCO<br>x=%{x}<br>y=%{y}\", \"legendgroup\": \"color=TEXCOCO\", \"marker\": {\"color\": \"#19d3f3\"}, \"name\": \"color=TEXCOCO\", \"offsetgroup\": \"color=TEXCOCO\", \"orientation\": \"v\", \"showlegend\": true, \"textposition\": \"auto\", \"type\": \"bar\", \"x\": [\"TEXCOCO\"], \"xaxis\": \"x\", \"y\": [82], \"yaxis\": \"y\"}, {\"alignmentgroup\": \"True\", \"hoverlabel\": {\"namelength\": 0}, \"hovertemplate\": \"color=COACALCO DE BERRIOZABAL<br>x=%{x}<br>y=%{y}\", \"legendgroup\": \"color=COACALCO DE BERRIOZABAL\", \"marker\": {\"color\": \"#FF6692\"}, \"name\": \"color=COACALCO DE BERRIOZABAL\", \"offsetgroup\": \"color=COACALCO DE BERRIOZABAL\", \"orientation\": \"v\", \"showlegend\": true, \"textposition\": \"auto\", \"type\": \"bar\", \"x\": [\"COACALCO DE BERRIOZABAL\"], \"xaxis\": \"x\", \"y\": [79], \"yaxis\": \"y\"}, {\"alignmentgroup\": \"True\", \"hoverlabel\": {\"namelength\": 0}, \"hovertemplate\": \"color=GUANAJUATO<br>x=%{x}<br>y=%{y}\", \"legendgroup\": \"color=GUANAJUATO\", \"marker\": {\"color\": \"#B6E880\"}, \"name\": \"color=GUANAJUATO\", \"offsetgroup\": \"color=GUANAJUATO\", \"orientation\": \"v\", \"showlegend\": true, \"textposition\": \"auto\", \"type\": \"bar\", \"x\": [\"GUANAJUATO\"], \"xaxis\": \"x\", \"y\": [71], \"yaxis\": \"y\"}, {\"alignmentgroup\": \"True\", \"hoverlabel\": {\"namelength\": 0}, \"hovertemplate\": \"color=ACAPULCO DE JUAREZ<br>x=%{x}<br>y=%{y}\", \"legendgroup\": \"color=ACAPULCO DE JUAREZ\", \"marker\": {\"color\": \"#FF97FF\"}, \"name\": \"color=ACAPULCO DE JUAREZ\", \"offsetgroup\": \"color=ACAPULCO DE JUAREZ\", \"orientation\": \"v\", \"showlegend\": true, \"textposition\": \"auto\", \"type\": \"bar\", \"x\": [\"ACAPULCO DE JUAREZ\"], \"xaxis\": \"x\", \"y\": [70], \"yaxis\": \"y\"}, {\"alignmentgroup\": \"True\", \"hoverlabel\": {\"namelength\": 0}, \"hovertemplate\": \"color=CHICOLOAPAN<br>x=%{x}<br>y=%{y}\", \"legendgroup\": \"color=CHICOLOAPAN\", \"marker\": {\"color\": \"#FECB52\"}, \"name\": \"color=CHICOLOAPAN\", \"offsetgroup\": \"color=CHICOLOAPAN\", \"orientation\": \"v\", \"showlegend\": true, \"textposition\": \"auto\", \"type\": \"bar\", \"x\": [\"CHICOLOAPAN\"], \"xaxis\": \"x\", \"y\": [68], \"yaxis\": \"y\"}, {\"alignmentgroup\": \"True\", \"hoverlabel\": {\"namelength\": 0}, \"hovertemplate\": \"color=HUITZILAC<br>x=%{x}<br>y=%{y}\", \"legendgroup\": \"color=HUITZILAC\", \"marker\": {\"color\": \"#636efa\"}, \"name\": \"color=HUITZILAC\", \"offsetgroup\": \"color=HUITZILAC\", \"orientation\": \"v\", \"showlegend\": true, \"textposition\": \"auto\", \"type\": \"bar\", \"x\": [\"HUITZILAC\"], \"xaxis\": \"x\", \"y\": [63], \"yaxis\": \"y\"}, {\"alignmentgroup\": \"True\", \"hoverlabel\": {\"namelength\": 0}, \"hovertemplate\": \"color=NICOLAS ROMERO<br>x=%{x}<br>y=%{y}\", \"legendgroup\": \"color=NICOLAS ROMERO\", \"marker\": {\"color\": \"#EF553B\"}, \"name\": \"color=NICOLAS ROMERO\", \"offsetgroup\": \"color=NICOLAS ROMERO\", \"orientation\": \"v\", \"showlegend\": true, \"textposition\": \"auto\", \"type\": \"bar\", \"x\": [\"NICOLAS ROMERO\"], \"xaxis\": \"x\", \"y\": [61], \"yaxis\": \"y\"}, {\"alignmentgroup\": \"True\", \"hoverlabel\": {\"namelength\": 0}, \"hovertemplate\": \"color=OCOYOACAC<br>x=%{x}<br>y=%{y}\", \"legendgroup\": \"color=OCOYOACAC\", \"marker\": {\"color\": \"#00cc96\"}, \"name\": \"color=OCOYOACAC\", \"offsetgroup\": \"color=OCOYOACAC\", \"orientation\": \"v\", \"showlegend\": true, \"textposition\": \"auto\", \"type\": \"bar\", \"x\": [\"OCOYOACAC\"], \"xaxis\": \"x\", \"y\": [59], \"yaxis\": \"y\"}, {\"alignmentgroup\": \"True\", \"hoverlabel\": {\"namelength\": 0}, \"hovertemplate\": \"color=ZUMPANGO<br>x=%{x}<br>y=%{y}\", \"legendgroup\": \"color=ZUMPANGO\", \"marker\": {\"color\": \"#ab63fa\"}, \"name\": \"color=ZUMPANGO\", \"offsetgroup\": \"color=ZUMPANGO\", \"orientation\": \"v\", \"showlegend\": true, \"textposition\": \"auto\", \"type\": \"bar\", \"x\": [\"ZUMPANGO\"], \"xaxis\": \"x\", \"y\": [55], \"yaxis\": \"y\"}, {\"alignmentgroup\": \"True\", \"hoverlabel\": {\"namelength\": 0}, \"hovertemplate\": \"color=PACHUCA DE SOTO<br>x=%{x}<br>y=%{y}\", \"legendgroup\": \"color=PACHUCA DE SOTO\", \"marker\": {\"color\": \"#FFA15A\"}, \"name\": \"color=PACHUCA DE SOTO\", \"offsetgroup\": \"color=PACHUCA DE SOTO\", \"orientation\": \"v\", \"showlegend\": true, \"textposition\": \"auto\", \"type\": \"bar\", \"x\": [\"PACHUCA DE SOTO\"], \"xaxis\": \"x\", \"y\": [55], \"yaxis\": \"y\"}, {\"alignmentgroup\": \"True\", \"hoverlabel\": {\"namelength\": 0}, \"hovertemplate\": \"color=VERACRUZ<br>x=%{x}<br>y=%{y}\", \"legendgroup\": \"color=VERACRUZ\", \"marker\": {\"color\": \"#19d3f3\"}, \"name\": \"color=VERACRUZ\", \"offsetgroup\": \"color=VERACRUZ\", \"orientation\": \"v\", \"showlegend\": true, \"textposition\": \"auto\", \"type\": \"bar\", \"x\": [\"VERACRUZ\"], \"xaxis\": \"x\", \"y\": [48], \"yaxis\": \"y\"}, {\"alignmentgroup\": \"True\", \"hoverlabel\": {\"namelength\": 0}, \"hovertemplate\": \"color=MONTERREY<br>x=%{x}<br>y=%{y}\", \"legendgroup\": \"color=MONTERREY\", \"marker\": {\"color\": \"#FF6692\"}, \"name\": \"color=MONTERREY\", \"offsetgroup\": \"color=MONTERREY\", \"orientation\": \"v\", \"showlegend\": true, \"textposition\": \"auto\", \"type\": \"bar\", \"x\": [\"MONTERREY\"], \"xaxis\": \"x\", \"y\": [42], \"yaxis\": \"y\"}, {\"alignmentgroup\": \"True\", \"hoverlabel\": {\"namelength\": 0}, \"hovertemplate\": \"color=GUADALAJARA<br>x=%{x}<br>y=%{y}\", \"legendgroup\": \"color=GUADALAJARA\", \"marker\": {\"color\": \"#B6E880\"}, \"name\": \"color=GUADALAJARA\", \"offsetgroup\": \"color=GUADALAJARA\", \"orientation\": \"v\", \"showlegend\": true, \"textposition\": \"auto\", \"type\": \"bar\", \"x\": [\"GUADALAJARA\"], \"xaxis\": \"x\", \"y\": [41], \"yaxis\": \"y\"}, {\"alignmentgroup\": \"True\", \"hoverlabel\": {\"namelength\": 0}, \"hovertemplate\": \"color=CUAUTITLAN<br>x=%{x}<br>y=%{y}\", \"legendgroup\": \"color=CUAUTITLAN\", \"marker\": {\"color\": \"#FF97FF\"}, \"name\": \"color=CUAUTITLAN\", \"offsetgroup\": \"color=CUAUTITLAN\", \"orientation\": \"v\", \"showlegend\": true, \"textposition\": \"auto\", \"type\": \"bar\", \"x\": [\"CUAUTITLAN\"], \"xaxis\": \"x\", \"y\": [40], \"yaxis\": \"y\"}, {\"alignmentgroup\": \"True\", \"hoverlabel\": {\"namelength\": 0}, \"hovertemplate\": \"color=HUEHUETOCA<br>x=%{x}<br>y=%{y}\", \"legendgroup\": \"color=HUEHUETOCA\", \"marker\": {\"color\": \"#FECB52\"}, \"name\": \"color=HUEHUETOCA\", \"offsetgroup\": \"color=HUEHUETOCA\", \"orientation\": \"v\", \"showlegend\": true, \"textposition\": \"auto\", \"type\": \"bar\", \"x\": [\"HUEHUETOCA\"], \"xaxis\": \"x\", \"y\": [37], \"yaxis\": \"y\"}, {\"alignmentgroup\": \"True\", \"hoverlabel\": {\"namelength\": 0}, \"hovertemplate\": \"color=CELAYA<br>x=%{x}<br>y=%{y}\", \"legendgroup\": \"color=CELAYA\", \"marker\": {\"color\": \"#636efa\"}, \"name\": \"color=CELAYA\", \"offsetgroup\": \"color=CELAYA\", \"orientation\": \"v\", \"showlegend\": true, \"textposition\": \"auto\", \"type\": \"bar\", \"x\": [\"CELAYA\"], \"xaxis\": \"x\", \"y\": [33], \"yaxis\": \"y\"}, {\"alignmentgroup\": \"True\", \"hoverlabel\": {\"namelength\": 0}, \"hovertemplate\": \"color=METEPEC<br>x=%{x}<br>y=%{y}\", \"legendgroup\": \"color=METEPEC\", \"marker\": {\"color\": \"#EF553B\"}, \"name\": \"color=METEPEC\", \"offsetgroup\": \"color=METEPEC\", \"orientation\": \"v\", \"showlegend\": true, \"textposition\": \"auto\", \"type\": \"bar\", \"x\": [\"METEPEC\"], \"xaxis\": \"x\", \"y\": [33], \"yaxis\": \"y\"}, {\"alignmentgroup\": \"True\", \"hoverlabel\": {\"namelength\": 0}, \"hovertemplate\": \"color=COLON<br>x=%{x}<br>y=%{y}\", \"legendgroup\": \"color=COLON\", \"marker\": {\"color\": \"#00cc96\"}, \"name\": \"color=COLON\", \"offsetgroup\": \"color=COLON\", \"orientation\": \"v\", \"showlegend\": true, \"textposition\": \"auto\", \"type\": \"bar\", \"x\": [\"COLON\"], \"xaxis\": \"x\", \"y\": [31], \"yaxis\": \"y\"}, {\"alignmentgroup\": \"True\", \"hoverlabel\": {\"namelength\": 0}, \"hovertemplate\": \"color=TULTEPEC<br>x=%{x}<br>y=%{y}\", \"legendgroup\": \"color=TULTEPEC\", \"marker\": {\"color\": \"#ab63fa\"}, \"name\": \"color=TULTEPEC\", \"offsetgroup\": \"color=TULTEPEC\", \"orientation\": \"v\", \"showlegend\": true, \"textposition\": \"auto\", \"type\": \"bar\", \"x\": [\"TULTEPEC\"], \"xaxis\": \"x\", \"y\": [31], \"yaxis\": \"y\"}, {\"alignmentgroup\": \"True\", \"hoverlabel\": {\"namelength\": 0}, \"hovertemplate\": \"color=OAXACA DE JUAREZ<br>x=%{x}<br>y=%{y}\", \"legendgroup\": \"color=OAXACA DE JUAREZ\", \"marker\": {\"color\": \"#FFA15A\"}, \"name\": \"color=OAXACA DE JUAREZ\", \"offsetgroup\": \"color=OAXACA DE JUAREZ\", \"orientation\": \"v\", \"showlegend\": true, \"textposition\": \"auto\", \"type\": \"bar\", \"x\": [\"OAXACA DE JUAREZ\"], \"xaxis\": \"x\", \"y\": [31], \"yaxis\": \"y\"}, {\"alignmentgroup\": \"True\", \"hoverlabel\": {\"namelength\": 0}, \"hovertemplate\": \"color=TIJUANA<br>x=%{x}<br>y=%{y}\", \"legendgroup\": \"color=TIJUANA\", \"marker\": {\"color\": \"#19d3f3\"}, \"name\": \"color=TIJUANA\", \"offsetgroup\": \"color=TIJUANA\", \"orientation\": \"v\", \"showlegend\": true, \"textposition\": \"auto\", \"type\": \"bar\", \"x\": [\"TIJUANA\"], \"xaxis\": \"x\", \"y\": [30], \"yaxis\": \"y\"}, {\"alignmentgroup\": \"True\", \"hoverlabel\": {\"namelength\": 0}, \"hovertemplate\": \"color=LEON<br>x=%{x}<br>y=%{y}\", \"legendgroup\": \"color=LEON\", \"marker\": {\"color\": \"#FF6692\"}, \"name\": \"color=LEON\", \"offsetgroup\": \"color=LEON\", \"orientation\": \"v\", \"showlegend\": true, \"textposition\": \"auto\", \"type\": \"bar\", \"x\": [\"LEON\"], \"xaxis\": \"x\", \"y\": [29], \"yaxis\": \"y\"}, {\"alignmentgroup\": \"True\", \"hoverlabel\": {\"namelength\": 0}, \"hovertemplate\": \"color=ZAPOPAN<br>x=%{x}<br>y=%{y}\", \"legendgroup\": \"color=ZAPOPAN\", \"marker\": {\"color\": \"#B6E880\"}, \"name\": \"color=ZAPOPAN\", \"offsetgroup\": \"color=ZAPOPAN\", \"orientation\": \"v\", \"showlegend\": true, \"textposition\": \"auto\", \"type\": \"bar\", \"x\": [\"ZAPOPAN\"], \"xaxis\": \"x\", \"y\": [28], \"yaxis\": \"y\"}, {\"alignmentgroup\": \"True\", \"hoverlabel\": {\"namelength\": 0}, \"hovertemplate\": \"color=MORELIA<br>x=%{x}<br>y=%{y}\", \"legendgroup\": \"color=MORELIA\", \"marker\": {\"color\": \"#FF97FF\"}, \"name\": \"color=MORELIA\", \"offsetgroup\": \"color=MORELIA\", \"orientation\": \"v\", \"showlegend\": true, \"textposition\": \"auto\", \"type\": \"bar\", \"x\": [\"MORELIA\"], \"xaxis\": \"x\", \"y\": [28], \"yaxis\": \"y\"}, {\"alignmentgroup\": \"True\", \"hoverlabel\": {\"namelength\": 0}, \"hovertemplate\": \"color=ACOLMAN<br>x=%{x}<br>y=%{y}\", \"legendgroup\": \"color=ACOLMAN\", \"marker\": {\"color\": \"#FECB52\"}, \"name\": \"color=ACOLMAN\", \"offsetgroup\": \"color=ACOLMAN\", \"orientation\": \"v\", \"showlegend\": true, \"textposition\": \"auto\", \"type\": \"bar\", \"x\": [\"ACOLMAN\"], \"xaxis\": \"x\", \"y\": [27], \"yaxis\": \"y\"}, {\"alignmentgroup\": \"True\", \"hoverlabel\": {\"namelength\": 0}, \"hovertemplate\": \"color=TIZAYUCA<br>x=%{x}<br>y=%{y}\", \"legendgroup\": \"color=TIZAYUCA\", \"marker\": {\"color\": \"#636efa\"}, \"name\": \"color=TIZAYUCA\", \"offsetgroup\": \"color=TIZAYUCA\", \"orientation\": \"v\", \"showlegend\": true, \"textposition\": \"auto\", \"type\": \"bar\", \"x\": [\"TIZAYUCA\"], \"xaxis\": \"x\", \"y\": [26], \"yaxis\": \"y\"}, {\"alignmentgroup\": \"True\", \"hoverlabel\": {\"namelength\": 0}, \"hovertemplate\": \"color=MERIDA<br>x=%{x}<br>y=%{y}\", \"legendgroup\": \"color=MERIDA\", \"marker\": {\"color\": \"#EF553B\"}, \"name\": \"color=MERIDA\", \"offsetgroup\": \"color=MERIDA\", \"orientation\": \"v\", \"showlegend\": true, \"textposition\": \"auto\", \"type\": \"bar\", \"x\": [\"MERIDA\"], \"xaxis\": \"x\", \"y\": [26], \"yaxis\": \"y\"}, {\"alignmentgroup\": \"True\", \"hoverlabel\": {\"namelength\": 0}, \"hovertemplate\": \"color=CUAUTLA<br>x=%{x}<br>y=%{y}\", \"legendgroup\": \"color=CUAUTLA\", \"marker\": {\"color\": \"#00cc96\"}, \"name\": \"color=CUAUTLA\", \"offsetgroup\": \"color=CUAUTLA\", \"orientation\": \"v\", \"showlegend\": true, \"textposition\": \"auto\", \"type\": \"bar\", \"x\": [\"CUAUTLA\"], \"xaxis\": \"x\", \"y\": [26], \"yaxis\": \"y\"}, {\"alignmentgroup\": \"True\", \"hoverlabel\": {\"namelength\": 0}, \"hovertemplate\": \"color=LERMA<br>x=%{x}<br>y=%{y}\", \"legendgroup\": \"color=LERMA\", \"marker\": {\"color\": \"#ab63fa\"}, \"name\": \"color=LERMA\", \"offsetgroup\": \"color=LERMA\", \"orientation\": \"v\", \"showlegend\": true, \"textposition\": \"auto\", \"type\": \"bar\", \"x\": [\"LERMA\"], \"xaxis\": \"x\", \"y\": [25], \"yaxis\": \"y\"}, {\"alignmentgroup\": \"True\", \"hoverlabel\": {\"namelength\": 0}, \"hovertemplate\": \"color=TEPOTZOTLAN<br>x=%{x}<br>y=%{y}\", \"legendgroup\": \"color=TEPOTZOTLAN\", \"marker\": {\"color\": \"#FFA15A\"}, \"name\": \"color=TEPOTZOTLAN\", \"offsetgroup\": \"color=TEPOTZOTLAN\", \"orientation\": \"v\", \"showlegend\": true, \"textposition\": \"auto\", \"type\": \"bar\", \"x\": [\"TEPOTZOTLAN\"], \"xaxis\": \"x\", \"y\": [23], \"yaxis\": \"y\"}, {\"alignmentgroup\": \"True\", \"hoverlabel\": {\"namelength\": 0}, \"hovertemplate\": \"color=TLAXCALA<br>x=%{x}<br>y=%{y}\", \"legendgroup\": \"color=TLAXCALA\", \"marker\": {\"color\": \"#19d3f3\"}, \"name\": \"color=TLAXCALA\", \"offsetgroup\": \"color=TLAXCALA\", \"orientation\": \"v\", \"showlegend\": true, \"textposition\": \"auto\", \"type\": \"bar\", \"x\": [\"TLAXCALA\"], \"xaxis\": \"x\", \"y\": [20], \"yaxis\": \"y\"}, {\"alignmentgroup\": \"True\", \"hoverlabel\": {\"namelength\": 0}, \"hovertemplate\": \"color=TEOTIHUACAN<br>x=%{x}<br>y=%{y}\", \"legendgroup\": \"color=TEOTIHUACAN\", \"marker\": {\"color\": \"#FF6692\"}, \"name\": \"color=TEOTIHUACAN\", \"offsetgroup\": \"color=TEOTIHUACAN\", \"orientation\": \"v\", \"showlegend\": true, \"textposition\": \"auto\", \"type\": \"bar\", \"x\": [\"TEOTIHUACAN\"], \"xaxis\": \"x\", \"y\": [20], \"yaxis\": \"y\"}, {\"alignmentgroup\": \"True\", \"hoverlabel\": {\"namelength\": 0}, \"hovertemplate\": \"color=AGUASCALIENTES<br>x=%{x}<br>y=%{y}\", \"legendgroup\": \"color=AGUASCALIENTES\", \"marker\": {\"color\": \"#B6E880\"}, \"name\": \"color=AGUASCALIENTES\", \"offsetgroup\": \"color=AGUASCALIENTES\", \"orientation\": \"v\", \"showlegend\": true, \"textposition\": \"auto\", \"type\": \"bar\", \"x\": [\"AGUASCALIENTES\"], \"xaxis\": \"x\", \"y\": [20], \"yaxis\": \"y\"}, {\"alignmentgroup\": \"True\", \"hoverlabel\": {\"namelength\": 0}, \"hovertemplate\": \"color=CHILPANCINGO DE LOS BRAVO<br>x=%{x}<br>y=%{y}\", \"legendgroup\": \"color=CHILPANCINGO DE LOS BRAVO\", \"marker\": {\"color\": \"#FF97FF\"}, \"name\": \"color=CHILPANCINGO DE LOS BRAVO\", \"offsetgroup\": \"color=CHILPANCINGO DE LOS BRAVO\", \"orientation\": \"v\", \"showlegend\": true, \"textposition\": \"auto\", \"type\": \"bar\", \"x\": [\"CHILPANCINGO DE LOS BRAVO\"], \"xaxis\": \"x\", \"y\": [20], \"yaxis\": \"y\"}, {\"alignmentgroup\": \"True\", \"hoverlabel\": {\"namelength\": 0}, \"hovertemplate\": \"color=IRAPUATO<br>x=%{x}<br>y=%{y}\", \"legendgroup\": \"color=IRAPUATO\", \"marker\": {\"color\": \"#FECB52\"}, \"name\": \"color=IRAPUATO\", \"offsetgroup\": \"color=IRAPUATO\", \"orientation\": \"v\", \"showlegend\": true, \"textposition\": \"auto\", \"type\": \"bar\", \"x\": [\"IRAPUATO\"], \"xaxis\": \"x\", \"y\": [19], \"yaxis\": \"y\"}, {\"alignmentgroup\": \"True\", \"hoverlabel\": {\"namelength\": 0}, \"hovertemplate\": \"color=VILLAHERMOSA O CENTRO<br>x=%{x}<br>y=%{y}\", \"legendgroup\": \"color=VILLAHERMOSA O CENTRO\", \"marker\": {\"color\": \"#636efa\"}, \"name\": \"color=VILLAHERMOSA O CENTRO\", \"offsetgroup\": \"color=VILLAHERMOSA O CENTRO\", \"orientation\": \"v\", \"showlegend\": true, \"textposition\": \"auto\", \"type\": \"bar\", \"x\": [\"VILLAHERMOSA O CENTRO\"], \"xaxis\": \"x\", \"y\": [17], \"yaxis\": \"y\"}, {\"alignmentgroup\": \"True\", \"hoverlabel\": {\"namelength\": 0}, \"hovertemplate\": \"color=TEZOYUCA<br>x=%{x}<br>y=%{y}\", \"legendgroup\": \"color=TEZOYUCA\", \"marker\": {\"color\": \"#EF553B\"}, \"name\": \"color=TEZOYUCA\", \"offsetgroup\": \"color=TEZOYUCA\", \"orientation\": \"v\", \"showlegend\": true, \"textposition\": \"auto\", \"type\": \"bar\", \"x\": [\"TEZOYUCA\"], \"xaxis\": \"x\", \"y\": [17], \"yaxis\": \"y\"}, {\"alignmentgroup\": \"True\", \"hoverlabel\": {\"namelength\": 0}, \"hovertemplate\": \"color=XALAPA<br>x=%{x}<br>y=%{y}\", \"legendgroup\": \"color=XALAPA\", \"marker\": {\"color\": \"#00cc96\"}, \"name\": \"color=XALAPA\", \"offsetgroup\": \"color=XALAPA\", \"orientation\": \"v\", \"showlegend\": true, \"textposition\": \"auto\", \"type\": \"bar\", \"x\": [\"XALAPA\"], \"xaxis\": \"x\", \"y\": [17], \"yaxis\": \"y\"}, {\"alignmentgroup\": \"True\", \"hoverlabel\": {\"namelength\": 0}, \"hovertemplate\": \"color=XALATLACO<br>x=%{x}<br>y=%{y}\", \"legendgroup\": \"color=XALATLACO\", \"marker\": {\"color\": \"#ab63fa\"}, \"name\": \"color=XALATLACO\", \"offsetgroup\": \"color=XALATLACO\", \"orientation\": \"v\", \"showlegend\": true, \"textposition\": \"auto\", \"type\": \"bar\", \"x\": [\"XALATLACO\"], \"xaxis\": \"x\", \"y\": [16], \"yaxis\": \"y\"}, {\"alignmentgroup\": \"True\", \"hoverlabel\": {\"namelength\": 0}, \"hovertemplate\": \"color=TULANCINGO DE BRAVO<br>x=%{x}<br>y=%{y}\", \"legendgroup\": \"color=TULANCINGO DE BRAVO\", \"marker\": {\"color\": \"#FFA15A\"}, \"name\": \"color=TULANCINGO DE BRAVO\", \"offsetgroup\": \"color=TULANCINGO DE BRAVO\", \"orientation\": \"v\", \"showlegend\": true, \"textposition\": \"auto\", \"type\": \"bar\", \"x\": [\"TULANCINGO DE BRAVO\"], \"xaxis\": \"x\", \"y\": [16], \"yaxis\": \"y\"}, {\"alignmentgroup\": \"True\", \"hoverlabel\": {\"namelength\": 0}, \"hovertemplate\": \"color=ZACATECAS<br>x=%{x}<br>y=%{y}\", \"legendgroup\": \"color=ZACATECAS\", \"marker\": {\"color\": \"#19d3f3\"}, \"name\": \"color=ZACATECAS\", \"offsetgroup\": \"color=ZACATECAS\", \"orientation\": \"v\", \"showlegend\": true, \"textposition\": \"auto\", \"type\": \"bar\", \"x\": [\"ZACATECAS\"], \"xaxis\": \"x\", \"y\": [15], \"yaxis\": \"y\"}, {\"alignmentgroup\": \"True\", \"hoverlabel\": {\"namelength\": 0}, \"hovertemplate\": \"color=PUERTO VALLARTA<br>x=%{x}<br>y=%{y}\", \"legendgroup\": \"color=PUERTO VALLARTA\", \"marker\": {\"color\": \"#FF6692\"}, \"name\": \"color=PUERTO VALLARTA\", \"offsetgroup\": \"color=PUERTO VALLARTA\", \"orientation\": \"v\", \"showlegend\": true, \"textposition\": \"auto\", \"type\": \"bar\", \"x\": [\"PUERTO VALLARTA\"], \"xaxis\": \"x\", \"y\": [15], \"yaxis\": \"y\"}, {\"alignmentgroup\": \"True\", \"hoverlabel\": {\"namelength\": 0}, \"hovertemplate\": \"color=AMECAMECA<br>x=%{x}<br>y=%{y}\", \"legendgroup\": \"color=AMECAMECA\", \"marker\": {\"color\": \"#B6E880\"}, \"name\": \"color=AMECAMECA\", \"offsetgroup\": \"color=AMECAMECA\", \"orientation\": \"v\", \"showlegend\": true, \"textposition\": \"auto\", \"type\": \"bar\", \"x\": [\"AMECAMECA\"], \"xaxis\": \"x\", \"y\": [15], \"yaxis\": \"y\"}, {\"alignmentgroup\": \"True\", \"hoverlabel\": {\"namelength\": 0}, \"hovertemplate\": \"color=VICTORIA<br>x=%{x}<br>y=%{y}\", \"legendgroup\": \"color=VICTORIA\", \"marker\": {\"color\": \"#FF97FF\"}, \"name\": \"color=VICTORIA\", \"offsetgroup\": \"color=VICTORIA\", \"orientation\": \"v\", \"showlegend\": true, \"textposition\": \"auto\", \"type\": \"bar\", \"x\": [\"VICTORIA\"], \"xaxis\": \"x\", \"y\": [14], \"yaxis\": \"y\"}, {\"alignmentgroup\": \"True\", \"hoverlabel\": {\"namelength\": 0}, \"hovertemplate\": \"color=SOLIDARIDAD<br>x=%{x}<br>y=%{y}\", \"legendgroup\": \"color=SOLIDARIDAD\", \"marker\": {\"color\": \"#FECB52\"}, \"name\": \"color=SOLIDARIDAD\", \"offsetgroup\": \"color=SOLIDARIDAD\", \"orientation\": \"v\", \"showlegend\": true, \"textposition\": \"auto\", \"type\": \"bar\", \"x\": [\"SOLIDARIDAD\"], \"xaxis\": \"x\", \"y\": [14], \"yaxis\": \"y\"}, {\"alignmentgroup\": \"True\", \"hoverlabel\": {\"namelength\": 0}, \"hovertemplate\": \"color=JILOTEPEC<br>x=%{x}<br>y=%{y}\", \"legendgroup\": \"color=JILOTEPEC\", \"marker\": {\"color\": \"#636efa\"}, \"name\": \"color=JILOTEPEC\", \"offsetgroup\": \"color=JILOTEPEC\", \"orientation\": \"v\", \"showlegend\": true, \"textposition\": \"auto\", \"type\": \"bar\", \"x\": [\"JILOTEPEC\"], \"xaxis\": \"x\", \"y\": [13], \"yaxis\": \"y\"}, {\"alignmentgroup\": \"True\", \"hoverlabel\": {\"namelength\": 0}, \"hovertemplate\": \"color=SALTILLO<br>x=%{x}<br>y=%{y}\", \"legendgroup\": \"color=SALTILLO\", \"marker\": {\"color\": \"#EF553B\"}, \"name\": \"color=SALTILLO\", \"offsetgroup\": \"color=SALTILLO\", \"orientation\": \"v\", \"showlegend\": true, \"textposition\": \"auto\", \"type\": \"bar\", \"x\": [\"SALTILLO\"], \"xaxis\": \"x\", \"y\": [13], \"yaxis\": \"y\"}, {\"alignmentgroup\": \"True\", \"hoverlabel\": {\"namelength\": 0}, \"hovertemplate\": \"color=TAMPICO<br>x=%{x}<br>y=%{y}\", \"legendgroup\": \"color=TAMPICO\", \"marker\": {\"color\": \"#00cc96\"}, \"name\": \"color=TAMPICO\", \"offsetgroup\": \"color=TAMPICO\", \"orientation\": \"v\", \"showlegend\": true, \"textposition\": \"auto\", \"type\": \"bar\", \"x\": [\"TAMPICO\"], \"xaxis\": \"x\", \"y\": [13], \"yaxis\": \"y\"}, {\"alignmentgroup\": \"True\", \"hoverlabel\": {\"namelength\": 0}, \"hovertemplate\": \"color=AMEALCO DE BONFIL<br>x=%{x}<br>y=%{y}\", \"legendgroup\": \"color=AMEALCO DE BONFIL\", \"marker\": {\"color\": \"#ab63fa\"}, \"name\": \"color=AMEALCO DE BONFIL\", \"offsetgroup\": \"color=AMEALCO DE BONFIL\", \"orientation\": \"v\", \"showlegend\": true, \"textposition\": \"auto\", \"type\": \"bar\", \"x\": [\"AMEALCO DE BONFIL\"], \"xaxis\": \"x\", \"y\": [12], \"yaxis\": \"y\"}, {\"alignmentgroup\": \"True\", \"hoverlabel\": {\"namelength\": 0}, \"hovertemplate\": \"color=TULA DE ALLENDE<br>x=%{x}<br>y=%{y}\", \"legendgroup\": \"color=TULA DE ALLENDE\", \"marker\": {\"color\": \"#FFA15A\"}, \"name\": \"color=TULA DE ALLENDE\", \"offsetgroup\": \"color=TULA DE ALLENDE\", \"orientation\": \"v\", \"showlegend\": true, \"textposition\": \"auto\", \"type\": \"bar\", \"x\": [\"TULA DE ALLENDE\"], \"xaxis\": \"x\", \"y\": [12], \"yaxis\": \"y\"}, {\"alignmentgroup\": \"True\", \"hoverlabel\": {\"namelength\": 0}, \"hovertemplate\": \"color=CULIACAN<br>x=%{x}<br>y=%{y}\", \"legendgroup\": \"color=CULIACAN\", \"marker\": {\"color\": \"#19d3f3\"}, \"name\": \"color=CULIACAN\", \"offsetgroup\": \"color=CULIACAN\", \"orientation\": \"v\", \"showlegend\": true, \"textposition\": \"auto\", \"type\": \"bar\", \"x\": [\"CULIACAN\"], \"xaxis\": \"x\", \"y\": [12], \"yaxis\": \"y\"}, {\"alignmentgroup\": \"True\", \"hoverlabel\": {\"namelength\": 0}, \"hovertemplate\": \"color=COLIMA<br>x=%{x}<br>y=%{y}\", \"legendgroup\": \"color=COLIMA\", \"marker\": {\"color\": \"#FF6692\"}, \"name\": \"color=COLIMA\", \"offsetgroup\": \"color=COLIMA\", \"orientation\": \"v\", \"showlegend\": true, \"textposition\": \"auto\", \"type\": \"bar\", \"x\": [\"COLIMA\"], \"xaxis\": \"x\", \"y\": [12], \"yaxis\": \"y\"}, {\"alignmentgroup\": \"True\", \"hoverlabel\": {\"namelength\": 0}, \"hovertemplate\": \"color=HERMOSILLO<br>x=%{x}<br>y=%{y}\", \"legendgroup\": \"color=HERMOSILLO\", \"marker\": {\"color\": \"#B6E880\"}, \"name\": \"color=HERMOSILLO\", \"offsetgroup\": \"color=HERMOSILLO\", \"orientation\": \"v\", \"showlegend\": true, \"textposition\": \"auto\", \"type\": \"bar\", \"x\": [\"HERMOSILLO\"], \"xaxis\": \"x\", \"y\": [11], \"yaxis\": \"y\"}, {\"alignmentgroup\": \"True\", \"hoverlabel\": {\"namelength\": 0}, \"hovertemplate\": \"color=SAN LUIS POTOSI<br>x=%{x}<br>y=%{y}\", \"legendgroup\": \"color=SAN LUIS POTOSI\", \"marker\": {\"color\": \"#FF97FF\"}, \"name\": \"color=SAN LUIS POTOSI\", \"offsetgroup\": \"color=SAN LUIS POTOSI\", \"orientation\": \"v\", \"showlegend\": true, \"textposition\": \"auto\", \"type\": \"bar\", \"x\": [\"SAN LUIS POTOSI\"], \"xaxis\": \"x\", \"y\": [11], \"yaxis\": \"y\"}, {\"alignmentgroup\": \"True\", \"hoverlabel\": {\"namelength\": 0}, \"hovertemplate\": \"color=JIUTEPEC<br>x=%{x}<br>y=%{y}\", \"legendgroup\": \"color=JIUTEPEC\", \"marker\": {\"color\": \"#FECB52\"}, \"name\": \"color=JIUTEPEC\", \"offsetgroup\": \"color=JIUTEPEC\", \"orientation\": \"v\", \"showlegend\": true, \"textposition\": \"auto\", \"type\": \"bar\", \"x\": [\"JIUTEPEC\"], \"xaxis\": \"x\", \"y\": [11], \"yaxis\": \"y\"}, {\"alignmentgroup\": \"True\", \"hoverlabel\": {\"namelength\": 0}, \"hovertemplate\": \"color=CAMPECHE<br>x=%{x}<br>y=%{y}\", \"legendgroup\": \"color=CAMPECHE\", \"marker\": {\"color\": \"#636efa\"}, \"name\": \"color=CAMPECHE\", \"offsetgroup\": \"color=CAMPECHE\", \"orientation\": \"v\", \"showlegend\": true, \"textposition\": \"auto\", \"type\": \"bar\", \"x\": [\"CAMPECHE\"], \"xaxis\": \"x\", \"y\": [11], \"yaxis\": \"y\"}, {\"alignmentgroup\": \"True\", \"hoverlabel\": {\"namelength\": 0}, \"hovertemplate\": \"color=MEXICALI<br>x=%{x}<br>y=%{y}\", \"legendgroup\": \"color=MEXICALI\", \"marker\": {\"color\": \"#EF553B\"}, \"name\": \"color=MEXICALI\", \"offsetgroup\": \"color=MEXICALI\", \"orientation\": \"v\", \"showlegend\": true, \"textposition\": \"auto\", \"type\": \"bar\", \"x\": [\"MEXICALI\"], \"xaxis\": \"x\", \"y\": [11], \"yaxis\": \"y\"}, {\"alignmentgroup\": \"True\", \"hoverlabel\": {\"namelength\": 0}, \"hovertemplate\": \"color=ZIHUATANEJO DE  AZUETA<br>x=%{x}<br>y=%{y}\", \"legendgroup\": \"color=ZIHUATANEJO DE  AZUETA\", \"marker\": {\"color\": \"#00cc96\"}, \"name\": \"color=ZIHUATANEJO DE  AZUETA\", \"offsetgroup\": \"color=ZIHUATANEJO DE  AZUETA\", \"orientation\": \"v\", \"showlegend\": true, \"textposition\": \"auto\", \"type\": \"bar\", \"x\": [\"ZIHUATANEJO DE  AZUETA\"], \"xaxis\": \"x\", \"y\": [10], \"yaxis\": \"y\"}, {\"alignmentgroup\": \"True\", \"hoverlabel\": {\"namelength\": 0}, \"hovertemplate\": \"color=ATIZAPAN<br>x=%{x}<br>y=%{y}\", \"legendgroup\": \"color=ATIZAPAN\", \"marker\": {\"color\": \"#ab63fa\"}, \"name\": \"color=ATIZAPAN\", \"offsetgroup\": \"color=ATIZAPAN\", \"orientation\": \"v\", \"showlegend\": true, \"textposition\": \"auto\", \"type\": \"bar\", \"x\": [\"ATIZAPAN\"], \"xaxis\": \"x\", \"y\": [10], \"yaxis\": \"y\"}, {\"alignmentgroup\": \"True\", \"hoverlabel\": {\"namelength\": 0}, \"hovertemplate\": \"color=CORDOBA<br>x=%{x}<br>y=%{y}\", \"legendgroup\": \"color=CORDOBA\", \"marker\": {\"color\": \"#FFA15A\"}, \"name\": \"color=CORDOBA\", \"offsetgroup\": \"color=CORDOBA\", \"orientation\": \"v\", \"showlegend\": true, \"textposition\": \"auto\", \"type\": \"bar\", \"x\": [\"CORDOBA\"], \"xaxis\": \"x\", \"y\": [10], \"yaxis\": \"y\"}, {\"alignmentgroup\": \"True\", \"hoverlabel\": {\"namelength\": 0}, \"hovertemplate\": \"color=DURANGO<br>x=%{x}<br>y=%{y}\", \"legendgroup\": \"color=DURANGO\", \"marker\": {\"color\": \"#19d3f3\"}, \"name\": \"color=DURANGO\", \"offsetgroup\": \"color=DURANGO\", \"orientation\": \"v\", \"showlegend\": true, \"textposition\": \"auto\", \"type\": \"bar\", \"x\": [\"DURANGO\"], \"xaxis\": \"x\", \"y\": [10], \"yaxis\": \"y\"}, {\"alignmentgroup\": \"True\", \"hoverlabel\": {\"namelength\": 0}, \"hovertemplate\": \"color=SALAMANCA<br>x=%{x}<br>y=%{y}\", \"legendgroup\": \"color=SALAMANCA\", \"marker\": {\"color\": \"#FF6692\"}, \"name\": \"color=SALAMANCA\", \"offsetgroup\": \"color=SALAMANCA\", \"orientation\": \"v\", \"showlegend\": true, \"textposition\": \"auto\", \"type\": \"bar\", \"x\": [\"SALAMANCA\"], \"xaxis\": \"x\", \"y\": [10], \"yaxis\": \"y\"}, {\"alignmentgroup\": \"True\", \"hoverlabel\": {\"namelength\": 0}, \"hovertemplate\": \"color=CORREGIDORA<br>x=%{x}<br>y=%{y}\", \"legendgroup\": \"color=CORREGIDORA\", \"marker\": {\"color\": \"#B6E880\"}, \"name\": \"color=CORREGIDORA\", \"offsetgroup\": \"color=CORREGIDORA\", \"orientation\": \"v\", \"showlegend\": true, \"textposition\": \"auto\", \"type\": \"bar\", \"x\": [\"CORREGIDORA\"], \"xaxis\": \"x\", \"y\": [10], \"yaxis\": \"y\"}, {\"alignmentgroup\": \"True\", \"hoverlabel\": {\"namelength\": 0}, \"hovertemplate\": \"color=TEOLOYUCAN<br>x=%{x}<br>y=%{y}\", \"legendgroup\": \"color=TEOLOYUCAN\", \"marker\": {\"color\": \"#FF97FF\"}, \"name\": \"color=TEOLOYUCAN\", \"offsetgroup\": \"color=TEOLOYUCAN\", \"orientation\": \"v\", \"showlegend\": true, \"textposition\": \"auto\", \"type\": \"bar\", \"x\": [\"TEOLOYUCAN\"], \"xaxis\": \"x\", \"y\": [10], \"yaxis\": \"y\"}, {\"alignmentgroup\": \"True\", \"hoverlabel\": {\"namelength\": 0}, \"hovertemplate\": \"color=SAN PEDRO GARZA GARCIA<br>x=%{x}<br>y=%{y}\", \"legendgroup\": \"color=SAN PEDRO GARZA GARCIA\", \"marker\": {\"color\": \"#FECB52\"}, \"name\": \"color=SAN PEDRO GARZA GARCIA\", \"offsetgroup\": \"color=SAN PEDRO GARZA GARCIA\", \"orientation\": \"v\", \"showlegend\": true, \"textposition\": \"auto\", \"type\": \"bar\", \"x\": [\"SAN PEDRO GARZA GARCIA\"], \"xaxis\": \"x\", \"y\": [10], \"yaxis\": \"y\"}, {\"alignmentgroup\": \"True\", \"hoverlabel\": {\"namelength\": 0}, \"hovertemplate\": \"color=ALLENDE<br>x=%{x}<br>y=%{y}\", \"legendgroup\": \"color=ALLENDE\", \"marker\": {\"color\": \"#636efa\"}, \"name\": \"color=ALLENDE\", \"offsetgroup\": \"color=ALLENDE\", \"orientation\": \"v\", \"showlegend\": true, \"textposition\": \"auto\", \"type\": \"bar\", \"x\": [\"ALLENDE\"], \"xaxis\": \"x\", \"y\": [10], \"yaxis\": \"y\"}, {\"alignmentgroup\": \"True\", \"hoverlabel\": {\"namelength\": 0}, \"hovertemplate\": \"color=MORELOS<br>x=%{x}<br>y=%{y}\", \"legendgroup\": \"color=MORELOS\", \"marker\": {\"color\": \"#EF553B\"}, \"name\": \"color=MORELOS\", \"offsetgroup\": \"color=MORELOS\", \"orientation\": \"v\", \"showlegend\": true, \"textposition\": \"auto\", \"type\": \"bar\", \"x\": [\"MORELOS\"], \"xaxis\": \"x\", \"y\": [10], \"yaxis\": \"y\"}, {\"alignmentgroup\": \"True\", \"hoverlabel\": {\"namelength\": 0}, \"hovertemplate\": \"color=SAN MATEO ATENCO<br>x=%{x}<br>y=%{y}\", \"legendgroup\": \"color=SAN MATEO ATENCO\", \"marker\": {\"color\": \"#00cc96\"}, \"name\": \"color=SAN MATEO ATENCO\", \"offsetgroup\": \"color=SAN MATEO ATENCO\", \"orientation\": \"v\", \"showlegend\": true, \"textposition\": \"auto\", \"type\": \"bar\", \"x\": [\"SAN MATEO ATENCO\"], \"xaxis\": \"x\", \"y\": [9], \"yaxis\": \"y\"}, {\"alignmentgroup\": \"True\", \"hoverlabel\": {\"namelength\": 0}, \"hovertemplate\": \"color=TAXCO DE ALARCON<br>x=%{x}<br>y=%{y}\", \"legendgroup\": \"color=TAXCO DE ALARCON\", \"marker\": {\"color\": \"#ab63fa\"}, \"name\": \"color=TAXCO DE ALARCON\", \"offsetgroup\": \"color=TAXCO DE ALARCON\", \"orientation\": \"v\", \"showlegend\": true, \"textposition\": \"auto\", \"type\": \"bar\", \"x\": [\"TAXCO DE ALARCON\"], \"xaxis\": \"x\", \"y\": [9], \"yaxis\": \"y\"}, {\"alignmentgroup\": \"True\", \"hoverlabel\": {\"namelength\": 0}, \"hovertemplate\": \"color=PINAL DE AMOLES<br>x=%{x}<br>y=%{y}\", \"legendgroup\": \"color=PINAL DE AMOLES\", \"marker\": {\"color\": \"#FFA15A\"}, \"name\": \"color=PINAL DE AMOLES\", \"offsetgroup\": \"color=PINAL DE AMOLES\", \"orientation\": \"v\", \"showlegend\": true, \"textposition\": \"auto\", \"type\": \"bar\", \"x\": [\"PINAL DE AMOLES\"], \"xaxis\": \"x\", \"y\": [9], \"yaxis\": \"y\"}, {\"alignmentgroup\": \"True\", \"hoverlabel\": {\"namelength\": 0}, \"hovertemplate\": \"color=NEXTLALPAN<br>x=%{x}<br>y=%{y}\", \"legendgroup\": \"color=NEXTLALPAN\", \"marker\": {\"color\": \"#19d3f3\"}, \"name\": \"color=NEXTLALPAN\", \"offsetgroup\": \"color=NEXTLALPAN\", \"orientation\": \"v\", \"showlegend\": true, \"textposition\": \"auto\", \"type\": \"bar\", \"x\": [\"NEXTLALPAN\"], \"xaxis\": \"x\", \"y\": [9], \"yaxis\": \"y\"}, {\"alignmentgroup\": \"True\", \"hoverlabel\": {\"namelength\": 0}, \"hovertemplate\": \"color=COYOTEPEC<br>x=%{x}<br>y=%{y}\", \"legendgroup\": \"color=COYOTEPEC\", \"marker\": {\"color\": \"#FF6692\"}, \"name\": \"color=COYOTEPEC\", \"offsetgroup\": \"color=COYOTEPEC\", \"orientation\": \"v\", \"showlegend\": true, \"textposition\": \"auto\", \"type\": \"bar\", \"x\": [\"COYOTEPEC\"], \"xaxis\": \"x\", \"y\": [9], \"yaxis\": \"y\"}, {\"alignmentgroup\": \"True\", \"hoverlabel\": {\"namelength\": 0}, \"hovertemplate\": \"color=JUCHITEPEC<br>x=%{x}<br>y=%{y}\", \"legendgroup\": \"color=JUCHITEPEC\", \"marker\": {\"color\": \"#B6E880\"}, \"name\": \"color=JUCHITEPEC\", \"offsetgroup\": \"color=JUCHITEPEC\", \"orientation\": \"v\", \"showlegend\": true, \"textposition\": \"auto\", \"type\": \"bar\", \"x\": [\"JUCHITEPEC\"], \"xaxis\": \"x\", \"y\": [8], \"yaxis\": \"y\"}, {\"alignmentgroup\": \"True\", \"hoverlabel\": {\"namelength\": 0}, \"hovertemplate\": \"color=CHIHUAHUA<br>x=%{x}<br>y=%{y}\", \"legendgroup\": \"color=CHIHUAHUA\", \"marker\": {\"color\": \"#FF97FF\"}, \"name\": \"color=CHIHUAHUA\", \"offsetgroup\": \"color=CHIHUAHUA\", \"orientation\": \"v\", \"showlegend\": true, \"textposition\": \"auto\", \"type\": \"bar\", \"x\": [\"CHIHUAHUA\"], \"xaxis\": \"x\", \"y\": [8], \"yaxis\": \"y\"}, {\"alignmentgroup\": \"True\", \"hoverlabel\": {\"namelength\": 0}, \"hovertemplate\": \"color=GUADALUPE<br>x=%{x}<br>y=%{y}\", \"legendgroup\": \"color=GUADALUPE\", \"marker\": {\"color\": \"#FECB52\"}, \"name\": \"color=GUADALUPE\", \"offsetgroup\": \"color=GUADALUPE\", \"orientation\": \"v\", \"showlegend\": true, \"textposition\": \"auto\", \"type\": \"bar\", \"x\": [\"GUADALUPE\"], \"xaxis\": \"x\", \"y\": [8], \"yaxis\": \"y\"}, {\"alignmentgroup\": \"True\", \"hoverlabel\": {\"namelength\": 0}, \"hovertemplate\": \"color=ATLACOMULCO<br>x=%{x}<br>y=%{y}\", \"legendgroup\": \"color=ATLACOMULCO\", \"marker\": {\"color\": \"#636efa\"}, \"name\": \"color=ATLACOMULCO\", \"offsetgroup\": \"color=ATLACOMULCO\", \"orientation\": \"v\", \"showlegend\": true, \"textposition\": \"auto\", \"type\": \"bar\", \"x\": [\"ATLACOMULCO\"], \"xaxis\": \"x\", \"y\": [8], \"yaxis\": \"y\"}, {\"alignmentgroup\": \"True\", \"hoverlabel\": {\"namelength\": 0}, \"hovertemplate\": \"color=TEPIC<br>x=%{x}<br>y=%{y}\", \"legendgroup\": \"color=TEPIC\", \"marker\": {\"color\": \"#EF553B\"}, \"name\": \"color=TEPIC\", \"offsetgroup\": \"color=TEPIC\", \"orientation\": \"v\", \"showlegend\": true, \"textposition\": \"auto\", \"type\": \"bar\", \"x\": [\"TEPIC\"], \"xaxis\": \"x\", \"y\": [8], \"yaxis\": \"y\"}, {\"alignmentgroup\": \"True\", \"hoverlabel\": {\"namelength\": 0}, \"hovertemplate\": \"color=TEMIXCO<br>x=%{x}<br>y=%{y}\", \"legendgroup\": \"color=TEMIXCO\", \"marker\": {\"color\": \"#00cc96\"}, \"name\": \"color=TEMIXCO\", \"offsetgroup\": \"color=TEMIXCO\", \"orientation\": \"v\", \"showlegend\": true, \"textposition\": \"auto\", \"type\": \"bar\", \"x\": [\"TEMIXCO\"], \"xaxis\": \"x\", \"y\": [8], \"yaxis\": \"y\"}, {\"alignmentgroup\": \"True\", \"hoverlabel\": {\"namelength\": 0}, \"hovertemplate\": \"color=TIANGUISTENCO<br>x=%{x}<br>y=%{y}\", \"legendgroup\": \"color=TIANGUISTENCO\", \"marker\": {\"color\": \"#ab63fa\"}, \"name\": \"color=TIANGUISTENCO\", \"offsetgroup\": \"color=TIANGUISTENCO\", \"orientation\": \"v\", \"showlegend\": true, \"textposition\": \"auto\", \"type\": \"bar\", \"x\": [\"TIANGUISTENCO\"], \"xaxis\": \"x\", \"y\": [8], \"yaxis\": \"y\"}, {\"alignmentgroup\": \"True\", \"hoverlabel\": {\"namelength\": 0}, \"hovertemplate\": \"color=TEMASCALCINGO<br>x=%{x}<br>y=%{y}\", \"legendgroup\": \"color=TEMASCALCINGO\", \"marker\": {\"color\": \"#FFA15A\"}, \"name\": \"color=TEMASCALCINGO\", \"offsetgroup\": \"color=TEMASCALCINGO\", \"orientation\": \"v\", \"showlegend\": true, \"textposition\": \"auto\", \"type\": \"bar\", \"x\": [\"TEMASCALCINGO\"], \"xaxis\": \"x\", \"y\": [8], \"yaxis\": \"y\"}, {\"alignmentgroup\": \"True\", \"hoverlabel\": {\"namelength\": 0}, \"hovertemplate\": \"color=IGUALA DE LA INDEPENDENCIA<br>x=%{x}<br>y=%{y}\", \"legendgroup\": \"color=IGUALA DE LA INDEPENDENCIA\", \"marker\": {\"color\": \"#19d3f3\"}, \"name\": \"color=IGUALA DE LA INDEPENDENCIA\", \"offsetgroup\": \"color=IGUALA DE LA INDEPENDENCIA\", \"orientation\": \"v\", \"showlegend\": true, \"textposition\": \"auto\", \"type\": \"bar\", \"x\": [\"IGUALA DE LA INDEPENDENCIA\"], \"xaxis\": \"x\", \"y\": [8], \"yaxis\": \"y\"}, {\"alignmentgroup\": \"True\", \"hoverlabel\": {\"namelength\": 0}, \"hovertemplate\": \"color=SAN MARTIN DE LAS PIRAMIDES<br>x=%{x}<br>y=%{y}\", \"legendgroup\": \"color=SAN MARTIN DE LAS PIRAMIDES\", \"marker\": {\"color\": \"#FF6692\"}, \"name\": \"color=SAN MARTIN DE LAS PIRAMIDES\", \"offsetgroup\": \"color=SAN MARTIN DE LAS PIRAMIDES\", \"orientation\": \"v\", \"showlegend\": true, \"textposition\": \"auto\", \"type\": \"bar\", \"x\": [\"SAN MARTIN DE LAS PIRAMIDES\"], \"xaxis\": \"x\", \"y\": [8], \"yaxis\": \"y\"}, {\"alignmentgroup\": \"True\", \"hoverlabel\": {\"namelength\": 0}, \"hovertemplate\": \"color=ZINACANTEPEC<br>x=%{x}<br>y=%{y}\", \"legendgroup\": \"color=ZINACANTEPEC\", \"marker\": {\"color\": \"#B6E880\"}, \"name\": \"color=ZINACANTEPEC\", \"offsetgroup\": \"color=ZINACANTEPEC\", \"orientation\": \"v\", \"showlegend\": true, \"textposition\": \"auto\", \"type\": \"bar\", \"x\": [\"ZINACANTEPEC\"], \"xaxis\": \"x\", \"y\": [8], \"yaxis\": \"y\"}, {\"alignmentgroup\": \"True\", \"hoverlabel\": {\"namelength\": 0}, \"hovertemplate\": \"color=YAUTEPEC<br>x=%{x}<br>y=%{y}\", \"legendgroup\": \"color=YAUTEPEC\", \"marker\": {\"color\": \"#FF97FF\"}, \"name\": \"color=YAUTEPEC\", \"offsetgroup\": \"color=YAUTEPEC\", \"orientation\": \"v\", \"showlegend\": true, \"textposition\": \"auto\", \"type\": \"bar\", \"x\": [\"YAUTEPEC\"], \"xaxis\": \"x\", \"y\": [8], \"yaxis\": \"y\"}, {\"alignmentgroup\": \"True\", \"hoverlabel\": {\"namelength\": 0}, \"hovertemplate\": \"color=SAN MARTIN TEXMELUCAN<br>x=%{x}<br>y=%{y}\", \"legendgroup\": \"color=SAN MARTIN TEXMELUCAN\", \"marker\": {\"color\": \"#FECB52\"}, \"name\": \"color=SAN MARTIN TEXMELUCAN\", \"offsetgroup\": \"color=SAN MARTIN TEXMELUCAN\", \"orientation\": \"v\", \"showlegend\": true, \"textposition\": \"auto\", \"type\": \"bar\", \"x\": [\"SAN MARTIN TEXMELUCAN\"], \"xaxis\": \"x\", \"y\": [8], \"yaxis\": \"y\"}, {\"alignmentgroup\": \"True\", \"hoverlabel\": {\"namelength\": 0}, \"hovertemplate\": \"color=SAN JUAN DEL RIO<br>x=%{x}<br>y=%{y}\", \"legendgroup\": \"color=SAN JUAN DEL RIO\", \"marker\": {\"color\": \"#636efa\"}, \"name\": \"color=SAN JUAN DEL RIO\", \"offsetgroup\": \"color=SAN JUAN DEL RIO\", \"orientation\": \"v\", \"showlegend\": true, \"textposition\": \"auto\", \"type\": \"bar\", \"x\": [\"SAN JUAN DEL RIO\"], \"xaxis\": \"x\", \"y\": [7], \"yaxis\": \"y\"}, {\"alignmentgroup\": \"True\", \"hoverlabel\": {\"namelength\": 0}, \"hovertemplate\": \"color=VILLA VICTORIA<br>x=%{x}<br>y=%{y}\", \"legendgroup\": \"color=VILLA VICTORIA\", \"marker\": {\"color\": \"#EF553B\"}, \"name\": \"color=VILLA VICTORIA\", \"offsetgroup\": \"color=VILLA VICTORIA\", \"orientation\": \"v\", \"showlegend\": true, \"textposition\": \"auto\", \"type\": \"bar\", \"x\": [\"VILLA VICTORIA\"], \"xaxis\": \"x\", \"y\": [7], \"yaxis\": \"y\"}, {\"alignmentgroup\": \"True\", \"hoverlabel\": {\"namelength\": 0}, \"hovertemplate\": \"color=ENSENADA<br>x=%{x}<br>y=%{y}\", \"legendgroup\": \"color=ENSENADA\", \"marker\": {\"color\": \"#00cc96\"}, \"name\": \"color=ENSENADA\", \"offsetgroup\": \"color=ENSENADA\", \"orientation\": \"v\", \"showlegend\": true, \"textposition\": \"auto\", \"type\": \"bar\", \"x\": [\"ENSENADA\"], \"xaxis\": \"x\", \"y\": [7], \"yaxis\": \"y\"}, {\"alignmentgroup\": \"True\", \"hoverlabel\": {\"namelength\": 0}, \"hovertemplate\": \"color=ALMOLOYA DE JUAREZ<br>x=%{x}<br>y=%{y}\", \"legendgroup\": \"color=ALMOLOYA DE JUAREZ\", \"marker\": {\"color\": \"#ab63fa\"}, \"name\": \"color=ALMOLOYA DE JUAREZ\", \"offsetgroup\": \"color=ALMOLOYA DE JUAREZ\", \"orientation\": \"v\", \"showlegend\": true, \"textposition\": \"auto\", \"type\": \"bar\", \"x\": [\"ALMOLOYA DE JUAREZ\"], \"xaxis\": \"x\", \"y\": [7], \"yaxis\": \"y\"}, {\"alignmentgroup\": \"True\", \"hoverlabel\": {\"namelength\": 0}, \"hovertemplate\": \"color=APIZACO<br>x=%{x}<br>y=%{y}\", \"legendgroup\": \"color=APIZACO\", \"marker\": {\"color\": \"#FFA15A\"}, \"name\": \"color=APIZACO\", \"offsetgroup\": \"color=APIZACO\", \"orientation\": \"v\", \"showlegend\": true, \"textposition\": \"auto\", \"type\": \"bar\", \"x\": [\"APIZACO\"], \"xaxis\": \"x\", \"y\": [7], \"yaxis\": \"y\"}, {\"alignmentgroup\": \"True\", \"hoverlabel\": {\"namelength\": 0}, \"hovertemplate\": \"color=SAN LUIS DE LA PAZ<br>x=%{x}<br>y=%{y}\", \"legendgroup\": \"color=SAN LUIS DE LA PAZ\", \"marker\": {\"color\": \"#19d3f3\"}, \"name\": \"color=SAN LUIS DE LA PAZ\", \"offsetgroup\": \"color=SAN LUIS DE LA PAZ\", \"orientation\": \"v\", \"showlegend\": true, \"textposition\": \"auto\", \"type\": \"bar\", \"x\": [\"SAN LUIS DE LA PAZ\"], \"xaxis\": \"x\", \"y\": [7], \"yaxis\": \"y\"}, {\"alignmentgroup\": \"True\", \"hoverlabel\": {\"namelength\": 0}, \"hovertemplate\": \"color=EZEQUIEL MONTES<br>x=%{x}<br>y=%{y}\", \"legendgroup\": \"color=EZEQUIEL MONTES\", \"marker\": {\"color\": \"#FF6692\"}, \"name\": \"color=EZEQUIEL MONTES\", \"offsetgroup\": \"color=EZEQUIEL MONTES\", \"orientation\": \"v\", \"showlegend\": true, \"textposition\": \"auto\", \"type\": \"bar\", \"x\": [\"EZEQUIEL MONTES\"], \"xaxis\": \"x\", \"y\": [7], \"yaxis\": \"y\"}, {\"alignmentgroup\": \"True\", \"hoverlabel\": {\"namelength\": 0}, \"hovertemplate\": \"color=OTHON P. BLANCO<br>x=%{x}<br>y=%{y}\", \"legendgroup\": \"color=OTHON P. BLANCO\", \"marker\": {\"color\": \"#B6E880\"}, \"name\": \"color=OTHON P. BLANCO\", \"offsetgroup\": \"color=OTHON P. BLANCO\", \"orientation\": \"v\", \"showlegend\": true, \"textposition\": \"auto\", \"type\": \"bar\", \"x\": [\"OTHON P. BLANCO\"], \"xaxis\": \"x\", \"y\": [7], \"yaxis\": \"y\"}, {\"alignmentgroup\": \"True\", \"hoverlabel\": {\"namelength\": 0}, \"hovertemplate\": \"color=VALLE DE BRAVO<br>x=%{x}<br>y=%{y}\", \"legendgroup\": \"color=VALLE DE BRAVO\", \"marker\": {\"color\": \"#FF97FF\"}, \"name\": \"color=VALLE DE BRAVO\", \"offsetgroup\": \"color=VALLE DE BRAVO\", \"orientation\": \"v\", \"showlegend\": true, \"textposition\": \"auto\", \"type\": \"bar\", \"x\": [\"VALLE DE BRAVO\"], \"xaxis\": \"x\", \"y\": [7], \"yaxis\": \"y\"}, {\"alignmentgroup\": \"True\", \"hoverlabel\": {\"namelength\": 0}, \"hovertemplate\": \"color=MINATITLAN<br>x=%{x}<br>y=%{y}\", \"legendgroup\": \"color=MINATITLAN\", \"marker\": {\"color\": \"#FECB52\"}, \"name\": \"color=MINATITLAN\", \"offsetgroup\": \"color=MINATITLAN\", \"orientation\": \"v\", \"showlegend\": true, \"textposition\": \"auto\", \"type\": \"bar\", \"x\": [\"MINATITLAN\"], \"xaxis\": \"x\", \"y\": [7], \"yaxis\": \"y\"}, {\"alignmentgroup\": \"True\", \"hoverlabel\": {\"namelength\": 0}, \"hovertemplate\": \"color=CADEREYTA DE MONTES<br>x=%{x}<br>y=%{y}\", \"legendgroup\": \"color=CADEREYTA DE MONTES\", \"marker\": {\"color\": \"#636efa\"}, \"name\": \"color=CADEREYTA DE MONTES\", \"offsetgroup\": \"color=CADEREYTA DE MONTES\", \"orientation\": \"v\", \"showlegend\": true, \"textposition\": \"auto\", \"type\": \"bar\", \"x\": [\"CADEREYTA DE MONTES\"], \"xaxis\": \"x\", \"y\": [7], \"yaxis\": \"y\"}, {\"alignmentgroup\": \"True\", \"hoverlabel\": {\"namelength\": 0}, \"hovertemplate\": \"color=XOCHITEPEC<br>x=%{x}<br>y=%{y}\", \"legendgroup\": \"color=XOCHITEPEC\", \"marker\": {\"color\": \"#EF553B\"}, \"name\": \"color=XOCHITEPEC\", \"offsetgroup\": \"color=XOCHITEPEC\", \"orientation\": \"v\", \"showlegend\": true, \"textposition\": \"auto\", \"type\": \"bar\", \"x\": [\"XOCHITEPEC\"], \"xaxis\": \"x\", \"y\": [7], \"yaxis\": \"y\"}, {\"alignmentgroup\": \"True\", \"hoverlabel\": {\"namelength\": 0}, \"hovertemplate\": \"color=BOCA DEL RIO<br>x=%{x}<br>y=%{y}\", \"legendgroup\": \"color=BOCA DEL RIO\", \"marker\": {\"color\": \"#00cc96\"}, \"name\": \"color=BOCA DEL RIO\", \"offsetgroup\": \"color=BOCA DEL RIO\", \"orientation\": \"v\", \"showlegend\": true, \"textposition\": \"auto\", \"type\": \"bar\", \"x\": [\"BOCA DEL RIO\"], \"xaxis\": \"x\", \"y\": [7], \"yaxis\": \"y\"}, {\"alignmentgroup\": \"True\", \"hoverlabel\": {\"namelength\": 0}, \"hovertemplate\": \"color=ZAMORA<br>x=%{x}<br>y=%{y}\", \"legendgroup\": \"color=ZAMORA\", \"marker\": {\"color\": \"#ab63fa\"}, \"name\": \"color=ZAMORA\", \"offsetgroup\": \"color=ZAMORA\", \"orientation\": \"v\", \"showlegend\": true, \"textposition\": \"auto\", \"type\": \"bar\", \"x\": [\"ZAMORA\"], \"xaxis\": \"x\", \"y\": [6], \"yaxis\": \"y\"}, {\"alignmentgroup\": \"True\", \"hoverlabel\": {\"namelength\": 0}, \"hovertemplate\": \"color=TLALMANALCO<br>x=%{x}<br>y=%{y}\", \"legendgroup\": \"color=TLALMANALCO\", \"marker\": {\"color\": \"#FFA15A\"}, \"name\": \"color=TLALMANALCO\", \"offsetgroup\": \"color=TLALMANALCO\", \"orientation\": \"v\", \"showlegend\": true, \"textposition\": \"auto\", \"type\": \"bar\", \"x\": [\"TLALMANALCO\"], \"xaxis\": \"x\", \"y\": [6], \"yaxis\": \"y\"}, {\"alignmentgroup\": \"True\", \"hoverlabel\": {\"namelength\": 0}, \"hovertemplate\": \"color=TLAJOMULCO DE ZU\\u00c3\\u0091IGA<br>x=%{x}<br>y=%{y}\", \"legendgroup\": \"color=TLAJOMULCO DE ZU\\u00c3\\u0091IGA\", \"marker\": {\"color\": \"#19d3f3\"}, \"name\": \"color=TLAJOMULCO DE ZU\\u00c3\\u0091IGA\", \"offsetgroup\": \"color=TLAJOMULCO DE ZU\\u00c3\\u0091IGA\", \"orientation\": \"v\", \"showlegend\": true, \"textposition\": \"auto\", \"type\": \"bar\", \"x\": [\"TLAJOMULCO DE ZU\\u00c3\\u0091IGA\"], \"xaxis\": \"x\", \"y\": [6], \"yaxis\": \"y\"}, {\"alignmentgroup\": \"True\", \"hoverlabel\": {\"namelength\": 0}, \"hovertemplate\": \"color=TENANGO DEL VALLE<br>x=%{x}<br>y=%{y}\", \"legendgroup\": \"color=TENANGO DEL VALLE\", \"marker\": {\"color\": \"#FF6692\"}, \"name\": \"color=TENANGO DEL VALLE\", \"offsetgroup\": \"color=TENANGO DEL VALLE\", \"orientation\": \"v\", \"showlegend\": true, \"textposition\": \"auto\", \"type\": \"bar\", \"x\": [\"TENANGO DEL VALLE\"], \"xaxis\": \"x\", \"y\": [6], \"yaxis\": \"y\"}, {\"alignmentgroup\": \"True\", \"hoverlabel\": {\"namelength\": 0}, \"hovertemplate\": \"color=TEPOZTLAN<br>x=%{x}<br>y=%{y}\", \"legendgroup\": \"color=TEPOZTLAN\", \"marker\": {\"color\": \"#B6E880\"}, \"name\": \"color=TEPOZTLAN\", \"offsetgroup\": \"color=TEPOZTLAN\", \"orientation\": \"v\", \"showlegend\": true, \"textposition\": \"auto\", \"type\": \"bar\", \"x\": [\"TEPOZTLAN\"], \"xaxis\": \"x\", \"y\": [6], \"yaxis\": \"y\"}, {\"alignmentgroup\": \"True\", \"hoverlabel\": {\"namelength\": 0}, \"hovertemplate\": \"color=MANZANILLO<br>x=%{x}<br>y=%{y}\", \"legendgroup\": \"color=MANZANILLO\", \"marker\": {\"color\": \"#FF97FF\"}, \"name\": \"color=MANZANILLO\", \"offsetgroup\": \"color=MANZANILLO\", \"orientation\": \"v\", \"showlegend\": true, \"textposition\": \"auto\", \"type\": \"bar\", \"x\": [\"MANZANILLO\"], \"xaxis\": \"x\", \"y\": [6], \"yaxis\": \"y\"}, {\"alignmentgroup\": \"True\", \"hoverlabel\": {\"namelength\": 0}, \"hovertemplate\": \"color=TEHUACAN<br>x=%{x}<br>y=%{y}\", \"legendgroup\": \"color=TEHUACAN\", \"marker\": {\"color\": \"#FECB52\"}, \"name\": \"color=TEHUACAN\", \"offsetgroup\": \"color=TEHUACAN\", \"orientation\": \"v\", \"showlegend\": true, \"textposition\": \"auto\", \"type\": \"bar\", \"x\": [\"TEHUACAN\"], \"xaxis\": \"x\", \"y\": [6], \"yaxis\": \"y\"}, {\"alignmentgroup\": \"True\", \"hoverlabel\": {\"namelength\": 0}, \"hovertemplate\": \"color=SANTA MARIA HUATULCO<br>x=%{x}<br>y=%{y}\", \"legendgroup\": \"color=SANTA MARIA HUATULCO\", \"marker\": {\"color\": \"#636efa\"}, \"name\": \"color=SANTA MARIA HUATULCO\", \"offsetgroup\": \"color=SANTA MARIA HUATULCO\", \"orientation\": \"v\", \"showlegend\": true, \"textposition\": \"auto\", \"type\": \"bar\", \"x\": [\"SANTA MARIA HUATULCO\"], \"xaxis\": \"x\", \"y\": [6], \"yaxis\": \"y\"}, {\"alignmentgroup\": \"True\", \"hoverlabel\": {\"namelength\": 0}, \"hovertemplate\": \"color=POZA RICA DE HIDALGO<br>x=%{x}<br>y=%{y}\", \"legendgroup\": \"color=POZA RICA DE HIDALGO\", \"marker\": {\"color\": \"#EF553B\"}, \"name\": \"color=POZA RICA DE HIDALGO\", \"offsetgroup\": \"color=POZA RICA DE HIDALGO\", \"orientation\": \"v\", \"showlegend\": true, \"textposition\": \"auto\", \"type\": \"bar\", \"x\": [\"POZA RICA DE HIDALGO\"], \"xaxis\": \"x\", \"y\": [6], \"yaxis\": \"y\"}, {\"alignmentgroup\": \"True\", \"hoverlabel\": {\"namelength\": 0}, \"hovertemplate\": \"color=REYNOSA<br>x=%{x}<br>y=%{y}\", \"legendgroup\": \"color=REYNOSA\", \"marker\": {\"color\": \"#00cc96\"}, \"name\": \"color=REYNOSA\", \"offsetgroup\": \"color=REYNOSA\", \"orientation\": \"v\", \"showlegend\": true, \"textposition\": \"auto\", \"type\": \"bar\", \"x\": [\"REYNOSA\"], \"xaxis\": \"x\", \"y\": [6], \"yaxis\": \"y\"}, {\"alignmentgroup\": \"True\", \"hoverlabel\": {\"namelength\": 0}, \"hovertemplate\": \"color=SILAO<br>x=%{x}<br>y=%{y}\", \"legendgroup\": \"color=SILAO\", \"marker\": {\"color\": \"#ab63fa\"}, \"name\": \"color=SILAO\", \"offsetgroup\": \"color=SILAO\", \"orientation\": \"v\", \"showlegend\": true, \"textposition\": \"auto\", \"type\": \"bar\", \"x\": [\"SILAO\"], \"xaxis\": \"x\", \"y\": [6], \"yaxis\": \"y\"}, {\"alignmentgroup\": \"True\", \"hoverlabel\": {\"namelength\": 0}, \"hovertemplate\": \"color=ATOTONILCO DE TULA<br>x=%{x}<br>y=%{y}\", \"legendgroup\": \"color=ATOTONILCO DE TULA\", \"marker\": {\"color\": \"#FFA15A\"}, \"name\": \"color=ATOTONILCO DE TULA\", \"offsetgroup\": \"color=ATOTONILCO DE TULA\", \"orientation\": \"v\", \"showlegend\": true, \"textposition\": \"auto\", \"type\": \"bar\", \"x\": [\"ATOTONILCO DE TULA\"], \"xaxis\": \"x\", \"y\": [6], \"yaxis\": \"y\"}, {\"alignmentgroup\": \"True\", \"hoverlabel\": {\"namelength\": 0}, \"hovertemplate\": \"color=MALINALCO<br>x=%{x}<br>y=%{y}\", \"legendgroup\": \"color=MALINALCO\", \"marker\": {\"color\": \"#19d3f3\"}, \"name\": \"color=MALINALCO\", \"offsetgroup\": \"color=MALINALCO\", \"orientation\": \"v\", \"showlegend\": true, \"textposition\": \"auto\", \"type\": \"bar\", \"x\": [\"MALINALCO\"], \"xaxis\": \"x\", \"y\": [6], \"yaxis\": \"y\"}, {\"alignmentgroup\": \"True\", \"hoverlabel\": {\"namelength\": 0}, \"hovertemplate\": \"color=NUEVO LAREDO<br>x=%{x}<br>y=%{y}\", \"legendgroup\": \"color=NUEVO LAREDO\", \"marker\": {\"color\": \"#FF6692\"}, \"name\": \"color=NUEVO LAREDO\", \"offsetgroup\": \"color=NUEVO LAREDO\", \"orientation\": \"v\", \"showlegend\": true, \"textposition\": \"auto\", \"type\": \"bar\", \"x\": [\"NUEVO LAREDO\"], \"xaxis\": \"x\", \"y\": [6], \"yaxis\": \"y\"}, {\"alignmentgroup\": \"True\", \"hoverlabel\": {\"namelength\": 0}, \"hovertemplate\": \"color=TUXPAM<br>x=%{x}<br>y=%{y}\", \"legendgroup\": \"color=TUXPAM\", \"marker\": {\"color\": \"#B6E880\"}, \"name\": \"color=TUXPAM\", \"offsetgroup\": \"color=TUXPAM\", \"orientation\": \"v\", \"showlegend\": true, \"textposition\": \"auto\", \"type\": \"bar\", \"x\": [\"TUXPAM\"], \"xaxis\": \"x\", \"y\": [6], \"yaxis\": \"y\"}, {\"alignmentgroup\": \"True\", \"hoverlabel\": {\"namelength\": 0}, \"hovertemplate\": \"color=LOS CABOS<br>x=%{x}<br>y=%{y}\", \"legendgroup\": \"color=LOS CABOS\", \"marker\": {\"color\": \"#FF97FF\"}, \"name\": \"color=LOS CABOS\", \"offsetgroup\": \"color=LOS CABOS\", \"orientation\": \"v\", \"showlegend\": true, \"textposition\": \"auto\", \"type\": \"bar\", \"x\": [\"LOS CABOS\"], \"xaxis\": \"x\", \"y\": [6], \"yaxis\": \"y\"}, {\"alignmentgroup\": \"True\", \"hoverlabel\": {\"namelength\": 0}, \"hovertemplate\": \"color=VILLA DE ALLENDE<br>x=%{x}<br>y=%{y}\", \"legendgroup\": \"color=VILLA DE ALLENDE\", \"marker\": {\"color\": \"#FECB52\"}, \"name\": \"color=VILLA DE ALLENDE\", \"offsetgroup\": \"color=VILLA DE ALLENDE\", \"orientation\": \"v\", \"showlegend\": true, \"textposition\": \"auto\", \"type\": \"bar\", \"x\": [\"VILLA DE ALLENDE\"], \"xaxis\": \"x\", \"y\": [6], \"yaxis\": \"y\"}, {\"alignmentgroup\": \"True\", \"hoverlabel\": {\"namelength\": 0}, \"hovertemplate\": \"color=AHOME<br>x=%{x}<br>y=%{y}\", \"legendgroup\": \"color=AHOME\", \"marker\": {\"color\": \"#636efa\"}, \"name\": \"color=AHOME\", \"offsetgroup\": \"color=AHOME\", \"orientation\": \"v\", \"showlegend\": true, \"textposition\": \"auto\", \"type\": \"bar\", \"x\": [\"AHOME\"], \"xaxis\": \"x\", \"y\": [6], \"yaxis\": \"y\"}, {\"alignmentgroup\": \"True\", \"hoverlabel\": {\"namelength\": 0}, \"hovertemplate\": \"color=MELCHOR OCAMPO<br>x=%{x}<br>y=%{y}\", \"legendgroup\": \"color=MELCHOR OCAMPO\", \"marker\": {\"color\": \"#EF553B\"}, \"name\": \"color=MELCHOR OCAMPO\", \"offsetgroup\": \"color=MELCHOR OCAMPO\", \"orientation\": \"v\", \"showlegend\": true, \"textposition\": \"auto\", \"type\": \"bar\", \"x\": [\"MELCHOR OCAMPO\"], \"xaxis\": \"x\", \"y\": [5], \"yaxis\": \"y\"}, {\"alignmentgroup\": \"True\", \"hoverlabel\": {\"namelength\": 0}, \"hovertemplate\": \"color=PENJAMO<br>x=%{x}<br>y=%{y}\", \"legendgroup\": \"color=PENJAMO\", \"marker\": {\"color\": \"#00cc96\"}, \"name\": \"color=PENJAMO\", \"offsetgroup\": \"color=PENJAMO\", \"orientation\": \"v\", \"showlegend\": true, \"textposition\": \"auto\", \"type\": \"bar\", \"x\": [\"PENJAMO\"], \"xaxis\": \"x\", \"y\": [5], \"yaxis\": \"y\"}, {\"alignmentgroup\": \"True\", \"hoverlabel\": {\"namelength\": 0}, \"hovertemplate\": \"color=ATENCO<br>x=%{x}<br>y=%{y}\", \"legendgroup\": \"color=ATENCO\", \"marker\": {\"color\": \"#ab63fa\"}, \"name\": \"color=ATENCO\", \"offsetgroup\": \"color=ATENCO\", \"orientation\": \"v\", \"showlegend\": true, \"textposition\": \"auto\", \"type\": \"bar\", \"x\": [\"ATENCO\"], \"xaxis\": \"x\", \"y\": [5], \"yaxis\": \"y\"}, {\"alignmentgroup\": \"True\", \"hoverlabel\": {\"namelength\": 0}, \"hovertemplate\": \"color=TLALNEPANTLA<br>x=%{x}<br>y=%{y}\", \"legendgroup\": \"color=TLALNEPANTLA\", \"marker\": {\"color\": \"#FFA15A\"}, \"name\": \"color=TLALNEPANTLA\", \"offsetgroup\": \"color=TLALNEPANTLA\", \"orientation\": \"v\", \"showlegend\": true, \"textposition\": \"auto\", \"type\": \"bar\", \"x\": [\"TLALNEPANTLA\"], \"xaxis\": \"x\", \"y\": [5], \"yaxis\": \"y\"}, {\"alignmentgroup\": \"True\", \"hoverlabel\": {\"namelength\": 0}, \"hovertemplate\": \"color=COCOTITLAN<br>x=%{x}<br>y=%{y}\", \"legendgroup\": \"color=COCOTITLAN\", \"marker\": {\"color\": \"#19d3f3\"}, \"name\": \"color=COCOTITLAN\", \"offsetgroup\": \"color=COCOTITLAN\", \"orientation\": \"v\", \"showlegend\": true, \"textposition\": \"auto\", \"type\": \"bar\", \"x\": [\"COCOTITLAN\"], \"xaxis\": \"x\", \"y\": [5], \"yaxis\": \"y\"}, {\"alignmentgroup\": \"True\", \"hoverlabel\": {\"namelength\": 0}, \"hovertemplate\": \"color=APASEO EL GRANDE<br>x=%{x}<br>y=%{y}\", \"legendgroup\": \"color=APASEO EL GRANDE\", \"marker\": {\"color\": \"#FF6692\"}, \"name\": \"color=APASEO EL GRANDE\", \"offsetgroup\": \"color=APASEO EL GRANDE\", \"orientation\": \"v\", \"showlegend\": true, \"textposition\": \"auto\", \"type\": \"bar\", \"x\": [\"APASEO EL GRANDE\"], \"xaxis\": \"x\", \"y\": [5], \"yaxis\": \"y\"}, {\"alignmentgroup\": \"True\", \"hoverlabel\": {\"namelength\": 0}, \"hovertemplate\": \"color=PAPANTLA<br>x=%{x}<br>y=%{y}\", \"legendgroup\": \"color=PAPANTLA\", \"marker\": {\"color\": \"#B6E880\"}, \"name\": \"color=PAPANTLA\", \"offsetgroup\": \"color=PAPANTLA\", \"orientation\": \"v\", \"showlegend\": true, \"textposition\": \"auto\", \"type\": \"bar\", \"x\": [\"PAPANTLA\"], \"xaxis\": \"x\", \"y\": [5], \"yaxis\": \"y\"}, {\"alignmentgroup\": \"True\", \"hoverlabel\": {\"namelength\": 0}, \"hovertemplate\": \"color=TLAYACAPAN<br>x=%{x}<br>y=%{y}\", \"legendgroup\": \"color=TLAYACAPAN\", \"marker\": {\"color\": \"#FF97FF\"}, \"name\": \"color=TLAYACAPAN\", \"offsetgroup\": \"color=TLAYACAPAN\", \"orientation\": \"v\", \"showlegend\": true, \"textposition\": \"auto\", \"type\": \"bar\", \"x\": [\"TLAYACAPAN\"], \"xaxis\": \"x\", \"y\": [5], \"yaxis\": \"y\"}, {\"alignmentgroup\": \"True\", \"hoverlabel\": {\"namelength\": 0}, \"hovertemplate\": \"color=TENANCINGO<br>x=%{x}<br>y=%{y}\", \"legendgroup\": \"color=TENANCINGO\", \"marker\": {\"color\": \"#FECB52\"}, \"name\": \"color=TENANCINGO\", \"offsetgroup\": \"color=TENANCINGO\", \"orientation\": \"v\", \"showlegend\": true, \"textposition\": \"auto\", \"type\": \"bar\", \"x\": [\"TENANCINGO\"], \"xaxis\": \"x\", \"y\": [5], \"yaxis\": \"y\"}, {\"alignmentgroup\": \"True\", \"hoverlabel\": {\"namelength\": 0}, \"hovertemplate\": \"color=TEPEJI DEL RIO DE OCAMPO<br>x=%{x}<br>y=%{y}\", \"legendgroup\": \"color=TEPEJI DEL RIO DE OCAMPO\", \"marker\": {\"color\": \"#636efa\"}, \"name\": \"color=TEPEJI DEL RIO DE OCAMPO\", \"offsetgroup\": \"color=TEPEJI DEL RIO DE OCAMPO\", \"orientation\": \"v\", \"showlegend\": true, \"textposition\": \"auto\", \"type\": \"bar\", \"x\": [\"TEPEJI DEL RIO DE OCAMPO\"], \"xaxis\": \"x\", \"y\": [5], \"yaxis\": \"y\"}, {\"alignmentgroup\": \"True\", \"hoverlabel\": {\"namelength\": 0}, \"hovertemplate\": \"color=FELIPE CARRILLO PUERTO<br>x=%{x}<br>y=%{y}\", \"legendgroup\": \"color=FELIPE CARRILLO PUERTO\", \"marker\": {\"color\": \"#EF553B\"}, \"name\": \"color=FELIPE CARRILLO PUERTO\", \"offsetgroup\": \"color=FELIPE CARRILLO PUERTO\", \"orientation\": \"v\", \"showlegend\": true, \"textposition\": \"auto\", \"type\": \"bar\", \"x\": [\"FELIPE CARRILLO PUERTO\"], \"xaxis\": \"x\", \"y\": [5], \"yaxis\": \"y\"}, {\"alignmentgroup\": \"True\", \"hoverlabel\": {\"namelength\": 0}, \"hovertemplate\": \"color=TEPEAPULCO<br>x=%{x}<br>y=%{y}\", \"legendgroup\": \"color=TEPEAPULCO\", \"marker\": {\"color\": \"#00cc96\"}, \"name\": \"color=TEPEAPULCO\", \"offsetgroup\": \"color=TEPEAPULCO\", \"orientation\": \"v\", \"showlegend\": true, \"textposition\": \"auto\", \"type\": \"bar\", \"x\": [\"TEPEAPULCO\"], \"xaxis\": \"x\", \"y\": [5], \"yaxis\": \"y\"}, {\"alignmentgroup\": \"True\", \"hoverlabel\": {\"namelength\": 0}, \"hovertemplate\": \"color=IXTLAHUACA<br>x=%{x}<br>y=%{y}\", \"legendgroup\": \"color=IXTLAHUACA\", \"marker\": {\"color\": \"#ab63fa\"}, \"name\": \"color=IXTLAHUACA\", \"offsetgroup\": \"color=IXTLAHUACA\", \"orientation\": \"v\", \"showlegend\": true, \"textposition\": \"auto\", \"type\": \"bar\", \"x\": [\"IXTLAHUACA\"], \"xaxis\": \"x\", \"y\": [5], \"yaxis\": \"y\"}, {\"alignmentgroup\": \"True\", \"hoverlabel\": {\"namelength\": 0}, \"hovertemplate\": \"color=ZACATLAN<br>x=%{x}<br>y=%{y}\", \"legendgroup\": \"color=ZACATLAN\", \"marker\": {\"color\": \"#FFA15A\"}, \"name\": \"color=ZACATLAN\", \"offsetgroup\": \"color=ZACATLAN\", \"orientation\": \"v\", \"showlegend\": true, \"textposition\": \"auto\", \"type\": \"bar\", \"x\": [\"ZACATLAN\"], \"xaxis\": \"x\", \"y\": [5], \"yaxis\": \"y\"}, {\"alignmentgroup\": \"True\", \"hoverlabel\": {\"namelength\": 0}, \"hovertemplate\": \"color=ZITACUARO<br>x=%{x}<br>y=%{y}\", \"legendgroup\": \"color=ZITACUARO\", \"marker\": {\"color\": \"#19d3f3\"}, \"name\": \"color=ZITACUARO\", \"offsetgroup\": \"color=ZITACUARO\", \"orientation\": \"v\", \"showlegend\": true, \"textposition\": \"auto\", \"type\": \"bar\", \"x\": [\"ZITACUARO\"], \"xaxis\": \"x\", \"y\": [5], \"yaxis\": \"y\"}, {\"alignmentgroup\": \"True\", \"hoverlabel\": {\"namelength\": 0}, \"hovertemplate\": \"color=ACAMBAY<br>x=%{x}<br>y=%{y}\", \"legendgroup\": \"color=ACAMBAY\", \"marker\": {\"color\": \"#FF6692\"}, \"name\": \"color=ACAMBAY\", \"offsetgroup\": \"color=ACAMBAY\", \"orientation\": \"v\", \"showlegend\": true, \"textposition\": \"auto\", \"type\": \"bar\", \"x\": [\"ACAMBAY\"], \"xaxis\": \"x\", \"y\": [5], \"yaxis\": \"y\"}, {\"alignmentgroup\": \"True\", \"hoverlabel\": {\"namelength\": 0}, \"hovertemplate\": \"color=SAN FRANCISCO DEL RINCON<br>x=%{x}<br>y=%{y}\", \"legendgroup\": \"color=SAN FRANCISCO DEL RINCON\", \"marker\": {\"color\": \"#B6E880\"}, \"name\": \"color=SAN FRANCISCO DEL RINCON\", \"offsetgroup\": \"color=SAN FRANCISCO DEL RINCON\", \"orientation\": \"v\", \"showlegend\": true, \"textposition\": \"auto\", \"type\": \"bar\", \"x\": [\"SAN FRANCISCO DEL RINCON\"], \"xaxis\": \"x\", \"y\": [5], \"yaxis\": \"y\"}, {\"alignmentgroup\": \"True\", \"hoverlabel\": {\"namelength\": 0}, \"hovertemplate\": \"color=COATZACOALCOS<br>x=%{x}<br>y=%{y}\", \"legendgroup\": \"color=COATZACOALCOS\", \"marker\": {\"color\": \"#FF97FF\"}, \"name\": \"color=COATZACOALCOS\", \"offsetgroup\": \"color=COATZACOALCOS\", \"orientation\": \"v\", \"showlegend\": true, \"textposition\": \"auto\", \"type\": \"bar\", \"x\": [\"COATZACOALCOS\"], \"xaxis\": \"x\", \"y\": [5], \"yaxis\": \"y\"}, {\"alignmentgroup\": \"True\", \"hoverlabel\": {\"namelength\": 0}, \"hovertemplate\": \"color=ASCENSION<br>x=%{x}<br>y=%{y}\", \"legendgroup\": \"color=ASCENSION\", \"marker\": {\"color\": \"#FECB52\"}, \"name\": \"color=ASCENSION\", \"offsetgroup\": \"color=ASCENSION\", \"orientation\": \"v\", \"showlegend\": true, \"textposition\": \"auto\", \"type\": \"bar\", \"x\": [\"ASCENSION\"], \"xaxis\": \"x\", \"y\": [5], \"yaxis\": \"y\"}, {\"alignmentgroup\": \"True\", \"hoverlabel\": {\"namelength\": 0}, \"hovertemplate\": \"color=ATLIXCO<br>x=%{x}<br>y=%{y}\", \"legendgroup\": \"color=ATLIXCO\", \"marker\": {\"color\": \"#636efa\"}, \"name\": \"color=ATLIXCO\", \"offsetgroup\": \"color=ATLIXCO\", \"orientation\": \"v\", \"showlegend\": true, \"textposition\": \"auto\", \"type\": \"bar\", \"x\": [\"ATLIXCO\"], \"xaxis\": \"x\", \"y\": [5], \"yaxis\": \"y\"}, {\"alignmentgroup\": \"True\", \"hoverlabel\": {\"namelength\": 0}, \"hovertemplate\": \"color=DOLORES HIDALGO<br>x=%{x}<br>y=%{y}\", \"legendgroup\": \"color=DOLORES HIDALGO\", \"marker\": {\"color\": \"#EF553B\"}, \"name\": \"color=DOLORES HIDALGO\", \"offsetgroup\": \"color=DOLORES HIDALGO\", \"orientation\": \"v\", \"showlegend\": true, \"textposition\": \"auto\", \"type\": \"bar\", \"x\": [\"DOLORES HIDALGO\"], \"xaxis\": \"x\", \"y\": [5], \"yaxis\": \"y\"}, {\"alignmentgroup\": \"True\", \"hoverlabel\": {\"namelength\": 0}, \"hovertemplate\": \"color=TEJUPILCO<br>x=%{x}<br>y=%{y}\", \"legendgroup\": \"color=TEJUPILCO\", \"marker\": {\"color\": \"#00cc96\"}, \"name\": \"color=TEJUPILCO\", \"offsetgroup\": \"color=TEJUPILCO\", \"orientation\": \"v\", \"showlegend\": true, \"textposition\": \"auto\", \"type\": \"bar\", \"x\": [\"TEJUPILCO\"], \"xaxis\": \"x\", \"y\": [4], \"yaxis\": \"y\"}, {\"alignmentgroup\": \"True\", \"hoverlabel\": {\"namelength\": 0}, \"hovertemplate\": \"color=Tulum<br>x=%{x}<br>y=%{y}\", \"legendgroup\": \"color=Tulum\", \"marker\": {\"color\": \"#ab63fa\"}, \"name\": \"color=Tulum\", \"offsetgroup\": \"color=Tulum\", \"orientation\": \"v\", \"showlegend\": true, \"textposition\": \"auto\", \"type\": \"bar\", \"x\": [\"Tulum\"], \"xaxis\": \"x\", \"y\": [4], \"yaxis\": \"y\"}, {\"alignmentgroup\": \"True\", \"hoverlabel\": {\"namelength\": 0}, \"hovertemplate\": \"color=CUAUTLANCINGO<br>x=%{x}<br>y=%{y}\", \"legendgroup\": \"color=CUAUTLANCINGO\", \"marker\": {\"color\": \"#FFA15A\"}, \"name\": \"color=CUAUTLANCINGO\", \"offsetgroup\": \"color=CUAUTLANCINGO\", \"orientation\": \"v\", \"showlegend\": true, \"textposition\": \"auto\", \"type\": \"bar\", \"x\": [\"CUAUTLANCINGO\"], \"xaxis\": \"x\", \"y\": [4], \"yaxis\": \"y\"}, {\"alignmentgroup\": \"True\", \"hoverlabel\": {\"namelength\": 0}, \"hovertemplate\": \"color=COMITAN DE DOMINGUEZ<br>x=%{x}<br>y=%{y}\", \"legendgroup\": \"color=COMITAN DE DOMINGUEZ\", \"marker\": {\"color\": \"#19d3f3\"}, \"name\": \"color=COMITAN DE DOMINGUEZ\", \"offsetgroup\": \"color=COMITAN DE DOMINGUEZ\", \"orientation\": \"v\", \"showlegend\": true, \"textposition\": \"auto\", \"type\": \"bar\", \"x\": [\"COMITAN DE DOMINGUEZ\"], \"xaxis\": \"x\", \"y\": [4], \"yaxis\": \"y\"}, {\"alignmentgroup\": \"True\", \"hoverlabel\": {\"namelength\": 0}, \"hovertemplate\": \"color=AXAPUSCO<br>x=%{x}<br>y=%{y}\", \"legendgroup\": \"color=AXAPUSCO\", \"marker\": {\"color\": \"#FF6692\"}, \"name\": \"color=AXAPUSCO\", \"offsetgroup\": \"color=AXAPUSCO\", \"orientation\": \"v\", \"showlegend\": true, \"textposition\": \"auto\", \"type\": \"bar\", \"x\": [\"AXAPUSCO\"], \"xaxis\": \"x\", \"y\": [4], \"yaxis\": \"y\"}, {\"alignmentgroup\": \"True\", \"hoverlabel\": {\"namelength\": 0}, \"hovertemplate\": \"color=HUAMANTLA<br>x=%{x}<br>y=%{y}\", \"legendgroup\": \"color=HUAMANTLA\", \"marker\": {\"color\": \"#B6E880\"}, \"name\": \"color=HUAMANTLA\", \"offsetgroup\": \"color=HUAMANTLA\", \"orientation\": \"v\", \"showlegend\": true, \"textposition\": \"auto\", \"type\": \"bar\", \"x\": [\"HUAMANTLA\"], \"xaxis\": \"x\", \"y\": [4], \"yaxis\": \"y\"}, {\"alignmentgroup\": \"True\", \"hoverlabel\": {\"namelength\": 0}, \"hovertemplate\": \"color=CAJEME<br>x=%{x}<br>y=%{y}\", \"legendgroup\": \"color=CAJEME\", \"marker\": {\"color\": \"#FF97FF\"}, \"name\": \"color=CAJEME\", \"offsetgroup\": \"color=CAJEME\", \"orientation\": \"v\", \"showlegend\": true, \"textposition\": \"auto\", \"type\": \"bar\", \"x\": [\"CAJEME\"], \"xaxis\": \"x\", \"y\": [4], \"yaxis\": \"y\"}, {\"alignmentgroup\": \"True\", \"hoverlabel\": {\"namelength\": 0}, \"hovertemplate\": \"color=SAN JUAN BAUTISTA TUXTEPEC<br>x=%{x}<br>y=%{y}\", \"legendgroup\": \"color=SAN JUAN BAUTISTA TUXTEPEC\", \"marker\": {\"color\": \"#FECB52\"}, \"name\": \"color=SAN JUAN BAUTISTA TUXTEPEC\", \"offsetgroup\": \"color=SAN JUAN BAUTISTA TUXTEPEC\", \"orientation\": \"v\", \"showlegend\": true, \"textposition\": \"auto\", \"type\": \"bar\", \"x\": [\"SAN JUAN BAUTISTA TUXTEPEC\"], \"xaxis\": \"x\", \"y\": [4], \"yaxis\": \"y\"}, {\"alignmentgroup\": \"True\", \"hoverlabel\": {\"namelength\": 0}, \"hovertemplate\": \"color=NOPALTEPEC<br>x=%{x}<br>y=%{y}\", \"legendgroup\": \"color=NOPALTEPEC\", \"marker\": {\"color\": \"#636efa\"}, \"name\": \"color=NOPALTEPEC\", \"offsetgroup\": \"color=NOPALTEPEC\", \"orientation\": \"v\", \"showlegend\": true, \"textposition\": \"auto\", \"type\": \"bar\", \"x\": [\"NOPALTEPEC\"], \"xaxis\": \"x\", \"y\": [4], \"yaxis\": \"y\"}, {\"alignmentgroup\": \"True\", \"hoverlabel\": {\"namelength\": 0}, \"hovertemplate\": \"color=CIUDAD MADERO<br>x=%{x}<br>y=%{y}\", \"legendgroup\": \"color=CIUDAD MADERO\", \"marker\": {\"color\": \"#EF553B\"}, \"name\": \"color=CIUDAD MADERO\", \"offsetgroup\": \"color=CIUDAD MADERO\", \"orientation\": \"v\", \"showlegend\": true, \"textposition\": \"auto\", \"type\": \"bar\", \"x\": [\"CIUDAD MADERO\"], \"xaxis\": \"x\", \"y\": [4], \"yaxis\": \"y\"}, {\"alignmentgroup\": \"True\", \"hoverlabel\": {\"namelength\": 0}, \"hovertemplate\": \"color=GOMEZ PALACIO<br>x=%{x}<br>y=%{y}\", \"legendgroup\": \"color=GOMEZ PALACIO\", \"marker\": {\"color\": \"#00cc96\"}, \"name\": \"color=GOMEZ PALACIO\", \"offsetgroup\": \"color=GOMEZ PALACIO\", \"orientation\": \"v\", \"showlegend\": true, \"textposition\": \"auto\", \"type\": \"bar\", \"x\": [\"GOMEZ PALACIO\"], \"xaxis\": \"x\", \"y\": [4], \"yaxis\": \"y\"}, {\"alignmentgroup\": \"True\", \"hoverlabel\": {\"namelength\": 0}, \"hovertemplate\": \"color=ORIZABA<br>x=%{x}<br>y=%{y}\", \"legendgroup\": \"color=ORIZABA\", \"marker\": {\"color\": \"#ab63fa\"}, \"name\": \"color=ORIZABA\", \"offsetgroup\": \"color=ORIZABA\", \"orientation\": \"v\", \"showlegend\": true, \"textposition\": \"auto\", \"type\": \"bar\", \"x\": [\"ORIZABA\"], \"xaxis\": \"x\", \"y\": [4], \"yaxis\": \"y\"}, {\"alignmentgroup\": \"True\", \"hoverlabel\": {\"namelength\": 0}, \"hovertemplate\": \"color=CARMEN<br>x=%{x}<br>y=%{y}\", \"legendgroup\": \"color=CARMEN\", \"marker\": {\"color\": \"#FFA15A\"}, \"name\": \"color=CARMEN\", \"offsetgroup\": \"color=CARMEN\", \"orientation\": \"v\", \"showlegend\": true, \"textposition\": \"auto\", \"type\": \"bar\", \"x\": [\"CARMEN\"], \"xaxis\": \"x\", \"y\": [4], \"yaxis\": \"y\"}, {\"alignmentgroup\": \"True\", \"hoverlabel\": {\"namelength\": 0}, \"hovertemplate\": \"color=LAZARO CARDENAS<br>x=%{x}<br>y=%{y}\", \"legendgroup\": \"color=LAZARO CARDENAS\", \"marker\": {\"color\": \"#19d3f3\"}, \"name\": \"color=LAZARO CARDENAS\", \"offsetgroup\": \"color=LAZARO CARDENAS\", \"orientation\": \"v\", \"showlegend\": true, \"textposition\": \"auto\", \"type\": \"bar\", \"x\": [\"LAZARO CARDENAS\"], \"xaxis\": \"x\", \"y\": [4], \"yaxis\": \"y\"}, {\"alignmentgroup\": \"True\", \"hoverlabel\": {\"namelength\": 0}, \"hovertemplate\": \"color=JIQUIPILCO<br>x=%{x}<br>y=%{y}\", \"legendgroup\": \"color=JIQUIPILCO\", \"marker\": {\"color\": \"#FF6692\"}, \"name\": \"color=JIQUIPILCO\", \"offsetgroup\": \"color=JIQUIPILCO\", \"orientation\": \"v\", \"showlegend\": true, \"textposition\": \"auto\", \"type\": \"bar\", \"x\": [\"JIQUIPILCO\"], \"xaxis\": \"x\", \"y\": [4], \"yaxis\": \"y\"}, {\"alignmentgroup\": \"True\", \"hoverlabel\": {\"namelength\": 0}, \"hovertemplate\": \"color=COZUMEL<br>x=%{x}<br>y=%{y}\", \"legendgroup\": \"color=COZUMEL\", \"marker\": {\"color\": \"#B6E880\"}, \"name\": \"color=COZUMEL\", \"offsetgroup\": \"color=COZUMEL\", \"orientation\": \"v\", \"showlegend\": true, \"textposition\": \"auto\", \"type\": \"bar\", \"x\": [\"COZUMEL\"], \"xaxis\": \"x\", \"y\": [4], \"yaxis\": \"y\"}, {\"alignmentgroup\": \"True\", \"hoverlabel\": {\"namelength\": 0}, \"hovertemplate\": \"color=CHICONCUAC<br>x=%{x}<br>y=%{y}\", \"legendgroup\": \"color=CHICONCUAC\", \"marker\": {\"color\": \"#FF97FF\"}, \"name\": \"color=CHICONCUAC\", \"offsetgroup\": \"color=CHICONCUAC\", \"orientation\": \"v\", \"showlegend\": true, \"textposition\": \"auto\", \"type\": \"bar\", \"x\": [\"CHICONCUAC\"], \"xaxis\": \"x\", \"y\": [4], \"yaxis\": \"y\"}, {\"alignmentgroup\": \"True\", \"hoverlabel\": {\"namelength\": 0}, \"hovertemplate\": \"color=TEMASCALAPA<br>x=%{x}<br>y=%{y}\", \"legendgroup\": \"color=TEMASCALAPA\", \"marker\": {\"color\": \"#FECB52\"}, \"name\": \"color=TEMASCALAPA\", \"offsetgroup\": \"color=TEMASCALAPA\", \"orientation\": \"v\", \"showlegend\": true, \"textposition\": \"auto\", \"type\": \"bar\", \"x\": [\"TEMASCALAPA\"], \"xaxis\": \"x\", \"y\": [4], \"yaxis\": \"y\"}, {\"alignmentgroup\": \"True\", \"hoverlabel\": {\"namelength\": 0}, \"hovertemplate\": \"color=TEQUISQUIAPAN<br>x=%{x}<br>y=%{y}\", \"legendgroup\": \"color=TEQUISQUIAPAN\", \"marker\": {\"color\": \"#636efa\"}, \"name\": \"color=TEQUISQUIAPAN\", \"offsetgroup\": \"color=TEQUISQUIAPAN\", \"orientation\": \"v\", \"showlegend\": true, \"textposition\": \"auto\", \"type\": \"bar\", \"x\": [\"TEQUISQUIAPAN\"], \"xaxis\": \"x\", \"y\": [4], \"yaxis\": \"y\"}, {\"alignmentgroup\": \"True\", \"hoverlabel\": {\"namelength\": 0}, \"hovertemplate\": \"color=MINERAL DE LA REFORMA<br>x=%{x}<br>y=%{y}\", \"legendgroup\": \"color=MINERAL DE LA REFORMA\", \"marker\": {\"color\": \"#EF553B\"}, \"name\": \"color=MINERAL DE LA REFORMA\", \"offsetgroup\": \"color=MINERAL DE LA REFORMA\", \"orientation\": \"v\", \"showlegend\": true, \"textposition\": \"auto\", \"type\": \"bar\", \"x\": [\"MINERAL DE LA REFORMA\"], \"xaxis\": \"x\", \"y\": [4], \"yaxis\": \"y\"}, {\"alignmentgroup\": \"True\", \"hoverlabel\": {\"namelength\": 0}, \"hovertemplate\": \"color=FRESNILLO<br>x=%{x}<br>y=%{y}\", \"legendgroup\": \"color=FRESNILLO\", \"marker\": {\"color\": \"#00cc96\"}, \"name\": \"color=FRESNILLO\", \"offsetgroup\": \"color=FRESNILLO\", \"orientation\": \"v\", \"showlegend\": true, \"textposition\": \"auto\", \"type\": \"bar\", \"x\": [\"FRESNILLO\"], \"xaxis\": \"x\", \"y\": [4], \"yaxis\": \"y\"}, {\"alignmentgroup\": \"True\", \"hoverlabel\": {\"namelength\": 0}, \"hovertemplate\": \"color=CHAMPOTON<br>x=%{x}<br>y=%{y}\", \"legendgroup\": \"color=CHAMPOTON\", \"marker\": {\"color\": \"#ab63fa\"}, \"name\": \"color=CHAMPOTON\", \"offsetgroup\": \"color=CHAMPOTON\", \"orientation\": \"v\", \"showlegend\": true, \"textposition\": \"auto\", \"type\": \"bar\", \"x\": [\"CHAMPOTON\"], \"xaxis\": \"x\", \"y\": [3], \"yaxis\": \"y\"}, {\"alignmentgroup\": \"True\", \"hoverlabel\": {\"namelength\": 0}, \"hovertemplate\": \"color=VILLA DEL CARBON<br>x=%{x}<br>y=%{y}\", \"legendgroup\": \"color=VILLA DEL CARBON\", \"marker\": {\"color\": \"#FFA15A\"}, \"name\": \"color=VILLA DEL CARBON\", \"offsetgroup\": \"color=VILLA DEL CARBON\", \"orientation\": \"v\", \"showlegend\": true, \"textposition\": \"auto\", \"type\": \"bar\", \"x\": [\"VILLA DEL CARBON\"], \"xaxis\": \"x\", \"y\": [3], \"yaxis\": \"y\"}, {\"alignmentgroup\": \"True\", \"hoverlabel\": {\"namelength\": 0}, \"hovertemplate\": \"color=TENANGO DEL AIRE<br>x=%{x}<br>y=%{y}\", \"legendgroup\": \"color=TENANGO DEL AIRE\", \"marker\": {\"color\": \"#19d3f3\"}, \"name\": \"color=TENANGO DEL AIRE\", \"offsetgroup\": \"color=TENANGO DEL AIRE\", \"orientation\": \"v\", \"showlegend\": true, \"textposition\": \"auto\", \"type\": \"bar\", \"x\": [\"TENANGO DEL AIRE\"], \"xaxis\": \"x\", \"y\": [3], \"yaxis\": \"y\"}, {\"alignmentgroup\": \"True\", \"hoverlabel\": {\"namelength\": 0}, \"hovertemplate\": \"color=CARDONAL<br>x=%{x}<br>y=%{y}\", \"legendgroup\": \"color=CARDONAL\", \"marker\": {\"color\": \"#FF6692\"}, \"name\": \"color=CARDONAL\", \"offsetgroup\": \"color=CARDONAL\", \"orientation\": \"v\", \"showlegend\": true, \"textposition\": \"auto\", \"type\": \"bar\", \"x\": [\"CARDONAL\"], \"xaxis\": \"x\", \"y\": [3], \"yaxis\": \"y\"}, {\"alignmentgroup\": \"True\", \"hoverlabel\": {\"namelength\": 0}, \"hovertemplate\": \"color=OTUMBA<br>x=%{x}<br>y=%{y}\", \"legendgroup\": \"color=OTUMBA\", \"marker\": {\"color\": \"#B6E880\"}, \"name\": \"color=OTUMBA\", \"offsetgroup\": \"color=OTUMBA\", \"orientation\": \"v\", \"showlegend\": true, \"textposition\": \"auto\", \"type\": \"bar\", \"x\": [\"OTUMBA\"], \"xaxis\": \"x\", \"y\": [3], \"yaxis\": \"y\"}, {\"alignmentgroup\": \"True\", \"hoverlabel\": {\"namelength\": 0}, \"hovertemplate\": \"color=TECOLUTLA<br>x=%{x}<br>y=%{y}\", \"legendgroup\": \"color=TECOLUTLA\", \"marker\": {\"color\": \"#FF97FF\"}, \"name\": \"color=TECOLUTLA\", \"offsetgroup\": \"color=TECOLUTLA\", \"orientation\": \"v\", \"showlegend\": true, \"textposition\": \"auto\", \"type\": \"bar\", \"x\": [\"TECOLUTLA\"], \"xaxis\": \"x\", \"y\": [3], \"yaxis\": \"y\"}, {\"alignmentgroup\": \"True\", \"hoverlabel\": {\"namelength\": 0}, \"hovertemplate\": \"color=TLALTIZAPAN<br>x=%{x}<br>y=%{y}\", \"legendgroup\": \"color=TLALTIZAPAN\", \"marker\": {\"color\": \"#FECB52\"}, \"name\": \"color=TLALTIZAPAN\", \"offsetgroup\": \"color=TLALTIZAPAN\", \"orientation\": \"v\", \"showlegend\": true, \"textposition\": \"auto\", \"type\": \"bar\", \"x\": [\"TLALTIZAPAN\"], \"xaxis\": \"x\", \"y\": [3], \"yaxis\": \"y\"}, {\"alignmentgroup\": \"True\", \"hoverlabel\": {\"namelength\": 0}, \"hovertemplate\": \"color=JALTENCO<br>x=%{x}<br>y=%{y}\", \"legendgroup\": \"color=JALTENCO\", \"marker\": {\"color\": \"#636efa\"}, \"name\": \"color=JALTENCO\", \"offsetgroup\": \"color=JALTENCO\", \"orientation\": \"v\", \"showlegend\": true, \"textposition\": \"auto\", \"type\": \"bar\", \"x\": [\"JALTENCO\"], \"xaxis\": \"x\", \"y\": [3], \"yaxis\": \"y\"}, {\"alignmentgroup\": \"True\", \"hoverlabel\": {\"namelength\": 0}, \"hovertemplate\": \"color=CERRO DE SAN PEDRO<br>x=%{x}<br>y=%{y}\", \"legendgroup\": \"color=CERRO DE SAN PEDRO\", \"marker\": {\"color\": \"#EF553B\"}, \"name\": \"color=CERRO DE SAN PEDRO\", \"offsetgroup\": \"color=CERRO DE SAN PEDRO\", \"orientation\": \"v\", \"showlegend\": true, \"textposition\": \"auto\", \"type\": \"bar\", \"x\": [\"CERRO DE SAN PEDRO\"], \"xaxis\": \"x\", \"y\": [3], \"yaxis\": \"y\"}, {\"alignmentgroup\": \"True\", \"hoverlabel\": {\"namelength\": 0}, \"hovertemplate\": \"color=SAN ANTONIO LA ISLA<br>x=%{x}<br>y=%{y}\", \"legendgroup\": \"color=SAN ANTONIO LA ISLA\", \"marker\": {\"color\": \"#00cc96\"}, \"name\": \"color=SAN ANTONIO LA ISLA\", \"offsetgroup\": \"color=SAN ANTONIO LA ISLA\", \"orientation\": \"v\", \"showlegend\": true, \"textposition\": \"auto\", \"type\": \"bar\", \"x\": [\"SAN ANTONIO LA ISLA\"], \"xaxis\": \"x\", \"y\": [3], \"yaxis\": \"y\"}, {\"alignmentgroup\": \"True\", \"hoverlabel\": {\"namelength\": 0}, \"hovertemplate\": \"color=CALIMAYA<br>x=%{x}<br>y=%{y}\", \"legendgroup\": \"color=CALIMAYA\", \"marker\": {\"color\": \"#ab63fa\"}, \"name\": \"color=CALIMAYA\", \"offsetgroup\": \"color=CALIMAYA\", \"orientation\": \"v\", \"showlegend\": true, \"textposition\": \"auto\", \"type\": \"bar\", \"x\": [\"CALIMAYA\"], \"xaxis\": \"x\", \"y\": [3], \"yaxis\": \"y\"}, {\"alignmentgroup\": \"True\", \"hoverlabel\": {\"namelength\": 0}, \"hovertemplate\": \"color=ACATLAN<br>x=%{x}<br>y=%{y}\", \"legendgroup\": \"color=ACATLAN\", \"marker\": {\"color\": \"#FFA15A\"}, \"name\": \"color=ACATLAN\", \"offsetgroup\": \"color=ACATLAN\", \"orientation\": \"v\", \"showlegend\": true, \"textposition\": \"auto\", \"type\": \"bar\", \"x\": [\"ACATLAN\"], \"xaxis\": \"x\", \"y\": [3], \"yaxis\": \"y\"}, {\"alignmentgroup\": \"True\", \"hoverlabel\": {\"namelength\": 0}, \"hovertemplate\": \"color=TELOLOAPAN<br>x=%{x}<br>y=%{y}\", \"legendgroup\": \"color=TELOLOAPAN\", \"marker\": {\"color\": \"#19d3f3\"}, \"name\": \"color=TELOLOAPAN\", \"offsetgroup\": \"color=TELOLOAPAN\", \"orientation\": \"v\", \"showlegend\": true, \"textposition\": \"auto\", \"type\": \"bar\", \"x\": [\"TELOLOAPAN\"], \"xaxis\": \"x\", \"y\": [3], \"yaxis\": \"y\"}, {\"alignmentgroup\": \"True\", \"hoverlabel\": {\"namelength\": 0}, \"hovertemplate\": \"color=TAPACHULA<br>x=%{x}<br>y=%{y}\", \"legendgroup\": \"color=TAPACHULA\", \"marker\": {\"color\": \"#FF6692\"}, \"name\": \"color=TAPACHULA\", \"offsetgroup\": \"color=TAPACHULA\", \"orientation\": \"v\", \"showlegend\": true, \"textposition\": \"auto\", \"type\": \"bar\", \"x\": [\"TAPACHULA\"], \"xaxis\": \"x\", \"y\": [3], \"yaxis\": \"y\"}, {\"alignmentgroup\": \"True\", \"hoverlabel\": {\"namelength\": 0}, \"hovertemplate\": \"color=ZACAPOAXTLA<br>x=%{x}<br>y=%{y}\", \"legendgroup\": \"color=ZACAPOAXTLA\", \"marker\": {\"color\": \"#B6E880\"}, \"name\": \"color=ZACAPOAXTLA\", \"offsetgroup\": \"color=ZACAPOAXTLA\", \"orientation\": \"v\", \"showlegend\": true, \"textposition\": \"auto\", \"type\": \"bar\", \"x\": [\"ZACAPOAXTLA\"], \"xaxis\": \"x\", \"y\": [3], \"yaxis\": \"y\"}, {\"alignmentgroup\": \"True\", \"hoverlabel\": {\"namelength\": 0}, \"hovertemplate\": \"color=AYAPANGO<br>x=%{x}<br>y=%{y}\", \"legendgroup\": \"color=AYAPANGO\", \"marker\": {\"color\": \"#FF97FF\"}, \"name\": \"color=AYAPANGO\", \"offsetgroup\": \"color=AYAPANGO\", \"orientation\": \"v\", \"showlegend\": true, \"textposition\": \"auto\", \"type\": \"bar\", \"x\": [\"AYAPANGO\"], \"xaxis\": \"x\", \"y\": [3], \"yaxis\": \"y\"}, {\"alignmentgroup\": \"True\", \"hoverlabel\": {\"namelength\": 0}, \"hovertemplate\": \"color=EL BOSQUE<br>x=%{x}<br>y=%{y}\", \"legendgroup\": \"color=EL BOSQUE\", \"marker\": {\"color\": \"#FECB52\"}, \"name\": \"color=EL BOSQUE\", \"offsetgroup\": \"color=EL BOSQUE\", \"orientation\": \"v\", \"showlegend\": true, \"textposition\": \"auto\", \"type\": \"bar\", \"x\": [\"EL BOSQUE\"], \"xaxis\": \"x\", \"y\": [3], \"yaxis\": \"y\"}, {\"alignmentgroup\": \"True\", \"hoverlabel\": {\"namelength\": 0}, \"hovertemplate\": \"color=ACAMBARO<br>x=%{x}<br>y=%{y}\", \"legendgroup\": \"color=ACAMBARO\", \"marker\": {\"color\": \"#636efa\"}, \"name\": \"color=ACAMBARO\", \"offsetgroup\": \"color=ACAMBARO\", \"orientation\": \"v\", \"showlegend\": true, \"textposition\": \"auto\", \"type\": \"bar\", \"x\": [\"ACAMBARO\"], \"xaxis\": \"x\", \"y\": [3], \"yaxis\": \"y\"}, {\"alignmentgroup\": \"True\", \"hoverlabel\": {\"namelength\": 0}, \"hovertemplate\": \"color=ATLATLAHUCAN<br>x=%{x}<br>y=%{y}\", \"legendgroup\": \"color=ATLATLAHUCAN\", \"marker\": {\"color\": \"#EF553B\"}, \"name\": \"color=ATLATLAHUCAN\", \"offsetgroup\": \"color=ATLATLAHUCAN\", \"orientation\": \"v\", \"showlegend\": true, \"textposition\": \"auto\", \"type\": \"bar\", \"x\": [\"ATLATLAHUCAN\"], \"xaxis\": \"x\", \"y\": [3], \"yaxis\": \"y\"}, {\"alignmentgroup\": \"True\", \"hoverlabel\": {\"namelength\": 0}, \"hovertemplate\": \"color=TLANALAPA<br>x=%{x}<br>y=%{y}\", \"legendgroup\": \"color=TLANALAPA\", \"marker\": {\"color\": \"#00cc96\"}, \"name\": \"color=TLANALAPA\", \"offsetgroup\": \"color=TLANALAPA\", \"orientation\": \"v\", \"showlegend\": true, \"textposition\": \"auto\", \"type\": \"bar\", \"x\": [\"TLANALAPA\"], \"xaxis\": \"x\", \"y\": [3], \"yaxis\": \"y\"}, {\"alignmentgroup\": \"True\", \"hoverlabel\": {\"namelength\": 0}, \"hovertemplate\": \"color=MAZATLAN<br>x=%{x}<br>y=%{y}\", \"legendgroup\": \"color=MAZATLAN\", \"marker\": {\"color\": \"#ab63fa\"}, \"name\": \"color=MAZATLAN\", \"offsetgroup\": \"color=MAZATLAN\", \"orientation\": \"v\", \"showlegend\": true, \"textposition\": \"auto\", \"type\": \"bar\", \"x\": [\"MAZATLAN\"], \"xaxis\": \"x\", \"y\": [3], \"yaxis\": \"y\"}, {\"alignmentgroup\": \"True\", \"hoverlabel\": {\"namelength\": 0}, \"hovertemplate\": \"color=LAGOS DE MORENO<br>x=%{x}<br>y=%{y}\", \"legendgroup\": \"color=LAGOS DE MORENO\", \"marker\": {\"color\": \"#FFA15A\"}, \"name\": \"color=LAGOS DE MORENO\", \"offsetgroup\": \"color=LAGOS DE MORENO\", \"orientation\": \"v\", \"showlegend\": true, \"textposition\": \"auto\", \"type\": \"bar\", \"x\": [\"LAGOS DE MORENO\"], \"xaxis\": \"x\", \"y\": [3], \"yaxis\": \"y\"}, {\"alignmentgroup\": \"True\", \"hoverlabel\": {\"namelength\": 0}, \"hovertemplate\": \"color=SULTEPEC<br>x=%{x}<br>y=%{y}\", \"legendgroup\": \"color=SULTEPEC\", \"marker\": {\"color\": \"#19d3f3\"}, \"name\": \"color=SULTEPEC\", \"offsetgroup\": \"color=SULTEPEC\", \"orientation\": \"v\", \"showlegend\": true, \"textposition\": \"auto\", \"type\": \"bar\", \"x\": [\"SULTEPEC\"], \"xaxis\": \"x\", \"y\": [3], \"yaxis\": \"y\"}, {\"alignmentgroup\": \"True\", \"hoverlabel\": {\"namelength\": 0}, \"hovertemplate\": \"color=LA UNION DE ISIDORO MONTES DE OCA<br>x=%{x}<br>y=%{y}\", \"legendgroup\": \"color=LA UNION DE ISIDORO MONTES DE OCA\", \"marker\": {\"color\": \"#FF6692\"}, \"name\": \"color=LA UNION DE ISIDORO MONTES DE OCA\", \"offsetgroup\": \"color=LA UNION DE ISIDORO MONTES DE OCA\", \"orientation\": \"v\", \"showlegend\": true, \"textposition\": \"auto\", \"type\": \"bar\", \"x\": [\"LA UNION DE ISIDORO MONTES DE OCA\"], \"xaxis\": \"x\", \"y\": [3], \"yaxis\": \"y\"}, {\"alignmentgroup\": \"True\", \"hoverlabel\": {\"namelength\": 0}, \"hovertemplate\": \"color=TORREON<br>x=%{x}<br>y=%{y}\", \"legendgroup\": \"color=TORREON\", \"marker\": {\"color\": \"#B6E880\"}, \"name\": \"color=TORREON\", \"offsetgroup\": \"color=TORREON\", \"orientation\": \"v\", \"showlegend\": true, \"textposition\": \"auto\", \"type\": \"bar\", \"x\": [\"TORREON\"], \"xaxis\": \"x\", \"y\": [3], \"yaxis\": \"y\"}, {\"alignmentgroup\": \"True\", \"hoverlabel\": {\"namelength\": 0}, \"hovertemplate\": \"color=YECAPIXTLA<br>x=%{x}<br>y=%{y}\", \"legendgroup\": \"color=YECAPIXTLA\", \"marker\": {\"color\": \"#FF97FF\"}, \"name\": \"color=YECAPIXTLA\", \"offsetgroup\": \"color=YECAPIXTLA\", \"orientation\": \"v\", \"showlegend\": true, \"textposition\": \"auto\", \"type\": \"bar\", \"x\": [\"YECAPIXTLA\"], \"xaxis\": \"x\", \"y\": [3], \"yaxis\": \"y\"}, {\"alignmentgroup\": \"True\", \"hoverlabel\": {\"namelength\": 0}, \"hovertemplate\": \"color=JOJUTLA<br>x=%{x}<br>y=%{y}\", \"legendgroup\": \"color=JOJUTLA\", \"marker\": {\"color\": \"#FECB52\"}, \"name\": \"color=JOJUTLA\", \"offsetgroup\": \"color=JOJUTLA\", \"orientation\": \"v\", \"showlegend\": true, \"textposition\": \"auto\", \"type\": \"bar\", \"x\": [\"JOJUTLA\"], \"xaxis\": \"x\", \"y\": [3], \"yaxis\": \"y\"}, {\"alignmentgroup\": \"True\", \"hoverlabel\": {\"namelength\": 0}, \"hovertemplate\": \"color=CUAUTEPEC<br>x=%{x}<br>y=%{y}\", \"legendgroup\": \"color=CUAUTEPEC\", \"marker\": {\"color\": \"#636efa\"}, \"name\": \"color=CUAUTEPEC\", \"offsetgroup\": \"color=CUAUTEPEC\", \"orientation\": \"v\", \"showlegend\": true, \"textposition\": \"auto\", \"type\": \"bar\", \"x\": [\"CUAUTEPEC\"], \"xaxis\": \"x\", \"y\": [3], \"yaxis\": \"y\"}, {\"alignmentgroup\": \"True\", \"hoverlabel\": {\"namelength\": 0}, \"hovertemplate\": \"color=SAN PEDRO CHOLULA<br>x=%{x}<br>y=%{y}\", \"legendgroup\": \"color=SAN PEDRO CHOLULA\", \"marker\": {\"color\": \"#EF553B\"}, \"name\": \"color=SAN PEDRO CHOLULA\", \"offsetgroup\": \"color=SAN PEDRO CHOLULA\", \"orientation\": \"v\", \"showlegend\": true, \"textposition\": \"auto\", \"type\": \"bar\", \"x\": [\"SAN PEDRO CHOLULA\"], \"xaxis\": \"x\", \"y\": [3], \"yaxis\": \"y\"}, {\"alignmentgroup\": \"True\", \"hoverlabel\": {\"namelength\": 0}, \"hovertemplate\": \"color=TLATLAYA<br>x=%{x}<br>y=%{y}\", \"legendgroup\": \"color=TLATLAYA\", \"marker\": {\"color\": \"#00cc96\"}, \"name\": \"color=TLATLAYA\", \"offsetgroup\": \"color=TLATLAYA\", \"orientation\": \"v\", \"showlegend\": true, \"textposition\": \"auto\", \"type\": \"bar\", \"x\": [\"TLATLAYA\"], \"xaxis\": \"x\", \"y\": [3], \"yaxis\": \"y\"}, {\"alignmentgroup\": \"True\", \"hoverlabel\": {\"namelength\": 0}, \"hovertemplate\": \"color=HUEHUETLA<br>x=%{x}<br>y=%{y}\", \"legendgroup\": \"color=HUEHUETLA\", \"marker\": {\"color\": \"#ab63fa\"}, \"name\": \"color=HUEHUETLA\", \"offsetgroup\": \"color=HUEHUETLA\", \"orientation\": \"v\", \"showlegend\": true, \"textposition\": \"auto\", \"type\": \"bar\", \"x\": [\"HUEHUETLA\"], \"xaxis\": \"x\", \"y\": [3], \"yaxis\": \"y\"}, {\"alignmentgroup\": \"True\", \"hoverlabel\": {\"namelength\": 0}, \"hovertemplate\": \"color=SAN PEDRO MIXTEPEC - DISTR. 22 -<br>x=%{x}<br>y=%{y}\", \"legendgroup\": \"color=SAN PEDRO MIXTEPEC - DISTR. 22 -\", \"marker\": {\"color\": \"#FFA15A\"}, \"name\": \"color=SAN PEDRO MIXTEPEC - DISTR. 22 -\", \"offsetgroup\": \"color=SAN PEDRO MIXTEPEC - DISTR. 22 -\", \"orientation\": \"v\", \"showlegend\": true, \"textposition\": \"auto\", \"type\": \"bar\", \"x\": [\"SAN PEDRO MIXTEPEC - DISTR. 22 -\"], \"xaxis\": \"x\", \"y\": [3], \"yaxis\": \"y\"}, {\"alignmentgroup\": \"True\", \"hoverlabel\": {\"namelength\": 0}, \"hovertemplate\": \"color=SALINA CRUZ<br>x=%{x}<br>y=%{y}\", \"legendgroup\": \"color=SALINA CRUZ\", \"marker\": {\"color\": \"#19d3f3\"}, \"name\": \"color=SALINA CRUZ\", \"offsetgroup\": \"color=SALINA CRUZ\", \"orientation\": \"v\", \"showlegend\": true, \"textposition\": \"auto\", \"type\": \"bar\", \"x\": [\"SALINA CRUZ\"], \"xaxis\": \"x\", \"y\": [3], \"yaxis\": \"y\"}, {\"alignmentgroup\": \"True\", \"hoverlabel\": {\"namelength\": 0}, \"hovertemplate\": \"color=OCAMPO<br>x=%{x}<br>y=%{y}\", \"legendgroup\": \"color=OCAMPO\", \"marker\": {\"color\": \"#FF6692\"}, \"name\": \"color=OCAMPO\", \"offsetgroup\": \"color=OCAMPO\", \"orientation\": \"v\", \"showlegend\": true, \"textposition\": \"auto\", \"type\": \"bar\", \"x\": [\"OCAMPO\"], \"xaxis\": \"x\", \"y\": [3], \"yaxis\": \"y\"}, {\"alignmentgroup\": \"True\", \"hoverlabel\": {\"namelength\": 0}, \"hovertemplate\": \"color=TLANEPANTLA<br>x=%{x}<br>y=%{y}\", \"legendgroup\": \"color=TLANEPANTLA\", \"marker\": {\"color\": \"#B6E880\"}, \"name\": \"color=TLANEPANTLA\", \"offsetgroup\": \"color=TLANEPANTLA\", \"orientation\": \"v\", \"showlegend\": true, \"textposition\": \"auto\", \"type\": \"bar\", \"x\": [\"TLANEPANTLA\"], \"xaxis\": \"x\", \"y\": [3], \"yaxis\": \"y\"}, {\"alignmentgroup\": \"True\", \"hoverlabel\": {\"namelength\": 0}, \"hovertemplate\": \"color=EMILIANO ZAPATA<br>x=%{x}<br>y=%{y}\", \"legendgroup\": \"color=EMILIANO ZAPATA\", \"marker\": {\"color\": \"#FF97FF\"}, \"name\": \"color=EMILIANO ZAPATA\", \"offsetgroup\": \"color=EMILIANO ZAPATA\", \"orientation\": \"v\", \"showlegend\": true, \"textposition\": \"auto\", \"type\": \"bar\", \"x\": [\"EMILIANO ZAPATA\"], \"xaxis\": \"x\", \"y\": [3], \"yaxis\": \"y\"}, {\"alignmentgroup\": \"True\", \"hoverlabel\": {\"namelength\": 0}, \"hovertemplate\": \"color=MATAMOROS<br>x=%{x}<br>y=%{y}\", \"legendgroup\": \"color=MATAMOROS\", \"marker\": {\"color\": \"#FECB52\"}, \"name\": \"color=MATAMOROS\", \"offsetgroup\": \"color=MATAMOROS\", \"orientation\": \"v\", \"showlegend\": true, \"textposition\": \"auto\", \"type\": \"bar\", \"x\": [\"MATAMOROS\"], \"xaxis\": \"x\", \"y\": [3], \"yaxis\": \"y\"}, {\"alignmentgroup\": \"True\", \"hoverlabel\": {\"namelength\": 0}, \"hovertemplate\": \"color=CHIAUTLA<br>x=%{x}<br>y=%{y}\", \"legendgroup\": \"color=CHIAUTLA\", \"marker\": {\"color\": \"#636efa\"}, \"name\": \"color=CHIAUTLA\", \"offsetgroup\": \"color=CHIAUTLA\", \"orientation\": \"v\", \"showlegend\": true, \"textposition\": \"auto\", \"type\": \"bar\", \"x\": [\"CHIAUTLA\"], \"xaxis\": \"x\", \"y\": [3], \"yaxis\": \"y\"}, {\"alignmentgroup\": \"True\", \"hoverlabel\": {\"namelength\": 0}, \"hovertemplate\": \"color=CHIAPA DE CORZO<br>x=%{x}<br>y=%{y}\", \"legendgroup\": \"color=CHIAPA DE CORZO\", \"marker\": {\"color\": \"#EF553B\"}, \"name\": \"color=CHIAPA DE CORZO\", \"offsetgroup\": \"color=CHIAPA DE CORZO\", \"orientation\": \"v\", \"showlegend\": true, \"textposition\": \"auto\", \"type\": \"bar\", \"x\": [\"CHIAPA DE CORZO\"], \"xaxis\": \"x\", \"y\": [2], \"yaxis\": \"y\"}, {\"alignmentgroup\": \"True\", \"hoverlabel\": {\"namelength\": 0}, \"hovertemplate\": \"color=APODACA<br>x=%{x}<br>y=%{y}\", \"legendgroup\": \"color=APODACA\", \"marker\": {\"color\": \"#00cc96\"}, \"name\": \"color=APODACA\", \"offsetgroup\": \"color=APODACA\", \"orientation\": \"v\", \"showlegend\": true, \"textposition\": \"auto\", \"type\": \"bar\", \"x\": [\"APODACA\"], \"xaxis\": \"x\", \"y\": [2], \"yaxis\": \"y\"}, {\"alignmentgroup\": \"True\", \"hoverlabel\": {\"namelength\": 0}, \"hovertemplate\": \"color=HIDALGO<br>x=%{x}<br>y=%{y}\", \"legendgroup\": \"color=HIDALGO\", \"marker\": {\"color\": \"#ab63fa\"}, \"name\": \"color=HIDALGO\", \"offsetgroup\": \"color=HIDALGO\", \"orientation\": \"v\", \"showlegend\": true, \"textposition\": \"auto\", \"type\": \"bar\", \"x\": [\"HIDALGO\"], \"xaxis\": \"x\", \"y\": [2], \"yaxis\": \"y\"}, {\"alignmentgroup\": \"True\", \"hoverlabel\": {\"namelength\": 0}, \"hovertemplate\": \"color=VILLA DE ZAACHILA<br>x=%{x}<br>y=%{y}\", \"legendgroup\": \"color=VILLA DE ZAACHILA\", \"marker\": {\"color\": \"#FFA15A\"}, \"name\": \"color=VILLA DE ZAACHILA\", \"offsetgroup\": \"color=VILLA DE ZAACHILA\", \"orientation\": \"v\", \"showlegend\": true, \"textposition\": \"auto\", \"type\": \"bar\", \"x\": [\"VILLA DE ZAACHILA\"], \"xaxis\": \"x\", \"y\": [2], \"yaxis\": \"y\"}, {\"alignmentgroup\": \"True\", \"hoverlabel\": {\"namelength\": 0}, \"hovertemplate\": \"color=APATZINGAN<br>x=%{x}<br>y=%{y}\", \"legendgroup\": \"color=APATZINGAN\", \"marker\": {\"color\": \"#19d3f3\"}, \"name\": \"color=APATZINGAN\", \"offsetgroup\": \"color=APATZINGAN\", \"orientation\": \"v\", \"showlegend\": true, \"textposition\": \"auto\", \"type\": \"bar\", \"x\": [\"APATZINGAN\"], \"xaxis\": \"x\", \"y\": [2], \"yaxis\": \"y\"}, {\"alignmentgroup\": \"True\", \"hoverlabel\": {\"namelength\": 0}, \"hovertemplate\": \"color=YEHUALTEPEC<br>x=%{x}<br>y=%{y}\", \"legendgroup\": \"color=YEHUALTEPEC\", \"marker\": {\"color\": \"#FF6692\"}, \"name\": \"color=YEHUALTEPEC\", \"offsetgroup\": \"color=YEHUALTEPEC\", \"orientation\": \"v\", \"showlegend\": true, \"textposition\": \"auto\", \"type\": \"bar\", \"x\": [\"YEHUALTEPEC\"], \"xaxis\": \"x\", \"y\": [2], \"yaxis\": \"y\"}, {\"alignmentgroup\": \"True\", \"hoverlabel\": {\"namelength\": 0}, \"hovertemplate\": \"color=TETELA DEL VOLCAN<br>x=%{x}<br>y=%{y}\", \"legendgroup\": \"color=TETELA DEL VOLCAN\", \"marker\": {\"color\": \"#B6E880\"}, \"name\": \"color=TETELA DEL VOLCAN\", \"offsetgroup\": \"color=TETELA DEL VOLCAN\", \"orientation\": \"v\", \"showlegend\": true, \"textposition\": \"auto\", \"type\": \"bar\", \"x\": [\"TETELA DEL VOLCAN\"], \"xaxis\": \"x\", \"y\": [2], \"yaxis\": \"y\"}, {\"alignmentgroup\": \"True\", \"hoverlabel\": {\"namelength\": 0}, \"hovertemplate\": \"color=EL ORO<br>x=%{x}<br>y=%{y}\", \"legendgroup\": \"color=EL ORO\", \"marker\": {\"color\": \"#FF97FF\"}, \"name\": \"color=EL ORO\", \"offsetgroup\": \"color=EL ORO\", \"orientation\": \"v\", \"showlegend\": true, \"textposition\": \"auto\", \"type\": \"bar\", \"x\": [\"EL ORO\"], \"xaxis\": \"x\", \"y\": [2], \"yaxis\": \"y\"}, {\"alignmentgroup\": \"True\", \"hoverlabel\": {\"namelength\": 0}, \"hovertemplate\": \"color=CALNALI<br>x=%{x}<br>y=%{y}\", \"legendgroup\": \"color=CALNALI\", \"marker\": {\"color\": \"#FECB52\"}, \"name\": \"color=CALNALI\", \"offsetgroup\": \"color=CALNALI\", \"orientation\": \"v\", \"showlegend\": true, \"textposition\": \"auto\", \"type\": \"bar\", \"x\": [\"CALNALI\"], \"xaxis\": \"x\", \"y\": [2], \"yaxis\": \"y\"}, {\"alignmentgroup\": \"True\", \"hoverlabel\": {\"namelength\": 0}, \"hovertemplate\": \"color=SAN MATIAS TLALANCALECA<br>x=%{x}<br>y=%{y}\", \"legendgroup\": \"color=SAN MATIAS TLALANCALECA\", \"marker\": {\"color\": \"#636efa\"}, \"name\": \"color=SAN MATIAS TLALANCALECA\", \"offsetgroup\": \"color=SAN MATIAS TLALANCALECA\", \"orientation\": \"v\", \"showlegend\": true, \"textposition\": \"auto\", \"type\": \"bar\", \"x\": [\"SAN MATIAS TLALANCALECA\"], \"xaxis\": \"x\", \"y\": [2], \"yaxis\": \"y\"}, {\"alignmentgroup\": \"True\", \"hoverlabel\": {\"namelength\": 0}, \"hovertemplate\": \"color=IXTAPAN DEL ORO<br>x=%{x}<br>y=%{y}\", \"legendgroup\": \"color=IXTAPAN DEL ORO\", \"marker\": {\"color\": \"#EF553B\"}, \"name\": \"color=IXTAPAN DEL ORO\", \"offsetgroup\": \"color=IXTAPAN DEL ORO\", \"orientation\": \"v\", \"showlegend\": true, \"textposition\": \"auto\", \"type\": \"bar\", \"x\": [\"IXTAPAN DEL ORO\"], \"xaxis\": \"x\", \"y\": [2], \"yaxis\": \"y\"}, {\"alignmentgroup\": \"True\", \"hoverlabel\": {\"namelength\": 0}, \"hovertemplate\": \"color=PUENTE DE IXTLA<br>x=%{x}<br>y=%{y}\", \"legendgroup\": \"color=PUENTE DE IXTLA\", \"marker\": {\"color\": \"#00cc96\"}, \"name\": \"color=PUENTE DE IXTLA\", \"offsetgroup\": \"color=PUENTE DE IXTLA\", \"orientation\": \"v\", \"showlegend\": true, \"textposition\": \"auto\", \"type\": \"bar\", \"x\": [\"PUENTE DE IXTLA\"], \"xaxis\": \"x\", \"y\": [2], \"yaxis\": \"y\"}, {\"alignmentgroup\": \"True\", \"hoverlabel\": {\"namelength\": 0}, \"hovertemplate\": \"color=ESPA\\u00c3\\u0091ITA<br>x=%{x}<br>y=%{y}\", \"legendgroup\": \"color=ESPA\\u00c3\\u0091ITA\", \"marker\": {\"color\": \"#ab63fa\"}, \"name\": \"color=ESPA\\u00c3\\u0091ITA\", \"offsetgroup\": \"color=ESPA\\u00c3\\u0091ITA\", \"orientation\": \"v\", \"showlegend\": true, \"textposition\": \"auto\", \"type\": \"bar\", \"x\": [\"ESPA\\u00c3\\u0091ITA\"], \"xaxis\": \"x\", \"y\": [2], \"yaxis\": \"y\"}, {\"alignmentgroup\": \"True\", \"hoverlabel\": {\"namelength\": 0}, \"hovertemplate\": \"color=TLAXCO<br>x=%{x}<br>y=%{y}\", \"legendgroup\": \"color=TLAXCO\", \"marker\": {\"color\": \"#FFA15A\"}, \"name\": \"color=TLAXCO\", \"offsetgroup\": \"color=TLAXCO\", \"orientation\": \"v\", \"showlegend\": true, \"textposition\": \"auto\", \"type\": \"bar\", \"x\": [\"TLAXCO\"], \"xaxis\": \"x\", \"y\": [2], \"yaxis\": \"y\"}, {\"alignmentgroup\": \"True\", \"hoverlabel\": {\"namelength\": 0}, \"hovertemplate\": \"color=PAPALOTLA DE XICOHTENCATL<br>x=%{x}<br>y=%{y}\", \"legendgroup\": \"color=PAPALOTLA DE XICOHTENCATL\", \"marker\": {\"color\": \"#19d3f3\"}, \"name\": \"color=PAPALOTLA DE XICOHTENCATL\", \"offsetgroup\": \"color=PAPALOTLA DE XICOHTENCATL\", \"orientation\": \"v\", \"showlegend\": true, \"textposition\": \"auto\", \"type\": \"bar\", \"x\": [\"PAPALOTLA DE XICOHTENCATL\"], \"xaxis\": \"x\", \"y\": [2], \"yaxis\": \"y\"}, {\"alignmentgroup\": \"True\", \"hoverlabel\": {\"namelength\": 0}, \"hovertemplate\": \"color=JOQUICINGO<br>x=%{x}<br>y=%{y}\", \"legendgroup\": \"color=JOQUICINGO\", \"marker\": {\"color\": \"#FF6692\"}, \"name\": \"color=JOQUICINGO\", \"offsetgroup\": \"color=JOQUICINGO\", \"orientation\": \"v\", \"showlegend\": true, \"textposition\": \"auto\", \"type\": \"bar\", \"x\": [\"JOQUICINGO\"], \"xaxis\": \"x\", \"y\": [2], \"yaxis\": \"y\"}, {\"alignmentgroup\": \"True\", \"hoverlabel\": {\"namelength\": 0}, \"hovertemplate\": \"color=ACAYUCAN<br>x=%{x}<br>y=%{y}\", \"legendgroup\": \"color=ACAYUCAN\", \"marker\": {\"color\": \"#B6E880\"}, \"name\": \"color=ACAYUCAN\", \"offsetgroup\": \"color=ACAYUCAN\", \"orientation\": \"v\", \"showlegend\": true, \"textposition\": \"auto\", \"type\": \"bar\", \"x\": [\"ACAYUCAN\"], \"xaxis\": \"x\", \"y\": [2], \"yaxis\": \"y\"}, {\"alignmentgroup\": \"True\", \"hoverlabel\": {\"namelength\": 0}, \"hovertemplate\": \"color=IXCATEOPAN DE CUAUHTEMOC<br>x=%{x}<br>y=%{y}\", \"legendgroup\": \"color=IXCATEOPAN DE CUAUHTEMOC\", \"marker\": {\"color\": \"#FF97FF\"}, \"name\": \"color=IXCATEOPAN DE CUAUHTEMOC\", \"offsetgroup\": \"color=IXCATEOPAN DE CUAUHTEMOC\", \"orientation\": \"v\", \"showlegend\": true, \"textposition\": \"auto\", \"type\": \"bar\", \"x\": [\"IXCATEOPAN DE CUAUHTEMOC\"], \"xaxis\": \"x\", \"y\": [2], \"yaxis\": \"y\"}, {\"alignmentgroup\": \"True\", \"hoverlabel\": {\"namelength\": 0}, \"hovertemplate\": \"color=ZAUTLA<br>x=%{x}<br>y=%{y}\", \"legendgroup\": \"color=ZAUTLA\", \"marker\": {\"color\": \"#FECB52\"}, \"name\": \"color=ZAUTLA\", \"offsetgroup\": \"color=ZAUTLA\", \"orientation\": \"v\", \"showlegend\": true, \"textposition\": \"auto\", \"type\": \"bar\", \"x\": [\"ZAUTLA\"], \"xaxis\": \"x\", \"y\": [2], \"yaxis\": \"y\"}, {\"alignmentgroup\": \"True\", \"hoverlabel\": {\"namelength\": 0}, \"hovertemplate\": \"color=ZINAPECUARO<br>x=%{x}<br>y=%{y}\", \"legendgroup\": \"color=ZINAPECUARO\", \"marker\": {\"color\": \"#636efa\"}, \"name\": \"color=ZINAPECUARO\", \"offsetgroup\": \"color=ZINAPECUARO\", \"orientation\": \"v\", \"showlegend\": true, \"textposition\": \"auto\", \"type\": \"bar\", \"x\": [\"ZINAPECUARO\"], \"xaxis\": \"x\", \"y\": [2], \"yaxis\": \"y\"}, {\"alignmentgroup\": \"True\", \"hoverlabel\": {\"namelength\": 0}, \"hovertemplate\": \"color=SAN ANDRES CHOLULA<br>x=%{x}<br>y=%{y}\", \"legendgroup\": \"color=SAN ANDRES CHOLULA\", \"marker\": {\"color\": \"#EF553B\"}, \"name\": \"color=SAN ANDRES CHOLULA\", \"offsetgroup\": \"color=SAN ANDRES CHOLULA\", \"orientation\": \"v\", \"showlegend\": true, \"textposition\": \"auto\", \"type\": \"bar\", \"x\": [\"SAN ANDRES CHOLULA\"], \"xaxis\": \"x\", \"y\": [2], \"yaxis\": \"y\"}, {\"alignmentgroup\": \"True\", \"hoverlabel\": {\"namelength\": 0}, \"hovertemplate\": \"color=TIXTLA DE GUERRERO<br>x=%{x}<br>y=%{y}\", \"legendgroup\": \"color=TIXTLA DE GUERRERO\", \"marker\": {\"color\": \"#00cc96\"}, \"name\": \"color=TIXTLA DE GUERRERO\", \"offsetgroup\": \"color=TIXTLA DE GUERRERO\", \"orientation\": \"v\", \"showlegend\": true, \"textposition\": \"auto\", \"type\": \"bar\", \"x\": [\"TIXTLA DE GUERRERO\"], \"xaxis\": \"x\", \"y\": [2], \"yaxis\": \"y\"}, {\"alignmentgroup\": \"True\", \"hoverlabel\": {\"namelength\": 0}, \"hovertemplate\": \"color=NACAJUCA<br>x=%{x}<br>y=%{y}\", \"legendgroup\": \"color=NACAJUCA\", \"marker\": {\"color\": \"#ab63fa\"}, \"name\": \"color=NACAJUCA\", \"offsetgroup\": \"color=NACAJUCA\", \"orientation\": \"v\", \"showlegend\": true, \"textposition\": \"auto\", \"type\": \"bar\", \"x\": [\"NACAJUCA\"], \"xaxis\": \"x\", \"y\": [2], \"yaxis\": \"y\"}, {\"alignmentgroup\": \"True\", \"hoverlabel\": {\"namelength\": 0}, \"hovertemplate\": \"color=AHUMADA<br>x=%{x}<br>y=%{y}\", \"legendgroup\": \"color=AHUMADA\", \"marker\": {\"color\": \"#FFA15A\"}, \"name\": \"color=AHUMADA\", \"offsetgroup\": \"color=AHUMADA\", \"orientation\": \"v\", \"showlegend\": true, \"textposition\": \"auto\", \"type\": \"bar\", \"x\": [\"AHUMADA\"], \"xaxis\": \"x\", \"y\": [2], \"yaxis\": \"y\"}, {\"alignmentgroup\": \"True\", \"hoverlabel\": {\"namelength\": 0}, \"hovertemplate\": \"color=TECAMACHALCO<br>x=%{x}<br>y=%{y}\", \"legendgroup\": \"color=TECAMACHALCO\", \"marker\": {\"color\": \"#19d3f3\"}, \"name\": \"color=TECAMACHALCO\", \"offsetgroup\": \"color=TECAMACHALCO\", \"orientation\": \"v\", \"showlegend\": true, \"textposition\": \"auto\", \"type\": \"bar\", \"x\": [\"TECAMACHALCO\"], \"xaxis\": \"x\", \"y\": [2], \"yaxis\": \"y\"}, {\"alignmentgroup\": \"True\", \"hoverlabel\": {\"namelength\": 0}, \"hovertemplate\": \"color=ZEMPOALA<br>x=%{x}<br>y=%{y}\", \"legendgroup\": \"color=ZEMPOALA\", \"marker\": {\"color\": \"#FF6692\"}, \"name\": \"color=ZEMPOALA\", \"offsetgroup\": \"color=ZEMPOALA\", \"orientation\": \"v\", \"showlegend\": true, \"textposition\": \"auto\", \"type\": \"bar\", \"x\": [\"ZEMPOALA\"], \"xaxis\": \"x\", \"y\": [2], \"yaxis\": \"y\"}, {\"alignmentgroup\": \"True\", \"hoverlabel\": {\"namelength\": 0}, \"hovertemplate\": \"color=APAXCO<br>x=%{x}<br>y=%{y}\", \"legendgroup\": \"color=APAXCO\", \"marker\": {\"color\": \"#B6E880\"}, \"name\": \"color=APAXCO\", \"offsetgroup\": \"color=APAXCO\", \"orientation\": \"v\", \"showlegend\": true, \"textposition\": \"auto\", \"type\": \"bar\", \"x\": [\"APAXCO\"], \"xaxis\": \"x\", \"y\": [2], \"yaxis\": \"y\"}, {\"alignmentgroup\": \"True\", \"hoverlabel\": {\"namelength\": 0}, \"hovertemplate\": \"color=MATEHUALA<br>x=%{x}<br>y=%{y}\", \"legendgroup\": \"color=MATEHUALA\", \"marker\": {\"color\": \"#FF97FF\"}, \"name\": \"color=MATEHUALA\", \"offsetgroup\": \"color=MATEHUALA\", \"orientation\": \"v\", \"showlegend\": true, \"textposition\": \"auto\", \"type\": \"bar\", \"x\": [\"MATEHUALA\"], \"xaxis\": \"x\", \"y\": [2], \"yaxis\": \"y\"}, {\"alignmentgroup\": \"True\", \"hoverlabel\": {\"namelength\": 0}, \"hovertemplate\": \"color=SINALOA<br>x=%{x}<br>y=%{y}\", \"legendgroup\": \"color=SINALOA\", \"marker\": {\"color\": \"#FECB52\"}, \"name\": \"color=SINALOA\", \"offsetgroup\": \"color=SINALOA\", \"orientation\": \"v\", \"showlegend\": true, \"textposition\": \"auto\", \"type\": \"bar\", \"x\": [\"SINALOA\"], \"xaxis\": \"x\", \"y\": [2], \"yaxis\": \"y\"}, {\"alignmentgroup\": \"True\", \"hoverlabel\": {\"namelength\": 0}, \"hovertemplate\": \"color=TLAQUEPAQUE<br>x=%{x}<br>y=%{y}\", \"legendgroup\": \"color=TLAQUEPAQUE\", \"marker\": {\"color\": \"#636efa\"}, \"name\": \"color=TLAQUEPAQUE\", \"offsetgroup\": \"color=TLAQUEPAQUE\", \"orientation\": \"v\", \"showlegend\": true, \"textposition\": \"auto\", \"type\": \"bar\", \"x\": [\"TLAQUEPAQUE\"], \"xaxis\": \"x\", \"y\": [2], \"yaxis\": \"y\"}, {\"alignmentgroup\": \"True\", \"hoverlabel\": {\"namelength\": 0}, \"hovertemplate\": \"color=EPAZOYUCAN<br>x=%{x}<br>y=%{y}\", \"legendgroup\": \"color=EPAZOYUCAN\", \"marker\": {\"color\": \"#EF553B\"}, \"name\": \"color=EPAZOYUCAN\", \"offsetgroup\": \"color=EPAZOYUCAN\", \"orientation\": \"v\", \"showlegend\": true, \"textposition\": \"auto\", \"type\": \"bar\", \"x\": [\"EPAZOYUCAN\"], \"xaxis\": \"x\", \"y\": [2], \"yaxis\": \"y\"}, {\"alignmentgroup\": \"True\", \"hoverlabel\": {\"namelength\": 0}, \"hovertemplate\": \"color=NAVOJOA<br>x=%{x}<br>y=%{y}\", \"legendgroup\": \"color=NAVOJOA\", \"marker\": {\"color\": \"#00cc96\"}, \"name\": \"color=NAVOJOA\", \"offsetgroup\": \"color=NAVOJOA\", \"orientation\": \"v\", \"showlegend\": true, \"textposition\": \"auto\", \"type\": \"bar\", \"x\": [\"NAVOJOA\"], \"xaxis\": \"x\", \"y\": [2], \"yaxis\": \"y\"}, {\"alignmentgroup\": \"True\", \"hoverlabel\": {\"namelength\": 0}, \"hovertemplate\": \"color=NANACAMILPA DE MARIANO ARISTA<br>x=%{x}<br>y=%{y}\", \"legendgroup\": \"color=NANACAMILPA DE MARIANO ARISTA\", \"marker\": {\"color\": \"#ab63fa\"}, \"name\": \"color=NANACAMILPA DE MARIANO ARISTA\", \"offsetgroup\": \"color=NANACAMILPA DE MARIANO ARISTA\", \"orientation\": \"v\", \"showlegend\": true, \"textposition\": \"auto\", \"type\": \"bar\", \"x\": [\"NANACAMILPA DE MARIANO ARISTA\"], \"xaxis\": \"x\", \"y\": [2], \"yaxis\": \"y\"}, {\"alignmentgroup\": \"True\", \"hoverlabel\": {\"namelength\": 0}, \"hovertemplate\": \"color=EDUARDO NERI<br>x=%{x}<br>y=%{y}\", \"legendgroup\": \"color=EDUARDO NERI\", \"marker\": {\"color\": \"#FFA15A\"}, \"name\": \"color=EDUARDO NERI\", \"offsetgroup\": \"color=EDUARDO NERI\", \"orientation\": \"v\", \"showlegend\": true, \"textposition\": \"auto\", \"type\": \"bar\", \"x\": [\"EDUARDO NERI\"], \"xaxis\": \"x\", \"y\": [2], \"yaxis\": \"y\"}, {\"alignmentgroup\": \"True\", \"hoverlabel\": {\"namelength\": 0}, \"hovertemplate\": \"color=GARCIA<br>x=%{x}<br>y=%{y}\", \"legendgroup\": \"color=GARCIA\", \"marker\": {\"color\": \"#19d3f3\"}, \"name\": \"color=GARCIA\", \"offsetgroup\": \"color=GARCIA\", \"orientation\": \"v\", \"showlegend\": true, \"textposition\": \"auto\", \"type\": \"bar\", \"x\": [\"GARCIA\"], \"xaxis\": \"x\", \"y\": [2], \"yaxis\": \"y\"}, {\"alignmentgroup\": \"True\", \"hoverlabel\": {\"namelength\": 0}, \"hovertemplate\": \"color=ACTOPAN<br>x=%{x}<br>y=%{y}\", \"legendgroup\": \"color=ACTOPAN\", \"marker\": {\"color\": \"#FF6692\"}, \"name\": \"color=ACTOPAN\", \"offsetgroup\": \"color=ACTOPAN\", \"orientation\": \"v\", \"showlegend\": true, \"textposition\": \"auto\", \"type\": \"bar\", \"x\": [\"ACTOPAN\"], \"xaxis\": \"x\", \"y\": [2], \"yaxis\": \"y\"}, {\"alignmentgroup\": \"True\", \"hoverlabel\": {\"namelength\": 0}, \"hovertemplate\": \"color=HUITZUCO DE LOS FIGUEROA<br>x=%{x}<br>y=%{y}\", \"legendgroup\": \"color=HUITZUCO DE LOS FIGUEROA\", \"marker\": {\"color\": \"#B6E880\"}, \"name\": \"color=HUITZUCO DE LOS FIGUEROA\", \"offsetgroup\": \"color=HUITZUCO DE LOS FIGUEROA\", \"orientation\": \"v\", \"showlegend\": true, \"textposition\": \"auto\", \"type\": \"bar\", \"x\": [\"HUITZUCO DE LOS FIGUEROA\"], \"xaxis\": \"x\", \"y\": [2], \"yaxis\": \"y\"}, {\"alignmentgroup\": \"True\", \"hoverlabel\": {\"namelength\": 0}, \"hovertemplate\": \"color=MIACATLAN<br>x=%{x}<br>y=%{y}\", \"legendgroup\": \"color=MIACATLAN\", \"marker\": {\"color\": \"#FF97FF\"}, \"name\": \"color=MIACATLAN\", \"offsetgroup\": \"color=MIACATLAN\", \"orientation\": \"v\", \"showlegend\": true, \"textposition\": \"auto\", \"type\": \"bar\", \"x\": [\"MIACATLAN\"], \"xaxis\": \"x\", \"y\": [2], \"yaxis\": \"y\"}, {\"alignmentgroup\": \"True\", \"hoverlabel\": {\"namelength\": 0}, \"hovertemplate\": \"color=ZACAPU<br>x=%{x}<br>y=%{y}\", \"legendgroup\": \"color=ZACAPU\", \"marker\": {\"color\": \"#FECB52\"}, \"name\": \"color=ZACAPU\", \"offsetgroup\": \"color=ZACAPU\", \"orientation\": \"v\", \"showlegend\": true, \"textposition\": \"auto\", \"type\": \"bar\", \"x\": [\"ZACAPU\"], \"xaxis\": \"x\", \"y\": [2], \"yaxis\": \"y\"}, {\"alignmentgroup\": \"True\", \"hoverlabel\": {\"namelength\": 0}, \"hovertemplate\": \"color=SAN CRISTOBAL DE LAS CASAS<br>x=%{x}<br>y=%{y}\", \"legendgroup\": \"color=SAN CRISTOBAL DE LAS CASAS\", \"marker\": {\"color\": \"#636efa\"}, \"name\": \"color=SAN CRISTOBAL DE LAS CASAS\", \"offsetgroup\": \"color=SAN CRISTOBAL DE LAS CASAS\", \"orientation\": \"v\", \"showlegend\": true, \"textposition\": \"auto\", \"type\": \"bar\", \"x\": [\"SAN CRISTOBAL DE LAS CASAS\"], \"xaxis\": \"x\", \"y\": [2], \"yaxis\": \"y\"}, {\"alignmentgroup\": \"True\", \"hoverlabel\": {\"namelength\": 0}, \"hovertemplate\": \"color=ATOYAC DE ALVAREZ<br>x=%{x}<br>y=%{y}\", \"legendgroup\": \"color=ATOYAC DE ALVAREZ\", \"marker\": {\"color\": \"#EF553B\"}, \"name\": \"color=ATOYAC DE ALVAREZ\", \"offsetgroup\": \"color=ATOYAC DE ALVAREZ\", \"orientation\": \"v\", \"showlegend\": true, \"textposition\": \"auto\", \"type\": \"bar\", \"x\": [\"ATOYAC DE ALVAREZ\"], \"xaxis\": \"x\", \"y\": [2], \"yaxis\": \"y\"}, {\"alignmentgroup\": \"True\", \"hoverlabel\": {\"namelength\": 0}, \"hovertemplate\": \"color=TECOZAUTLA<br>x=%{x}<br>y=%{y}\", \"legendgroup\": \"color=TECOZAUTLA\", \"marker\": {\"color\": \"#00cc96\"}, \"name\": \"color=TECOZAUTLA\", \"offsetgroup\": \"color=TECOZAUTLA\", \"orientation\": \"v\", \"showlegend\": true, \"textposition\": \"auto\", \"type\": \"bar\", \"x\": [\"TECOZAUTLA\"], \"xaxis\": \"x\", \"y\": [2], \"yaxis\": \"y\"}, {\"alignmentgroup\": \"True\", \"hoverlabel\": {\"namelength\": 0}, \"hovertemplate\": \"color=ZACATELCO<br>x=%{x}<br>y=%{y}\", \"legendgroup\": \"color=ZACATELCO\", \"marker\": {\"color\": \"#ab63fa\"}, \"name\": \"color=ZACATELCO\", \"offsetgroup\": \"color=ZACATELCO\", \"orientation\": \"v\", \"showlegend\": true, \"textposition\": \"auto\", \"type\": \"bar\", \"x\": [\"ZACATELCO\"], \"xaxis\": \"x\", \"y\": [2], \"yaxis\": \"y\"}, {\"alignmentgroup\": \"True\", \"hoverlabel\": {\"namelength\": 0}, \"hovertemplate\": \"color=EL CARMEN TEQUEXQUITLA<br>x=%{x}<br>y=%{y}\", \"legendgroup\": \"color=EL CARMEN TEQUEXQUITLA\", \"marker\": {\"color\": \"#FFA15A\"}, \"name\": \"color=EL CARMEN TEQUEXQUITLA\", \"offsetgroup\": \"color=EL CARMEN TEQUEXQUITLA\", \"orientation\": \"v\", \"showlegend\": true, \"textposition\": \"auto\", \"type\": \"bar\", \"x\": [\"EL CARMEN TEQUEXQUITLA\"], \"xaxis\": \"x\", \"y\": [2], \"yaxis\": \"y\"}, {\"alignmentgroup\": \"True\", \"hoverlabel\": {\"namelength\": 0}, \"hovertemplate\": \"color=SAN JOSE DEL RINCON<br>x=%{x}<br>y=%{y}\", \"legendgroup\": \"color=SAN JOSE DEL RINCON\", \"marker\": {\"color\": \"#19d3f3\"}, \"name\": \"color=SAN JOSE DEL RINCON\", \"offsetgroup\": \"color=SAN JOSE DEL RINCON\", \"orientation\": \"v\", \"showlegend\": true, \"textposition\": \"auto\", \"type\": \"bar\", \"x\": [\"SAN JOSE DEL RINCON\"], \"xaxis\": \"x\", \"y\": [2], \"yaxis\": \"y\"}, {\"alignmentgroup\": \"True\", \"hoverlabel\": {\"namelength\": 0}, \"hovertemplate\": \"color=ALTAMIRA<br>x=%{x}<br>y=%{y}\", \"legendgroup\": \"color=ALTAMIRA\", \"marker\": {\"color\": \"#FF6692\"}, \"name\": \"color=ALTAMIRA\", \"offsetgroup\": \"color=ALTAMIRA\", \"orientation\": \"v\", \"showlegend\": true, \"textposition\": \"auto\", \"type\": \"bar\", \"x\": [\"ALTAMIRA\"], \"xaxis\": \"x\", \"y\": [2], \"yaxis\": \"y\"}, {\"alignmentgroup\": \"True\", \"hoverlabel\": {\"namelength\": 0}, \"hovertemplate\": \"color=CARDENAS<br>x=%{x}<br>y=%{y}\", \"legendgroup\": \"color=CARDENAS\", \"marker\": {\"color\": \"#B6E880\"}, \"name\": \"color=CARDENAS\", \"offsetgroup\": \"color=CARDENAS\", \"orientation\": \"v\", \"showlegend\": true, \"textposition\": \"auto\", \"type\": \"bar\", \"x\": [\"CARDENAS\"], \"xaxis\": \"x\", \"y\": [2], \"yaxis\": \"y\"}, {\"alignmentgroup\": \"True\", \"hoverlabel\": {\"namelength\": 0}, \"hovertemplate\": \"color=TONALA<br>x=%{x}<br>y=%{y}\", \"legendgroup\": \"color=TONALA\", \"marker\": {\"color\": \"#FF97FF\"}, \"name\": \"color=TONALA\", \"offsetgroup\": \"color=TONALA\", \"orientation\": \"v\", \"showlegend\": true, \"textposition\": \"auto\", \"type\": \"bar\", \"x\": [\"TONALA\"], \"xaxis\": \"x\", \"y\": [2], \"yaxis\": \"y\"}, {\"alignmentgroup\": \"True\", \"hoverlabel\": {\"namelength\": 0}, \"hovertemplate\": \"color=TOMATLAN<br>x=%{x}<br>y=%{y}\", \"legendgroup\": \"color=TOMATLAN\", \"marker\": {\"color\": \"#FECB52\"}, \"name\": \"color=TOMATLAN\", \"offsetgroup\": \"color=TOMATLAN\", \"orientation\": \"v\", \"showlegend\": true, \"textposition\": \"auto\", \"type\": \"bar\", \"x\": [\"TOMATLAN\"], \"xaxis\": \"x\", \"y\": [2], \"yaxis\": \"y\"}, {\"alignmentgroup\": \"True\", \"hoverlabel\": {\"namelength\": 0}, \"hovertemplate\": \"color=TLACHICHILCO<br>x=%{x}<br>y=%{y}\", \"legendgroup\": \"color=TLACHICHILCO\", \"marker\": {\"color\": \"#636efa\"}, \"name\": \"color=TLACHICHILCO\", \"offsetgroup\": \"color=TLACHICHILCO\", \"orientation\": \"v\", \"showlegend\": true, \"textposition\": \"auto\", \"type\": \"bar\", \"x\": [\"TLACHICHILCO\"], \"xaxis\": \"x\", \"y\": [2], \"yaxis\": \"y\"}, {\"alignmentgroup\": \"True\", \"hoverlabel\": {\"namelength\": 0}, \"hovertemplate\": \"color=YURIRIA<br>x=%{x}<br>y=%{y}\", \"legendgroup\": \"color=YURIRIA\", \"marker\": {\"color\": \"#EF553B\"}, \"name\": \"color=YURIRIA\", \"offsetgroup\": \"color=YURIRIA\", \"orientation\": \"v\", \"showlegend\": true, \"textposition\": \"auto\", \"type\": \"bar\", \"x\": [\"YURIRIA\"], \"xaxis\": \"x\", \"y\": [2], \"yaxis\": \"y\"}, {\"alignmentgroup\": \"True\", \"hoverlabel\": {\"namelength\": 0}, \"hovertemplate\": \"color=SAN FELIPE DEL PROGRESO<br>x=%{x}<br>y=%{y}\", \"legendgroup\": \"color=SAN FELIPE DEL PROGRESO\", \"marker\": {\"color\": \"#00cc96\"}, \"name\": \"color=SAN FELIPE DEL PROGRESO\", \"offsetgroup\": \"color=SAN FELIPE DEL PROGRESO\", \"orientation\": \"v\", \"showlegend\": true, \"textposition\": \"auto\", \"type\": \"bar\", \"x\": [\"SAN FELIPE DEL PROGRESO\"], \"xaxis\": \"x\", \"y\": [2], \"yaxis\": \"y\"}, {\"alignmentgroup\": \"True\", \"hoverlabel\": {\"namelength\": 0}, \"hovertemplate\": \"color=TARIMORO<br>x=%{x}<br>y=%{y}\", \"legendgroup\": \"color=TARIMORO\", \"marker\": {\"color\": \"#ab63fa\"}, \"name\": \"color=TARIMORO\", \"offsetgroup\": \"color=TARIMORO\", \"orientation\": \"v\", \"showlegend\": true, \"textposition\": \"auto\", \"type\": \"bar\", \"x\": [\"TARIMORO\"], \"xaxis\": \"x\", \"y\": [2], \"yaxis\": \"y\"}, {\"alignmentgroup\": \"True\", \"hoverlabel\": {\"namelength\": 0}, \"hovertemplate\": \"color=AYALA<br>x=%{x}<br>y=%{y}\", \"legendgroup\": \"color=AYALA\", \"marker\": {\"color\": \"#FFA15A\"}, \"name\": \"color=AYALA\", \"offsetgroup\": \"color=AYALA\", \"orientation\": \"v\", \"showlegend\": true, \"textposition\": \"auto\", \"type\": \"bar\", \"x\": [\"AYALA\"], \"xaxis\": \"x\", \"y\": [2], \"yaxis\": \"y\"}, {\"alignmentgroup\": \"True\", \"hoverlabel\": {\"namelength\": 0}, \"hovertemplate\": \"color=APAN<br>x=%{x}<br>y=%{y}\", \"legendgroup\": \"color=APAN\", \"marker\": {\"color\": \"#19d3f3\"}, \"name\": \"color=APAN\", \"offsetgroup\": \"color=APAN\", \"orientation\": \"v\", \"showlegend\": true, \"textposition\": \"auto\", \"type\": \"bar\", \"x\": [\"APAN\"], \"xaxis\": \"x\", \"y\": [2], \"yaxis\": \"y\"}, {\"alignmentgroup\": \"True\", \"hoverlabel\": {\"namelength\": 0}, \"hovertemplate\": \"color=CAPULHUAC<br>x=%{x}<br>y=%{y}\", \"legendgroup\": \"color=CAPULHUAC\", \"marker\": {\"color\": \"#FF6692\"}, \"name\": \"color=CAPULHUAC\", \"offsetgroup\": \"color=CAPULHUAC\", \"orientation\": \"v\", \"showlegend\": true, \"textposition\": \"auto\", \"type\": \"bar\", \"x\": [\"CAPULHUAC\"], \"xaxis\": \"x\", \"y\": [2], \"yaxis\": \"y\"}, {\"alignmentgroup\": \"True\", \"hoverlabel\": {\"namelength\": 0}, \"hovertemplate\": \"color=COSAMALOAPAN DE CARPIO<br>x=%{x}<br>y=%{y}\", \"legendgroup\": \"color=COSAMALOAPAN DE CARPIO\", \"marker\": {\"color\": \"#B6E880\"}, \"name\": \"color=COSAMALOAPAN DE CARPIO\", \"offsetgroup\": \"color=COSAMALOAPAN DE CARPIO\", \"orientation\": \"v\", \"showlegend\": true, \"textposition\": \"auto\", \"type\": \"bar\", \"x\": [\"COSAMALOAPAN DE CARPIO\"], \"xaxis\": \"x\", \"y\": [2], \"yaxis\": \"y\"}, {\"alignmentgroup\": \"True\", \"hoverlabel\": {\"namelength\": 0}, \"hovertemplate\": \"color=JUAREZ<br>x=%{x}<br>y=%{y}\", \"legendgroup\": \"color=JUAREZ\", \"marker\": {\"color\": \"#FF97FF\"}, \"name\": \"color=JUAREZ\", \"offsetgroup\": \"color=JUAREZ\", \"orientation\": \"v\", \"showlegend\": true, \"textposition\": \"auto\", \"type\": \"bar\", \"x\": [\"JUAREZ\"], \"xaxis\": \"x\", \"y\": [2], \"yaxis\": \"y\"}, {\"alignmentgroup\": \"True\", \"hoverlabel\": {\"namelength\": 0}, \"hovertemplate\": \"color=GUAYMAS<br>x=%{x}<br>y=%{y}\", \"legendgroup\": \"color=GUAYMAS\", \"marker\": {\"color\": \"#FECB52\"}, \"name\": \"color=GUAYMAS\", \"offsetgroup\": \"color=GUAYMAS\", \"orientation\": \"v\", \"showlegend\": true, \"textposition\": \"auto\", \"type\": \"bar\", \"x\": [\"GUAYMAS\"], \"xaxis\": \"x\", \"y\": [2], \"yaxis\": \"y\"}, {\"alignmentgroup\": \"True\", \"hoverlabel\": {\"namelength\": 0}, \"hovertemplate\": \"color=NOGALES<br>x=%{x}<br>y=%{y}\", \"legendgroup\": \"color=NOGALES\", \"marker\": {\"color\": \"#636efa\"}, \"name\": \"color=NOGALES\", \"offsetgroup\": \"color=NOGALES\", \"orientation\": \"v\", \"showlegend\": true, \"textposition\": \"auto\", \"type\": \"bar\", \"x\": [\"NOGALES\"], \"xaxis\": \"x\", \"y\": [2], \"yaxis\": \"y\"}, {\"alignmentgroup\": \"True\", \"hoverlabel\": {\"namelength\": 0}, \"hovertemplate\": \"color=CALPULALPAN<br>x=%{x}<br>y=%{y}\", \"legendgroup\": \"color=CALPULALPAN\", \"marker\": {\"color\": \"#EF553B\"}, \"name\": \"color=CALPULALPAN\", \"offsetgroup\": \"color=CALPULALPAN\", \"orientation\": \"v\", \"showlegend\": true, \"textposition\": \"auto\", \"type\": \"bar\", \"x\": [\"CALPULALPAN\"], \"xaxis\": \"x\", \"y\": [2], \"yaxis\": \"y\"}, {\"alignmentgroup\": \"True\", \"hoverlabel\": {\"namelength\": 0}, \"hovertemplate\": \"color=TLAXCOAPAN<br>x=%{x}<br>y=%{y}\", \"legendgroup\": \"color=TLAXCOAPAN\", \"marker\": {\"color\": \"#00cc96\"}, \"name\": \"color=TLAXCOAPAN\", \"offsetgroup\": \"color=TLAXCOAPAN\", \"orientation\": \"v\", \"showlegend\": true, \"textposition\": \"auto\", \"type\": \"bar\", \"x\": [\"TLAXCOAPAN\"], \"xaxis\": \"x\", \"y\": [2], \"yaxis\": \"y\"}, {\"alignmentgroup\": \"True\", \"hoverlabel\": {\"namelength\": 0}, \"hovertemplate\": \"color=LA PIEDAD<br>x=%{x}<br>y=%{y}\", \"legendgroup\": \"color=LA PIEDAD\", \"marker\": {\"color\": \"#ab63fa\"}, \"name\": \"color=LA PIEDAD\", \"offsetgroup\": \"color=LA PIEDAD\", \"orientation\": \"v\", \"showlegend\": true, \"textposition\": \"auto\", \"type\": \"bar\", \"x\": [\"LA PIEDAD\"], \"xaxis\": \"x\", \"y\": [2], \"yaxis\": \"y\"}, {\"alignmentgroup\": \"True\", \"hoverlabel\": {\"namelength\": 0}, \"hovertemplate\": \"color=YAUHQUEMECAN<br>x=%{x}<br>y=%{y}\", \"legendgroup\": \"color=YAUHQUEMECAN\", \"marker\": {\"color\": \"#FFA15A\"}, \"name\": \"color=YAUHQUEMECAN\", \"offsetgroup\": \"color=YAUHQUEMECAN\", \"orientation\": \"v\", \"showlegend\": true, \"textposition\": \"auto\", \"type\": \"bar\", \"x\": [\"YAUHQUEMECAN\"], \"xaxis\": \"x\", \"y\": [2], \"yaxis\": \"y\"}, {\"alignmentgroup\": \"True\", \"hoverlabel\": {\"namelength\": 0}, \"hovertemplate\": \"color=CUETZALAN DEL PROGRESO<br>x=%{x}<br>y=%{y}\", \"legendgroup\": \"color=CUETZALAN DEL PROGRESO\", \"marker\": {\"color\": \"#19d3f3\"}, \"name\": \"color=CUETZALAN DEL PROGRESO\", \"offsetgroup\": \"color=CUETZALAN DEL PROGRESO\", \"orientation\": \"v\", \"showlegend\": true, \"textposition\": \"auto\", \"type\": \"bar\", \"x\": [\"CUETZALAN DEL PROGRESO\"], \"xaxis\": \"x\", \"y\": [2], \"yaxis\": \"y\"}, {\"alignmentgroup\": \"True\", \"hoverlabel\": {\"namelength\": 0}, \"hovertemplate\": \"color=LORETO<br>x=%{x}<br>y=%{y}\", \"legendgroup\": \"color=LORETO\", \"marker\": {\"color\": \"#FF6692\"}, \"name\": \"color=LORETO\", \"offsetgroup\": \"color=LORETO\", \"orientation\": \"v\", \"showlegend\": true, \"textposition\": \"auto\", \"type\": \"bar\", \"x\": [\"LORETO\"], \"xaxis\": \"x\", \"y\": [2], \"yaxis\": \"y\"}, {\"alignmentgroup\": \"True\", \"hoverlabel\": {\"namelength\": 0}, \"hovertemplate\": \"color=URUAPAN<br>x=%{x}<br>y=%{y}\", \"legendgroup\": \"color=URUAPAN\", \"marker\": {\"color\": \"#B6E880\"}, \"name\": \"color=URUAPAN\", \"offsetgroup\": \"color=URUAPAN\", \"orientation\": \"v\", \"showlegend\": true, \"textposition\": \"auto\", \"type\": \"bar\", \"x\": [\"URUAPAN\"], \"xaxis\": \"x\", \"y\": [2], \"yaxis\": \"y\"}, {\"alignmentgroup\": \"True\", \"hoverlabel\": {\"namelength\": 0}, \"hovertemplate\": \"color=ARMERIA<br>x=%{x}<br>y=%{y}\", \"legendgroup\": \"color=ARMERIA\", \"marker\": {\"color\": \"#FF97FF\"}, \"name\": \"color=ARMERIA\", \"offsetgroup\": \"color=ARMERIA\", \"orientation\": \"v\", \"showlegend\": true, \"textposition\": \"auto\", \"type\": \"bar\", \"x\": [\"ARMERIA\"], \"xaxis\": \"x\", \"y\": [2], \"yaxis\": \"y\"}, {\"alignmentgroup\": \"True\", \"hoverlabel\": {\"namelength\": 0}, \"hovertemplate\": \"color=TEMAMATLA<br>x=%{x}<br>y=%{y}\", \"legendgroup\": \"color=TEMAMATLA\", \"marker\": {\"color\": \"#FECB52\"}, \"name\": \"color=TEMAMATLA\", \"offsetgroup\": \"color=TEMAMATLA\", \"orientation\": \"v\", \"showlegend\": true, \"textposition\": \"auto\", \"type\": \"bar\", \"x\": [\"TEMAMATLA\"], \"xaxis\": \"x\", \"y\": [2], \"yaxis\": \"y\"}, {\"alignmentgroup\": \"True\", \"hoverlabel\": {\"namelength\": 0}, \"hovertemplate\": \"color=PANUCO<br>x=%{x}<br>y=%{y}\", \"legendgroup\": \"color=PANUCO\", \"marker\": {\"color\": \"#636efa\"}, \"name\": \"color=PANUCO\", \"offsetgroup\": \"color=PANUCO\", \"orientation\": \"v\", \"showlegend\": true, \"textposition\": \"auto\", \"type\": \"bar\", \"x\": [\"PANUCO\"], \"xaxis\": \"x\", \"y\": [2], \"yaxis\": \"y\"}, {\"alignmentgroup\": \"True\", \"hoverlabel\": {\"namelength\": 0}, \"hovertemplate\": \"color=SAN NICOLAS DE LOS GARZA<br>x=%{x}<br>y=%{y}\", \"legendgroup\": \"color=SAN NICOLAS DE LOS GARZA\", \"marker\": {\"color\": \"#EF553B\"}, \"name\": \"color=SAN NICOLAS DE LOS GARZA\", \"offsetgroup\": \"color=SAN NICOLAS DE LOS GARZA\", \"orientation\": \"v\", \"showlegend\": true, \"textposition\": \"auto\", \"type\": \"bar\", \"x\": [\"SAN NICOLAS DE LOS GARZA\"], \"xaxis\": \"x\", \"y\": [2], \"yaxis\": \"y\"}, {\"alignmentgroup\": \"True\", \"hoverlabel\": {\"namelength\": 0}, \"hovertemplate\": \"color=HUAUCHINANGO<br>x=%{x}<br>y=%{y}\", \"legendgroup\": \"color=HUAUCHINANGO\", \"marker\": {\"color\": \"#00cc96\"}, \"name\": \"color=HUAUCHINANGO\", \"offsetgroup\": \"color=HUAUCHINANGO\", \"orientation\": \"v\", \"showlegend\": true, \"textposition\": \"auto\", \"type\": \"bar\", \"x\": [\"HUAUCHINANGO\"], \"xaxis\": \"x\", \"y\": [2], \"yaxis\": \"y\"}, {\"alignmentgroup\": \"True\", \"hoverlabel\": {\"namelength\": 0}, \"hovertemplate\": \"color=CORTAZAR<br>x=%{x}<br>y=%{y}\", \"legendgroup\": \"color=CORTAZAR\", \"marker\": {\"color\": \"#ab63fa\"}, \"name\": \"color=CORTAZAR\", \"offsetgroup\": \"color=CORTAZAR\", \"orientation\": \"v\", \"showlegend\": true, \"textposition\": \"auto\", \"type\": \"bar\", \"x\": [\"CORTAZAR\"], \"xaxis\": \"x\", \"y\": [2], \"yaxis\": \"y\"}, {\"alignmentgroup\": \"True\", \"hoverlabel\": {\"namelength\": 0}, \"hovertemplate\": \"color=SANTIAGO TULANTEPEC DE LUGO GUERRERO<br>x=%{x}<br>y=%{y}\", \"legendgroup\": \"color=SANTIAGO TULANTEPEC DE LUGO GUERRERO\", \"marker\": {\"color\": \"#FFA15A\"}, \"name\": \"color=SANTIAGO TULANTEPEC DE LUGO GUERRERO\", \"offsetgroup\": \"color=SANTIAGO TULANTEPEC DE LUGO GUERRERO\", \"orientation\": \"v\", \"showlegend\": true, \"textposition\": \"auto\", \"type\": \"bar\", \"x\": [\"SANTIAGO TULANTEPEC DE LUGO GUERRERO\"], \"xaxis\": \"x\", \"y\": [2], \"yaxis\": \"y\"}, {\"alignmentgroup\": \"True\", \"hoverlabel\": {\"namelength\": 0}, \"hovertemplate\": \"color=BUENAVENTURA<br>x=%{x}<br>y=%{y}\", \"legendgroup\": \"color=BUENAVENTURA\", \"marker\": {\"color\": \"#19d3f3\"}, \"name\": \"color=BUENAVENTURA\", \"offsetgroup\": \"color=BUENAVENTURA\", \"orientation\": \"v\", \"showlegend\": true, \"textposition\": \"auto\", \"type\": \"bar\", \"x\": [\"BUENAVENTURA\"], \"xaxis\": \"x\", \"y\": [2], \"yaxis\": \"y\"}, {\"alignmentgroup\": \"True\", \"hoverlabel\": {\"namelength\": 0}, \"hovertemplate\": \"color=BERRIOZABAL<br>x=%{x}<br>y=%{y}\", \"legendgroup\": \"color=BERRIOZABAL\", \"marker\": {\"color\": \"#FF6692\"}, \"name\": \"color=BERRIOZABAL\", \"offsetgroup\": \"color=BERRIOZABAL\", \"orientation\": \"v\", \"showlegend\": true, \"textposition\": \"auto\", \"type\": \"bar\", \"x\": [\"BERRIOZABAL\"], \"xaxis\": \"x\", \"y\": [2], \"yaxis\": \"y\"}, {\"alignmentgroup\": \"True\", \"hoverlabel\": {\"namelength\": 0}, \"hovertemplate\": \"color=IXTAPAN DE LA SAL<br>x=%{x}<br>y=%{y}\", \"legendgroup\": \"color=IXTAPAN DE LA SAL\", \"marker\": {\"color\": \"#B6E880\"}, \"name\": \"color=IXTAPAN DE LA SAL\", \"offsetgroup\": \"color=IXTAPAN DE LA SAL\", \"orientation\": \"v\", \"showlegend\": true, \"textposition\": \"auto\", \"type\": \"bar\", \"x\": [\"IXTAPAN DE LA SAL\"], \"xaxis\": \"x\", \"y\": [2], \"yaxis\": \"y\"}, {\"alignmentgroup\": \"True\", \"hoverlabel\": {\"namelength\": 0}, \"hovertemplate\": \"color=OMETEPEC<br>x=%{x}<br>y=%{y}\", \"legendgroup\": \"color=OMETEPEC\", \"marker\": {\"color\": \"#FF97FF\"}, \"name\": \"color=OMETEPEC\", \"offsetgroup\": \"color=OMETEPEC\", \"orientation\": \"v\", \"showlegend\": true, \"textposition\": \"auto\", \"type\": \"bar\", \"x\": [\"OMETEPEC\"], \"xaxis\": \"x\", \"y\": [2], \"yaxis\": \"y\"}, {\"alignmentgroup\": \"True\", \"hoverlabel\": {\"namelength\": 0}, \"hovertemplate\": \"color=TLAPACOYAN<br>x=%{x}<br>y=%{y}\", \"legendgroup\": \"color=TLAPACOYAN\", \"marker\": {\"color\": \"#FECB52\"}, \"name\": \"color=TLAPACOYAN\", \"offsetgroup\": \"color=TLAPACOYAN\", \"orientation\": \"v\", \"showlegend\": true, \"textposition\": \"auto\", \"type\": \"bar\", \"x\": [\"TLAPACOYAN\"], \"xaxis\": \"x\", \"y\": [2], \"yaxis\": \"y\"}, {\"alignmentgroup\": \"True\", \"hoverlabel\": {\"namelength\": 0}, \"hovertemplate\": \"color=TLAHUELILPAN<br>x=%{x}<br>y=%{y}\", \"legendgroup\": \"color=TLAHUELILPAN\", \"marker\": {\"color\": \"#636efa\"}, \"name\": \"color=TLAHUELILPAN\", \"offsetgroup\": \"color=TLAHUELILPAN\", \"orientation\": \"v\", \"showlegend\": true, \"textposition\": \"auto\", \"type\": \"bar\", \"x\": [\"TLAHUELILPAN\"], \"xaxis\": \"x\", \"y\": [2], \"yaxis\": \"y\"}, {\"alignmentgroup\": \"True\", \"hoverlabel\": {\"namelength\": 0}, \"hovertemplate\": \"color=TLACHICHUCA<br>x=%{x}<br>y=%{y}\", \"legendgroup\": \"color=TLACHICHUCA\", \"marker\": {\"color\": \"#EF553B\"}, \"name\": \"color=TLACHICHUCA\", \"offsetgroup\": \"color=TLACHICHUCA\", \"orientation\": \"v\", \"showlegend\": true, \"textposition\": \"auto\", \"type\": \"bar\", \"x\": [\"TLACHICHUCA\"], \"xaxis\": \"x\", \"y\": [2], \"yaxis\": \"y\"}, {\"alignmentgroup\": \"True\", \"hoverlabel\": {\"namelength\": 0}, \"hovertemplate\": \"color=BRISE\\u00c3\\u0091AS<br>x=%{x}<br>y=%{y}\", \"legendgroup\": \"color=BRISE\\u00c3\\u0091AS\", \"marker\": {\"color\": \"#00cc96\"}, \"name\": \"color=BRISE\\u00c3\\u0091AS\", \"offsetgroup\": \"color=BRISE\\u00c3\\u0091AS\", \"orientation\": \"v\", \"showlegend\": true, \"textposition\": \"auto\", \"type\": \"bar\", \"x\": [\"BRISE\\u00c3\\u0091AS\"], \"xaxis\": \"x\", \"y\": [2], \"yaxis\": \"y\"}, {\"alignmentgroup\": \"True\", \"hoverlabel\": {\"namelength\": 0}, \"hovertemplate\": \"color=GENERAL ESCOBEDO<br>x=%{x}<br>y=%{y}\", \"legendgroup\": \"color=GENERAL ESCOBEDO\", \"marker\": {\"color\": \"#ab63fa\"}, \"name\": \"color=GENERAL ESCOBEDO\", \"offsetgroup\": \"color=GENERAL ESCOBEDO\", \"orientation\": \"v\", \"showlegend\": true, \"textposition\": \"auto\", \"type\": \"bar\", \"x\": [\"GENERAL ESCOBEDO\"], \"xaxis\": \"x\", \"y\": [2], \"yaxis\": \"y\"}, {\"alignmentgroup\": \"True\", \"hoverlabel\": {\"namelength\": 0}, \"hovertemplate\": \"color=IZUCAR DE MATAMOROS<br>x=%{x}<br>y=%{y}\", \"legendgroup\": \"color=IZUCAR DE MATAMOROS\", \"marker\": {\"color\": \"#FFA15A\"}, \"name\": \"color=IZUCAR DE MATAMOROS\", \"offsetgroup\": \"color=IZUCAR DE MATAMOROS\", \"orientation\": \"v\", \"showlegend\": true, \"textposition\": \"auto\", \"type\": \"bar\", \"x\": [\"IZUCAR DE MATAMOROS\"], \"xaxis\": \"x\", \"y\": [2], \"yaxis\": \"y\"}, {\"alignmentgroup\": \"True\", \"hoverlabel\": {\"namelength\": 0}, \"hovertemplate\": \"color=ARROYO SECO<br>x=%{x}<br>y=%{y}\", \"legendgroup\": \"color=ARROYO SECO\", \"marker\": {\"color\": \"#19d3f3\"}, \"name\": \"color=ARROYO SECO\", \"offsetgroup\": \"color=ARROYO SECO\", \"orientation\": \"v\", \"showlegend\": true, \"textposition\": \"auto\", \"type\": \"bar\", \"x\": [\"ARROYO SECO\"], \"xaxis\": \"x\", \"y\": [2], \"yaxis\": \"y\"}, {\"alignmentgroup\": \"True\", \"hoverlabel\": {\"namelength\": 0}, \"hovertemplate\": \"color=PALENQUE<br>x=%{x}<br>y=%{y}\", \"legendgroup\": \"color=PALENQUE\", \"marker\": {\"color\": \"#FF6692\"}, \"name\": \"color=PALENQUE\", \"offsetgroup\": \"color=PALENQUE\", \"orientation\": \"v\", \"showlegend\": true, \"textposition\": \"auto\", \"type\": \"bar\", \"x\": [\"PALENQUE\"], \"xaxis\": \"x\", \"y\": [2], \"yaxis\": \"y\"}, {\"alignmentgroup\": \"True\", \"hoverlabel\": {\"namelength\": 0}, \"hovertemplate\": \"color=TEQUIXQUIAC<br>x=%{x}<br>y=%{y}\", \"legendgroup\": \"color=TEQUIXQUIAC\", \"marker\": {\"color\": \"#B6E880\"}, \"name\": \"color=TEQUIXQUIAC\", \"offsetgroup\": \"color=TEQUIXQUIAC\", \"orientation\": \"v\", \"showlegend\": true, \"textposition\": \"auto\", \"type\": \"bar\", \"x\": [\"TEQUIXQUIAC\"], \"xaxis\": \"x\", \"y\": [2], \"yaxis\": \"y\"}, {\"alignmentgroup\": \"True\", \"hoverlabel\": {\"namelength\": 0}, \"hovertemplate\": \"color=JALPAN DE SERRA<br>x=%{x}<br>y=%{y}\", \"legendgroup\": \"color=JALPAN DE SERRA\", \"marker\": {\"color\": \"#FF97FF\"}, \"name\": \"color=JALPAN DE SERRA\", \"offsetgroup\": \"color=JALPAN DE SERRA\", \"orientation\": \"v\", \"showlegend\": true, \"textposition\": \"auto\", \"type\": \"bar\", \"x\": [\"JALPAN DE SERRA\"], \"xaxis\": \"x\", \"y\": [2], \"yaxis\": \"y\"}, {\"alignmentgroup\": \"True\", \"hoverlabel\": {\"namelength\": 0}, \"hovertemplate\": \"color=IXMIQUILPAN<br>x=%{x}<br>y=%{y}\", \"legendgroup\": \"color=IXMIQUILPAN\", \"marker\": {\"color\": \"#FECB52\"}, \"name\": \"color=IXMIQUILPAN\", \"offsetgroup\": \"color=IXMIQUILPAN\", \"orientation\": \"v\", \"showlegend\": true, \"textposition\": \"auto\", \"type\": \"bar\", \"x\": [\"IXMIQUILPAN\"], \"xaxis\": \"x\", \"y\": [2], \"yaxis\": \"y\"}, {\"alignmentgroup\": \"True\", \"hoverlabel\": {\"namelength\": 0}, \"hovertemplate\": \"color=ACAXOCHITLAN<br>x=%{x}<br>y=%{y}\", \"legendgroup\": \"color=ACAXOCHITLAN\", \"marker\": {\"color\": \"#636efa\"}, \"name\": \"color=ACAXOCHITLAN\", \"offsetgroup\": \"color=ACAXOCHITLAN\", \"orientation\": \"v\", \"showlegend\": true, \"textposition\": \"auto\", \"type\": \"bar\", \"x\": [\"ACAXOCHITLAN\"], \"xaxis\": \"x\", \"y\": [2], \"yaxis\": \"y\"}, {\"alignmentgroup\": \"True\", \"hoverlabel\": {\"namelength\": 0}, \"hovertemplate\": \"color=COMONDU<br>x=%{x}<br>y=%{y}\", \"legendgroup\": \"color=COMONDU\", \"marker\": {\"color\": \"#EF553B\"}, \"name\": \"color=COMONDU\", \"offsetgroup\": \"color=COMONDU\", \"orientation\": \"v\", \"showlegend\": true, \"textposition\": \"auto\", \"type\": \"bar\", \"x\": [\"COMONDU\"], \"xaxis\": \"x\", \"y\": [2], \"yaxis\": \"y\"}, {\"alignmentgroup\": \"True\", \"hoverlabel\": {\"namelength\": 0}, \"hovertemplate\": \"color=JOSE MARIA MORELOS<br>x=%{x}<br>y=%{y}\", \"legendgroup\": \"color=JOSE MARIA MORELOS\", \"marker\": {\"color\": \"#00cc96\"}, \"name\": \"color=JOSE MARIA MORELOS\", \"offsetgroup\": \"color=JOSE MARIA MORELOS\", \"orientation\": \"v\", \"showlegend\": true, \"textposition\": \"auto\", \"type\": \"bar\", \"x\": [\"JOSE MARIA MORELOS\"], \"xaxis\": \"x\", \"y\": [2], \"yaxis\": \"y\"}, {\"alignmentgroup\": \"True\", \"hoverlabel\": {\"namelength\": 0}, \"hovertemplate\": \"color=LERDO<br>x=%{x}<br>y=%{y}\", \"legendgroup\": \"color=LERDO\", \"marker\": {\"color\": \"#ab63fa\"}, \"name\": \"color=LERDO\", \"offsetgroup\": \"color=LERDO\", \"orientation\": \"v\", \"showlegend\": true, \"textposition\": \"auto\", \"type\": \"bar\", \"x\": [\"LERDO\"], \"xaxis\": \"x\", \"y\": [2], \"yaxis\": \"y\"}, {\"alignmentgroup\": \"True\", \"hoverlabel\": {\"namelength\": 0}, \"hovertemplate\": \"color=TEPATITLAN DE MORELOS<br>x=%{x}<br>y=%{y}\", \"legendgroup\": \"color=TEPATITLAN DE MORELOS\", \"marker\": {\"color\": \"#FFA15A\"}, \"name\": \"color=TEPATITLAN DE MORELOS\", \"offsetgroup\": \"color=TEPATITLAN DE MORELOS\", \"orientation\": \"v\", \"showlegend\": true, \"textposition\": \"auto\", \"type\": \"bar\", \"x\": [\"TEPATITLAN DE MORELOS\"], \"xaxis\": \"x\", \"y\": [1], \"yaxis\": \"y\"}, {\"alignmentgroup\": \"True\", \"hoverlabel\": {\"namelength\": 0}, \"hovertemplate\": \"color=TOLCAYUCA<br>x=%{x}<br>y=%{y}\", \"legendgroup\": \"color=TOLCAYUCA\", \"marker\": {\"color\": \"#19d3f3\"}, \"name\": \"color=TOLCAYUCA\", \"offsetgroup\": \"color=TOLCAYUCA\", \"orientation\": \"v\", \"showlegend\": true, \"textposition\": \"auto\", \"type\": \"bar\", \"x\": [\"TOLCAYUCA\"], \"xaxis\": \"x\", \"y\": [1], \"yaxis\": \"y\"}, {\"alignmentgroup\": \"True\", \"hoverlabel\": {\"namelength\": 0}, \"hovertemplate\": \"color=PUTLA VILLA DE GUERRERO<br>x=%{x}<br>y=%{y}\", \"legendgroup\": \"color=PUTLA VILLA DE GUERRERO\", \"marker\": {\"color\": \"#FF6692\"}, \"name\": \"color=PUTLA VILLA DE GUERRERO\", \"offsetgroup\": \"color=PUTLA VILLA DE GUERRERO\", \"orientation\": \"v\", \"showlegend\": true, \"textposition\": \"auto\", \"type\": \"bar\", \"x\": [\"PUTLA VILLA DE GUERRERO\"], \"xaxis\": \"x\", \"y\": [1], \"yaxis\": \"y\"}, {\"alignmentgroup\": \"True\", \"hoverlabel\": {\"namelength\": 0}, \"hovertemplate\": \"color=OMITLAN DE JUAREZ<br>x=%{x}<br>y=%{y}\", \"legendgroup\": \"color=OMITLAN DE JUAREZ\", \"marker\": {\"color\": \"#B6E880\"}, \"name\": \"color=OMITLAN DE JUAREZ\", \"offsetgroup\": \"color=OMITLAN DE JUAREZ\", \"orientation\": \"v\", \"showlegend\": true, \"textposition\": \"auto\", \"type\": \"bar\", \"x\": [\"OMITLAN DE JUAREZ\"], \"xaxis\": \"x\", \"y\": [1], \"yaxis\": \"y\"}, {\"alignmentgroup\": \"True\", \"hoverlabel\": {\"namelength\": 0}, \"hovertemplate\": \"color=HUIMANGUILLO<br>x=%{x}<br>y=%{y}\", \"legendgroup\": \"color=HUIMANGUILLO\", \"marker\": {\"color\": \"#FF97FF\"}, \"name\": \"color=HUIMANGUILLO\", \"offsetgroup\": \"color=HUIMANGUILLO\", \"orientation\": \"v\", \"showlegend\": true, \"textposition\": \"auto\", \"type\": \"bar\", \"x\": [\"HUIMANGUILLO\"], \"xaxis\": \"x\", \"y\": [1], \"yaxis\": \"y\"}, {\"alignmentgroup\": \"True\", \"hoverlabel\": {\"namelength\": 0}, \"hovertemplate\": \"color=OLUTA<br>x=%{x}<br>y=%{y}\", \"legendgroup\": \"color=OLUTA\", \"marker\": {\"color\": \"#FECB52\"}, \"name\": \"color=OLUTA\", \"offsetgroup\": \"color=OLUTA\", \"orientation\": \"v\", \"showlegend\": true, \"textposition\": \"auto\", \"type\": \"bar\", \"x\": [\"OLUTA\"], \"xaxis\": \"x\", \"y\": [1], \"yaxis\": \"y\"}, {\"alignmentgroup\": \"True\", \"hoverlabel\": {\"namelength\": 0}, \"hovertemplate\": \"color=SAN JUAN GUICHICOVI<br>x=%{x}<br>y=%{y}\", \"legendgroup\": \"color=SAN JUAN GUICHICOVI\", \"marker\": {\"color\": \"#636efa\"}, \"name\": \"color=SAN JUAN GUICHICOVI\", \"offsetgroup\": \"color=SAN JUAN GUICHICOVI\", \"orientation\": \"v\", \"showlegend\": true, \"textposition\": \"auto\", \"type\": \"bar\", \"x\": [\"SAN JUAN GUICHICOVI\"], \"xaxis\": \"x\", \"y\": [1], \"yaxis\": \"y\"}, {\"alignmentgroup\": \"True\", \"hoverlabel\": {\"namelength\": 0}, \"hovertemplate\": \"color=ZITLALTEPEC DE TRINIDAD SANCHEZ SANTOS<br>x=%{x}<br>y=%{y}\", \"legendgroup\": \"color=ZITLALTEPEC DE TRINIDAD SANCHEZ SANTOS\", \"marker\": {\"color\": \"#EF553B\"}, \"name\": \"color=ZITLALTEPEC DE TRINIDAD SANCHEZ SANTOS\", \"offsetgroup\": \"color=ZITLALTEPEC DE TRINIDAD SANCHEZ SANTOS\", \"orientation\": \"v\", \"showlegend\": true, \"textposition\": \"auto\", \"type\": \"bar\", \"x\": [\"ZITLALTEPEC DE TRINIDAD SANCHEZ SANTOS\"], \"xaxis\": \"x\", \"y\": [1], \"yaxis\": \"y\"}, {\"alignmentgroup\": \"True\", \"hoverlabel\": {\"namelength\": 0}, \"hovertemplate\": \"color=SAIN ALTO<br>x=%{x}<br>y=%{y}\", \"legendgroup\": \"color=SAIN ALTO\", \"marker\": {\"color\": \"#00cc96\"}, \"name\": \"color=SAIN ALTO\", \"offsetgroup\": \"color=SAIN ALTO\", \"orientation\": \"v\", \"showlegend\": true, \"textposition\": \"auto\", \"type\": \"bar\", \"x\": [\"SAIN ALTO\"], \"xaxis\": \"x\", \"y\": [1], \"yaxis\": \"y\"}, {\"alignmentgroup\": \"True\", \"hoverlabel\": {\"namelength\": 0}, \"hovertemplate\": \"color=TALA<br>x=%{x}<br>y=%{y}\", \"legendgroup\": \"color=TALA\", \"marker\": {\"color\": \"#ab63fa\"}, \"name\": \"color=TALA\", \"offsetgroup\": \"color=TALA\", \"orientation\": \"v\", \"showlegend\": true, \"textposition\": \"auto\", \"type\": \"bar\", \"x\": [\"TALA\"], \"xaxis\": \"x\", \"y\": [1], \"yaxis\": \"y\"}, {\"alignmentgroup\": \"True\", \"hoverlabel\": {\"namelength\": 0}, \"hovertemplate\": \"color=JUAN GALINDO<br>x=%{x}<br>y=%{y}\", \"legendgroup\": \"color=JUAN GALINDO\", \"marker\": {\"color\": \"#FFA15A\"}, \"name\": \"color=JUAN GALINDO\", \"offsetgroup\": \"color=JUAN GALINDO\", \"orientation\": \"v\", \"showlegend\": true, \"textposition\": \"auto\", \"type\": \"bar\", \"x\": [\"JUAN GALINDO\"], \"xaxis\": \"x\", \"y\": [1], \"yaxis\": \"y\"}, {\"alignmentgroup\": \"True\", \"hoverlabel\": {\"namelength\": 0}, \"hovertemplate\": \"color=CIUDAD DEL MAIZ<br>x=%{x}<br>y=%{y}\", \"legendgroup\": \"color=CIUDAD DEL MAIZ\", \"marker\": {\"color\": \"#19d3f3\"}, \"name\": \"color=CIUDAD DEL MAIZ\", \"offsetgroup\": \"color=CIUDAD DEL MAIZ\", \"orientation\": \"v\", \"showlegend\": true, \"textposition\": \"auto\", \"type\": \"bar\", \"x\": [\"CIUDAD DEL MAIZ\"], \"xaxis\": \"x\", \"y\": [1], \"yaxis\": \"y\"}, {\"alignmentgroup\": \"True\", \"hoverlabel\": {\"namelength\": 0}, \"hovertemplate\": \"color=AMAXAC DE GUERRERO<br>x=%{x}<br>y=%{y}\", \"legendgroup\": \"color=AMAXAC DE GUERRERO\", \"marker\": {\"color\": \"#FF6692\"}, \"name\": \"color=AMAXAC DE GUERRERO\", \"offsetgroup\": \"color=AMAXAC DE GUERRERO\", \"orientation\": \"v\", \"showlegend\": true, \"textposition\": \"auto\", \"type\": \"bar\", \"x\": [\"AMAXAC DE GUERRERO\"], \"xaxis\": \"x\", \"y\": [1], \"yaxis\": \"y\"}, {\"alignmentgroup\": \"True\", \"hoverlabel\": {\"namelength\": 0}, \"hovertemplate\": \"color=HUATUSCO<br>x=%{x}<br>y=%{y}\", \"legendgroup\": \"color=HUATUSCO\", \"marker\": {\"color\": \"#B6E880\"}, \"name\": \"color=HUATUSCO\", \"offsetgroup\": \"color=HUATUSCO\", \"orientation\": \"v\", \"showlegend\": true, \"textposition\": \"auto\", \"type\": \"bar\", \"x\": [\"HUATUSCO\"], \"xaxis\": \"x\", \"y\": [1], \"yaxis\": \"y\"}, {\"alignmentgroup\": \"True\", \"hoverlabel\": {\"namelength\": 0}, \"hovertemplate\": \"color=TEPETITLAN<br>x=%{x}<br>y=%{y}\", \"legendgroup\": \"color=TEPETITLAN\", \"marker\": {\"color\": \"#FF97FF\"}, \"name\": \"color=TEPETITLAN\", \"offsetgroup\": \"color=TEPETITLAN\", \"orientation\": \"v\", \"showlegend\": true, \"textposition\": \"auto\", \"type\": \"bar\", \"x\": [\"TEPETITLAN\"], \"xaxis\": \"x\", \"y\": [1], \"yaxis\": \"y\"}, {\"alignmentgroup\": \"True\", \"hoverlabel\": {\"namelength\": 0}, \"hovertemplate\": \"color=PARRAS<br>x=%{x}<br>y=%{y}\", \"legendgroup\": \"color=PARRAS\", \"marker\": {\"color\": \"#FECB52\"}, \"name\": \"color=PARRAS\", \"offsetgroup\": \"color=PARRAS\", \"orientation\": \"v\", \"showlegend\": true, \"textposition\": \"auto\", \"type\": \"bar\", \"x\": [\"PARRAS\"], \"xaxis\": \"x\", \"y\": [1], \"yaxis\": \"y\"}, {\"alignmentgroup\": \"True\", \"hoverlabel\": {\"namelength\": 0}, \"hovertemplate\": \"color=ALPATLAHUAC<br>x=%{x}<br>y=%{y}\", \"legendgroup\": \"color=ALPATLAHUAC\", \"marker\": {\"color\": \"#636efa\"}, \"name\": \"color=ALPATLAHUAC\", \"offsetgroup\": \"color=ALPATLAHUAC\", \"orientation\": \"v\", \"showlegend\": true, \"textposition\": \"auto\", \"type\": \"bar\", \"x\": [\"ALPATLAHUAC\"], \"xaxis\": \"x\", \"y\": [1], \"yaxis\": \"y\"}, {\"alignmentgroup\": \"True\", \"hoverlabel\": {\"namelength\": 0}, \"hovertemplate\": \"color=CARRILLO PUERTO<br>x=%{x}<br>y=%{y}\", \"legendgroup\": \"color=CARRILLO PUERTO\", \"marker\": {\"color\": \"#EF553B\"}, \"name\": \"color=CARRILLO PUERTO\", \"offsetgroup\": \"color=CARRILLO PUERTO\", \"orientation\": \"v\", \"showlegend\": true, \"textposition\": \"auto\", \"type\": \"bar\", \"x\": [\"CARRILLO PUERTO\"], \"xaxis\": \"x\", \"y\": [1], \"yaxis\": \"y\"}, {\"alignmentgroup\": \"True\", \"hoverlabel\": {\"namelength\": 0}, \"hovertemplate\": \"color=PASO DEL MACHO<br>x=%{x}<br>y=%{y}\", \"legendgroup\": \"color=PASO DEL MACHO\", \"marker\": {\"color\": \"#00cc96\"}, \"name\": \"color=PASO DEL MACHO\", \"offsetgroup\": \"color=PASO DEL MACHO\", \"orientation\": \"v\", \"showlegend\": true, \"textposition\": \"auto\", \"type\": \"bar\", \"x\": [\"PASO DEL MACHO\"], \"xaxis\": \"x\", \"y\": [1], \"yaxis\": \"y\"}, {\"alignmentgroup\": \"True\", \"hoverlabel\": {\"namelength\": 0}, \"hovertemplate\": \"color=AJACUBA<br>x=%{x}<br>y=%{y}\", \"legendgroup\": \"color=AJACUBA\", \"marker\": {\"color\": \"#ab63fa\"}, \"name\": \"color=AJACUBA\", \"offsetgroup\": \"color=AJACUBA\", \"orientation\": \"v\", \"showlegend\": true, \"textposition\": \"auto\", \"type\": \"bar\", \"x\": [\"AJACUBA\"], \"xaxis\": \"x\", \"y\": [1], \"yaxis\": \"y\"}, {\"alignmentgroup\": \"True\", \"hoverlabel\": {\"namelength\": 0}, \"hovertemplate\": \"color=NAUPAN<br>x=%{x}<br>y=%{y}\", \"legendgroup\": \"color=NAUPAN\", \"marker\": {\"color\": \"#FFA15A\"}, \"name\": \"color=NAUPAN\", \"offsetgroup\": \"color=NAUPAN\", \"orientation\": \"v\", \"showlegend\": true, \"textposition\": \"auto\", \"type\": \"bar\", \"x\": [\"NAUPAN\"], \"xaxis\": \"x\", \"y\": [1], \"yaxis\": \"y\"}, {\"alignmentgroup\": \"True\", \"hoverlabel\": {\"namelength\": 0}, \"hovertemplate\": \"color=SAN SIMON DE GUERRERO<br>x=%{x}<br>y=%{y}\", \"legendgroup\": \"color=SAN SIMON DE GUERRERO\", \"marker\": {\"color\": \"#19d3f3\"}, \"name\": \"color=SAN SIMON DE GUERRERO\", \"offsetgroup\": \"color=SAN SIMON DE GUERRERO\", \"orientation\": \"v\", \"showlegend\": true, \"textposition\": \"auto\", \"type\": \"bar\", \"x\": [\"SAN SIMON DE GUERRERO\"], \"xaxis\": \"x\", \"y\": [1], \"yaxis\": \"y\"}, {\"alignmentgroup\": \"True\", \"hoverlabel\": {\"namelength\": 0}, \"hovertemplate\": \"color=ERONGARICUARO<br>x=%{x}<br>y=%{y}\", \"legendgroup\": \"color=ERONGARICUARO\", \"marker\": {\"color\": \"#FF6692\"}, \"name\": \"color=ERONGARICUARO\", \"offsetgroup\": \"color=ERONGARICUARO\", \"orientation\": \"v\", \"showlegend\": true, \"textposition\": \"auto\", \"type\": \"bar\", \"x\": [\"ERONGARICUARO\"], \"xaxis\": \"x\", \"y\": [1], \"yaxis\": \"y\"}, {\"alignmentgroup\": \"True\", \"hoverlabel\": {\"namelength\": 0}, \"hovertemplate\": \"color=CA\\u00c3\\u0091ADA MORELOS<br>x=%{x}<br>y=%{y}\", \"legendgroup\": \"color=CA\\u00c3\\u0091ADA MORELOS\", \"marker\": {\"color\": \"#B6E880\"}, \"name\": \"color=CA\\u00c3\\u0091ADA MORELOS\", \"offsetgroup\": \"color=CA\\u00c3\\u0091ADA MORELOS\", \"orientation\": \"v\", \"showlegend\": true, \"textposition\": \"auto\", \"type\": \"bar\", \"x\": [\"CA\\u00c3\\u0091ADA MORELOS\"], \"xaxis\": \"x\", \"y\": [1], \"yaxis\": \"y\"}, {\"alignmentgroup\": \"True\", \"hoverlabel\": {\"namelength\": 0}, \"hovertemplate\": \"color=ASIENTOS<br>x=%{x}<br>y=%{y}\", \"legendgroup\": \"color=ASIENTOS\", \"marker\": {\"color\": \"#FF97FF\"}, \"name\": \"color=ASIENTOS\", \"offsetgroup\": \"color=ASIENTOS\", \"orientation\": \"v\", \"showlegend\": true, \"textposition\": \"auto\", \"type\": \"bar\", \"x\": [\"ASIENTOS\"], \"xaxis\": \"x\", \"y\": [1], \"yaxis\": \"y\"}, {\"alignmentgroup\": \"True\", \"hoverlabel\": {\"namelength\": 0}, \"hovertemplate\": \"color=PROGRESO DE OBREGON<br>x=%{x}<br>y=%{y}\", \"legendgroup\": \"color=PROGRESO DE OBREGON\", \"marker\": {\"color\": \"#FECB52\"}, \"name\": \"color=PROGRESO DE OBREGON\", \"offsetgroup\": \"color=PROGRESO DE OBREGON\", \"orientation\": \"v\", \"showlegend\": true, \"textposition\": \"auto\", \"type\": \"bar\", \"x\": [\"PROGRESO DE OBREGON\"], \"xaxis\": \"x\", \"y\": [1], \"yaxis\": \"y\"}, {\"alignmentgroup\": \"True\", \"hoverlabel\": {\"namelength\": 0}, \"hovertemplate\": \"color=JARAL DEL PROGRESO<br>x=%{x}<br>y=%{y}\", \"legendgroup\": \"color=JARAL DEL PROGRESO\", \"marker\": {\"color\": \"#636efa\"}, \"name\": \"color=JARAL DEL PROGRESO\", \"offsetgroup\": \"color=JARAL DEL PROGRESO\", \"orientation\": \"v\", \"showlegend\": true, \"textposition\": \"auto\", \"type\": \"bar\", \"x\": [\"JARAL DEL PROGRESO\"], \"xaxis\": \"x\", \"y\": [1], \"yaxis\": \"y\"}, {\"alignmentgroup\": \"True\", \"hoverlabel\": {\"namelength\": 0}, \"hovertemplate\": \"color=SANTA CRUZ XOXOCOTLAN<br>x=%{x}<br>y=%{y}\", \"legendgroup\": \"color=SANTA CRUZ XOXOCOTLAN\", \"marker\": {\"color\": \"#EF553B\"}, \"name\": \"color=SANTA CRUZ XOXOCOTLAN\", \"offsetgroup\": \"color=SANTA CRUZ XOXOCOTLAN\", \"orientation\": \"v\", \"showlegend\": true, \"textposition\": \"auto\", \"type\": \"bar\", \"x\": [\"SANTA CRUZ XOXOCOTLAN\"], \"xaxis\": \"x\", \"y\": [1], \"yaxis\": \"y\"}, {\"alignmentgroup\": \"True\", \"hoverlabel\": {\"namelength\": 0}, \"hovertemplate\": \"color=MAGDALENA<br>x=%{x}<br>y=%{y}\", \"legendgroup\": \"color=MAGDALENA\", \"marker\": {\"color\": \"#00cc96\"}, \"name\": \"color=MAGDALENA\", \"offsetgroup\": \"color=MAGDALENA\", \"orientation\": \"v\", \"showlegend\": true, \"textposition\": \"auto\", \"type\": \"bar\", \"x\": [\"MAGDALENA\"], \"xaxis\": \"x\", \"y\": [1], \"yaxis\": \"y\"}, {\"alignmentgroup\": \"True\", \"hoverlabel\": {\"namelength\": 0}, \"hovertemplate\": \"color=ZAPOTLAN EL GRANDE<br>x=%{x}<br>y=%{y}\", \"legendgroup\": \"color=ZAPOTLAN EL GRANDE\", \"marker\": {\"color\": \"#ab63fa\"}, \"name\": \"color=ZAPOTLAN EL GRANDE\", \"offsetgroup\": \"color=ZAPOTLAN EL GRANDE\", \"orientation\": \"v\", \"showlegend\": true, \"textposition\": \"auto\", \"type\": \"bar\", \"x\": [\"ZAPOTLAN EL GRANDE\"], \"xaxis\": \"x\", \"y\": [1], \"yaxis\": \"y\"}, {\"alignmentgroup\": \"True\", \"hoverlabel\": {\"namelength\": 0}, \"hovertemplate\": \"color=TEOCALTICHE<br>x=%{x}<br>y=%{y}\", \"legendgroup\": \"color=TEOCALTICHE\", \"marker\": {\"color\": \"#FFA15A\"}, \"name\": \"color=TEOCALTICHE\", \"offsetgroup\": \"color=TEOCALTICHE\", \"orientation\": \"v\", \"showlegend\": true, \"textposition\": \"auto\", \"type\": \"bar\", \"x\": [\"TEOCALTICHE\"], \"xaxis\": \"x\", \"y\": [1], \"yaxis\": \"y\"}, {\"alignmentgroup\": \"True\", \"hoverlabel\": {\"namelength\": 0}, \"hovertemplate\": \"color=PARAISO<br>x=%{x}<br>y=%{y}\", \"legendgroup\": \"color=PARAISO\", \"marker\": {\"color\": \"#19d3f3\"}, \"name\": \"color=PARAISO\", \"offsetgroup\": \"color=PARAISO\", \"orientation\": \"v\", \"showlegend\": true, \"textposition\": \"auto\", \"type\": \"bar\", \"x\": [\"PARAISO\"], \"xaxis\": \"x\", \"y\": [1], \"yaxis\": \"y\"}, {\"alignmentgroup\": \"True\", \"hoverlabel\": {\"namelength\": 0}, \"hovertemplate\": \"color=XONACATLAN<br>x=%{x}<br>y=%{y}\", \"legendgroup\": \"color=XONACATLAN\", \"marker\": {\"color\": \"#FF6692\"}, \"name\": \"color=XONACATLAN\", \"offsetgroup\": \"color=XONACATLAN\", \"orientation\": \"v\", \"showlegend\": true, \"textposition\": \"auto\", \"type\": \"bar\", \"x\": [\"XONACATLAN\"], \"xaxis\": \"x\", \"y\": [1], \"yaxis\": \"y\"}, {\"alignmentgroup\": \"True\", \"hoverlabel\": {\"namelength\": 0}, \"hovertemplate\": \"color=HUAUTLA DE JIMENEZ<br>x=%{x}<br>y=%{y}\", \"legendgroup\": \"color=HUAUTLA DE JIMENEZ\", \"marker\": {\"color\": \"#B6E880\"}, \"name\": \"color=HUAUTLA DE JIMENEZ\", \"offsetgroup\": \"color=HUAUTLA DE JIMENEZ\", \"orientation\": \"v\", \"showlegend\": true, \"textposition\": \"auto\", \"type\": \"bar\", \"x\": [\"HUAUTLA DE JIMENEZ\"], \"xaxis\": \"x\", \"y\": [1], \"yaxis\": \"y\"}, {\"alignmentgroup\": \"True\", \"hoverlabel\": {\"namelength\": 0}, \"hovertemplate\": \"color=BADIRAGUATO<br>x=%{x}<br>y=%{y}\", \"legendgroup\": \"color=BADIRAGUATO\", \"marker\": {\"color\": \"#FF97FF\"}, \"name\": \"color=BADIRAGUATO\", \"offsetgroup\": \"color=BADIRAGUATO\", \"orientation\": \"v\", \"showlegend\": true, \"textposition\": \"auto\", \"type\": \"bar\", \"x\": [\"BADIRAGUATO\"], \"xaxis\": \"x\", \"y\": [1], \"yaxis\": \"y\"}, {\"alignmentgroup\": \"True\", \"hoverlabel\": {\"namelength\": 0}, \"hovertemplate\": \"color=TEXCALTITLAN<br>x=%{x}<br>y=%{y}\", \"legendgroup\": \"color=TEXCALTITLAN\", \"marker\": {\"color\": \"#FECB52\"}, \"name\": \"color=TEXCALTITLAN\", \"offsetgroup\": \"color=TEXCALTITLAN\", \"orientation\": \"v\", \"showlegend\": true, \"textposition\": \"auto\", \"type\": \"bar\", \"x\": [\"TEXCALTITLAN\"], \"xaxis\": \"x\", \"y\": [1], \"yaxis\": \"y\"}, {\"alignmentgroup\": \"True\", \"hoverlabel\": {\"namelength\": 0}, \"hovertemplate\": \"color=CABO CORRIENTES<br>x=%{x}<br>y=%{y}\", \"legendgroup\": \"color=CABO CORRIENTES\", \"marker\": {\"color\": \"#636efa\"}, \"name\": \"color=CABO CORRIENTES\", \"offsetgroup\": \"color=CABO CORRIENTES\", \"orientation\": \"v\", \"showlegend\": true, \"textposition\": \"auto\", \"type\": \"bar\", \"x\": [\"CABO CORRIENTES\"], \"xaxis\": \"x\", \"y\": [1], \"yaxis\": \"y\"}, {\"alignmentgroup\": \"True\", \"hoverlabel\": {\"namelength\": 0}, \"hovertemplate\": \"color=CADEREYTA JIMENEZ<br>x=%{x}<br>y=%{y}\", \"legendgroup\": \"color=CADEREYTA JIMENEZ\", \"marker\": {\"color\": \"#EF553B\"}, \"name\": \"color=CADEREYTA JIMENEZ\", \"offsetgroup\": \"color=CADEREYTA JIMENEZ\", \"orientation\": \"v\", \"showlegend\": true, \"textposition\": \"auto\", \"type\": \"bar\", \"x\": [\"CADEREYTA JIMENEZ\"], \"xaxis\": \"x\", \"y\": [1], \"yaxis\": \"y\"}, {\"alignmentgroup\": \"True\", \"hoverlabel\": {\"namelength\": 0}, \"hovertemplate\": \"color=TETELA DE OCAMPO<br>x=%{x}<br>y=%{y}\", \"legendgroup\": \"color=TETELA DE OCAMPO\", \"marker\": {\"color\": \"#00cc96\"}, \"name\": \"color=TETELA DE OCAMPO\", \"offsetgroup\": \"color=TETELA DE OCAMPO\", \"orientation\": \"v\", \"showlegend\": true, \"textposition\": \"auto\", \"type\": \"bar\", \"x\": [\"TETELA DE OCAMPO\"], \"xaxis\": \"x\", \"y\": [1], \"yaxis\": \"y\"}, {\"alignmentgroup\": \"True\", \"hoverlabel\": {\"namelength\": 0}, \"hovertemplate\": \"color=AMOZOC<br>x=%{x}<br>y=%{y}\", \"legendgroup\": \"color=AMOZOC\", \"marker\": {\"color\": \"#ab63fa\"}, \"name\": \"color=AMOZOC\", \"offsetgroup\": \"color=AMOZOC\", \"orientation\": \"v\", \"showlegend\": true, \"textposition\": \"auto\", \"type\": \"bar\", \"x\": [\"AMOZOC\"], \"xaxis\": \"x\", \"y\": [1], \"yaxis\": \"y\"}, {\"alignmentgroup\": \"True\", \"hoverlabel\": {\"namelength\": 0}, \"hovertemplate\": \"color=ISLA MUJERES<br>x=%{x}<br>y=%{y}\", \"legendgroup\": \"color=ISLA MUJERES\", \"marker\": {\"color\": \"#FFA15A\"}, \"name\": \"color=ISLA MUJERES\", \"offsetgroup\": \"color=ISLA MUJERES\", \"orientation\": \"v\", \"showlegend\": true, \"textposition\": \"auto\", \"type\": \"bar\", \"x\": [\"ISLA MUJERES\"], \"xaxis\": \"x\", \"y\": [1], \"yaxis\": \"y\"}, {\"alignmentgroup\": \"True\", \"hoverlabel\": {\"namelength\": 0}, \"hovertemplate\": \"color=COENEO<br>x=%{x}<br>y=%{y}\", \"legendgroup\": \"color=COENEO\", \"marker\": {\"color\": \"#19d3f3\"}, \"name\": \"color=COENEO\", \"offsetgroup\": \"color=COENEO\", \"orientation\": \"v\", \"showlegend\": true, \"textposition\": \"auto\", \"type\": \"bar\", \"x\": [\"COENEO\"], \"xaxis\": \"x\", \"y\": [1], \"yaxis\": \"y\"}, {\"alignmentgroup\": \"True\", \"hoverlabel\": {\"namelength\": 0}, \"hovertemplate\": \"color=ATLAUTLA<br>x=%{x}<br>y=%{y}\", \"legendgroup\": \"color=ATLAUTLA\", \"marker\": {\"color\": \"#FF6692\"}, \"name\": \"color=ATLAUTLA\", \"offsetgroup\": \"color=ATLAUTLA\", \"orientation\": \"v\", \"showlegend\": true, \"textposition\": \"auto\", \"type\": \"bar\", \"x\": [\"ATLAUTLA\"], \"xaxis\": \"x\", \"y\": [1], \"yaxis\": \"y\"}, {\"alignmentgroup\": \"True\", \"hoverlabel\": {\"namelength\": 0}, \"hovertemplate\": \"color=TANCANHUITZ<br>x=%{x}<br>y=%{y}\", \"legendgroup\": \"color=TANCANHUITZ\", \"marker\": {\"color\": \"#B6E880\"}, \"name\": \"color=TANCANHUITZ\", \"offsetgroup\": \"color=TANCANHUITZ\", \"orientation\": \"v\", \"showlegend\": true, \"textposition\": \"auto\", \"type\": \"bar\", \"x\": [\"TANCANHUITZ\"], \"xaxis\": \"x\", \"y\": [1], \"yaxis\": \"y\"}, {\"alignmentgroup\": \"True\", \"hoverlabel\": {\"namelength\": 0}, \"hovertemplate\": \"color=MIGUEL ALEMAN<br>x=%{x}<br>y=%{y}\", \"legendgroup\": \"color=MIGUEL ALEMAN\", \"marker\": {\"color\": \"#FF97FF\"}, \"name\": \"color=MIGUEL ALEMAN\", \"offsetgroup\": \"color=MIGUEL ALEMAN\", \"orientation\": \"v\", \"showlegend\": true, \"textposition\": \"auto\", \"type\": \"bar\", \"x\": [\"MIGUEL ALEMAN\"], \"xaxis\": \"x\", \"y\": [1], \"yaxis\": \"y\"}, {\"alignmentgroup\": \"True\", \"hoverlabel\": {\"namelength\": 0}, \"hovertemplate\": \"color=HUEJUTLA DE REYES<br>x=%{x}<br>y=%{y}\", \"legendgroup\": \"color=HUEJUTLA DE REYES\", \"marker\": {\"color\": \"#FECB52\"}, \"name\": \"color=HUEJUTLA DE REYES\", \"offsetgroup\": \"color=HUEJUTLA DE REYES\", \"orientation\": \"v\", \"showlegend\": true, \"textposition\": \"auto\", \"type\": \"bar\", \"x\": [\"HUEJUTLA DE REYES\"], \"xaxis\": \"x\", \"y\": [1], \"yaxis\": \"y\"}, {\"alignmentgroup\": \"True\", \"hoverlabel\": {\"namelength\": 0}, \"hovertemplate\": \"color=SANTA MARIA COLOTEPEC<br>x=%{x}<br>y=%{y}\", \"legendgroup\": \"color=SANTA MARIA COLOTEPEC\", \"marker\": {\"color\": \"#636efa\"}, \"name\": \"color=SANTA MARIA COLOTEPEC\", \"offsetgroup\": \"color=SANTA MARIA COLOTEPEC\", \"orientation\": \"v\", \"showlegend\": true, \"textposition\": \"auto\", \"type\": \"bar\", \"x\": [\"SANTA MARIA COLOTEPEC\"], \"xaxis\": \"x\", \"y\": [1], \"yaxis\": \"y\"}, {\"alignmentgroup\": \"True\", \"hoverlabel\": {\"namelength\": 0}, \"hovertemplate\": \"color=ASUNCION NOCHIXTLAN<br>x=%{x}<br>y=%{y}\", \"legendgroup\": \"color=ASUNCION NOCHIXTLAN\", \"marker\": {\"color\": \"#EF553B\"}, \"name\": \"color=ASUNCION NOCHIXTLAN\", \"offsetgroup\": \"color=ASUNCION NOCHIXTLAN\", \"orientation\": \"v\", \"showlegend\": true, \"textposition\": \"auto\", \"type\": \"bar\", \"x\": [\"ASUNCION NOCHIXTLAN\"], \"xaxis\": \"x\", \"y\": [1], \"yaxis\": \"y\"}, {\"alignmentgroup\": \"True\", \"hoverlabel\": {\"namelength\": 0}, \"hovertemplate\": \"color=CHAPA DE MOTA<br>x=%{x}<br>y=%{y}\", \"legendgroup\": \"color=CHAPA DE MOTA\", \"marker\": {\"color\": \"#00cc96\"}, \"name\": \"color=CHAPA DE MOTA\", \"offsetgroup\": \"color=CHAPA DE MOTA\", \"orientation\": \"v\", \"showlegend\": true, \"textposition\": \"auto\", \"type\": \"bar\", \"x\": [\"CHAPA DE MOTA\"], \"xaxis\": \"x\", \"y\": [1], \"yaxis\": \"y\"}, {\"alignmentgroup\": \"True\", \"hoverlabel\": {\"namelength\": 0}, \"hovertemplate\": \"color=BUCTZOTZ<br>x=%{x}<br>y=%{y}\", \"legendgroup\": \"color=BUCTZOTZ\", \"marker\": {\"color\": \"#ab63fa\"}, \"name\": \"color=BUCTZOTZ\", \"offsetgroup\": \"color=BUCTZOTZ\", \"orientation\": \"v\", \"showlegend\": true, \"textposition\": \"auto\", \"type\": \"bar\", \"x\": [\"BUCTZOTZ\"], \"xaxis\": \"x\", \"y\": [1], \"yaxis\": \"y\"}, {\"alignmentgroup\": \"True\", \"hoverlabel\": {\"namelength\": 0}, \"hovertemplate\": \"color=ATITALAQUIA<br>x=%{x}<br>y=%{y}\", \"legendgroup\": \"color=ATITALAQUIA\", \"marker\": {\"color\": \"#FFA15A\"}, \"name\": \"color=ATITALAQUIA\", \"offsetgroup\": \"color=ATITALAQUIA\", \"orientation\": \"v\", \"showlegend\": true, \"textposition\": \"auto\", \"type\": \"bar\", \"x\": [\"ATITALAQUIA\"], \"xaxis\": \"x\", \"y\": [1], \"yaxis\": \"y\"}, {\"alignmentgroup\": \"True\", \"hoverlabel\": {\"namelength\": 0}, \"hovertemplate\": \"color=AGUA PRIETA<br>x=%{x}<br>y=%{y}\", \"legendgroup\": \"color=AGUA PRIETA\", \"marker\": {\"color\": \"#19d3f3\"}, \"name\": \"color=AGUA PRIETA\", \"offsetgroup\": \"color=AGUA PRIETA\", \"orientation\": \"v\", \"showlegend\": true, \"textposition\": \"auto\", \"type\": \"bar\", \"x\": [\"AGUA PRIETA\"], \"xaxis\": \"x\", \"y\": [1], \"yaxis\": \"y\"}, {\"alignmentgroup\": \"True\", \"hoverlabel\": {\"namelength\": 0}, \"hovertemplate\": \"color=MENDEZ<br>x=%{x}<br>y=%{y}\", \"legendgroup\": \"color=MENDEZ\", \"marker\": {\"color\": \"#FF6692\"}, \"name\": \"color=MENDEZ\", \"offsetgroup\": \"color=MENDEZ\", \"orientation\": \"v\", \"showlegend\": true, \"textposition\": \"auto\", \"type\": \"bar\", \"x\": [\"MENDEZ\"], \"xaxis\": \"x\", \"y\": [1], \"yaxis\": \"y\"}, {\"alignmentgroup\": \"True\", \"hoverlabel\": {\"namelength\": 0}, \"hovertemplate\": \"color=TENANGO DE DORIA<br>x=%{x}<br>y=%{y}\", \"legendgroup\": \"color=TENANGO DE DORIA\", \"marker\": {\"color\": \"#B6E880\"}, \"name\": \"color=TENANGO DE DORIA\", \"offsetgroup\": \"color=TENANGO DE DORIA\", \"orientation\": \"v\", \"showlegend\": true, \"textposition\": \"auto\", \"type\": \"bar\", \"x\": [\"TENANGO DE DORIA\"], \"xaxis\": \"x\", \"y\": [1], \"yaxis\": \"y\"}, {\"alignmentgroup\": \"True\", \"hoverlabel\": {\"namelength\": 0}, \"hovertemplate\": \"color=SAN PEDRO POCHUTLA<br>x=%{x}<br>y=%{y}\", \"legendgroup\": \"color=SAN PEDRO POCHUTLA\", \"marker\": {\"color\": \"#FF97FF\"}, \"name\": \"color=SAN PEDRO POCHUTLA\", \"offsetgroup\": \"color=SAN PEDRO POCHUTLA\", \"orientation\": \"v\", \"showlegend\": true, \"textposition\": \"auto\", \"type\": \"bar\", \"x\": [\"SAN PEDRO POCHUTLA\"], \"xaxis\": \"x\", \"y\": [1], \"yaxis\": \"y\"}, {\"alignmentgroup\": \"True\", \"hoverlabel\": {\"namelength\": 0}, \"hovertemplate\": \"color=JALOSTOTITLAN<br>x=%{x}<br>y=%{y}\", \"legendgroup\": \"color=JALOSTOTITLAN\", \"marker\": {\"color\": \"#FECB52\"}, \"name\": \"color=JALOSTOTITLAN\", \"offsetgroup\": \"color=JALOSTOTITLAN\", \"orientation\": \"v\", \"showlegend\": true, \"textposition\": \"auto\", \"type\": \"bar\", \"x\": [\"JALOSTOTITLAN\"], \"xaxis\": \"x\", \"y\": [1], \"yaxis\": \"y\"}, {\"alignmentgroup\": \"True\", \"hoverlabel\": {\"namelength\": 0}, \"hovertemplate\": \"color=ATOTONILCO EL GRANDE<br>x=%{x}<br>y=%{y}\", \"legendgroup\": \"color=ATOTONILCO EL GRANDE\", \"marker\": {\"color\": \"#636efa\"}, \"name\": \"color=ATOTONILCO EL GRANDE\", \"offsetgroup\": \"color=ATOTONILCO EL GRANDE\", \"orientation\": \"v\", \"showlegend\": true, \"textposition\": \"auto\", \"type\": \"bar\", \"x\": [\"ATOTONILCO EL GRANDE\"], \"xaxis\": \"x\", \"y\": [1], \"yaxis\": \"y\"}, {\"alignmentgroup\": \"True\", \"hoverlabel\": {\"namelength\": 0}, \"hovertemplate\": \"color=SANTO TOMAS<br>x=%{x}<br>y=%{y}\", \"legendgroup\": \"color=SANTO TOMAS\", \"marker\": {\"color\": \"#EF553B\"}, \"name\": \"color=SANTO TOMAS\", \"offsetgroup\": \"color=SANTO TOMAS\", \"orientation\": \"v\", \"showlegend\": true, \"textposition\": \"auto\", \"type\": \"bar\", \"x\": [\"SANTO TOMAS\"], \"xaxis\": \"x\", \"y\": [1], \"yaxis\": \"y\"}, {\"alignmentgroup\": \"True\", \"hoverlabel\": {\"namelength\": 0}, \"hovertemplate\": \"color=OCOTLAN<br>x=%{x}<br>y=%{y}\", \"legendgroup\": \"color=OCOTLAN\", \"marker\": {\"color\": \"#00cc96\"}, \"name\": \"color=OCOTLAN\", \"offsetgroup\": \"color=OCOTLAN\", \"orientation\": \"v\", \"showlegend\": true, \"textposition\": \"auto\", \"type\": \"bar\", \"x\": [\"OCOTLAN\"], \"xaxis\": \"x\", \"y\": [1], \"yaxis\": \"y\"}, {\"alignmentgroup\": \"True\", \"hoverlabel\": {\"namelength\": 0}, \"hovertemplate\": \"color=GENERAL HELIODORO CASTILLO<br>x=%{x}<br>y=%{y}\", \"legendgroup\": \"color=GENERAL HELIODORO CASTILLO\", \"marker\": {\"color\": \"#ab63fa\"}, \"name\": \"color=GENERAL HELIODORO CASTILLO\", \"offsetgroup\": \"color=GENERAL HELIODORO CASTILLO\", \"orientation\": \"v\", \"showlegend\": true, \"textposition\": \"auto\", \"type\": \"bar\", \"x\": [\"GENERAL HELIODORO CASTILLO\"], \"xaxis\": \"x\", \"y\": [1], \"yaxis\": \"y\"}, {\"alignmentgroup\": \"True\", \"hoverlabel\": {\"namelength\": 0}, \"hovertemplate\": \"color=EL SALTO<br>x=%{x}<br>y=%{y}\", \"legendgroup\": \"color=EL SALTO\", \"marker\": {\"color\": \"#FFA15A\"}, \"name\": \"color=EL SALTO\", \"offsetgroup\": \"color=EL SALTO\", \"orientation\": \"v\", \"showlegend\": true, \"textposition\": \"auto\", \"type\": \"bar\", \"x\": [\"EL SALTO\"], \"xaxis\": \"x\", \"y\": [1], \"yaxis\": \"y\"}, {\"alignmentgroup\": \"True\", \"hoverlabel\": {\"namelength\": 0}, \"hovertemplate\": \"color=AQUILES SERDAN<br>x=%{x}<br>y=%{y}\", \"legendgroup\": \"color=AQUILES SERDAN\", \"marker\": {\"color\": \"#19d3f3\"}, \"name\": \"color=AQUILES SERDAN\", \"offsetgroup\": \"color=AQUILES SERDAN\", \"orientation\": \"v\", \"showlegend\": true, \"textposition\": \"auto\", \"type\": \"bar\", \"x\": [\"AQUILES SERDAN\"], \"xaxis\": \"x\", \"y\": [1], \"yaxis\": \"y\"}, {\"alignmentgroup\": \"True\", \"hoverlabel\": {\"namelength\": 0}, \"hovertemplate\": \"color=SANTA ANA MAYA<br>x=%{x}<br>y=%{y}\", \"legendgroup\": \"color=SANTA ANA MAYA\", \"marker\": {\"color\": \"#FF6692\"}, \"name\": \"color=SANTA ANA MAYA\", \"offsetgroup\": \"color=SANTA ANA MAYA\", \"orientation\": \"v\", \"showlegend\": true, \"textposition\": \"auto\", \"type\": \"bar\", \"x\": [\"SANTA ANA MAYA\"], \"xaxis\": \"x\", \"y\": [1], \"yaxis\": \"y\"}, {\"alignmentgroup\": \"True\", \"hoverlabel\": {\"namelength\": 0}, \"hovertemplate\": \"color=TECPAN DE GALEANA<br>x=%{x}<br>y=%{y}\", \"legendgroup\": \"color=TECPAN DE GALEANA\", \"marker\": {\"color\": \"#B6E880\"}, \"name\": \"color=TECPAN DE GALEANA\", \"offsetgroup\": \"color=TECPAN DE GALEANA\", \"orientation\": \"v\", \"showlegend\": true, \"textposition\": \"auto\", \"type\": \"bar\", \"x\": [\"TECPAN DE GALEANA\"], \"xaxis\": \"x\", \"y\": [1], \"yaxis\": \"y\"}, {\"alignmentgroup\": \"True\", \"hoverlabel\": {\"namelength\": 0}, \"hovertemplate\": \"color=MARAVATIO<br>x=%{x}<br>y=%{y}\", \"legendgroup\": \"color=MARAVATIO\", \"marker\": {\"color\": \"#FF97FF\"}, \"name\": \"color=MARAVATIO\", \"offsetgroup\": \"color=MARAVATIO\", \"orientation\": \"v\", \"showlegend\": true, \"textposition\": \"auto\", \"type\": \"bar\", \"x\": [\"MARAVATIO\"], \"xaxis\": \"x\", \"y\": [1], \"yaxis\": \"y\"}, {\"alignmentgroup\": \"True\", \"hoverlabel\": {\"namelength\": 0}, \"hovertemplate\": \"color=SAN JOSE ITURBIDE<br>x=%{x}<br>y=%{y}\", \"legendgroup\": \"color=SAN JOSE ITURBIDE\", \"marker\": {\"color\": \"#FECB52\"}, \"name\": \"color=SAN JOSE ITURBIDE\", \"offsetgroup\": \"color=SAN JOSE ITURBIDE\", \"orientation\": \"v\", \"showlegend\": true, \"textposition\": \"auto\", \"type\": \"bar\", \"x\": [\"SAN JOSE ITURBIDE\"], \"xaxis\": \"x\", \"y\": [1], \"yaxis\": \"y\"}, {\"alignmentgroup\": \"True\", \"hoverlabel\": {\"namelength\": 0}, \"hovertemplate\": \"color=COMAPA<br>x=%{x}<br>y=%{y}\", \"legendgroup\": \"color=COMAPA\", \"marker\": {\"color\": \"#636efa\"}, \"name\": \"color=COMAPA\", \"offsetgroup\": \"color=COMAPA\", \"orientation\": \"v\", \"showlegend\": true, \"textposition\": \"auto\", \"type\": \"bar\", \"x\": [\"COMAPA\"], \"xaxis\": \"x\", \"y\": [1], \"yaxis\": \"y\"}, {\"alignmentgroup\": \"True\", \"hoverlabel\": {\"namelength\": 0}, \"hovertemplate\": \"color=CUAPIAXTLA DE MADERO<br>x=%{x}<br>y=%{y}\", \"legendgroup\": \"color=CUAPIAXTLA DE MADERO\", \"marker\": {\"color\": \"#EF553B\"}, \"name\": \"color=CUAPIAXTLA DE MADERO\", \"offsetgroup\": \"color=CUAPIAXTLA DE MADERO\", \"orientation\": \"v\", \"showlegend\": true, \"textposition\": \"auto\", \"type\": \"bar\", \"x\": [\"CUAPIAXTLA DE MADERO\"], \"xaxis\": \"x\", \"y\": [1], \"yaxis\": \"y\"}, {\"alignmentgroup\": \"True\", \"hoverlabel\": {\"namelength\": 0}, \"hovertemplate\": \"color=SAN JOSE CHIAPA<br>x=%{x}<br>y=%{y}\", \"legendgroup\": \"color=SAN JOSE CHIAPA\", \"marker\": {\"color\": \"#00cc96\"}, \"name\": \"color=SAN JOSE CHIAPA\", \"offsetgroup\": \"color=SAN JOSE CHIAPA\", \"orientation\": \"v\", \"showlegend\": true, \"textposition\": \"auto\", \"type\": \"bar\", \"x\": [\"SAN JOSE CHIAPA\"], \"xaxis\": \"x\", \"y\": [1], \"yaxis\": \"y\"}, {\"alignmentgroup\": \"True\", \"hoverlabel\": {\"namelength\": 0}, \"hovertemplate\": \"color=ALVARADO<br>x=%{x}<br>y=%{y}\", \"legendgroup\": \"color=ALVARADO\", \"marker\": {\"color\": \"#ab63fa\"}, \"name\": \"color=ALVARADO\", \"offsetgroup\": \"color=ALVARADO\", \"orientation\": \"v\", \"showlegend\": true, \"textposition\": \"auto\", \"type\": \"bar\", \"x\": [\"ALVARADO\"], \"xaxis\": \"x\", \"y\": [1], \"yaxis\": \"y\"}, {\"alignmentgroup\": \"True\", \"hoverlabel\": {\"namelength\": 0}, \"hovertemplate\": \"color=HUEYAPAN DE OCAMPO<br>x=%{x}<br>y=%{y}\", \"legendgroup\": \"color=HUEYAPAN DE OCAMPO\", \"marker\": {\"color\": \"#FFA15A\"}, \"name\": \"color=HUEYAPAN DE OCAMPO\", \"offsetgroup\": \"color=HUEYAPAN DE OCAMPO\", \"orientation\": \"v\", \"showlegend\": true, \"textposition\": \"auto\", \"type\": \"bar\", \"x\": [\"HUEYAPAN DE OCAMPO\"], \"xaxis\": \"x\", \"y\": [1], \"yaxis\": \"y\"}, {\"alignmentgroup\": \"True\", \"hoverlabel\": {\"namelength\": 0}, \"hovertemplate\": \"color=DZILAM DE BRAVO<br>x=%{x}<br>y=%{y}\", \"legendgroup\": \"color=DZILAM DE BRAVO\", \"marker\": {\"color\": \"#19d3f3\"}, \"name\": \"color=DZILAM DE BRAVO\", \"offsetgroup\": \"color=DZILAM DE BRAVO\", \"orientation\": \"v\", \"showlegend\": true, \"textposition\": \"auto\", \"type\": \"bar\", \"x\": [\"DZILAM DE BRAVO\"], \"xaxis\": \"x\", \"y\": [1], \"yaxis\": \"y\"}, {\"alignmentgroup\": \"True\", \"hoverlabel\": {\"namelength\": 0}, \"hovertemplate\": \"color=ACONCHI<br>x=%{x}<br>y=%{y}\", \"legendgroup\": \"color=ACONCHI\", \"marker\": {\"color\": \"#FF6692\"}, \"name\": \"color=ACONCHI\", \"offsetgroup\": \"color=ACONCHI\", \"orientation\": \"v\", \"showlegend\": true, \"textposition\": \"auto\", \"type\": \"bar\", \"x\": [\"ACONCHI\"], \"xaxis\": \"x\", \"y\": [1], \"yaxis\": \"y\"}, {\"alignmentgroup\": \"True\", \"hoverlabel\": {\"namelength\": 0}, \"hovertemplate\": \"color=SAN MIGUEL XOXTLA<br>x=%{x}<br>y=%{y}\", \"legendgroup\": \"color=SAN MIGUEL XOXTLA\", \"marker\": {\"color\": \"#B6E880\"}, \"name\": \"color=SAN MIGUEL XOXTLA\", \"offsetgroup\": \"color=SAN MIGUEL XOXTLA\", \"orientation\": \"v\", \"showlegend\": true, \"textposition\": \"auto\", \"type\": \"bar\", \"x\": [\"SAN MIGUEL XOXTLA\"], \"xaxis\": \"x\", \"y\": [1], \"yaxis\": \"y\"}, {\"alignmentgroup\": \"True\", \"hoverlabel\": {\"namelength\": 0}, \"hovertemplate\": \"color=JUAREZ HIDALGO<br>x=%{x}<br>y=%{y}\", \"legendgroup\": \"color=JUAREZ HIDALGO\", \"marker\": {\"color\": \"#FF97FF\"}, \"name\": \"color=JUAREZ HIDALGO\", \"offsetgroup\": \"color=JUAREZ HIDALGO\", \"orientation\": \"v\", \"showlegend\": true, \"textposition\": \"auto\", \"type\": \"bar\", \"x\": [\"JUAREZ HIDALGO\"], \"xaxis\": \"x\", \"y\": [1], \"yaxis\": \"y\"}, {\"alignmentgroup\": \"True\", \"hoverlabel\": {\"namelength\": 0}, \"hovertemplate\": \"color=AHUATLAN<br>x=%{x}<br>y=%{y}\", \"legendgroup\": \"color=AHUATLAN\", \"marker\": {\"color\": \"#FECB52\"}, \"name\": \"color=AHUATLAN\", \"offsetgroup\": \"color=AHUATLAN\", \"orientation\": \"v\", \"showlegend\": true, \"textposition\": \"auto\", \"type\": \"bar\", \"x\": [\"AHUATLAN\"], \"xaxis\": \"x\", \"y\": [1], \"yaxis\": \"y\"}, {\"alignmentgroup\": \"True\", \"hoverlabel\": {\"namelength\": 0}, \"hovertemplate\": \"color=MULEGE<br>x=%{x}<br>y=%{y}\", \"legendgroup\": \"color=MULEGE\", \"marker\": {\"color\": \"#636efa\"}, \"name\": \"color=MULEGE\", \"offsetgroup\": \"color=MULEGE\", \"orientation\": \"v\", \"showlegend\": true, \"textposition\": \"auto\", \"type\": \"bar\", \"x\": [\"MULEGE\"], \"xaxis\": \"x\", \"y\": [1], \"yaxis\": \"y\"}, {\"alignmentgroup\": \"True\", \"hoverlabel\": {\"namelength\": 0}, \"hovertemplate\": \"color=ZAPOTITLAN PALMAS<br>x=%{x}<br>y=%{y}\", \"legendgroup\": \"color=ZAPOTITLAN PALMAS\", \"marker\": {\"color\": \"#EF553B\"}, \"name\": \"color=ZAPOTITLAN PALMAS\", \"offsetgroup\": \"color=ZAPOTITLAN PALMAS\", \"orientation\": \"v\", \"showlegend\": true, \"textposition\": \"auto\", \"type\": \"bar\", \"x\": [\"ZAPOTITLAN PALMAS\"], \"xaxis\": \"x\", \"y\": [1], \"yaxis\": \"y\"}, {\"alignmentgroup\": \"True\", \"hoverlabel\": {\"namelength\": 0}, \"hovertemplate\": \"color=METZTITLAN<br>x=%{x}<br>y=%{y}\", \"legendgroup\": \"color=METZTITLAN\", \"marker\": {\"color\": \"#00cc96\"}, \"name\": \"color=METZTITLAN\", \"offsetgroup\": \"color=METZTITLAN\", \"orientation\": \"v\", \"showlegend\": true, \"textposition\": \"auto\", \"type\": \"bar\", \"x\": [\"METZTITLAN\"], \"xaxis\": \"x\", \"y\": [1], \"yaxis\": \"y\"}, {\"alignmentgroup\": \"True\", \"hoverlabel\": {\"namelength\": 0}, \"hovertemplate\": \"color=PISAFLORES<br>x=%{x}<br>y=%{y}\", \"legendgroup\": \"color=PISAFLORES\", \"marker\": {\"color\": \"#ab63fa\"}, \"name\": \"color=PISAFLORES\", \"offsetgroup\": \"color=PISAFLORES\", \"orientation\": \"v\", \"showlegend\": true, \"textposition\": \"auto\", \"type\": \"bar\", \"x\": [\"PISAFLORES\"], \"xaxis\": \"x\", \"y\": [1], \"yaxis\": \"y\"}, {\"alignmentgroup\": \"True\", \"hoverlabel\": {\"namelength\": 0}, \"hovertemplate\": \"color=SANTIAGO YOSONDUA<br>x=%{x}<br>y=%{y}\", \"legendgroup\": \"color=SANTIAGO YOSONDUA\", \"marker\": {\"color\": \"#FFA15A\"}, \"name\": \"color=SANTIAGO YOSONDUA\", \"offsetgroup\": \"color=SANTIAGO YOSONDUA\", \"orientation\": \"v\", \"showlegend\": true, \"textposition\": \"auto\", \"type\": \"bar\", \"x\": [\"SANTIAGO YOSONDUA\"], \"xaxis\": \"x\", \"y\": [1], \"yaxis\": \"y\"}, {\"alignmentgroup\": \"True\", \"hoverlabel\": {\"namelength\": 0}, \"hovertemplate\": \"color=CHIGNAHUAPAN<br>x=%{x}<br>y=%{y}\", \"legendgroup\": \"color=CHIGNAHUAPAN\", \"marker\": {\"color\": \"#19d3f3\"}, \"name\": \"color=CHIGNAHUAPAN\", \"offsetgroup\": \"color=CHIGNAHUAPAN\", \"orientation\": \"v\", \"showlegend\": true, \"textposition\": \"auto\", \"type\": \"bar\", \"x\": [\"CHIGNAHUAPAN\"], \"xaxis\": \"x\", \"y\": [1], \"yaxis\": \"y\"}, {\"alignmentgroup\": \"True\", \"hoverlabel\": {\"namelength\": 0}, \"hovertemplate\": \"color=HUIXTAN<br>x=%{x}<br>y=%{y}\", \"legendgroup\": \"color=HUIXTAN\", \"marker\": {\"color\": \"#FF6692\"}, \"name\": \"color=HUIXTAN\", \"offsetgroup\": \"color=HUIXTAN\", \"orientation\": \"v\", \"showlegend\": true, \"textposition\": \"auto\", \"type\": \"bar\", \"x\": [\"HUIXTAN\"], \"xaxis\": \"x\", \"y\": [1], \"yaxis\": \"y\"}, {\"alignmentgroup\": \"True\", \"hoverlabel\": {\"namelength\": 0}, \"hovertemplate\": \"color=COPALA<br>x=%{x}<br>y=%{y}\", \"legendgroup\": \"color=COPALA\", \"marker\": {\"color\": \"#B6E880\"}, \"name\": \"color=COPALA\", \"offsetgroup\": \"color=COPALA\", \"orientation\": \"v\", \"showlegend\": true, \"textposition\": \"auto\", \"type\": \"bar\", \"x\": [\"COPALA\"], \"xaxis\": \"x\", \"y\": [1], \"yaxis\": \"y\"}, {\"alignmentgroup\": \"True\", \"hoverlabel\": {\"namelength\": 0}, \"hovertemplate\": \"color=SAN GREGORIO ATZOMPA<br>x=%{x}<br>y=%{y}\", \"legendgroup\": \"color=SAN GREGORIO ATZOMPA\", \"marker\": {\"color\": \"#FF97FF\"}, \"name\": \"color=SAN GREGORIO ATZOMPA\", \"offsetgroup\": \"color=SAN GREGORIO ATZOMPA\", \"orientation\": \"v\", \"showlegend\": true, \"textposition\": \"auto\", \"type\": \"bar\", \"x\": [\"SAN GREGORIO ATZOMPA\"], \"xaxis\": \"x\", \"y\": [1], \"yaxis\": \"y\"}, {\"alignmentgroup\": \"True\", \"hoverlabel\": {\"namelength\": 0}, \"hovertemplate\": \"color=HUATABAMPO<br>x=%{x}<br>y=%{y}\", \"legendgroup\": \"color=HUATABAMPO\", \"marker\": {\"color\": \"#FECB52\"}, \"name\": \"color=HUATABAMPO\", \"offsetgroup\": \"color=HUATABAMPO\", \"orientation\": \"v\", \"showlegend\": true, \"textposition\": \"auto\", \"type\": \"bar\", \"x\": [\"HUATABAMPO\"], \"xaxis\": \"x\", \"y\": [1], \"yaxis\": \"y\"}, {\"alignmentgroup\": \"True\", \"hoverlabel\": {\"namelength\": 0}, \"hovertemplate\": \"color=ENCARNACION DE DIAZ<br>x=%{x}<br>y=%{y}\", \"legendgroup\": \"color=ENCARNACION DE DIAZ\", \"marker\": {\"color\": \"#636efa\"}, \"name\": \"color=ENCARNACION DE DIAZ\", \"offsetgroup\": \"color=ENCARNACION DE DIAZ\", \"orientation\": \"v\", \"showlegend\": true, \"textposition\": \"auto\", \"type\": \"bar\", \"x\": [\"ENCARNACION DE DIAZ\"], \"xaxis\": \"x\", \"y\": [1], \"yaxis\": \"y\"}, {\"alignmentgroup\": \"True\", \"hoverlabel\": {\"namelength\": 0}, \"hovertemplate\": \"color=CUAUTEPEC DE HINOJOSA<br>x=%{x}<br>y=%{y}\", \"legendgroup\": \"color=CUAUTEPEC DE HINOJOSA\", \"marker\": {\"color\": \"#EF553B\"}, \"name\": \"color=CUAUTEPEC DE HINOJOSA\", \"offsetgroup\": \"color=CUAUTEPEC DE HINOJOSA\", \"orientation\": \"v\", \"showlegend\": true, \"textposition\": \"auto\", \"type\": \"bar\", \"x\": [\"CUAUTEPEC DE HINOJOSA\"], \"xaxis\": \"x\", \"y\": [1], \"yaxis\": \"y\"}, {\"alignmentgroup\": \"True\", \"hoverlabel\": {\"namelength\": 0}, \"hovertemplate\": \"color=MISANTLA<br>x=%{x}<br>y=%{y}\", \"legendgroup\": \"color=MISANTLA\", \"marker\": {\"color\": \"#00cc96\"}, \"name\": \"color=MISANTLA\", \"offsetgroup\": \"color=MISANTLA\", \"orientation\": \"v\", \"showlegend\": true, \"textposition\": \"auto\", \"type\": \"bar\", \"x\": [\"MISANTLA\"], \"xaxis\": \"x\", \"y\": [1], \"yaxis\": \"y\"}, {\"alignmentgroup\": \"True\", \"hoverlabel\": {\"namelength\": 0}, \"hovertemplate\": \"color=CUITLAHUAC<br>x=%{x}<br>y=%{y}\", \"legendgroup\": \"color=CUITLAHUAC\", \"marker\": {\"color\": \"#ab63fa\"}, \"name\": \"color=CUITLAHUAC\", \"offsetgroup\": \"color=CUITLAHUAC\", \"orientation\": \"v\", \"showlegend\": true, \"textposition\": \"auto\", \"type\": \"bar\", \"x\": [\"CUITLAHUAC\"], \"xaxis\": \"x\", \"y\": [1], \"yaxis\": \"y\"}, {\"alignmentgroup\": \"True\", \"hoverlabel\": {\"namelength\": 0}, \"hovertemplate\": \"color=IGUALAPA<br>x=%{x}<br>y=%{y}\", \"legendgroup\": \"color=IGUALAPA\", \"marker\": {\"color\": \"#FFA15A\"}, \"name\": \"color=IGUALAPA\", \"offsetgroup\": \"color=IGUALAPA\", \"orientation\": \"v\", \"showlegend\": true, \"textposition\": \"auto\", \"type\": \"bar\", \"x\": [\"IGUALAPA\"], \"xaxis\": \"x\", \"y\": [1], \"yaxis\": \"y\"}, {\"alignmentgroup\": \"True\", \"hoverlabel\": {\"namelength\": 0}, \"hovertemplate\": \"color=RAFAEL DELGADO<br>x=%{x}<br>y=%{y}\", \"legendgroup\": \"color=RAFAEL DELGADO\", \"marker\": {\"color\": \"#19d3f3\"}, \"name\": \"color=RAFAEL DELGADO\", \"offsetgroup\": \"color=RAFAEL DELGADO\", \"orientation\": \"v\", \"showlegend\": true, \"textposition\": \"auto\", \"type\": \"bar\", \"x\": [\"RAFAEL DELGADO\"], \"xaxis\": \"x\", \"y\": [1], \"yaxis\": \"y\"}, {\"alignmentgroup\": \"True\", \"hoverlabel\": {\"namelength\": 0}, \"hovertemplate\": \"color=ZAPOTLAN DE JUAREZ<br>x=%{x}<br>y=%{y}\", \"legendgroup\": \"color=ZAPOTLAN DE JUAREZ\", \"marker\": {\"color\": \"#FF6692\"}, \"name\": \"color=ZAPOTLAN DE JUAREZ\", \"offsetgroup\": \"color=ZAPOTLAN DE JUAREZ\", \"orientation\": \"v\", \"showlegend\": true, \"textposition\": \"auto\", \"type\": \"bar\", \"x\": [\"ZAPOTLAN DE JUAREZ\"], \"xaxis\": \"x\", \"y\": [1], \"yaxis\": \"y\"}, {\"alignmentgroup\": \"True\", \"hoverlabel\": {\"namelength\": 0}, \"hovertemplate\": \"color=TULCINGO<br>x=%{x}<br>y=%{y}\", \"legendgroup\": \"color=TULCINGO\", \"marker\": {\"color\": \"#B6E880\"}, \"name\": \"color=TULCINGO\", \"offsetgroup\": \"color=TULCINGO\", \"orientation\": \"v\", \"showlegend\": true, \"textposition\": \"auto\", \"type\": \"bar\", \"x\": [\"TULCINGO\"], \"xaxis\": \"x\", \"y\": [1], \"yaxis\": \"y\"}, {\"alignmentgroup\": \"True\", \"hoverlabel\": {\"namelength\": 0}, \"hovertemplate\": \"color=EL FUERTE<br>x=%{x}<br>y=%{y}\", \"legendgroup\": \"color=EL FUERTE\", \"marker\": {\"color\": \"#FF97FF\"}, \"name\": \"color=EL FUERTE\", \"offsetgroup\": \"color=EL FUERTE\", \"orientation\": \"v\", \"showlegend\": true, \"textposition\": \"auto\", \"type\": \"bar\", \"x\": [\"EL FUERTE\"], \"xaxis\": \"x\", \"y\": [1], \"yaxis\": \"y\"}, {\"alignmentgroup\": \"True\", \"hoverlabel\": {\"namelength\": 0}, \"hovertemplate\": \"color=KANASIN<br>x=%{x}<br>y=%{y}\", \"legendgroup\": \"color=KANASIN\", \"marker\": {\"color\": \"#FECB52\"}, \"name\": \"color=KANASIN\", \"offsetgroup\": \"color=KANASIN\", \"orientation\": \"v\", \"showlegend\": true, \"textposition\": \"auto\", \"type\": \"bar\", \"x\": [\"KANASIN\"], \"xaxis\": \"x\", \"y\": [1], \"yaxis\": \"y\"}, {\"alignmentgroup\": \"True\", \"hoverlabel\": {\"namelength\": 0}, \"hovertemplate\": \"color=SAN FRANCISCO JALTEPETONGO<br>x=%{x}<br>y=%{y}\", \"legendgroup\": \"color=SAN FRANCISCO JALTEPETONGO\", \"marker\": {\"color\": \"#636efa\"}, \"name\": \"color=SAN FRANCISCO JALTEPETONGO\", \"offsetgroup\": \"color=SAN FRANCISCO JALTEPETONGO\", \"orientation\": \"v\", \"showlegend\": true, \"textposition\": \"auto\", \"type\": \"bar\", \"x\": [\"SAN FRANCISCO JALTEPETONGO\"], \"xaxis\": \"x\", \"y\": [1], \"yaxis\": \"y\"}, {\"alignmentgroup\": \"True\", \"hoverlabel\": {\"namelength\": 0}, \"hovertemplate\": \"color=BATOPILAS<br>x=%{x}<br>y=%{y}\", \"legendgroup\": \"color=BATOPILAS\", \"marker\": {\"color\": \"#EF553B\"}, \"name\": \"color=BATOPILAS\", \"offsetgroup\": \"color=BATOPILAS\", \"orientation\": \"v\", \"showlegend\": true, \"textposition\": \"auto\", \"type\": \"bar\", \"x\": [\"BATOPILAS\"], \"xaxis\": \"x\", \"y\": [1], \"yaxis\": \"y\"}, {\"alignmentgroup\": \"True\", \"hoverlabel\": {\"namelength\": 0}, \"hovertemplate\": \"color=GUELATAO DE JUAREZ<br>x=%{x}<br>y=%{y}\", \"legendgroup\": \"color=GUELATAO DE JUAREZ\", \"marker\": {\"color\": \"#00cc96\"}, \"name\": \"color=GUELATAO DE JUAREZ\", \"offsetgroup\": \"color=GUELATAO DE JUAREZ\", \"orientation\": \"v\", \"showlegend\": true, \"textposition\": \"auto\", \"type\": \"bar\", \"x\": [\"GUELATAO DE JUAREZ\"], \"xaxis\": \"x\", \"y\": [1], \"yaxis\": \"y\"}, {\"alignmentgroup\": \"True\", \"hoverlabel\": {\"namelength\": 0}, \"hovertemplate\": \"color=TEHUITZINGO<br>x=%{x}<br>y=%{y}\", \"legendgroup\": \"color=TEHUITZINGO\", \"marker\": {\"color\": \"#ab63fa\"}, \"name\": \"color=TEHUITZINGO\", \"offsetgroup\": \"color=TEHUITZINGO\", \"orientation\": \"v\", \"showlegend\": true, \"textposition\": \"auto\", \"type\": \"bar\", \"x\": [\"TEHUITZINGO\"], \"xaxis\": \"x\", \"y\": [1], \"yaxis\": \"y\"}, {\"alignmentgroup\": \"True\", \"hoverlabel\": {\"namelength\": 0}, \"hovertemplate\": \"color=BOCOYNA<br>x=%{x}<br>y=%{y}\", \"legendgroup\": \"color=BOCOYNA\", \"marker\": {\"color\": \"#FFA15A\"}, \"name\": \"color=BOCOYNA\", \"offsetgroup\": \"color=BOCOYNA\", \"orientation\": \"v\", \"showlegend\": true, \"textposition\": \"auto\", \"type\": \"bar\", \"x\": [\"BOCOYNA\"], \"xaxis\": \"x\", \"y\": [1], \"yaxis\": \"y\"}, {\"alignmentgroup\": \"True\", \"hoverlabel\": {\"namelength\": 0}, \"hovertemplate\": \"color=SANTA ANA<br>x=%{x}<br>y=%{y}\", \"legendgroup\": \"color=SANTA ANA\", \"marker\": {\"color\": \"#19d3f3\"}, \"name\": \"color=SANTA ANA\", \"offsetgroup\": \"color=SANTA ANA\", \"orientation\": \"v\", \"showlegend\": true, \"textposition\": \"auto\", \"type\": \"bar\", \"x\": [\"SANTA ANA\"], \"xaxis\": \"x\", \"y\": [1], \"yaxis\": \"y\"}, {\"alignmentgroup\": \"True\", \"hoverlabel\": {\"namelength\": 0}, \"hovertemplate\": \"color=SAN SALVADOR EL VERDE<br>x=%{x}<br>y=%{y}\", \"legendgroup\": \"color=SAN SALVADOR EL VERDE\", \"marker\": {\"color\": \"#FF6692\"}, \"name\": \"color=SAN SALVADOR EL VERDE\", \"offsetgroup\": \"color=SAN SALVADOR EL VERDE\", \"orientation\": \"v\", \"showlegend\": true, \"textposition\": \"auto\", \"type\": \"bar\", \"x\": [\"SAN SALVADOR EL VERDE\"], \"xaxis\": \"x\", \"y\": [1], \"yaxis\": \"y\"}, {\"alignmentgroup\": \"True\", \"hoverlabel\": {\"namelength\": 0}, \"hovertemplate\": \"color=AMECA<br>x=%{x}<br>y=%{y}\", \"legendgroup\": \"color=AMECA\", \"marker\": {\"color\": \"#B6E880\"}, \"name\": \"color=AMECA\", \"offsetgroup\": \"color=AMECA\", \"orientation\": \"v\", \"showlegend\": true, \"textposition\": \"auto\", \"type\": \"bar\", \"x\": [\"AMECA\"], \"xaxis\": \"x\", \"y\": [1], \"yaxis\": \"y\"}, {\"alignmentgroup\": \"True\", \"hoverlabel\": {\"namelength\": 0}, \"hovertemplate\": \"color=QUIMIXTLAN<br>x=%{x}<br>y=%{y}\", \"legendgroup\": \"color=QUIMIXTLAN\", \"marker\": {\"color\": \"#FF97FF\"}, \"name\": \"color=QUIMIXTLAN\", \"offsetgroup\": \"color=QUIMIXTLAN\", \"orientation\": \"v\", \"showlegend\": true, \"textposition\": \"auto\", \"type\": \"bar\", \"x\": [\"QUIMIXTLAN\"], \"xaxis\": \"x\", \"y\": [1], \"yaxis\": \"y\"}, {\"alignmentgroup\": \"True\", \"hoverlabel\": {\"namelength\": 0}, \"hovertemplate\": \"color=ACULCO<br>x=%{x}<br>y=%{y}\", \"legendgroup\": \"color=ACULCO\", \"marker\": {\"color\": \"#FECB52\"}, \"name\": \"color=ACULCO\", \"offsetgroup\": \"color=ACULCO\", \"orientation\": \"v\", \"showlegend\": true, \"textposition\": \"auto\", \"type\": \"bar\", \"x\": [\"ACULCO\"], \"xaxis\": \"x\", \"y\": [1], \"yaxis\": \"y\"}, {\"alignmentgroup\": \"True\", \"hoverlabel\": {\"namelength\": 0}, \"hovertemplate\": \"color=ACUAMANALA DE MIGUEL HIDALGO<br>x=%{x}<br>y=%{y}\", \"legendgroup\": \"color=ACUAMANALA DE MIGUEL HIDALGO\", \"marker\": {\"color\": \"#636efa\"}, \"name\": \"color=ACUAMANALA DE MIGUEL HIDALGO\", \"offsetgroup\": \"color=ACUAMANALA DE MIGUEL HIDALGO\", \"orientation\": \"v\", \"showlegend\": true, \"textposition\": \"auto\", \"type\": \"bar\", \"x\": [\"ACUAMANALA DE MIGUEL HIDALGO\"], \"xaxis\": \"x\", \"y\": [1], \"yaxis\": \"y\"}, {\"alignmentgroup\": \"True\", \"hoverlabel\": {\"namelength\": 0}, \"hovertemplate\": \"color=PETLALCINGO<br>x=%{x}<br>y=%{y}\", \"legendgroup\": \"color=PETLALCINGO\", \"marker\": {\"color\": \"#EF553B\"}, \"name\": \"color=PETLALCINGO\", \"offsetgroup\": \"color=PETLALCINGO\", \"orientation\": \"v\", \"showlegend\": true, \"textposition\": \"auto\", \"type\": \"bar\", \"x\": [\"PETLALCINGO\"], \"xaxis\": \"x\", \"y\": [1], \"yaxis\": \"y\"}, {\"alignmentgroup\": \"True\", \"hoverlabel\": {\"namelength\": 0}, \"hovertemplate\": \"color=AGUA DULCE<br>x=%{x}<br>y=%{y}\", \"legendgroup\": \"color=AGUA DULCE\", \"marker\": {\"color\": \"#00cc96\"}, \"name\": \"color=AGUA DULCE\", \"offsetgroup\": \"color=AGUA DULCE\", \"orientation\": \"v\", \"showlegend\": true, \"textposition\": \"auto\", \"type\": \"bar\", \"x\": [\"AGUA DULCE\"], \"xaxis\": \"x\", \"y\": [1], \"yaxis\": \"y\"}, {\"alignmentgroup\": \"True\", \"hoverlabel\": {\"namelength\": 0}, \"hovertemplate\": \"color=TLAPA DE COMONFORT<br>x=%{x}<br>y=%{y}\", \"legendgroup\": \"color=TLAPA DE COMONFORT\", \"marker\": {\"color\": \"#ab63fa\"}, \"name\": \"color=TLAPA DE COMONFORT\", \"offsetgroup\": \"color=TLAPA DE COMONFORT\", \"orientation\": \"v\", \"showlegend\": true, \"textposition\": \"auto\", \"type\": \"bar\", \"x\": [\"TLAPA DE COMONFORT\"], \"xaxis\": \"x\", \"y\": [1], \"yaxis\": \"y\"}, {\"alignmentgroup\": \"True\", \"hoverlabel\": {\"namelength\": 0}, \"hovertemplate\": \"color=AMANALCO<br>x=%{x}<br>y=%{y}\", \"legendgroup\": \"color=AMANALCO\", \"marker\": {\"color\": \"#FFA15A\"}, \"name\": \"color=AMANALCO\", \"offsetgroup\": \"color=AMANALCO\", \"orientation\": \"v\", \"showlegend\": true, \"textposition\": \"auto\", \"type\": \"bar\", \"x\": [\"AMANALCO\"], \"xaxis\": \"x\", \"y\": [1], \"yaxis\": \"y\"}, {\"alignmentgroup\": \"True\", \"hoverlabel\": {\"namelength\": 0}, \"hovertemplate\": \"color=AHUEHUETITLA<br>x=%{x}<br>y=%{y}\", \"legendgroup\": \"color=AHUEHUETITLA\", \"marker\": {\"color\": \"#19d3f3\"}, \"name\": \"color=AHUEHUETITLA\", \"offsetgroup\": \"color=AHUEHUETITLA\", \"orientation\": \"v\", \"showlegend\": true, \"textposition\": \"auto\", \"type\": \"bar\", \"x\": [\"AHUEHUETITLA\"], \"xaxis\": \"x\", \"y\": [1], \"yaxis\": \"y\"}, {\"alignmentgroup\": \"True\", \"hoverlabel\": {\"namelength\": 0}, \"hovertemplate\": \"color=MARIN<br>x=%{x}<br>y=%{y}\", \"legendgroup\": \"color=MARIN\", \"marker\": {\"color\": \"#FF6692\"}, \"name\": \"color=MARIN\", \"offsetgroup\": \"color=MARIN\", \"orientation\": \"v\", \"showlegend\": true, \"textposition\": \"auto\", \"type\": \"bar\", \"x\": [\"MARIN\"], \"xaxis\": \"x\", \"y\": [1], \"yaxis\": \"y\"}, {\"alignmentgroup\": \"True\", \"hoverlabel\": {\"namelength\": 0}, \"hovertemplate\": \"color=MEDELLIN<br>x=%{x}<br>y=%{y}\", \"legendgroup\": \"color=MEDELLIN\", \"marker\": {\"color\": \"#B6E880\"}, \"name\": \"color=MEDELLIN\", \"offsetgroup\": \"color=MEDELLIN\", \"orientation\": \"v\", \"showlegend\": true, \"textposition\": \"auto\", \"type\": \"bar\", \"x\": [\"MEDELLIN\"], \"xaxis\": \"x\", \"y\": [1], \"yaxis\": \"y\"}, {\"alignmentgroup\": \"True\", \"hoverlabel\": {\"namelength\": 0}, \"hovertemplate\": \"color=SAN FELIPE TEJALAPAM<br>x=%{x}<br>y=%{y}\", \"legendgroup\": \"color=SAN FELIPE TEJALAPAM\", \"marker\": {\"color\": \"#FF97FF\"}, \"name\": \"color=SAN FELIPE TEJALAPAM\", \"offsetgroup\": \"color=SAN FELIPE TEJALAPAM\", \"orientation\": \"v\", \"showlegend\": true, \"textposition\": \"auto\", \"type\": \"bar\", \"x\": [\"SAN FELIPE TEJALAPAM\"], \"xaxis\": \"x\", \"y\": [1], \"yaxis\": \"y\"}, {\"alignmentgroup\": \"True\", \"hoverlabel\": {\"namelength\": 0}, \"hovertemplate\": \"color=PEROTE<br>x=%{x}<br>y=%{y}\", \"legendgroup\": \"color=PEROTE\", \"marker\": {\"color\": \"#FECB52\"}, \"name\": \"color=PEROTE\", \"offsetgroup\": \"color=PEROTE\", \"orientation\": \"v\", \"showlegend\": true, \"textposition\": \"auto\", \"type\": \"bar\", \"x\": [\"PEROTE\"], \"xaxis\": \"x\", \"y\": [1], \"yaxis\": \"y\"}, {\"alignmentgroup\": \"True\", \"hoverlabel\": {\"namelength\": 0}, \"hovertemplate\": \"color=SAN PEDRO ATOYAC<br>x=%{x}<br>y=%{y}\", \"legendgroup\": \"color=SAN PEDRO ATOYAC\", \"marker\": {\"color\": \"#636efa\"}, \"name\": \"color=SAN PEDRO ATOYAC\", \"offsetgroup\": \"color=SAN PEDRO ATOYAC\", \"orientation\": \"v\", \"showlegend\": true, \"textposition\": \"auto\", \"type\": \"bar\", \"x\": [\"SAN PEDRO ATOYAC\"], \"xaxis\": \"x\", \"y\": [1], \"yaxis\": \"y\"}, {\"alignmentgroup\": \"True\", \"hoverlabel\": {\"namelength\": 0}, \"hovertemplate\": \"color=MACUSPANA<br>x=%{x}<br>y=%{y}\", \"legendgroup\": \"color=MACUSPANA\", \"marker\": {\"color\": \"#EF553B\"}, \"name\": \"color=MACUSPANA\", \"offsetgroup\": \"color=MACUSPANA\", \"orientation\": \"v\", \"showlegend\": true, \"textposition\": \"auto\", \"type\": \"bar\", \"x\": [\"MACUSPANA\"], \"xaxis\": \"x\", \"y\": [1], \"yaxis\": \"y\"}, {\"alignmentgroup\": \"True\", \"hoverlabel\": {\"namelength\": 0}, \"hovertemplate\": \"color=XICO<br>x=%{x}<br>y=%{y}\", \"legendgroup\": \"color=XICO\", \"marker\": {\"color\": \"#00cc96\"}, \"name\": \"color=XICO\", \"offsetgroup\": \"color=XICO\", \"orientation\": \"v\", \"showlegend\": true, \"textposition\": \"auto\", \"type\": \"bar\", \"x\": [\"XICO\"], \"xaxis\": \"x\", \"y\": [1], \"yaxis\": \"y\"}, {\"alignmentgroup\": \"True\", \"hoverlabel\": {\"namelength\": 0}, \"hovertemplate\": \"color=ROMITA<br>x=%{x}<br>y=%{y}\", \"legendgroup\": \"color=ROMITA\", \"marker\": {\"color\": \"#ab63fa\"}, \"name\": \"color=ROMITA\", \"offsetgroup\": \"color=ROMITA\", \"orientation\": \"v\", \"showlegend\": true, \"textposition\": \"auto\", \"type\": \"bar\", \"x\": [\"ROMITA\"], \"xaxis\": \"x\", \"y\": [1], \"yaxis\": \"y\"}, {\"alignmentgroup\": \"True\", \"hoverlabel\": {\"namelength\": 0}, \"hovertemplate\": \"color=COPANATOYAC<br>x=%{x}<br>y=%{y}\", \"legendgroup\": \"color=COPANATOYAC\", \"marker\": {\"color\": \"#FFA15A\"}, \"name\": \"color=COPANATOYAC\", \"offsetgroup\": \"color=COPANATOYAC\", \"orientation\": \"v\", \"showlegend\": true, \"textposition\": \"auto\", \"type\": \"bar\", \"x\": [\"COPANATOYAC\"], \"xaxis\": \"x\", \"y\": [1], \"yaxis\": \"y\"}, {\"alignmentgroup\": \"True\", \"hoverlabel\": {\"namelength\": 0}, \"hovertemplate\": \"color=PAPALOTLA<br>x=%{x}<br>y=%{y}\", \"legendgroup\": \"color=PAPALOTLA\", \"marker\": {\"color\": \"#19d3f3\"}, \"name\": \"color=PAPALOTLA\", \"offsetgroup\": \"color=PAPALOTLA\", \"orientation\": \"v\", \"showlegend\": true, \"textposition\": \"auto\", \"type\": \"bar\", \"x\": [\"PAPALOTLA\"], \"xaxis\": \"x\", \"y\": [1], \"yaxis\": \"y\"}, {\"alignmentgroup\": \"True\", \"hoverlabel\": {\"namelength\": 0}, \"hovertemplate\": \"color=COYUCA DE CATALAN<br>x=%{x}<br>y=%{y}\", \"legendgroup\": \"color=COYUCA DE CATALAN\", \"marker\": {\"color\": \"#FF6692\"}, \"name\": \"color=COYUCA DE CATALAN\", \"offsetgroup\": \"color=COYUCA DE CATALAN\", \"orientation\": \"v\", \"showlegend\": true, \"textposition\": \"auto\", \"type\": \"bar\", \"x\": [\"COYUCA DE CATALAN\"], \"xaxis\": \"x\", \"y\": [1], \"yaxis\": \"y\"}, {\"alignmentgroup\": \"True\", \"hoverlabel\": {\"namelength\": 0}, \"hovertemplate\": \"color=TEPETITLA DE LARDIZABAL<br>x=%{x}<br>y=%{y}\", \"legendgroup\": \"color=TEPETITLA DE LARDIZABAL\", \"marker\": {\"color\": \"#B6E880\"}, \"name\": \"color=TEPETITLA DE LARDIZABAL\", \"offsetgroup\": \"color=TEPETITLA DE LARDIZABAL\", \"orientation\": \"v\", \"showlegend\": true, \"textposition\": \"auto\", \"type\": \"bar\", \"x\": [\"TEPETITLA DE LARDIZABAL\"], \"xaxis\": \"x\", \"y\": [1], \"yaxis\": \"y\"}, {\"alignmentgroup\": \"True\", \"hoverlabel\": {\"namelength\": 0}, \"hovertemplate\": \"color=APETATITLAN DE ANTONIO CARVAJAL<br>x=%{x}<br>y=%{y}\", \"legendgroup\": \"color=APETATITLAN DE ANTONIO CARVAJAL\", \"marker\": {\"color\": \"#FF97FF\"}, \"name\": \"color=APETATITLAN DE ANTONIO CARVAJAL\", \"offsetgroup\": \"color=APETATITLAN DE ANTONIO CARVAJAL\", \"orientation\": \"v\", \"showlegend\": true, \"textposition\": \"auto\", \"type\": \"bar\", \"x\": [\"APETATITLAN DE ANTONIO CARVAJAL\"], \"xaxis\": \"x\", \"y\": [1], \"yaxis\": \"y\"}, {\"alignmentgroup\": \"True\", \"hoverlabel\": {\"namelength\": 0}, \"hovertemplate\": \"color=TEMOAYA<br>x=%{x}<br>y=%{y}\", \"legendgroup\": \"color=TEMOAYA\", \"marker\": {\"color\": \"#FECB52\"}, \"name\": \"color=TEMOAYA\", \"offsetgroup\": \"color=TEMOAYA\", \"orientation\": \"v\", \"showlegend\": true, \"textposition\": \"auto\", \"type\": \"bar\", \"x\": [\"TEMOAYA\"], \"xaxis\": \"x\", \"y\": [1], \"yaxis\": \"y\"}, {\"alignmentgroup\": \"True\", \"hoverlabel\": {\"namelength\": 0}, \"hovertemplate\": \"color=TEPETLAOXTOC<br>x=%{x}<br>y=%{y}\", \"legendgroup\": \"color=TEPETLAOXTOC\", \"marker\": {\"color\": \"#636efa\"}, \"name\": \"color=TEPETLAOXTOC\", \"offsetgroup\": \"color=TEPETLAOXTOC\", \"orientation\": \"v\", \"showlegend\": true, \"textposition\": \"auto\", \"type\": \"bar\", \"x\": [\"TEPETLAOXTOC\"], \"xaxis\": \"x\", \"y\": [1], \"yaxis\": \"y\"}, {\"alignmentgroup\": \"True\", \"hoverlabel\": {\"namelength\": 0}, \"hovertemplate\": \"color=HALACHO<br>x=%{x}<br>y=%{y}\", \"legendgroup\": \"color=HALACHO\", \"marker\": {\"color\": \"#EF553B\"}, \"name\": \"color=HALACHO\", \"offsetgroup\": \"color=HALACHO\", \"orientation\": \"v\", \"showlegend\": true, \"textposition\": \"auto\", \"type\": \"bar\", \"x\": [\"HALACHO\"], \"xaxis\": \"x\", \"y\": [1], \"yaxis\": \"y\"}, {\"alignmentgroup\": \"True\", \"hoverlabel\": {\"namelength\": 0}, \"hovertemplate\": \"color=SAN ANDRES TUXTLA<br>x=%{x}<br>y=%{y}\", \"legendgroup\": \"color=SAN ANDRES TUXTLA\", \"marker\": {\"color\": \"#00cc96\"}, \"name\": \"color=SAN ANDRES TUXTLA\", \"offsetgroup\": \"color=SAN ANDRES TUXTLA\", \"orientation\": \"v\", \"showlegend\": true, \"textposition\": \"auto\", \"type\": \"bar\", \"x\": [\"SAN ANDRES TUXTLA\"], \"xaxis\": \"x\", \"y\": [1], \"yaxis\": \"y\"}, {\"alignmentgroup\": \"True\", \"hoverlabel\": {\"namelength\": 0}, \"hovertemplate\": \"color=JALTIPAN<br>x=%{x}<br>y=%{y}\", \"legendgroup\": \"color=JALTIPAN\", \"marker\": {\"color\": \"#ab63fa\"}, \"name\": \"color=JALTIPAN\", \"offsetgroup\": \"color=JALTIPAN\", \"orientation\": \"v\", \"showlegend\": true, \"textposition\": \"auto\", \"type\": \"bar\", \"x\": [\"JALTIPAN\"], \"xaxis\": \"x\", \"y\": [1], \"yaxis\": \"y\"}, {\"alignmentgroup\": \"True\", \"hoverlabel\": {\"namelength\": 0}, \"hovertemplate\": \"color=LOS REYES DE JUAREZ<br>x=%{x}<br>y=%{y}\", \"legendgroup\": \"color=LOS REYES DE JUAREZ\", \"marker\": {\"color\": \"#FFA15A\"}, \"name\": \"color=LOS REYES DE JUAREZ\", \"offsetgroup\": \"color=LOS REYES DE JUAREZ\", \"orientation\": \"v\", \"showlegend\": true, \"textposition\": \"auto\", \"type\": \"bar\", \"x\": [\"LOS REYES DE JUAREZ\"], \"xaxis\": \"x\", \"y\": [1], \"yaxis\": \"y\"}, {\"alignmentgroup\": \"True\", \"hoverlabel\": {\"namelength\": 0}, \"hovertemplate\": \"color=CHILON<br>x=%{x}<br>y=%{y}\", \"legendgroup\": \"color=CHILON\", \"marker\": {\"color\": \"#19d3f3\"}, \"name\": \"color=CHILON\", \"offsetgroup\": \"color=CHILON\", \"orientation\": \"v\", \"showlegend\": true, \"textposition\": \"auto\", \"type\": \"bar\", \"x\": [\"CHILON\"], \"xaxis\": \"x\", \"y\": [1], \"yaxis\": \"y\"}, {\"alignmentgroup\": \"True\", \"hoverlabel\": {\"namelength\": 0}, \"hovertemplate\": \"color=CHICONTEPEC<br>x=%{x}<br>y=%{y}\", \"legendgroup\": \"color=CHICONTEPEC\", \"marker\": {\"color\": \"#FF6692\"}, \"name\": \"color=CHICONTEPEC\", \"offsetgroup\": \"color=CHICONTEPEC\", \"orientation\": \"v\", \"showlegend\": true, \"textposition\": \"auto\", \"type\": \"bar\", \"x\": [\"CHICONTEPEC\"], \"xaxis\": \"x\", \"y\": [1], \"yaxis\": \"y\"}, {\"alignmentgroup\": \"True\", \"hoverlabel\": {\"namelength\": 0}, \"hovertemplate\": \"color=RODEO<br>x=%{x}<br>y=%{y}\", \"legendgroup\": \"color=RODEO\", \"marker\": {\"color\": \"#B6E880\"}, \"name\": \"color=RODEO\", \"offsetgroup\": \"color=RODEO\", \"orientation\": \"v\", \"showlegend\": true, \"textposition\": \"auto\", \"type\": \"bar\", \"x\": [\"RODEO\"], \"xaxis\": \"x\", \"y\": [1], \"yaxis\": \"y\"}, {\"alignmentgroup\": \"True\", \"hoverlabel\": {\"namelength\": 0}, \"hovertemplate\": \"color=HUEYPOXTLA<br>x=%{x}<br>y=%{y}\", \"legendgroup\": \"color=HUEYPOXTLA\", \"marker\": {\"color\": \"#FF97FF\"}, \"name\": \"color=HUEYPOXTLA\", \"offsetgroup\": \"color=HUEYPOXTLA\", \"orientation\": \"v\", \"showlegend\": true, \"textposition\": \"auto\", \"type\": \"bar\", \"x\": [\"HUEYPOXTLA\"], \"xaxis\": \"x\", \"y\": [1], \"yaxis\": \"y\"}, {\"alignmentgroup\": \"True\", \"hoverlabel\": {\"namelength\": 0}, \"hovertemplate\": \"color=TIERRA BLANCA<br>x=%{x}<br>y=%{y}\", \"legendgroup\": \"color=TIERRA BLANCA\", \"marker\": {\"color\": \"#FECB52\"}, \"name\": \"color=TIERRA BLANCA\", \"offsetgroup\": \"color=TIERRA BLANCA\", \"orientation\": \"v\", \"showlegend\": true, \"textposition\": \"auto\", \"type\": \"bar\", \"x\": [\"TIERRA BLANCA\"], \"xaxis\": \"x\", \"y\": [1], \"yaxis\": \"y\"}, {\"alignmentgroup\": \"True\", \"hoverlabel\": {\"namelength\": 0}, \"hovertemplate\": \"color=SABINAS<br>x=%{x}<br>y=%{y}\", \"legendgroup\": \"color=SABINAS\", \"marker\": {\"color\": \"#636efa\"}, \"name\": \"color=SABINAS\", \"offsetgroup\": \"color=SABINAS\", \"orientation\": \"v\", \"showlegend\": true, \"textposition\": \"auto\", \"type\": \"bar\", \"x\": [\"SABINAS\"], \"xaxis\": \"x\", \"y\": [1], \"yaxis\": \"y\"}, {\"alignmentgroup\": \"True\", \"hoverlabel\": {\"namelength\": 0}, \"hovertemplate\": \"color=HUIXTLA<br>x=%{x}<br>y=%{y}\", \"legendgroup\": \"color=HUIXTLA\", \"marker\": {\"color\": \"#EF553B\"}, \"name\": \"color=HUIXTLA\", \"offsetgroup\": \"color=HUIXTLA\", \"orientation\": \"v\", \"showlegend\": true, \"textposition\": \"auto\", \"type\": \"bar\", \"x\": [\"HUIXTLA\"], \"xaxis\": \"x\", \"y\": [1], \"yaxis\": \"y\"}, {\"alignmentgroup\": \"True\", \"hoverlabel\": {\"namelength\": 0}, \"hovertemplate\": \"color=TOTOLAPAN<br>x=%{x}<br>y=%{y}\", \"legendgroup\": \"color=TOTOLAPAN\", \"marker\": {\"color\": \"#00cc96\"}, \"name\": \"color=TOTOLAPAN\", \"offsetgroup\": \"color=TOTOLAPAN\", \"orientation\": \"v\", \"showlegend\": true, \"textposition\": \"auto\", \"type\": \"bar\", \"x\": [\"TOTOLAPAN\"], \"xaxis\": \"x\", \"y\": [1], \"yaxis\": \"y\"}, {\"alignmentgroup\": \"True\", \"hoverlabel\": {\"namelength\": 0}, \"hovertemplate\": \"color=TIQUICHEO DE NICOLAS ROMERO<br>x=%{x}<br>y=%{y}\", \"legendgroup\": \"color=TIQUICHEO DE NICOLAS ROMERO\", \"marker\": {\"color\": \"#ab63fa\"}, \"name\": \"color=TIQUICHEO DE NICOLAS ROMERO\", \"offsetgroup\": \"color=TIQUICHEO DE NICOLAS ROMERO\", \"orientation\": \"v\", \"showlegend\": true, \"textposition\": \"auto\", \"type\": \"bar\", \"x\": [\"TIQUICHEO DE NICOLAS ROMERO\"], \"xaxis\": \"x\", \"y\": [1], \"yaxis\": \"y\"}, {\"alignmentgroup\": \"True\", \"hoverlabel\": {\"namelength\": 0}, \"hovertemplate\": \"color=SANTA MARIA COYOTEPEC<br>x=%{x}<br>y=%{y}\", \"legendgroup\": \"color=SANTA MARIA COYOTEPEC\", \"marker\": {\"color\": \"#FFA15A\"}, \"name\": \"color=SANTA MARIA COYOTEPEC\", \"offsetgroup\": \"color=SANTA MARIA COYOTEPEC\", \"orientation\": \"v\", \"showlegend\": true, \"textposition\": \"auto\", \"type\": \"bar\", \"x\": [\"SANTA MARIA COYOTEPEC\"], \"xaxis\": \"x\", \"y\": [1], \"yaxis\": \"y\"}, {\"alignmentgroup\": \"True\", \"hoverlabel\": {\"namelength\": 0}, \"hovertemplate\": \"color=SENGUIO<br>x=%{x}<br>y=%{y}\", \"legendgroup\": \"color=SENGUIO\", \"marker\": {\"color\": \"#19d3f3\"}, \"name\": \"color=SENGUIO\", \"offsetgroup\": \"color=SENGUIO\", \"orientation\": \"v\", \"showlegend\": true, \"textposition\": \"auto\", \"type\": \"bar\", \"x\": [\"SENGUIO\"], \"xaxis\": \"x\", \"y\": [1], \"yaxis\": \"y\"}, {\"alignmentgroup\": \"True\", \"hoverlabel\": {\"namelength\": 0}, \"hovertemplate\": \"color=LOS REYES<br>x=%{x}<br>y=%{y}\", \"legendgroup\": \"color=LOS REYES\", \"marker\": {\"color\": \"#FF6692\"}, \"name\": \"color=LOS REYES\", \"offsetgroup\": \"color=LOS REYES\", \"orientation\": \"v\", \"showlegend\": true, \"textposition\": \"auto\", \"type\": \"bar\", \"x\": [\"LOS REYES\"], \"xaxis\": \"x\", \"y\": [1], \"yaxis\": \"y\"}, {\"alignmentgroup\": \"True\", \"hoverlabel\": {\"namelength\": 0}, \"hovertemplate\": \"color=TIHUATLAN<br>x=%{x}<br>y=%{y}\", \"legendgroup\": \"color=TIHUATLAN\", \"marker\": {\"color\": \"#B6E880\"}, \"name\": \"color=TIHUATLAN\", \"offsetgroup\": \"color=TIHUATLAN\", \"orientation\": \"v\", \"showlegend\": true, \"textposition\": \"auto\", \"type\": \"bar\", \"x\": [\"TIHUATLAN\"], \"xaxis\": \"x\", \"y\": [1], \"yaxis\": \"y\"}, {\"alignmentgroup\": \"True\", \"hoverlabel\": {\"namelength\": 0}, \"hovertemplate\": \"color=TANHUATO<br>x=%{x}<br>y=%{y}\", \"legendgroup\": \"color=TANHUATO\", \"marker\": {\"color\": \"#FF97FF\"}, \"name\": \"color=TANHUATO\", \"offsetgroup\": \"color=TANHUATO\", \"orientation\": \"v\", \"showlegend\": true, \"textposition\": \"auto\", \"type\": \"bar\", \"x\": [\"TANHUATO\"], \"xaxis\": \"x\", \"y\": [1], \"yaxis\": \"y\"}, {\"alignmentgroup\": \"True\", \"hoverlabel\": {\"namelength\": 0}, \"hovertemplate\": \"color=JESUS MARIA<br>x=%{x}<br>y=%{y}\", \"legendgroup\": \"color=JESUS MARIA\", \"marker\": {\"color\": \"#FECB52\"}, \"name\": \"color=JESUS MARIA\", \"offsetgroup\": \"color=JESUS MARIA\", \"orientation\": \"v\", \"showlegend\": true, \"textposition\": \"auto\", \"type\": \"bar\", \"x\": [\"JESUS MARIA\"], \"xaxis\": \"x\", \"y\": [1], \"yaxis\": \"y\"}, {\"alignmentgroup\": \"True\", \"hoverlabel\": {\"namelength\": 0}, \"hovertemplate\": \"color=TETEPANGO<br>x=%{x}<br>y=%{y}\", \"legendgroup\": \"color=TETEPANGO\", \"marker\": {\"color\": \"#636efa\"}, \"name\": \"color=TETEPANGO\", \"offsetgroup\": \"color=TETEPANGO\", \"orientation\": \"v\", \"showlegend\": true, \"textposition\": \"auto\", \"type\": \"bar\", \"x\": [\"TETEPANGO\"], \"xaxis\": \"x\", \"y\": [1], \"yaxis\": \"y\"}, {\"alignmentgroup\": \"True\", \"hoverlabel\": {\"namelength\": 0}, \"hovertemplate\": \"color=CALERA<br>x=%{x}<br>y=%{y}\", \"legendgroup\": \"color=CALERA\", \"marker\": {\"color\": \"#EF553B\"}, \"name\": \"color=CALERA\", \"offsetgroup\": \"color=CALERA\", \"orientation\": \"v\", \"showlegend\": true, \"textposition\": \"auto\", \"type\": \"bar\", \"x\": [\"CALERA\"], \"xaxis\": \"x\", \"y\": [1], \"yaxis\": \"y\"}, {\"alignmentgroup\": \"True\", \"hoverlabel\": {\"namelength\": 0}, \"hovertemplate\": \"color=JALACINGO<br>x=%{x}<br>y=%{y}\", \"legendgroup\": \"color=JALACINGO\", \"marker\": {\"color\": \"#00cc96\"}, \"name\": \"color=JALACINGO\", \"offsetgroup\": \"color=JALACINGO\", \"orientation\": \"v\", \"showlegend\": true, \"textposition\": \"auto\", \"type\": \"bar\", \"x\": [\"JALACINGO\"], \"xaxis\": \"x\", \"y\": [1], \"yaxis\": \"y\"}, {\"alignmentgroup\": \"True\", \"hoverlabel\": {\"namelength\": 0}, \"hovertemplate\": \"color=RIO BLANCO<br>x=%{x}<br>y=%{y}\", \"legendgroup\": \"color=RIO BLANCO\", \"marker\": {\"color\": \"#ab63fa\"}, \"name\": \"color=RIO BLANCO\", \"offsetgroup\": \"color=RIO BLANCO\", \"orientation\": \"v\", \"showlegend\": true, \"textposition\": \"auto\", \"type\": \"bar\", \"x\": [\"RIO BLANCO\"], \"xaxis\": \"x\", \"y\": [1], \"yaxis\": \"y\"}, {\"alignmentgroup\": \"True\", \"hoverlabel\": {\"namelength\": 0}, \"hovertemplate\": \"color=CIENEGA DE FLORES<br>x=%{x}<br>y=%{y}\", \"legendgroup\": \"color=CIENEGA DE FLORES\", \"marker\": {\"color\": \"#FFA15A\"}, \"name\": \"color=CIENEGA DE FLORES\", \"offsetgroup\": \"color=CIENEGA DE FLORES\", \"orientation\": \"v\", \"showlegend\": true, \"textposition\": \"auto\", \"type\": \"bar\", \"x\": [\"CIENEGA DE FLORES\"], \"xaxis\": \"x\", \"y\": [1], \"yaxis\": \"y\"}, {\"alignmentgroup\": \"True\", \"hoverlabel\": {\"namelength\": 0}, \"hovertemplate\": \"color=TACAMBARO<br>x=%{x}<br>y=%{y}\", \"legendgroup\": \"color=TACAMBARO\", \"marker\": {\"color\": \"#19d3f3\"}, \"name\": \"color=TACAMBARO\", \"offsetgroup\": \"color=TACAMBARO\", \"orientation\": \"v\", \"showlegend\": true, \"textposition\": \"auto\", \"type\": \"bar\", \"x\": [\"TACAMBARO\"], \"xaxis\": \"x\", \"y\": [1], \"yaxis\": \"y\"}, {\"alignmentgroup\": \"True\", \"hoverlabel\": {\"namelength\": 0}, \"hovertemplate\": \"color=CALVILLO<br>x=%{x}<br>y=%{y}\", \"legendgroup\": \"color=CALVILLO\", \"marker\": {\"color\": \"#FF6692\"}, \"name\": \"color=CALVILLO\", \"offsetgroup\": \"color=CALVILLO\", \"orientation\": \"v\", \"showlegend\": true, \"textposition\": \"auto\", \"type\": \"bar\", \"x\": [\"CALVILLO\"], \"xaxis\": \"x\", \"y\": [1], \"yaxis\": \"y\"}, {\"alignmentgroup\": \"True\", \"hoverlabel\": {\"namelength\": 0}, \"hovertemplate\": \"color=SAN JUAN BAUTISTA ATATLAHUCA<br>x=%{x}<br>y=%{y}\", \"legendgroup\": \"color=SAN JUAN BAUTISTA ATATLAHUCA\", \"marker\": {\"color\": \"#B6E880\"}, \"name\": \"color=SAN JUAN BAUTISTA ATATLAHUCA\", \"offsetgroup\": \"color=SAN JUAN BAUTISTA ATATLAHUCA\", \"orientation\": \"v\", \"showlegend\": true, \"textposition\": \"auto\", \"type\": \"bar\", \"x\": [\"SAN JUAN BAUTISTA ATATLAHUCA\"], \"xaxis\": \"x\", \"y\": [1], \"yaxis\": \"y\"}, {\"alignmentgroup\": \"True\", \"hoverlabel\": {\"namelength\": 0}, \"hovertemplate\": \"color=TECATE<br>x=%{x}<br>y=%{y}\", \"legendgroup\": \"color=TECATE\", \"marker\": {\"color\": \"#FF97FF\"}, \"name\": \"color=TECATE\", \"offsetgroup\": \"color=TECATE\", \"orientation\": \"v\", \"showlegend\": true, \"textposition\": \"auto\", \"type\": \"bar\", \"x\": [\"TECATE\"], \"xaxis\": \"x\", \"y\": [1], \"yaxis\": \"y\"}, {\"alignmentgroup\": \"True\", \"hoverlabel\": {\"namelength\": 0}, \"hovertemplate\": \"color=TEXCALYACAC<br>x=%{x}<br>y=%{y}\", \"legendgroup\": \"color=TEXCALYACAC\", \"marker\": {\"color\": \"#FECB52\"}, \"name\": \"color=TEXCALYACAC\", \"offsetgroup\": \"color=TEXCALYACAC\", \"orientation\": \"v\", \"showlegend\": true, \"textposition\": \"auto\", \"type\": \"bar\", \"x\": [\"TEXCALYACAC\"], \"xaxis\": \"x\", \"y\": [1], \"yaxis\": \"y\"}, {\"alignmentgroup\": \"True\", \"hoverlabel\": {\"namelength\": 0}, \"hovertemplate\": \"color=ALFAJAYUCAN<br>x=%{x}<br>y=%{y}\", \"legendgroup\": \"color=ALFAJAYUCAN\", \"marker\": {\"color\": \"#636efa\"}, \"name\": \"color=ALFAJAYUCAN\", \"offsetgroup\": \"color=ALFAJAYUCAN\", \"orientation\": \"v\", \"showlegend\": true, \"textposition\": \"auto\", \"type\": \"bar\", \"x\": [\"ALFAJAYUCAN\"], \"xaxis\": \"x\", \"y\": [1], \"yaxis\": \"y\"}, {\"alignmentgroup\": \"True\", \"hoverlabel\": {\"namelength\": 0}, \"hovertemplate\": \"color=JOCOTITLAN<br>x=%{x}<br>y=%{y}\", \"legendgroup\": \"color=JOCOTITLAN\", \"marker\": {\"color\": \"#EF553B\"}, \"name\": \"color=JOCOTITLAN\", \"offsetgroup\": \"color=JOCOTITLAN\", \"orientation\": \"v\", \"showlegend\": true, \"textposition\": \"auto\", \"type\": \"bar\", \"x\": [\"JOCOTITLAN\"], \"xaxis\": \"x\", \"y\": [1], \"yaxis\": \"y\"}, {\"alignmentgroup\": \"True\", \"hoverlabel\": {\"namelength\": 0}, \"hovertemplate\": \"color=MATIAS ROMERO<br>x=%{x}<br>y=%{y}\", \"legendgroup\": \"color=MATIAS ROMERO\", \"marker\": {\"color\": \"#00cc96\"}, \"name\": \"color=MATIAS ROMERO\", \"offsetgroup\": \"color=MATIAS ROMERO\", \"orientation\": \"v\", \"showlegend\": true, \"textposition\": \"auto\", \"type\": \"bar\", \"x\": [\"MATIAS ROMERO\"], \"xaxis\": \"x\", \"y\": [1], \"yaxis\": \"y\"}, {\"alignmentgroup\": \"True\", \"hoverlabel\": {\"namelength\": 0}, \"hovertemplate\": \"color=TULA<br>x=%{x}<br>y=%{y}\", \"legendgroup\": \"color=TULA\", \"marker\": {\"color\": \"#ab63fa\"}, \"name\": \"color=TULA\", \"offsetgroup\": \"color=TULA\", \"orientation\": \"v\", \"showlegend\": true, \"textposition\": \"auto\", \"type\": \"bar\", \"x\": [\"TULA\"], \"xaxis\": \"x\", \"y\": [1], \"yaxis\": \"y\"}, {\"alignmentgroup\": \"True\", \"hoverlabel\": {\"namelength\": 0}, \"hovertemplate\": \"color=XOCHICOATLAN<br>x=%{x}<br>y=%{y}\", \"legendgroup\": \"color=XOCHICOATLAN\", \"marker\": {\"color\": \"#FFA15A\"}, \"name\": \"color=XOCHICOATLAN\", \"offsetgroup\": \"color=XOCHICOATLAN\", \"orientation\": \"v\", \"showlegend\": true, \"textposition\": \"auto\", \"type\": \"bar\", \"x\": [\"XOCHICOATLAN\"], \"xaxis\": \"x\", \"y\": [1], \"yaxis\": \"y\"}, {\"alignmentgroup\": \"True\", \"hoverlabel\": {\"namelength\": 0}, \"hovertemplate\": \"color=ALMOLOYA DEL RIO<br>x=%{x}<br>y=%{y}\", \"legendgroup\": \"color=ALMOLOYA DEL RIO\", \"marker\": {\"color\": \"#19d3f3\"}, \"name\": \"color=ALMOLOYA DEL RIO\", \"offsetgroup\": \"color=ALMOLOYA DEL RIO\", \"orientation\": \"v\", \"showlegend\": true, \"textposition\": \"auto\", \"type\": \"bar\", \"x\": [\"ALMOLOYA DEL RIO\"], \"xaxis\": \"x\", \"y\": [1], \"yaxis\": \"y\"}, {\"alignmentgroup\": \"True\", \"hoverlabel\": {\"namelength\": 0}, \"hovertemplate\": \"color=SAHUAYO<br>x=%{x}<br>y=%{y}\", \"legendgroup\": \"color=SAHUAYO\", \"marker\": {\"color\": \"#FF6692\"}, \"name\": \"color=SAHUAYO\", \"offsetgroup\": \"color=SAHUAYO\", \"orientation\": \"v\", \"showlegend\": true, \"textposition\": \"auto\", \"type\": \"bar\", \"x\": [\"SAHUAYO\"], \"xaxis\": \"x\", \"y\": [1], \"yaxis\": \"y\"}, {\"alignmentgroup\": \"True\", \"hoverlabel\": {\"namelength\": 0}, \"hovertemplate\": \"color=SAN MIGUEL TOTOLAPAN<br>x=%{x}<br>y=%{y}\", \"legendgroup\": \"color=SAN MIGUEL TOTOLAPAN\", \"marker\": {\"color\": \"#B6E880\"}, \"name\": \"color=SAN MIGUEL TOTOLAPAN\", \"offsetgroup\": \"color=SAN MIGUEL TOTOLAPAN\", \"orientation\": \"v\", \"showlegend\": true, \"textposition\": \"auto\", \"type\": \"bar\", \"x\": [\"SAN MIGUEL TOTOLAPAN\"], \"xaxis\": \"x\", \"y\": [1], \"yaxis\": \"y\"}, {\"alignmentgroup\": \"True\", \"hoverlabel\": {\"namelength\": 0}, \"hovertemplate\": \"color=AMATENANGO DEL VALLE<br>x=%{x}<br>y=%{y}\", \"legendgroup\": \"color=AMATENANGO DEL VALLE\", \"marker\": {\"color\": \"#FF97FF\"}, \"name\": \"color=AMATENANGO DEL VALLE\", \"offsetgroup\": \"color=AMATENANGO DEL VALLE\", \"orientation\": \"v\", \"showlegend\": true, \"textposition\": \"auto\", \"type\": \"bar\", \"x\": [\"AMATENANGO DEL VALLE\"], \"xaxis\": \"x\", \"y\": [1], \"yaxis\": \"y\"}, {\"alignmentgroup\": \"True\", \"hoverlabel\": {\"namelength\": 0}, \"hovertemplate\": \"color=EBANO<br>x=%{x}<br>y=%{y}\", \"legendgroup\": \"color=EBANO\", \"marker\": {\"color\": \"#FECB52\"}, \"name\": \"color=EBANO\", \"offsetgroup\": \"color=EBANO\", \"orientation\": \"v\", \"showlegend\": true, \"textposition\": \"auto\", \"type\": \"bar\", \"x\": [\"EBANO\"], \"xaxis\": \"x\", \"y\": [1], \"yaxis\": \"y\"}, {\"alignmentgroup\": \"True\", \"hoverlabel\": {\"namelength\": 0}, \"hovertemplate\": \"color=G\\u00c5\\u00a1EMEZ<br>x=%{x}<br>y=%{y}\", \"legendgroup\": \"color=G\\u00c5\\u00a1EMEZ\", \"marker\": {\"color\": \"#636efa\"}, \"name\": \"color=G\\u00c5\\u00a1EMEZ\", \"offsetgroup\": \"color=G\\u00c5\\u00a1EMEZ\", \"orientation\": \"v\", \"showlegend\": true, \"textposition\": \"auto\", \"type\": \"bar\", \"x\": [\"G\\u00c5\\u00a1EMEZ\"], \"xaxis\": \"x\", \"y\": [1], \"yaxis\": \"y\"}, {\"alignmentgroup\": \"True\", \"hoverlabel\": {\"namelength\": 0}, \"hovertemplate\": \"color=TANCITARO<br>x=%{x}<br>y=%{y}\", \"legendgroup\": \"color=TANCITARO\", \"marker\": {\"color\": \"#EF553B\"}, \"name\": \"color=TANCITARO\", \"offsetgroup\": \"color=TANCITARO\", \"orientation\": \"v\", \"showlegend\": true, \"textposition\": \"auto\", \"type\": \"bar\", \"x\": [\"TANCITARO\"], \"xaxis\": \"x\", \"y\": [1], \"yaxis\": \"y\"}, {\"alignmentgroup\": \"True\", \"hoverlabel\": {\"namelength\": 0}, \"hovertemplate\": \"color=LA MISION<br>x=%{x}<br>y=%{y}\", \"legendgroup\": \"color=LA MISION\", \"marker\": {\"color\": \"#00cc96\"}, \"name\": \"color=LA MISION\", \"offsetgroup\": \"color=LA MISION\", \"orientation\": \"v\", \"showlegend\": true, \"textposition\": \"auto\", \"type\": \"bar\", \"x\": [\"LA MISION\"], \"xaxis\": \"x\", \"y\": [1], \"yaxis\": \"y\"}, {\"alignmentgroup\": \"True\", \"hoverlabel\": {\"namelength\": 0}, \"hovertemplate\": \"color=OZUMBA<br>x=%{x}<br>y=%{y}\", \"legendgroup\": \"color=OZUMBA\", \"marker\": {\"color\": \"#ab63fa\"}, \"name\": \"color=OZUMBA\", \"offsetgroup\": \"color=OZUMBA\", \"orientation\": \"v\", \"showlegend\": true, \"textposition\": \"auto\", \"type\": \"bar\", \"x\": [\"OZUMBA\"], \"xaxis\": \"x\", \"y\": [1], \"yaxis\": \"y\"}, {\"alignmentgroup\": \"True\", \"hoverlabel\": {\"namelength\": 0}, \"hovertemplate\": \"color=SAN PABLO DEL MONTE<br>x=%{x}<br>y=%{y}\", \"legendgroup\": \"color=SAN PABLO DEL MONTE\", \"marker\": {\"color\": \"#FFA15A\"}, \"name\": \"color=SAN PABLO DEL MONTE\", \"offsetgroup\": \"color=SAN PABLO DEL MONTE\", \"orientation\": \"v\", \"showlegend\": true, \"textposition\": \"auto\", \"type\": \"bar\", \"x\": [\"SAN PABLO DEL MONTE\"], \"xaxis\": \"x\", \"y\": [1], \"yaxis\": \"y\"}, {\"alignmentgroup\": \"True\", \"hoverlabel\": {\"namelength\": 0}, \"hovertemplate\": \"color=CHAPULTEPEC<br>x=%{x}<br>y=%{y}\", \"legendgroup\": \"color=CHAPULTEPEC\", \"marker\": {\"color\": \"#19d3f3\"}, \"name\": \"color=CHAPULTEPEC\", \"offsetgroup\": \"color=CHAPULTEPEC\", \"orientation\": \"v\", \"showlegend\": true, \"textposition\": \"auto\", \"type\": \"bar\", \"x\": [\"CHAPULTEPEC\"], \"xaxis\": \"x\", \"y\": [1], \"yaxis\": \"y\"}, {\"alignmentgroup\": \"True\", \"hoverlabel\": {\"namelength\": 0}, \"hovertemplate\": \"color=ESPERANZA<br>x=%{x}<br>y=%{y}\", \"legendgroup\": \"color=ESPERANZA\", \"marker\": {\"color\": \"#FF6692\"}, \"name\": \"color=ESPERANZA\", \"offsetgroup\": \"color=ESPERANZA\", \"orientation\": \"v\", \"showlegend\": true, \"textposition\": \"auto\", \"type\": \"bar\", \"x\": [\"ESPERANZA\"], \"xaxis\": \"x\", \"y\": [1], \"yaxis\": \"y\"}, {\"alignmentgroup\": \"True\", \"hoverlabel\": {\"namelength\": 0}, \"hovertemplate\": \"color=VALLE HERMOSO<br>x=%{x}<br>y=%{y}\", \"legendgroup\": \"color=VALLE HERMOSO\", \"marker\": {\"color\": \"#B6E880\"}, \"name\": \"color=VALLE HERMOSO\", \"offsetgroup\": \"color=VALLE HERMOSO\", \"orientation\": \"v\", \"showlegend\": true, \"textposition\": \"auto\", \"type\": \"bar\", \"x\": [\"VALLE HERMOSO\"], \"xaxis\": \"x\", \"y\": [1], \"yaxis\": \"y\"}, {\"alignmentgroup\": \"True\", \"hoverlabel\": {\"namelength\": 0}, \"hovertemplate\": \"color=TICUL<br>x=%{x}<br>y=%{y}\", \"legendgroup\": \"color=TICUL\", \"marker\": {\"color\": \"#FF97FF\"}, \"name\": \"color=TICUL\", \"offsetgroup\": \"color=TICUL\", \"orientation\": \"v\", \"showlegend\": true, \"textposition\": \"auto\", \"type\": \"bar\", \"x\": [\"TICUL\"], \"xaxis\": \"x\", \"y\": [1], \"yaxis\": \"y\"}, {\"alignmentgroup\": \"True\", \"hoverlabel\": {\"namelength\": 0}, \"hovertemplate\": \"color=IGNACIO DE LA LLAVE<br>x=%{x}<br>y=%{y}\", \"legendgroup\": \"color=IGNACIO DE LA LLAVE\", \"marker\": {\"color\": \"#FECB52\"}, \"name\": \"color=IGNACIO DE LA LLAVE\", \"offsetgroup\": \"color=IGNACIO DE LA LLAVE\", \"orientation\": \"v\", \"showlegend\": true, \"textposition\": \"auto\", \"type\": \"bar\", \"x\": [\"IGNACIO DE LA LLAVE\"], \"xaxis\": \"x\", \"y\": [1], \"yaxis\": \"y\"}, {\"alignmentgroup\": \"True\", \"hoverlabel\": {\"namelength\": 0}, \"hovertemplate\": \"color=XICOTEPEC<br>x=%{x}<br>y=%{y}\", \"legendgroup\": \"color=XICOTEPEC\", \"marker\": {\"color\": \"#636efa\"}, \"name\": \"color=XICOTEPEC\", \"offsetgroup\": \"color=XICOTEPEC\", \"orientation\": \"v\", \"showlegend\": true, \"textposition\": \"auto\", \"type\": \"bar\", \"x\": [\"XICOTEPEC\"], \"xaxis\": \"x\", \"y\": [1], \"yaxis\": \"y\"}, {\"alignmentgroup\": \"True\", \"hoverlabel\": {\"namelength\": 0}, \"hovertemplate\": \"color=LIBRES<br>x=%{x}<br>y=%{y}\", \"legendgroup\": \"color=LIBRES\", \"marker\": {\"color\": \"#EF553B\"}, \"name\": \"color=LIBRES\", \"offsetgroup\": \"color=LIBRES\", \"orientation\": \"v\", \"showlegend\": true, \"textposition\": \"auto\", \"type\": \"bar\", \"x\": [\"LIBRES\"], \"xaxis\": \"x\", \"y\": [1], \"yaxis\": \"y\"}, {\"alignmentgroup\": \"True\", \"hoverlabel\": {\"namelength\": 0}, \"hovertemplate\": \"color=ZIMATLAN DE ALVAREZ<br>x=%{x}<br>y=%{y}\", \"legendgroup\": \"color=ZIMATLAN DE ALVAREZ\", \"marker\": {\"color\": \"#00cc96\"}, \"name\": \"color=ZIMATLAN DE ALVAREZ\", \"offsetgroup\": \"color=ZIMATLAN DE ALVAREZ\", \"orientation\": \"v\", \"showlegend\": true, \"textposition\": \"auto\", \"type\": \"bar\", \"x\": [\"ZIMATLAN DE ALVAREZ\"], \"xaxis\": \"x\", \"y\": [1], \"yaxis\": \"y\"}, {\"alignmentgroup\": \"True\", \"hoverlabel\": {\"namelength\": 0}, \"hovertemplate\": \"color=SALVADOR ALVARADO<br>x=%{x}<br>y=%{y}\", \"legendgroup\": \"color=SALVADOR ALVARADO\", \"marker\": {\"color\": \"#ab63fa\"}, \"name\": \"color=SALVADOR ALVARADO\", \"offsetgroup\": \"color=SALVADOR ALVARADO\", \"orientation\": \"v\", \"showlegend\": true, \"textposition\": \"auto\", \"type\": \"bar\", \"x\": [\"SALVADOR ALVARADO\"], \"xaxis\": \"x\", \"y\": [1], \"yaxis\": \"y\"}, {\"alignmentgroup\": \"True\", \"hoverlabel\": {\"namelength\": 0}, \"hovertemplate\": \"color=ECUANDUREO<br>x=%{x}<br>y=%{y}\", \"legendgroup\": \"color=ECUANDUREO\", \"marker\": {\"color\": \"#FFA15A\"}, \"name\": \"color=ECUANDUREO\", \"offsetgroup\": \"color=ECUANDUREO\", \"orientation\": \"v\", \"showlegend\": true, \"textposition\": \"auto\", \"type\": \"bar\", \"x\": [\"ECUANDUREO\"], \"xaxis\": \"x\", \"y\": [1], \"yaxis\": \"y\"}, {\"alignmentgroup\": \"True\", \"hoverlabel\": {\"namelength\": 0}, \"hovertemplate\": \"color=ARIO<br>x=%{x}<br>y=%{y}\", \"legendgroup\": \"color=ARIO\", \"marker\": {\"color\": \"#19d3f3\"}, \"name\": \"color=ARIO\", \"offsetgroup\": \"color=ARIO\", \"orientation\": \"v\", \"showlegend\": true, \"textposition\": \"auto\", \"type\": \"bar\", \"x\": [\"ARIO\"], \"xaxis\": \"x\", \"y\": [1], \"yaxis\": \"y\"}, {\"alignmentgroup\": \"True\", \"hoverlabel\": {\"namelength\": 0}, \"hovertemplate\": \"color=ACATZINGO<br>x=%{x}<br>y=%{y}\", \"legendgroup\": \"color=ACATZINGO\", \"marker\": {\"color\": \"#FF6692\"}, \"name\": \"color=ACATZINGO\", \"offsetgroup\": \"color=ACATZINGO\", \"orientation\": \"v\", \"showlegend\": true, \"textposition\": \"auto\", \"type\": \"bar\", \"x\": [\"ACATZINGO\"], \"xaxis\": \"x\", \"y\": [1], \"yaxis\": \"y\"}, {\"alignmentgroup\": \"True\", \"hoverlabel\": {\"namelength\": 0}, \"hovertemplate\": \"color=ABALA<br>x=%{x}<br>y=%{y}\", \"legendgroup\": \"color=ABALA\", \"marker\": {\"color\": \"#B6E880\"}, \"name\": \"color=ABALA\", \"offsetgroup\": \"color=ABALA\", \"orientation\": \"v\", \"showlegend\": true, \"textposition\": \"auto\", \"type\": \"bar\", \"x\": [\"ABALA\"], \"xaxis\": \"x\", \"y\": [1], \"yaxis\": \"y\"}, {\"alignmentgroup\": \"True\", \"hoverlabel\": {\"namelength\": 0}, \"hovertemplate\": \"color=CHURINTZIO<br>x=%{x}<br>y=%{y}\", \"legendgroup\": \"color=CHURINTZIO\", \"marker\": {\"color\": \"#FF97FF\"}, \"name\": \"color=CHURINTZIO\", \"offsetgroup\": \"color=CHURINTZIO\", \"orientation\": \"v\", \"showlegend\": true, \"textposition\": \"auto\", \"type\": \"bar\", \"x\": [\"CHURINTZIO\"], \"xaxis\": \"x\", \"y\": [1], \"yaxis\": \"y\"}, {\"alignmentgroup\": \"True\", \"hoverlabel\": {\"namelength\": 0}, \"hovertemplate\": \"color=FRANCISCO I. MADERO<br>x=%{x}<br>y=%{y}\", \"legendgroup\": \"color=FRANCISCO I. MADERO\", \"marker\": {\"color\": \"#FECB52\"}, \"name\": \"color=FRANCISCO I. MADERO\", \"offsetgroup\": \"color=FRANCISCO I. MADERO\", \"orientation\": \"v\", \"showlegend\": true, \"textposition\": \"auto\", \"type\": \"bar\", \"x\": [\"FRANCISCO I. MADERO\"], \"xaxis\": \"x\", \"y\": [1], \"yaxis\": \"y\"}, {\"alignmentgroup\": \"True\", \"hoverlabel\": {\"namelength\": 0}, \"hovertemplate\": \"color=TEOTITLAN DEL VALLE<br>x=%{x}<br>y=%{y}\", \"legendgroup\": \"color=TEOTITLAN DEL VALLE\", \"marker\": {\"color\": \"#636efa\"}, \"name\": \"color=TEOTITLAN DEL VALLE\", \"offsetgroup\": \"color=TEOTITLAN DEL VALLE\", \"orientation\": \"v\", \"showlegend\": true, \"textposition\": \"auto\", \"type\": \"bar\", \"x\": [\"TEOTITLAN DEL VALLE\"], \"xaxis\": \"x\", \"y\": [1], \"yaxis\": \"y\"}, {\"alignmentgroup\": \"True\", \"hoverlabel\": {\"namelength\": 0}, \"hovertemplate\": \"color=OTZOLOTEPEC<br>x=%{x}<br>y=%{y}\", \"legendgroup\": \"color=OTZOLOTEPEC\", \"marker\": {\"color\": \"#EF553B\"}, \"name\": \"color=OTZOLOTEPEC\", \"offsetgroup\": \"color=OTZOLOTEPEC\", \"orientation\": \"v\", \"showlegend\": true, \"textposition\": \"auto\", \"type\": \"bar\", \"x\": [\"OTZOLOTEPEC\"], \"xaxis\": \"x\", \"y\": [1], \"yaxis\": \"y\"}, {\"alignmentgroup\": \"True\", \"hoverlabel\": {\"namelength\": 0}, \"hovertemplate\": \"color=TEPECOACUILCO DE TRUJANO<br>x=%{x}<br>y=%{y}\", \"legendgroup\": \"color=TEPECOACUILCO DE TRUJANO\", \"marker\": {\"color\": \"#00cc96\"}, \"name\": \"color=TEPECOACUILCO DE TRUJANO\", \"offsetgroup\": \"color=TEPECOACUILCO DE TRUJANO\", \"orientation\": \"v\", \"showlegend\": true, \"textposition\": \"auto\", \"type\": \"bar\", \"x\": [\"TEPECOACUILCO DE TRUJANO\"], \"xaxis\": \"x\", \"y\": [1], \"yaxis\": \"y\"}, {\"alignmentgroup\": \"True\", \"hoverlabel\": {\"namelength\": 0}, \"hovertemplate\": \"color=BUSTAMANTE<br>x=%{x}<br>y=%{y}\", \"legendgroup\": \"color=BUSTAMANTE\", \"marker\": {\"color\": \"#ab63fa\"}, \"name\": \"color=BUSTAMANTE\", \"offsetgroup\": \"color=BUSTAMANTE\", \"orientation\": \"v\", \"showlegend\": true, \"textposition\": \"auto\", \"type\": \"bar\", \"x\": [\"BUSTAMANTE\"], \"xaxis\": \"x\", \"y\": [1], \"yaxis\": \"y\"}, {\"alignmentgroup\": \"True\", \"hoverlabel\": {\"namelength\": 0}, \"hovertemplate\": \"color=HOPELCHEN<br>x=%{x}<br>y=%{y}\", \"legendgroup\": \"color=HOPELCHEN\", \"marker\": {\"color\": \"#FFA15A\"}, \"name\": \"color=HOPELCHEN\", \"offsetgroup\": \"color=HOPELCHEN\", \"orientation\": \"v\", \"showlegend\": true, \"textposition\": \"auto\", \"type\": \"bar\", \"x\": [\"HOPELCHEN\"], \"xaxis\": \"x\", \"y\": [1], \"yaxis\": \"y\"}, {\"alignmentgroup\": \"True\", \"hoverlabel\": {\"namelength\": 0}, \"hovertemplate\": \"color=CIUDAD VALLES<br>x=%{x}<br>y=%{y}\", \"legendgroup\": \"color=CIUDAD VALLES\", \"marker\": {\"color\": \"#19d3f3\"}, \"name\": \"color=CIUDAD VALLES\", \"offsetgroup\": \"color=CIUDAD VALLES\", \"orientation\": \"v\", \"showlegend\": true, \"textposition\": \"auto\", \"type\": \"bar\", \"x\": [\"CIUDAD VALLES\"], \"xaxis\": \"x\", \"y\": [1], \"yaxis\": \"y\"}, {\"alignmentgroup\": \"True\", \"hoverlabel\": {\"namelength\": 0}, \"hovertemplate\": \"color=ROSARIO<br>x=%{x}<br>y=%{y}\", \"legendgroup\": \"color=ROSARIO\", \"marker\": {\"color\": \"#FF6692\"}, \"name\": \"color=ROSARIO\", \"offsetgroup\": \"color=ROSARIO\", \"orientation\": \"v\", \"showlegend\": true, \"textposition\": \"auto\", \"type\": \"bar\", \"x\": [\"ROSARIO\"], \"xaxis\": \"x\", \"y\": [1], \"yaxis\": \"y\"}, {\"alignmentgroup\": \"True\", \"hoverlabel\": {\"namelength\": 0}, \"hovertemplate\": \"color=NACO<br>x=%{x}<br>y=%{y}\", \"legendgroup\": \"color=NACO\", \"marker\": {\"color\": \"#B6E880\"}, \"name\": \"color=NACO\", \"offsetgroup\": \"color=NACO\", \"orientation\": \"v\", \"showlegend\": true, \"textposition\": \"auto\", \"type\": \"bar\", \"x\": [\"NACO\"], \"xaxis\": \"x\", \"y\": [1], \"yaxis\": \"y\"}, {\"alignmentgroup\": \"True\", \"hoverlabel\": {\"namelength\": 0}, \"hovertemplate\": \"color=SAN SALVADOR<br>x=%{x}<br>y=%{y}\", \"legendgroup\": \"color=SAN SALVADOR\", \"marker\": {\"color\": \"#FF97FF\"}, \"name\": \"color=SAN SALVADOR\", \"offsetgroup\": \"color=SAN SALVADOR\", \"orientation\": \"v\", \"showlegend\": true, \"textposition\": \"auto\", \"type\": \"bar\", \"x\": [\"SAN SALVADOR\"], \"xaxis\": \"x\", \"y\": [1], \"yaxis\": \"y\"}, {\"alignmentgroup\": \"True\", \"hoverlabel\": {\"namelength\": 0}, \"hovertemplate\": \"color=TAPALPA<br>x=%{x}<br>y=%{y}\", \"legendgroup\": \"color=TAPALPA\", \"marker\": {\"color\": \"#FECB52\"}, \"name\": \"color=TAPALPA\", \"offsetgroup\": \"color=TAPALPA\", \"orientation\": \"v\", \"showlegend\": true, \"textposition\": \"auto\", \"type\": \"bar\", \"x\": [\"TAPALPA\"], \"xaxis\": \"x\", \"y\": [1], \"yaxis\": \"y\"}, {\"alignmentgroup\": \"True\", \"hoverlabel\": {\"namelength\": 0}, \"hovertemplate\": \"color=MINERAL DEL MONTE<br>x=%{x}<br>y=%{y}\", \"legendgroup\": \"color=MINERAL DEL MONTE\", \"marker\": {\"color\": \"#636efa\"}, \"name\": \"color=MINERAL DEL MONTE\", \"offsetgroup\": \"color=MINERAL DEL MONTE\", \"orientation\": \"v\", \"showlegend\": true, \"textposition\": \"auto\", \"type\": \"bar\", \"x\": [\"MINERAL DEL MONTE\"], \"xaxis\": \"x\", \"y\": [1], \"yaxis\": \"y\"}, {\"alignmentgroup\": \"True\", \"hoverlabel\": {\"namelength\": 0}, \"hovertemplate\": \"color=PUNGARABATO<br>x=%{x}<br>y=%{y}\", \"legendgroup\": \"color=PUNGARABATO\", \"marker\": {\"color\": \"#EF553B\"}, \"name\": \"color=PUNGARABATO\", \"offsetgroup\": \"color=PUNGARABATO\", \"orientation\": \"v\", \"showlegend\": true, \"textposition\": \"auto\", \"type\": \"bar\", \"x\": [\"PUNGARABATO\"], \"xaxis\": \"x\", \"y\": [1], \"yaxis\": \"y\"}, {\"alignmentgroup\": \"True\", \"hoverlabel\": {\"namelength\": 0}, \"hovertemplate\": \"color=MOROLEON<br>x=%{x}<br>y=%{y}\", \"legendgroup\": \"color=MOROLEON\", \"marker\": {\"color\": \"#00cc96\"}, \"name\": \"color=MOROLEON\", \"offsetgroup\": \"color=MOROLEON\", \"orientation\": \"v\", \"showlegend\": true, \"textposition\": \"auto\", \"type\": \"bar\", \"x\": [\"MOROLEON\"], \"xaxis\": \"x\", \"y\": [1], \"yaxis\": \"y\"}, {\"alignmentgroup\": \"True\", \"hoverlabel\": {\"namelength\": 0}, \"hovertemplate\": \"color=SANTIAGO DE ANAYA<br>x=%{x}<br>y=%{y}\", \"legendgroup\": \"color=SANTIAGO DE ANAYA\", \"marker\": {\"color\": \"#ab63fa\"}, \"name\": \"color=SANTIAGO DE ANAYA\", \"offsetgroup\": \"color=SANTIAGO DE ANAYA\", \"orientation\": \"v\", \"showlegend\": true, \"textposition\": \"auto\", \"type\": \"bar\", \"x\": [\"SANTIAGO DE ANAYA\"], \"xaxis\": \"x\", \"y\": [1], \"yaxis\": \"y\"}, {\"alignmentgroup\": \"True\", \"hoverlabel\": {\"namelength\": 0}, \"hovertemplate\": \"color=TEPEACA<br>x=%{x}<br>y=%{y}\", \"legendgroup\": \"color=TEPEACA\", \"marker\": {\"color\": \"#FFA15A\"}, \"name\": \"color=TEPEACA\", \"offsetgroup\": \"color=TEPEACA\", \"orientation\": \"v\", \"showlegend\": true, \"textposition\": \"auto\", \"type\": \"bar\", \"x\": [\"TEPEACA\"], \"xaxis\": \"x\", \"y\": [1], \"yaxis\": \"y\"}, {\"alignmentgroup\": \"True\", \"hoverlabel\": {\"namelength\": 0}, \"hovertemplate\": \"color=SAN PEDRO JICAYAN<br>x=%{x}<br>y=%{y}\", \"legendgroup\": \"color=SAN PEDRO JICAYAN\", \"marker\": {\"color\": \"#19d3f3\"}, \"name\": \"color=SAN PEDRO JICAYAN\", \"offsetgroup\": \"color=SAN PEDRO JICAYAN\", \"orientation\": \"v\", \"showlegend\": true, \"textposition\": \"auto\", \"type\": \"bar\", \"x\": [\"SAN PEDRO JICAYAN\"], \"xaxis\": \"x\", \"y\": [1], \"yaxis\": \"y\"}, {\"alignmentgroup\": \"True\", \"hoverlabel\": {\"namelength\": 0}, \"hovertemplate\": \"color=SAN FRANCISCO HUEHUETLAN<br>x=%{x}<br>y=%{y}\", \"legendgroup\": \"color=SAN FRANCISCO HUEHUETLAN\", \"marker\": {\"color\": \"#FF6692\"}, \"name\": \"color=SAN FRANCISCO HUEHUETLAN\", \"offsetgroup\": \"color=SAN FRANCISCO HUEHUETLAN\", \"orientation\": \"v\", \"showlegend\": true, \"textposition\": \"auto\", \"type\": \"bar\", \"x\": [\"SAN FRANCISCO HUEHUETLAN\"], \"xaxis\": \"x\", \"y\": [1], \"yaxis\": \"y\"}, {\"alignmentgroup\": \"True\", \"hoverlabel\": {\"namelength\": 0}, \"hovertemplate\": \"color=MIAHUATLAN DE PORFIRIO DIAZ<br>x=%{x}<br>y=%{y}\", \"legendgroup\": \"color=MIAHUATLAN DE PORFIRIO DIAZ\", \"marker\": {\"color\": \"#B6E880\"}, \"name\": \"color=MIAHUATLAN DE PORFIRIO DIAZ\", \"offsetgroup\": \"color=MIAHUATLAN DE PORFIRIO DIAZ\", \"orientation\": \"v\", \"showlegend\": true, \"textposition\": \"auto\", \"type\": \"bar\", \"x\": [\"MIAHUATLAN DE PORFIRIO DIAZ\"], \"xaxis\": \"x\", \"y\": [1], \"yaxis\": \"y\"}, {\"alignmentgroup\": \"True\", \"hoverlabel\": {\"namelength\": 0}, \"hovertemplate\": \"color=YURECUARO<br>x=%{x}<br>y=%{y}\", \"legendgroup\": \"color=YURECUARO\", \"marker\": {\"color\": \"#FF97FF\"}, \"name\": \"color=YURECUARO\", \"offsetgroup\": \"color=YURECUARO\", \"orientation\": \"v\", \"showlegend\": true, \"textposition\": \"auto\", \"type\": \"bar\", \"x\": [\"YURECUARO\"], \"xaxis\": \"x\", \"y\": [1], \"yaxis\": \"y\"}, {\"alignmentgroup\": \"True\", \"hoverlabel\": {\"namelength\": 0}, \"hovertemplate\": \"color=TEOTITLAN DE FLORES MAGON<br>x=%{x}<br>y=%{y}\", \"legendgroup\": \"color=TEOTITLAN DE FLORES MAGON\", \"marker\": {\"color\": \"#FECB52\"}, \"name\": \"color=TEOTITLAN DE FLORES MAGON\", \"offsetgroup\": \"color=TEOTITLAN DE FLORES MAGON\", \"orientation\": \"v\", \"showlegend\": true, \"textposition\": \"auto\", \"type\": \"bar\", \"x\": [\"TEOTITLAN DE FLORES MAGON\"], \"xaxis\": \"x\", \"y\": [1], \"yaxis\": \"y\"}, {\"alignmentgroup\": \"True\", \"hoverlabel\": {\"namelength\": 0}, \"hovertemplate\": \"color=CATAZAJA<br>x=%{x}<br>y=%{y}\", \"legendgroup\": \"color=CATAZAJA\", \"marker\": {\"color\": \"#636efa\"}, \"name\": \"color=CATAZAJA\", \"offsetgroup\": \"color=CATAZAJA\", \"orientation\": \"v\", \"showlegend\": true, \"textposition\": \"auto\", \"type\": \"bar\", \"x\": [\"CATAZAJA\"], \"xaxis\": \"x\", \"y\": [1], \"yaxis\": \"y\"}, {\"alignmentgroup\": \"True\", \"hoverlabel\": {\"namelength\": 0}, \"hovertemplate\": \"color=ALTO LUCERO DE GUTIERREZ BARRIOS<br>x=%{x}<br>y=%{y}\", \"legendgroup\": \"color=ALTO LUCERO DE GUTIERREZ BARRIOS\", \"marker\": {\"color\": \"#EF553B\"}, \"name\": \"color=ALTO LUCERO DE GUTIERREZ BARRIOS\", \"offsetgroup\": \"color=ALTO LUCERO DE GUTIERREZ BARRIOS\", \"orientation\": \"v\", \"showlegend\": true, \"textposition\": \"auto\", \"type\": \"bar\", \"x\": [\"ALTO LUCERO DE GUTIERREZ BARRIOS\"], \"xaxis\": \"x\", \"y\": [1], \"yaxis\": \"y\"}, {\"alignmentgroup\": \"True\", \"hoverlabel\": {\"namelength\": 0}, \"hovertemplate\": \"color=ATZITZINTLA<br>x=%{x}<br>y=%{y}\", \"legendgroup\": \"color=ATZITZINTLA\", \"marker\": {\"color\": \"#00cc96\"}, \"name\": \"color=ATZITZINTLA\", \"offsetgroup\": \"color=ATZITZINTLA\", \"orientation\": \"v\", \"showlegend\": true, \"textposition\": \"auto\", \"type\": \"bar\", \"x\": [\"ATZITZINTLA\"], \"xaxis\": \"x\", \"y\": [1], \"yaxis\": \"y\"}, {\"alignmentgroup\": \"True\", \"hoverlabel\": {\"namelength\": 0}, \"hovertemplate\": \"color=PATZCUARO<br>x=%{x}<br>y=%{y}\", \"legendgroup\": \"color=PATZCUARO\", \"marker\": {\"color\": \"#ab63fa\"}, \"name\": \"color=PATZCUARO\", \"offsetgroup\": \"color=PATZCUARO\", \"orientation\": \"v\", \"showlegend\": true, \"textposition\": \"auto\", \"type\": \"bar\", \"x\": [\"PATZCUARO\"], \"xaxis\": \"x\", \"y\": [1], \"yaxis\": \"y\"}, {\"alignmentgroup\": \"True\", \"hoverlabel\": {\"namelength\": 0}, \"hovertemplate\": \"color=PURISIMA DEL RINCON<br>x=%{x}<br>y=%{y}\", \"legendgroup\": \"color=PURISIMA DEL RINCON\", \"marker\": {\"color\": \"#FFA15A\"}, \"name\": \"color=PURISIMA DEL RINCON\", \"offsetgroup\": \"color=PURISIMA DEL RINCON\", \"orientation\": \"v\", \"showlegend\": true, \"textposition\": \"auto\", \"type\": \"bar\", \"x\": [\"PURISIMA DEL RINCON\"], \"xaxis\": \"x\", \"y\": [1], \"yaxis\": \"y\"}, {\"alignmentgroup\": \"True\", \"hoverlabel\": {\"namelength\": 0}, \"hovertemplate\": \"color=TLAPEHUALA<br>x=%{x}<br>y=%{y}\", \"legendgroup\": \"color=TLAPEHUALA\", \"marker\": {\"color\": \"#19d3f3\"}, \"name\": \"color=TLAPEHUALA\", \"offsetgroup\": \"color=TLAPEHUALA\", \"orientation\": \"v\", \"showlegend\": true, \"textposition\": \"auto\", \"type\": \"bar\", \"x\": [\"TLAPEHUALA\"], \"xaxis\": \"x\", \"y\": [1], \"yaxis\": \"y\"}, {\"alignmentgroup\": \"True\", \"hoverlabel\": {\"namelength\": 0}, \"hovertemplate\": \"color=ELOXOCHITLAN DE FLORES MAGON<br>x=%{x}<br>y=%{y}\", \"legendgroup\": \"color=ELOXOCHITLAN DE FLORES MAGON\", \"marker\": {\"color\": \"#FF6692\"}, \"name\": \"color=ELOXOCHITLAN DE FLORES MAGON\", \"offsetgroup\": \"color=ELOXOCHITLAN DE FLORES MAGON\", \"orientation\": \"v\", \"showlegend\": true, \"textposition\": \"auto\", \"type\": \"bar\", \"x\": [\"ELOXOCHITLAN DE FLORES MAGON\"], \"xaxis\": \"x\", \"y\": [1], \"yaxis\": \"y\"}, {\"alignmentgroup\": \"True\", \"hoverlabel\": {\"namelength\": 0}, \"hovertemplate\": \"color=SAN BARTOLO COYOTEPEC<br>x=%{x}<br>y=%{y}\", \"legendgroup\": \"color=SAN BARTOLO COYOTEPEC\", \"marker\": {\"color\": \"#B6E880\"}, \"name\": \"color=SAN BARTOLO COYOTEPEC\", \"offsetgroup\": \"color=SAN BARTOLO COYOTEPEC\", \"orientation\": \"v\", \"showlegend\": true, \"textposition\": \"auto\", \"type\": \"bar\", \"x\": [\"SAN BARTOLO COYOTEPEC\"], \"xaxis\": \"x\", \"y\": [1], \"yaxis\": \"y\"}, {\"alignmentgroup\": \"True\", \"hoverlabel\": {\"namelength\": 0}, \"hovertemplate\": \"color=SAN JUAN DE LOS LAGOS<br>x=%{x}<br>y=%{y}\", \"legendgroup\": \"color=SAN JUAN DE LOS LAGOS\", \"marker\": {\"color\": \"#FF97FF\"}, \"name\": \"color=SAN JUAN DE LOS LAGOS\", \"offsetgroup\": \"color=SAN JUAN DE LOS LAGOS\", \"orientation\": \"v\", \"showlegend\": true, \"textposition\": \"auto\", \"type\": \"bar\", \"x\": [\"SAN JUAN DE LOS LAGOS\"], \"xaxis\": \"x\", \"y\": [1], \"yaxis\": \"y\"}, {\"alignmentgroup\": \"True\", \"hoverlabel\": {\"namelength\": 0}, \"hovertemplate\": \"color=COYUCA DE BENITEZ<br>x=%{x}<br>y=%{y}\", \"legendgroup\": \"color=COYUCA DE BENITEZ\", \"marker\": {\"color\": \"#FECB52\"}, \"name\": \"color=COYUCA DE BENITEZ\", \"offsetgroup\": \"color=COYUCA DE BENITEZ\", \"orientation\": \"v\", \"showlegend\": true, \"textposition\": \"auto\", \"type\": \"bar\", \"x\": [\"COYUCA DE BENITEZ\"], \"xaxis\": \"x\", \"y\": [1], \"yaxis\": \"y\"}, {\"alignmentgroup\": \"True\", \"hoverlabel\": {\"namelength\": 0}, \"hovertemplate\": \"color=COMPOSTELA<br>x=%{x}<br>y=%{y}\", \"legendgroup\": \"color=COMPOSTELA\", \"marker\": {\"color\": \"#636efa\"}, \"name\": \"color=COMPOSTELA\", \"offsetgroup\": \"color=COMPOSTELA\", \"orientation\": \"v\", \"showlegend\": true, \"textposition\": \"auto\", \"type\": \"bar\", \"x\": [\"COMPOSTELA\"], \"xaxis\": \"x\", \"y\": [1], \"yaxis\": \"y\"}, {\"alignmentgroup\": \"True\", \"hoverlabel\": {\"namelength\": 0}, \"hovertemplate\": \"color=LAFRAGUA<br>x=%{x}<br>y=%{y}\", \"legendgroup\": \"color=LAFRAGUA\", \"marker\": {\"color\": \"#EF553B\"}, \"name\": \"color=LAFRAGUA\", \"offsetgroup\": \"color=LAFRAGUA\", \"orientation\": \"v\", \"showlegend\": true, \"textposition\": \"auto\", \"type\": \"bar\", \"x\": [\"LAFRAGUA\"], \"xaxis\": \"x\", \"y\": [1], \"yaxis\": \"y\"}, {\"alignmentgroup\": \"True\", \"hoverlabel\": {\"namelength\": 0}, \"hovertemplate\": \"color=VALLE DE SANTIAGO<br>x=%{x}<br>y=%{y}\", \"legendgroup\": \"color=VALLE DE SANTIAGO\", \"marker\": {\"color\": \"#00cc96\"}, \"name\": \"color=VALLE DE SANTIAGO\", \"offsetgroup\": \"color=VALLE DE SANTIAGO\", \"orientation\": \"v\", \"showlegend\": true, \"textposition\": \"auto\", \"type\": \"bar\", \"x\": [\"VALLE DE SANTIAGO\"], \"xaxis\": \"x\", \"y\": [1], \"yaxis\": \"y\"}, {\"alignmentgroup\": \"True\", \"hoverlabel\": {\"namelength\": 0}, \"hovertemplate\": \"color=COATEPEC<br>x=%{x}<br>y=%{y}\", \"legendgroup\": \"color=COATEPEC\", \"marker\": {\"color\": \"#ab63fa\"}, \"name\": \"color=COATEPEC\", \"offsetgroup\": \"color=COATEPEC\", \"orientation\": \"v\", \"showlegend\": true, \"textposition\": \"auto\", \"type\": \"bar\", \"x\": [\"COATEPEC\"], \"xaxis\": \"x\", \"y\": [1], \"yaxis\": \"y\"}, {\"alignmentgroup\": \"True\", \"hoverlabel\": {\"namelength\": 0}, \"hovertemplate\": \"color=MARIANO ESCOBEDO<br>x=%{x}<br>y=%{y}\", \"legendgroup\": \"color=MARIANO ESCOBEDO\", \"marker\": {\"color\": \"#FFA15A\"}, \"name\": \"color=MARIANO ESCOBEDO\", \"offsetgroup\": \"color=MARIANO ESCOBEDO\", \"orientation\": \"v\", \"showlegend\": true, \"textposition\": \"auto\", \"type\": \"bar\", \"x\": [\"MARIANO ESCOBEDO\"], \"xaxis\": \"x\", \"y\": [1], \"yaxis\": \"y\"}, {\"alignmentgroup\": \"True\", \"hoverlabel\": {\"namelength\": 0}, \"hovertemplate\": \"color=CHAPULHUACAN<br>x=%{x}<br>y=%{y}\", \"legendgroup\": \"color=CHAPULHUACAN\", \"marker\": {\"color\": \"#19d3f3\"}, \"name\": \"color=CHAPULHUACAN\", \"offsetgroup\": \"color=CHAPULHUACAN\", \"orientation\": \"v\", \"showlegend\": true, \"textposition\": \"auto\", \"type\": \"bar\", \"x\": [\"CHAPULHUACAN\"], \"xaxis\": \"x\", \"y\": [1], \"yaxis\": \"y\"}, {\"alignmentgroup\": \"True\", \"hoverlabel\": {\"namelength\": 0}, \"hovertemplate\": \"color=TENOSIQUE<br>x=%{x}<br>y=%{y}\", \"legendgroup\": \"color=TENOSIQUE\", \"marker\": {\"color\": \"#FF6692\"}, \"name\": \"color=TENOSIQUE\", \"offsetgroup\": \"color=TENOSIQUE\", \"orientation\": \"v\", \"showlegend\": true, \"textposition\": \"auto\", \"type\": \"bar\", \"x\": [\"TENOSIQUE\"], \"xaxis\": \"x\", \"y\": [1], \"yaxis\": \"y\"}, {\"alignmentgroup\": \"True\", \"hoverlabel\": {\"namelength\": 0}, \"hovertemplate\": \"color=CHARO<br>x=%{x}<br>y=%{y}\", \"legendgroup\": \"color=CHARO\", \"marker\": {\"color\": \"#B6E880\"}, \"name\": \"color=CHARO\", \"offsetgroup\": \"color=CHARO\", \"orientation\": \"v\", \"showlegend\": true, \"textposition\": \"auto\", \"type\": \"bar\", \"x\": [\"CHARO\"], \"xaxis\": \"x\", \"y\": [1], \"yaxis\": \"y\"}, {\"alignmentgroup\": \"True\", \"hoverlabel\": {\"namelength\": 0}, \"hovertemplate\": \"color=TUXTLA GUTIERREZ<br>x=%{x}<br>y=%{y}\", \"legendgroup\": \"color=TUXTLA GUTIERREZ\", \"marker\": {\"color\": \"#FF97FF\"}, \"name\": \"color=TUXTLA GUTIERREZ\", \"offsetgroup\": \"color=TUXTLA GUTIERREZ\", \"orientation\": \"v\", \"showlegend\": true, \"textposition\": \"auto\", \"type\": \"bar\", \"x\": [\"TUXTLA GUTIERREZ\"], \"xaxis\": \"x\", \"y\": [1], \"yaxis\": \"y\"}, {\"alignmentgroup\": \"True\", \"hoverlabel\": {\"namelength\": 0}, \"hovertemplate\": \"color=SAN PEDRO IXTLAHUACA<br>x=%{x}<br>y=%{y}\", \"legendgroup\": \"color=SAN PEDRO IXTLAHUACA\", \"marker\": {\"color\": \"#FECB52\"}, \"name\": \"color=SAN PEDRO IXTLAHUACA\", \"offsetgroup\": \"color=SAN PEDRO IXTLAHUACA\", \"orientation\": \"v\", \"showlegend\": true, \"textposition\": \"auto\", \"type\": \"bar\", \"x\": [\"SAN PEDRO IXTLAHUACA\"], \"xaxis\": \"x\", \"y\": [1], \"yaxis\": \"y\"}, {\"alignmentgroup\": \"True\", \"hoverlabel\": {\"namelength\": 0}, \"hovertemplate\": \"color=JILOTZINGO<br>x=%{x}<br>y=%{y}\", \"legendgroup\": \"color=JILOTZINGO\", \"marker\": {\"color\": \"#636efa\"}, \"name\": \"color=JILOTZINGO\", \"offsetgroup\": \"color=JILOTZINGO\", \"orientation\": \"v\", \"showlegend\": true, \"textposition\": \"auto\", \"type\": \"bar\", \"x\": [\"JILOTZINGO\"], \"xaxis\": \"x\", \"y\": [1], \"yaxis\": \"y\"}, {\"alignmentgroup\": \"True\", \"hoverlabel\": {\"namelength\": 0}, \"hovertemplate\": \"color=QUECHULTENANGO<br>x=%{x}<br>y=%{y}\", \"legendgroup\": \"color=QUECHULTENANGO\", \"marker\": {\"color\": \"#EF553B\"}, \"name\": \"color=QUECHULTENANGO\", \"offsetgroup\": \"color=QUECHULTENANGO\", \"orientation\": \"v\", \"showlegend\": true, \"textposition\": \"auto\", \"type\": \"bar\", \"x\": [\"QUECHULTENANGO\"], \"xaxis\": \"x\", \"y\": [1], \"yaxis\": \"y\"}, {\"alignmentgroup\": \"True\", \"hoverlabel\": {\"namelength\": 0}, \"hovertemplate\": \"color=MUZQUIZ<br>x=%{x}<br>y=%{y}\", \"legendgroup\": \"color=MUZQUIZ\", \"marker\": {\"color\": \"#00cc96\"}, \"name\": \"color=MUZQUIZ\", \"offsetgroup\": \"color=MUZQUIZ\", \"orientation\": \"v\", \"showlegend\": true, \"textposition\": \"auto\", \"type\": \"bar\", \"x\": [\"MUZQUIZ\"], \"xaxis\": \"x\", \"y\": [1], \"yaxis\": \"y\"}, {\"alignmentgroup\": \"True\", \"hoverlabel\": {\"namelength\": 0}, \"hovertemplate\": \"color=IRIMBO<br>x=%{x}<br>y=%{y}\", \"legendgroup\": \"color=IRIMBO\", \"marker\": {\"color\": \"#ab63fa\"}, \"name\": \"color=IRIMBO\", \"offsetgroup\": \"color=IRIMBO\", \"orientation\": \"v\", \"showlegend\": true, \"textposition\": \"auto\", \"type\": \"bar\", \"x\": [\"IRIMBO\"], \"xaxis\": \"x\", \"y\": [1], \"yaxis\": \"y\"}, {\"alignmentgroup\": \"True\", \"hoverlabel\": {\"namelength\": 0}, \"hovertemplate\": \"color=SAN DIEGO DE LA UNION<br>x=%{x}<br>y=%{y}\", \"legendgroup\": \"color=SAN DIEGO DE LA UNION\", \"marker\": {\"color\": \"#FFA15A\"}, \"name\": \"color=SAN DIEGO DE LA UNION\", \"offsetgroup\": \"color=SAN DIEGO DE LA UNION\", \"orientation\": \"v\", \"showlegend\": true, \"textposition\": \"auto\", \"type\": \"bar\", \"x\": [\"SAN DIEGO DE LA UNION\"], \"xaxis\": \"x\", \"y\": [1], \"yaxis\": \"y\"}, {\"alignmentgroup\": \"True\", \"hoverlabel\": {\"namelength\": 0}, \"hovertemplate\": \"color=ALMOLOYA DE ALQUISIRAS<br>x=%{x}<br>y=%{y}\", \"legendgroup\": \"color=ALMOLOYA DE ALQUISIRAS\", \"marker\": {\"color\": \"#19d3f3\"}, \"name\": \"color=ALMOLOYA DE ALQUISIRAS\", \"offsetgroup\": \"color=ALMOLOYA DE ALQUISIRAS\", \"orientation\": \"v\", \"showlegend\": true, \"textposition\": \"auto\", \"type\": \"bar\", \"x\": [\"ALMOLOYA DE ALQUISIRAS\"], \"xaxis\": \"x\", \"y\": [1], \"yaxis\": \"y\"}, {\"alignmentgroup\": \"True\", \"hoverlabel\": {\"namelength\": 0}, \"hovertemplate\": \"color=LA MAGDALENA TLALTELULCO<br>x=%{x}<br>y=%{y}\", \"legendgroup\": \"color=LA MAGDALENA TLALTELULCO\", \"marker\": {\"color\": \"#FF6692\"}, \"name\": \"color=LA MAGDALENA TLALTELULCO\", \"offsetgroup\": \"color=LA MAGDALENA TLALTELULCO\", \"orientation\": \"v\", \"showlegend\": true, \"textposition\": \"auto\", \"type\": \"bar\", \"x\": [\"LA MAGDALENA TLALTELULCO\"], \"xaxis\": \"x\", \"y\": [1], \"yaxis\": \"y\"}],\n",
              "                        {\"barmode\": \"relative\", \"height\": 600, \"legend\": {\"tracegroupgap\": 0}, \"margin\": {\"t\": 60}, \"template\": {\"data\": {\"bar\": [{\"error_x\": {\"color\": \"#2a3f5f\"}, \"error_y\": {\"color\": \"#2a3f5f\"}, \"marker\": {\"line\": {\"color\": \"#E5ECF6\", \"width\": 0.5}}, \"type\": \"bar\"}], \"barpolar\": [{\"marker\": {\"line\": {\"color\": \"#E5ECF6\", \"width\": 0.5}}, \"type\": \"barpolar\"}], \"carpet\": [{\"aaxis\": {\"endlinecolor\": \"#2a3f5f\", \"gridcolor\": \"white\", \"linecolor\": \"white\", \"minorgridcolor\": \"white\", \"startlinecolor\": \"#2a3f5f\"}, \"baxis\": {\"endlinecolor\": \"#2a3f5f\", \"gridcolor\": \"white\", \"linecolor\": \"white\", \"minorgridcolor\": \"white\", \"startlinecolor\": \"#2a3f5f\"}, \"type\": \"carpet\"}], \"choropleth\": [{\"colorbar\": {\"outlinewidth\": 0, \"ticks\": \"\"}, \"type\": \"choropleth\"}], \"contour\": [{\"colorbar\": {\"outlinewidth\": 0, \"ticks\": \"\"}, \"colorscale\": [[0.0, \"#0d0887\"], [0.1111111111111111, \"#46039f\"], [0.2222222222222222, \"#7201a8\"], [0.3333333333333333, \"#9c179e\"], [0.4444444444444444, \"#bd3786\"], [0.5555555555555556, \"#d8576b\"], [0.6666666666666666, \"#ed7953\"], [0.7777777777777778, \"#fb9f3a\"], [0.8888888888888888, \"#fdca26\"], [1.0, \"#f0f921\"]], \"type\": \"contour\"}], \"contourcarpet\": [{\"colorbar\": {\"outlinewidth\": 0, \"ticks\": \"\"}, \"type\": \"contourcarpet\"}], \"heatmap\": [{\"colorbar\": {\"outlinewidth\": 0, \"ticks\": \"\"}, \"colorscale\": [[0.0, \"#0d0887\"], [0.1111111111111111, \"#46039f\"], [0.2222222222222222, \"#7201a8\"], [0.3333333333333333, \"#9c179e\"], [0.4444444444444444, \"#bd3786\"], [0.5555555555555556, \"#d8576b\"], [0.6666666666666666, \"#ed7953\"], [0.7777777777777778, \"#fb9f3a\"], [0.8888888888888888, \"#fdca26\"], [1.0, \"#f0f921\"]], \"type\": \"heatmap\"}], \"heatmapgl\": [{\"colorbar\": {\"outlinewidth\": 0, \"ticks\": \"\"}, \"colorscale\": [[0.0, \"#0d0887\"], [0.1111111111111111, \"#46039f\"], [0.2222222222222222, \"#7201a8\"], [0.3333333333333333, \"#9c179e\"], [0.4444444444444444, \"#bd3786\"], [0.5555555555555556, \"#d8576b\"], [0.6666666666666666, \"#ed7953\"], [0.7777777777777778, \"#fb9f3a\"], [0.8888888888888888, \"#fdca26\"], [1.0, \"#f0f921\"]], \"type\": \"heatmapgl\"}], \"histogram\": [{\"marker\": {\"colorbar\": {\"outlinewidth\": 0, \"ticks\": \"\"}}, \"type\": \"histogram\"}], \"histogram2d\": [{\"colorbar\": {\"outlinewidth\": 0, \"ticks\": \"\"}, \"colorscale\": [[0.0, \"#0d0887\"], [0.1111111111111111, \"#46039f\"], [0.2222222222222222, \"#7201a8\"], [0.3333333333333333, \"#9c179e\"], [0.4444444444444444, \"#bd3786\"], [0.5555555555555556, \"#d8576b\"], [0.6666666666666666, \"#ed7953\"], [0.7777777777777778, \"#fb9f3a\"], [0.8888888888888888, \"#fdca26\"], [1.0, \"#f0f921\"]], \"type\": \"histogram2d\"}], \"histogram2dcontour\": [{\"colorbar\": {\"outlinewidth\": 0, \"ticks\": \"\"}, \"colorscale\": [[0.0, \"#0d0887\"], [0.1111111111111111, \"#46039f\"], [0.2222222222222222, \"#7201a8\"], [0.3333333333333333, \"#9c179e\"], [0.4444444444444444, \"#bd3786\"], [0.5555555555555556, \"#d8576b\"], [0.6666666666666666, \"#ed7953\"], [0.7777777777777778, \"#fb9f3a\"], [0.8888888888888888, \"#fdca26\"], [1.0, \"#f0f921\"]], \"type\": \"histogram2dcontour\"}], \"mesh3d\": [{\"colorbar\": {\"outlinewidth\": 0, \"ticks\": \"\"}, \"type\": \"mesh3d\"}], \"parcoords\": [{\"line\": {\"colorbar\": {\"outlinewidth\": 0, \"ticks\": \"\"}}, \"type\": \"parcoords\"}], \"pie\": [{\"automargin\": true, \"type\": \"pie\"}], \"scatter\": [{\"marker\": {\"colorbar\": {\"outlinewidth\": 0, \"ticks\": \"\"}}, \"type\": \"scatter\"}], \"scatter3d\": [{\"line\": {\"colorbar\": {\"outlinewidth\": 0, \"ticks\": \"\"}}, \"marker\": {\"colorbar\": {\"outlinewidth\": 0, \"ticks\": \"\"}}, \"type\": \"scatter3d\"}], \"scattercarpet\": [{\"marker\": {\"colorbar\": {\"outlinewidth\": 0, \"ticks\": \"\"}}, \"type\": \"scattercarpet\"}], \"scattergeo\": [{\"marker\": {\"colorbar\": {\"outlinewidth\": 0, \"ticks\": \"\"}}, \"type\": \"scattergeo\"}], \"scattergl\": [{\"marker\": {\"colorbar\": {\"outlinewidth\": 0, \"ticks\": \"\"}}, \"type\": \"scattergl\"}], \"scattermapbox\": [{\"marker\": {\"colorbar\": {\"outlinewidth\": 0, \"ticks\": \"\"}}, \"type\": \"scattermapbox\"}], \"scatterpolar\": [{\"marker\": {\"colorbar\": {\"outlinewidth\": 0, \"ticks\": \"\"}}, \"type\": \"scatterpolar\"}], \"scatterpolargl\": [{\"marker\": {\"colorbar\": {\"outlinewidth\": 0, \"ticks\": \"\"}}, \"type\": \"scatterpolargl\"}], \"scatterternary\": [{\"marker\": {\"colorbar\": {\"outlinewidth\": 0, \"ticks\": \"\"}}, \"type\": \"scatterternary\"}], \"surface\": [{\"colorbar\": {\"outlinewidth\": 0, \"ticks\": \"\"}, \"colorscale\": [[0.0, \"#0d0887\"], [0.1111111111111111, \"#46039f\"], [0.2222222222222222, \"#7201a8\"], [0.3333333333333333, \"#9c179e\"], [0.4444444444444444, \"#bd3786\"], [0.5555555555555556, \"#d8576b\"], [0.6666666666666666, \"#ed7953\"], [0.7777777777777778, \"#fb9f3a\"], [0.8888888888888888, \"#fdca26\"], [1.0, \"#f0f921\"]], \"type\": \"surface\"}], \"table\": [{\"cells\": {\"fill\": {\"color\": \"#EBF0F8\"}, \"line\": {\"color\": \"white\"}}, \"header\": {\"fill\": {\"color\": \"#C8D4E3\"}, \"line\": {\"color\": \"white\"}}, \"type\": \"table\"}]}, \"layout\": {\"annotationdefaults\": {\"arrowcolor\": \"#2a3f5f\", \"arrowhead\": 0, \"arrowwidth\": 1}, \"coloraxis\": {\"colorbar\": {\"outlinewidth\": 0, \"ticks\": \"\"}}, \"colorscale\": {\"diverging\": [[0, \"#8e0152\"], [0.1, \"#c51b7d\"], [0.2, \"#de77ae\"], [0.3, \"#f1b6da\"], [0.4, \"#fde0ef\"], [0.5, \"#f7f7f7\"], [0.6, \"#e6f5d0\"], [0.7, \"#b8e186\"], [0.8, \"#7fbc41\"], [0.9, \"#4d9221\"], [1, \"#276419\"]], \"sequential\": [[0.0, \"#0d0887\"], [0.1111111111111111, \"#46039f\"], [0.2222222222222222, \"#7201a8\"], [0.3333333333333333, \"#9c179e\"], [0.4444444444444444, \"#bd3786\"], [0.5555555555555556, \"#d8576b\"], [0.6666666666666666, \"#ed7953\"], [0.7777777777777778, \"#fb9f3a\"], [0.8888888888888888, \"#fdca26\"], [1.0, \"#f0f921\"]], \"sequentialminus\": [[0.0, \"#0d0887\"], [0.1111111111111111, \"#46039f\"], [0.2222222222222222, \"#7201a8\"], [0.3333333333333333, \"#9c179e\"], [0.4444444444444444, \"#bd3786\"], [0.5555555555555556, \"#d8576b\"], [0.6666666666666666, \"#ed7953\"], [0.7777777777777778, \"#fb9f3a\"], [0.8888888888888888, \"#fdca26\"], [1.0, \"#f0f921\"]]}, \"colorway\": [\"#636efa\", \"#EF553B\", \"#00cc96\", \"#ab63fa\", \"#FFA15A\", \"#19d3f3\", \"#FF6692\", \"#B6E880\", \"#FF97FF\", \"#FECB52\"], \"font\": {\"color\": \"#2a3f5f\"}, \"geo\": {\"bgcolor\": \"white\", \"lakecolor\": \"white\", \"landcolor\": \"#E5ECF6\", \"showlakes\": true, \"showland\": true, \"subunitcolor\": \"white\"}, \"hoverlabel\": {\"align\": \"left\"}, \"hovermode\": \"closest\", \"mapbox\": {\"style\": \"light\"}, \"paper_bgcolor\": \"white\", \"plot_bgcolor\": \"#E5ECF6\", \"polar\": {\"angularaxis\": {\"gridcolor\": \"white\", \"linecolor\": \"white\", \"ticks\": \"\"}, \"bgcolor\": \"#E5ECF6\", \"radialaxis\": {\"gridcolor\": \"white\", \"linecolor\": \"white\", \"ticks\": \"\"}}, \"scene\": {\"xaxis\": {\"backgroundcolor\": \"#E5ECF6\", \"gridcolor\": \"white\", \"gridwidth\": 2, \"linecolor\": \"white\", \"showbackground\": true, \"ticks\": \"\", \"zerolinecolor\": \"white\"}, \"yaxis\": {\"backgroundcolor\": \"#E5ECF6\", \"gridcolor\": \"white\", \"gridwidth\": 2, \"linecolor\": \"white\", \"showbackground\": true, \"ticks\": \"\", \"zerolinecolor\": \"white\"}, \"zaxis\": {\"backgroundcolor\": \"#E5ECF6\", \"gridcolor\": \"white\", \"gridwidth\": 2, \"linecolor\": \"white\", \"showbackground\": true, \"ticks\": \"\", \"zerolinecolor\": \"white\"}}, \"shapedefaults\": {\"line\": {\"color\": \"#2a3f5f\"}}, \"ternary\": {\"aaxis\": {\"gridcolor\": \"white\", \"linecolor\": \"white\", \"ticks\": \"\"}, \"baxis\": {\"gridcolor\": \"white\", \"linecolor\": \"white\", \"ticks\": \"\"}, \"bgcolor\": \"#E5ECF6\", \"caxis\": {\"gridcolor\": \"white\", \"linecolor\": \"white\", \"ticks\": \"\"}}, \"title\": {\"x\": 0.05}, \"xaxis\": {\"automargin\": true, \"gridcolor\": \"white\", \"linecolor\": \"white\", \"ticks\": \"\", \"title\": {\"standoff\": 15}, \"zerolinecolor\": \"white\", \"zerolinewidth\": 2}, \"yaxis\": {\"automargin\": true, \"gridcolor\": \"white\", \"linecolor\": \"white\", \"ticks\": \"\", \"title\": {\"standoff\": 15}, \"zerolinecolor\": \"white\", \"zerolinewidth\": 2}}}, \"xaxis\": {\"anchor\": \"y\", \"domain\": [0.0, 1.0], \"title\": {\"text\": \"x\"}}, \"yaxis\": {\"anchor\": \"x\", \"domain\": [0.0, 1.0], \"title\": {\"text\": \"y\"}}},\n",
              "                        {\"responsive\": true}\n",
              "                    ).then(function(){\n",
              "                            \n",
              "var gd = document.getElementById('e2054888-0564-405d-b360-2723df9ea75b');\n",
              "var x = new MutationObserver(function (mutations, observer) {{\n",
              "        var display = window.getComputedStyle(gd).display;\n",
              "        if (!display || display === 'none') {{\n",
              "            console.log([gd, 'removed!']);\n",
              "            Plotly.purge(gd);\n",
              "            observer.disconnect();\n",
              "        }}\n",
              "}});\n",
              "\n",
              "// Listen for the removal of the full notebook cells\n",
              "var notebookContainer = gd.closest('#notebook-container');\n",
              "if (notebookContainer) {{\n",
              "    x.observe(notebookContainer, {childList: true});\n",
              "}}\n",
              "\n",
              "// Listen for the clearing of the current output cell\n",
              "var outputEl = gd.closest('.output');\n",
              "if (outputEl) {{\n",
              "    x.observe(outputEl, {childList: true});\n",
              "}}\n",
              "\n",
              "                        })\n",
              "                };\n",
              "                \n",
              "            </script>\n",
              "        </div>\n",
              "</body>\n",
              "</html>"
            ]
          },
          "metadata": {}
        }
      ]
    },
    {
      "cell_type": "code",
      "metadata": {
        "colab": {
          "base_uri": "https://localhost:8080/"
        },
        "id": "kenJErE0fKlV",
        "outputId": "c1561f4f-ba49-400e-d234-5e95dc9b0f88"
      },
      "source": [
        "df['alcaldia_hechos'].value_counts().index"
      ],
      "execution_count": 131,
      "outputs": [
        {
          "output_type": "execute_result",
          "data": {
            "text/plain": [
              "Index(['CUAUHTEMOC', 'IZTAPALAPA', 'GUSTAVO A MADERO', 'BENITO JUAREZ',\n",
              "       'ALVARO OBREGON', 'COYOACAN', 'MIGUEL HIDALGO', 'TLALPAN',\n",
              "       'VENUSTIANO CARRANZA', 'AZCAPOTZALCO',\n",
              "       ...\n",
              "       'CHARO', 'TUXTLA GUTIERREZ', 'SAN PEDRO IXTLAHUACA', 'JILOTZINGO',\n",
              "       'QUECHULTENANGO', 'MUZQUIZ', 'IRIMBO', 'SAN DIEGO DE LA UNION',\n",
              "       'ALMOLOYA DE ALQUISIRAS', 'LA MAGDALENA TLALTELULCO'],\n",
              "      dtype='object', length=557)"
            ]
          },
          "metadata": {},
          "execution_count": 131
        }
      ]
    },
    {
      "cell_type": "markdown",
      "metadata": {
        "id": "0AG18PegHfee"
      },
      "source": [
        "**3. ¿Cuál es la alcaldía que más delitos tiene y cuál es la que menos?¿Por qué crees que sea esto?**"
      ]
    },
    {
      "cell_type": "markdown",
      "metadata": {
        "id": "uiLsKsdwHva2"
      },
      "source": [
        "Las top de más delitos están: 'CUAUHTEMOC', 'IZTAPALAPA', 'GUSTAVO A MADERO', 'BENITO JUAREZ','ALVARO OBREGON', 'COYOACAN', 'MIGUEL HIDALGO', 'TLALPAN' 'VENUSTIANO CARRANZA', 'AZCAPOTZALCO' y las de menos delitos son: 'CHARO', 'TUXTLA GUTIERREZ', 'SAN PEDRO IXTLAHUACA', 'JILOTZINGO','QUECHULTENANGO', 'MUZQUIZ', 'IRIMBO', 'SAN DIEGO DE LA UNION', 'ALMOLOYA DE ALQUISIRAS', 'LA MAGDALENA TLALTELULCO'.... Porque las alcaldias de mayores delitos estan cerca de ciudad de mexico y son de alta densidad poblacional, debido a que DF concentran gran parte de la población. "
      ]
    },
    {
      "cell_type": "code",
      "metadata": {
        "colab": {
          "base_uri": "https://localhost:8080/"
        },
        "id": "m1r1fGmvg7o7",
        "outputId": "5ed793fb-84dd-42b4-e7f4-5d65b9ad3cf4"
      },
      "source": [
        "df.columns"
      ],
      "execution_count": 133,
      "outputs": [
        {
          "output_type": "execute_result",
          "data": {
            "text/plain": [
              "Index(['ao_hechos', 'mes_hechos', 'fecha_hechos', 'ao_inicio', 'mes_inicio',\n",
              "       'fecha_inicio', 'delito', 'fiscalia', 'agencia', 'unidad_investigacion',\n",
              "       'categoria_delito', 'calle_hechos', 'colonia_hechos', 'alcaldia_hechos',\n",
              "       'longitud', 'latitud'],\n",
              "      dtype='object')"
            ]
          },
          "metadata": {},
          "execution_count": 133
        }
      ]
    },
    {
      "cell_type": "code",
      "metadata": {
        "colab": {
          "base_uri": "https://localhost:8080/"
        },
        "id": "k0RvFDUdkc-U",
        "outputId": "56e2fdbe-bc42-4a72-f423-53fd3410e0dd"
      },
      "source": [
        "df.dtypes"
      ],
      "execution_count": 143,
      "outputs": [
        {
          "output_type": "execute_result",
          "data": {
            "text/plain": [
              "ao_hechos                      float64\n",
              "mes_hechos                      object\n",
              "fecha_hechos            datetime64[ns]\n",
              "ao_inicio                        int64\n",
              "mes_inicio                      object\n",
              "fecha_inicio            datetime64[ns]\n",
              "delito                          object\n",
              "fiscalia                        object\n",
              "agencia                         object\n",
              "unidad_investigacion            object\n",
              "categoria_delito                object\n",
              "calle_hechos                    object\n",
              "colonia_hechos                  object\n",
              "alcaldia_hechos                 object\n",
              "longitud                       float64\n",
              "latitud                        float64\n",
              "dtype: object"
            ]
          },
          "metadata": {},
          "execution_count": 143
        }
      ]
    },
    {
      "cell_type": "code",
      "metadata": {
        "colab": {
          "base_uri": "https://localhost:8080/",
          "height": 204
        },
        "id": "nC8UI5-4hObT",
        "outputId": "f8f61e4e-4bf4-49ef-8dc4-b2c0d505f681"
      },
      "source": [
        "from datetime import datetime\n",
        "df_group2 = df.groupby([\"ao_hechos\", \"mes_hechos\",\"fecha_hechos\"], as_index=False)[\"delito\"].count()\n",
        "values_2=['2016', '2017', '2018', '2019', '2020', '2021']\n",
        "df_group2 = df_group2[df_group2.ao_hechos.isin(values_2)]\n",
        "df_group2.head()\n",
        "df_group2['DOB'] = pd.to_datetime(df_group2.fecha_hechos)\n",
        "df_group2.head()\n",
        "df_group2['DOB1'] = df_group2['DOB'].dt.strftime('%m/%d/%Y')\n",
        "df_group2.head()\n",
        "df_group2['mes'] = df_group2['DOB'].dt.strftime('%b')\n",
        "df_group2.head()\n",
        "df_group2['diasem'] = df_group2['DOB'].dt.strftime('%a')\n",
        "df_group2.head()\n",
        "df_group2['sem'] = df_group2['DOB'].dt.strftime('%W')\n",
        "df_group2.head()"
      ],
      "execution_count": 32,
      "outputs": [
        {
          "output_type": "execute_result",
          "data": {
            "text/html": [
              "<div>\n",
              "<style scoped>\n",
              "    .dataframe tbody tr th:only-of-type {\n",
              "        vertical-align: middle;\n",
              "    }\n",
              "\n",
              "    .dataframe tbody tr th {\n",
              "        vertical-align: top;\n",
              "    }\n",
              "\n",
              "    .dataframe thead th {\n",
              "        text-align: right;\n",
              "    }\n",
              "</style>\n",
              "<table border=\"1\" class=\"dataframe\">\n",
              "  <thead>\n",
              "    <tr style=\"text-align: right;\">\n",
              "      <th></th>\n",
              "      <th>ao_hechos</th>\n",
              "      <th>mes_hechos</th>\n",
              "      <th>fecha_hechos</th>\n",
              "      <th>delito</th>\n",
              "      <th>DOB</th>\n",
              "      <th>DOB1</th>\n",
              "      <th>mes</th>\n",
              "      <th>diasem</th>\n",
              "      <th>sem</th>\n",
              "    </tr>\n",
              "  </thead>\n",
              "  <tbody>\n",
              "    <tr>\n",
              "      <th>14871</th>\n",
              "      <td>2016.0</td>\n",
              "      <td>Abril</td>\n",
              "      <td>2016-04-01 00:00:00</td>\n",
              "      <td>15</td>\n",
              "      <td>2016-04-01 00:00:00</td>\n",
              "      <td>04/01/2016</td>\n",
              "      <td>Apr</td>\n",
              "      <td>Fri</td>\n",
              "      <td>13</td>\n",
              "    </tr>\n",
              "    <tr>\n",
              "      <th>14872</th>\n",
              "      <td>2016.0</td>\n",
              "      <td>Abril</td>\n",
              "      <td>2016-04-01 00:01:00</td>\n",
              "      <td>1</td>\n",
              "      <td>2016-04-01 00:01:00</td>\n",
              "      <td>04/01/2016</td>\n",
              "      <td>Apr</td>\n",
              "      <td>Fri</td>\n",
              "      <td>13</td>\n",
              "    </tr>\n",
              "    <tr>\n",
              "      <th>14873</th>\n",
              "      <td>2016.0</td>\n",
              "      <td>Abril</td>\n",
              "      <td>2016-04-01 00:10:00</td>\n",
              "      <td>2</td>\n",
              "      <td>2016-04-01 00:10:00</td>\n",
              "      <td>04/01/2016</td>\n",
              "      <td>Apr</td>\n",
              "      <td>Fri</td>\n",
              "      <td>13</td>\n",
              "    </tr>\n",
              "    <tr>\n",
              "      <th>14874</th>\n",
              "      <td>2016.0</td>\n",
              "      <td>Abril</td>\n",
              "      <td>2016-04-01 00:20:00</td>\n",
              "      <td>1</td>\n",
              "      <td>2016-04-01 00:20:00</td>\n",
              "      <td>04/01/2016</td>\n",
              "      <td>Apr</td>\n",
              "      <td>Fri</td>\n",
              "      <td>13</td>\n",
              "    </tr>\n",
              "    <tr>\n",
              "      <th>14875</th>\n",
              "      <td>2016.0</td>\n",
              "      <td>Abril</td>\n",
              "      <td>2016-04-01 00:30:00</td>\n",
              "      <td>3</td>\n",
              "      <td>2016-04-01 00:30:00</td>\n",
              "      <td>04/01/2016</td>\n",
              "      <td>Apr</td>\n",
              "      <td>Fri</td>\n",
              "      <td>13</td>\n",
              "    </tr>\n",
              "  </tbody>\n",
              "</table>\n",
              "</div>"
            ],
            "text/plain": [
              "       ao_hechos mes_hechos         fecha_hechos  ...  mes diasem sem\n",
              "14871     2016.0      Abril  2016-04-01 00:00:00  ...  Apr    Fri  13\n",
              "14872     2016.0      Abril  2016-04-01 00:01:00  ...  Apr    Fri  13\n",
              "14873     2016.0      Abril  2016-04-01 00:10:00  ...  Apr    Fri  13\n",
              "14874     2016.0      Abril  2016-04-01 00:20:00  ...  Apr    Fri  13\n",
              "14875     2016.0      Abril  2016-04-01 00:30:00  ...  Apr    Fri  13\n",
              "\n",
              "[5 rows x 9 columns]"
            ]
          },
          "metadata": {},
          "execution_count": 32
        }
      ]
    },
    {
      "cell_type": "code",
      "metadata": {
        "colab": {
          "base_uri": "https://localhost:8080/",
          "height": 295
        },
        "id": "BPNXDosngAoY",
        "outputId": "7892bca9-6fbc-46a6-c332-5b51ae29894d"
      },
      "source": [
        "df_mes = df_group2.groupby([\"mes\",\"ao_hechos\"], as_index=False)[\"delito\"].sum()\n",
        "\n",
        "#TENDENCIA ESTACIONAL\n",
        "sns.lineplot(data=df_mes, \n",
        "             x='mes', \n",
        "             y='delito', \n",
        "             hue='ao_hechos', \n",
        "             legend='full')\n",
        "\n",
        "# add title\n",
        "plt.title('Seasonal plot')\n",
        "\n",
        "# move the legend outside of the main figure\n",
        "plt.legend(bbox_to_anchor=(1.05, 1), loc=2);"
      ],
      "execution_count": 28,
      "outputs": [
        {
          "output_type": "display_data",
          "data": {
            "image/png": "[encoded data removed]",
            "text/plain": [
              "<Figure size 432x288 with 1 Axes>"
            ]
          },
          "metadata": {
            "needs_background": "light"
          }
        }
      ]
    },
    {
      "cell_type": "code",
      "metadata": {
        "colab": {
          "base_uri": "https://localhost:8080/",
          "height": 295
        },
        "id": "yMC4UjP2ftS-",
        "outputId": "c88fc103-0a40-4c15-85bc-fd870d9a18ec"
      },
      "source": [
        "df_dia = df_group2.groupby([\"diasem\",\"ao_hechos\"], as_index=False)[\"delito\"].sum()\n",
        "\n",
        "#TENDENCIA ESTACIONAL\n",
        "sns.lineplot(data=df_dia, \n",
        "             x='diasem', \n",
        "             y='delito', \n",
        "             hue='ao_hechos', \n",
        "             legend='full')\n",
        "\n",
        "# add title\n",
        "plt.title('Seasonal plot')\n",
        "\n",
        "# move the legend outside of the main figure\n",
        "plt.legend(bbox_to_anchor=(1.05, 1), loc=2);"
      ],
      "execution_count": 31,
      "outputs": [
        {
          "output_type": "display_data",
          "data": {
            "image/png": "[encoded data removed]",
            "text/plain": [
              "<Figure size 432x288 with 1 Axes>"
            ]
          },
          "metadata": {
            "needs_background": "light"
          }
        }
      ]
    },
    {
      "cell_type": "code",
      "metadata": {
        "colab": {
          "base_uri": "https://localhost:8080/",
          "height": 513
        },
        "id": "M4HAYdWWgssA",
        "outputId": "da4683b8-6fd1-4c46-f397-e6006e45b451"
      },
      "source": [
        "df_sem = df_group2.groupby([\"sem\",\"ao_hechos\"], as_index=False)[\"delito\"].sum()\n",
        "\n",
        "#TENDENCIA ESTACIONAL\n",
        "plt.figure(figsize=(15,8))\n",
        "\n",
        "sns.lineplot(data=df_sem, \n",
        "             x='sem', \n",
        "             y='delito', \n",
        "             hue='ao_hechos', \n",
        "             legend='full')\n",
        "\n",
        "# add title\n",
        "plt.title('Seasonal plot')\n",
        "# move the legend outside of the main figure\n",
        "plt.legend(bbox_to_anchor=(1.05, 1), loc=2);"
      ],
      "execution_count": 36,
      "outputs": [
        {
          "output_type": "display_data",
          "data": {
            "image/png": "[encoded data removed]",
            "text/plain": [
              "<Figure size 1080x576 with 1 Axes>"
            ]
          },
          "metadata": {
            "needs_background": "light"
          }
        }
      ]
    },
    {
      "cell_type": "markdown",
      "metadata": {
        "id": "E5TD2unkiI33"
      },
      "source": [
        "**4.- ¿Existe alguna tendencia estacional en la ocurrencia de delitos (mes, semana, día de la semana, quincenas) en la CDMX?¿A qué crees que se deba?**"
      ]
    },
    {
      "cell_type": "markdown",
      "metadata": {
        "id": "wEUwRZVhiTCg"
      },
      "source": [
        "Existe a nivel de mes, marzo, octubre. Entenderia que esos meses hay fiestas nacionales o feriados. En la semana a mitad de año, semanas de inicio de año y las ultimas semanas. En el caso de dias de la semana es viernes y lunes."
      ]
    },
    {
      "cell_type": "code",
      "metadata": {
        "colab": {
          "base_uri": "https://localhost:8080/",
          "height": 844
        },
        "id": "IjHCwzlZYSs6",
        "outputId": "d72c2b34-0c22-47c4-cd65-b8a76c057bd2"
      },
      "source": [
        "pd.crosstab(df['alcaldia_hechos'],df['delito']  )"
      ],
      "execution_count": 209,
      "outputs": [
        {
          "output_type": "execute_result",
          "data": {
            "text/html": [
              "<div>\n",
              "<style scoped>\n",
              "    .dataframe tbody tr th:only-of-type {\n",
              "        vertical-align: middle;\n",
              "    }\n",
              "\n",
              "    .dataframe tbody tr th {\n",
              "        vertical-align: top;\n",
              "    }\n",
              "\n",
              "    .dataframe thead th {\n",
              "        text-align: right;\n",
              "    }\n",
              "</style>\n",
              "<table border=\"1\" class=\"dataframe\">\n",
              "  <thead>\n",
              "    <tr style=\"text-align: right;\">\n",
              "      <th>delito</th>\n",
              "      <th>ABANDONO DE PERSONA</th>\n",
              "      <th>ABORTO</th>\n",
              "      <th>ABUSO DE AUTORIDAD</th>\n",
              "      <th>ABUSO DE AUTORIDAD Y USO ILEGAL DE LA FUERZA PUBLICA</th>\n",
              "      <th>ABUSO DE CONFIANZA</th>\n",
              "      <th>ABUSO SEXUAL</th>\n",
              "      <th>ACOSO SEXUAL</th>\n",
              "      <th>ACOSO SEXUAL AGRAVADO EN CONTRA DE MENORES</th>\n",
              "      <th>ALLANAMIENTO DE MORADA</th>\n",
              "      <th>ALLANAMIENTO DE MORADA, DESPACHO, OFICINA O ESTABLECIMIENTO MERCANTIL</th>\n",
              "      <th>AMENAZAS</th>\n",
              "      <th>ASOCIACION DELICTUOSA</th>\n",
              "      <th>ATAQUE A LAS VIAS DE COMUNICACION (DAÃO A VIAS O MEDIOS DE TRANSPORTE)</th>\n",
              "      <th>ATAQUE A LAS VIAS GENERALES DE COMUNICACIÃN</th>\n",
              "      <th>ATAQUES A LA PAZ PUBLICA</th>\n",
              "      <th>BIGAMIA</th>\n",
              "      <th>CALUMNIAS</th>\n",
              "      <th>CAMBIO DE USO DE SUELO</th>\n",
              "      <th>COACCION DE SERVIDORES PUBLICOS</th>\n",
              "      <th>COALICIÃN DE SERVIDORES PÃBLICOS</th>\n",
              "      <th>COBRANZA ILEGITIMA</th>\n",
              "      <th>COHECHO</th>\n",
              "      <th>CONCUSION</th>\n",
              "      <th>CONTAGIO VENERERO</th>\n",
              "      <th>CONTAMINACIÃN O RESIDUOS</th>\n",
              "      <th>CONTRA EL CUMPLIMIENTO DE LA OBLIGACION ALIMENTARIA</th>\n",
              "      <th>CONTRA EL ESTADO CIVIL</th>\n",
              "      <th>CONTRA FUNCIONARIOS PUBLICOS</th>\n",
              "      <th>CONTRA LA INTIMIDAD SEXUAL</th>\n",
              "      <th>CONTRA LA LEY GENERAL DE EXPLOSIVOS</th>\n",
              "      <th>CORRUPCION DE MENORES</th>\n",
              "      <th>CORRUPCION DE MENORES E INCAPACES</th>\n",
              "      <th>CORRUPCIÃN DE PERSONAS MENORES DE EDAD O PERSONAS QUE NO TENGAN CAPACIDAD PARA COMPRENDER EL SIGNIFICADO DEL HECHO O DE PERSONAS QUE NO TENGAN CAPACIDAD DE RESISTIR LA CONDUCTA</th>\n",
              "      <th>DAÃO EN PROPIEDAD AJENA CULPOSA</th>\n",
              "      <th>DAÃO EN PROPIEDAD AJENA CULPOSA POR TRÃNSITO VEHICULAR A AUTOMOVIL</th>\n",
              "      <th>DAÃO EN PROPIEDAD AJENA CULPOSA POR TRÃNSITO VEHICULAR A BIENES INMUEBLES</th>\n",
              "      <th>DAÃO EN PROPIEDAD AJENA CULPOSA POR TRÃNSITO VEHICULAR A VIAS DE COMUNICACION</th>\n",
              "      <th>DAÃO EN PROPIEDAD AJENA INTENCIONAL</th>\n",
              "      <th>DAÃO EN PROPIEDAD AJENA INTENCIONAL A AUTOMOVIL</th>\n",
              "      <th>DAÃO EN PROPIEDAD AJENA INTENCIONAL A BIENES INMUEBLES</th>\n",
              "      <th>...</th>\n",
              "      <th>SABOTAJE</th>\n",
              "      <th>SECUESTRO</th>\n",
              "      <th>SECUESTRO EXPRESS (PARA COMETER ROBO O EXTORSIÃN)</th>\n",
              "      <th>SUSTRACCION DE MENORES</th>\n",
              "      <th>SUSTRACCIÃN DE MENORES</th>\n",
              "      <th>TALA</th>\n",
              "      <th>TENTATIVA DE EXTORSION</th>\n",
              "      <th>TENTATIVA DE FEMINICIDIO</th>\n",
              "      <th>TENTATIVA DE FRAUDE</th>\n",
              "      <th>TENTATIVA DE HOMICIDIO</th>\n",
              "      <th>TENTATIVA DE ROBO</th>\n",
              "      <th>TENTATIVA DE ROBO DE VEHICULO</th>\n",
              "      <th>TENTATIVA DE SUICIDIO</th>\n",
              "      <th>TENTATIVA DE VIOLACION</th>\n",
              "      <th>TORTURA</th>\n",
              "      <th>TRAFICO DE INFANTES</th>\n",
              "      <th>TRAFICO DE INFLUENCIA</th>\n",
              "      <th>TRATA DE PERSONAS</th>\n",
              "      <th>ULTRAJES</th>\n",
              "      <th>USO DE DOCUMENTO FALSO</th>\n",
              "      <th>USO INDEBIDO DE ATRIBUCIONES Y FACULTADES</th>\n",
              "      <th>USO INDEBIDO DE CONDECORACIONES UNIFORMES E INSIGNIAS</th>\n",
              "      <th>USURPACION DE FUNCIONES</th>\n",
              "      <th>USURPACION DE FUNCIONES PUBLICAS</th>\n",
              "      <th>USURPACION DE PROFESION</th>\n",
              "      <th>USURPACIÃN DE IDENTIDAD</th>\n",
              "      <th>UTILIZACION INDEBIDA DE LA VIA PUBLICA</th>\n",
              "      <th>VARIACION DE NOMBRE O DOMICILIO</th>\n",
              "      <th>VIOLACION</th>\n",
              "      <th>VIOLACION A LOS DERECHOS HUMANOS</th>\n",
              "      <th>VIOLACION DE CORRESPONDENCIA</th>\n",
              "      <th>VIOLACION DE LA INTIMIDAD</th>\n",
              "      <th>VIOLACION EQUIPARADA</th>\n",
              "      <th>VIOLACION EQUIPARADA POR CONOCIDO</th>\n",
              "      <th>VIOLACION EQUIPARADA Y ROBO DE VEHICULO</th>\n",
              "      <th>VIOLACION TUMULTUARIA</th>\n",
              "      <th>VIOLACION TUMULTUARIA EQUIPARADA</th>\n",
              "      <th>VIOLACION TUMULTUARIA EQUIPARADA POR CONOCIDO</th>\n",
              "      <th>VIOLACION Y ROBO DE VEHICULO</th>\n",
              "      <th>VIOLENCIA FAMILIAR</th>\n",
              "    </tr>\n",
              "    <tr>\n",
              "      <th>alcaldia_hechos</th>\n",
              "      <th></th>\n",
              "      <th></th>\n",
              "      <th></th>\n",
              "      <th></th>\n",
              "      <th></th>\n",
              "      <th></th>\n",
              "      <th></th>\n",
              "      <th></th>\n",
              "      <th></th>\n",
              "      <th></th>\n",
              "      <th></th>\n",
              "      <th></th>\n",
              "      <th></th>\n",
              "      <th></th>\n",
              "      <th></th>\n",
              "      <th></th>\n",
              "      <th></th>\n",
              "      <th></th>\n",
              "      <th></th>\n",
              "      <th></th>\n",
              "      <th></th>\n",
              "      <th></th>\n",
              "      <th></th>\n",
              "      <th></th>\n",
              "      <th></th>\n",
              "      <th></th>\n",
              "      <th></th>\n",
              "      <th></th>\n",
              "      <th></th>\n",
              "      <th></th>\n",
              "      <th></th>\n",
              "      <th></th>\n",
              "      <th></th>\n",
              "      <th></th>\n",
              "      <th></th>\n",
              "      <th></th>\n",
              "      <th></th>\n",
              "      <th></th>\n",
              "      <th></th>\n",
              "      <th></th>\n",
              "      <th></th>\n",
              "      <th></th>\n",
              "      <th></th>\n",
              "      <th></th>\n",
              "      <th></th>\n",
              "      <th></th>\n",
              "      <th></th>\n",
              "      <th></th>\n",
              "      <th></th>\n",
              "      <th></th>\n",
              "      <th></th>\n",
              "      <th></th>\n",
              "      <th></th>\n",
              "      <th></th>\n",
              "      <th></th>\n",
              "      <th></th>\n",
              "      <th></th>\n",
              "      <th></th>\n",
              "      <th></th>\n",
              "      <th></th>\n",
              "      <th></th>\n",
              "      <th></th>\n",
              "      <th></th>\n",
              "      <th></th>\n",
              "      <th></th>\n",
              "      <th></th>\n",
              "      <th></th>\n",
              "      <th></th>\n",
              "      <th></th>\n",
              "      <th></th>\n",
              "      <th></th>\n",
              "      <th></th>\n",
              "      <th></th>\n",
              "      <th></th>\n",
              "      <th></th>\n",
              "      <th></th>\n",
              "      <th></th>\n",
              "      <th></th>\n",
              "      <th></th>\n",
              "      <th></th>\n",
              "      <th></th>\n",
              "    </tr>\n",
              "  </thead>\n",
              "  <tbody>\n",
              "    <tr>\n",
              "      <th>ABALA</th>\n",
              "      <td>0</td>\n",
              "      <td>0</td>\n",
              "      <td>0</td>\n",
              "      <td>0</td>\n",
              "      <td>0</td>\n",
              "      <td>0</td>\n",
              "      <td>0</td>\n",
              "      <td>0</td>\n",
              "      <td>0</td>\n",
              "      <td>0</td>\n",
              "      <td>0</td>\n",
              "      <td>0</td>\n",
              "      <td>0</td>\n",
              "      <td>0</td>\n",
              "      <td>0</td>\n",
              "      <td>0</td>\n",
              "      <td>0</td>\n",
              "      <td>0</td>\n",
              "      <td>0</td>\n",
              "      <td>0</td>\n",
              "      <td>0</td>\n",
              "      <td>0</td>\n",
              "      <td>0</td>\n",
              "      <td>0</td>\n",
              "      <td>0</td>\n",
              "      <td>0</td>\n",
              "      <td>0</td>\n",
              "      <td>0</td>\n",
              "      <td>0</td>\n",
              "      <td>0</td>\n",
              "      <td>0</td>\n",
              "      <td>0</td>\n",
              "      <td>0</td>\n",
              "      <td>0</td>\n",
              "      <td>0</td>\n",
              "      <td>0</td>\n",
              "      <td>0</td>\n",
              "      <td>0</td>\n",
              "      <td>0</td>\n",
              "      <td>0</td>\n",
              "      <td>...</td>\n",
              "      <td>0</td>\n",
              "      <td>0</td>\n",
              "      <td>0</td>\n",
              "      <td>0</td>\n",
              "      <td>0</td>\n",
              "      <td>0</td>\n",
              "      <td>0</td>\n",
              "      <td>0</td>\n",
              "      <td>0</td>\n",
              "      <td>0</td>\n",
              "      <td>0</td>\n",
              "      <td>0</td>\n",
              "      <td>0</td>\n",
              "      <td>0</td>\n",
              "      <td>0</td>\n",
              "      <td>0</td>\n",
              "      <td>0</td>\n",
              "      <td>0</td>\n",
              "      <td>0</td>\n",
              "      <td>0</td>\n",
              "      <td>0</td>\n",
              "      <td>0</td>\n",
              "      <td>0</td>\n",
              "      <td>0</td>\n",
              "      <td>0</td>\n",
              "      <td>0</td>\n",
              "      <td>0</td>\n",
              "      <td>0</td>\n",
              "      <td>0</td>\n",
              "      <td>0</td>\n",
              "      <td>0</td>\n",
              "      <td>0</td>\n",
              "      <td>0</td>\n",
              "      <td>0</td>\n",
              "      <td>0</td>\n",
              "      <td>0</td>\n",
              "      <td>0</td>\n",
              "      <td>0</td>\n",
              "      <td>0</td>\n",
              "      <td>0</td>\n",
              "    </tr>\n",
              "    <tr>\n",
              "      <th>ACAMBARO</th>\n",
              "      <td>0</td>\n",
              "      <td>0</td>\n",
              "      <td>0</td>\n",
              "      <td>0</td>\n",
              "      <td>0</td>\n",
              "      <td>0</td>\n",
              "      <td>0</td>\n",
              "      <td>0</td>\n",
              "      <td>0</td>\n",
              "      <td>0</td>\n",
              "      <td>0</td>\n",
              "      <td>0</td>\n",
              "      <td>0</td>\n",
              "      <td>0</td>\n",
              "      <td>0</td>\n",
              "      <td>0</td>\n",
              "      <td>0</td>\n",
              "      <td>0</td>\n",
              "      <td>0</td>\n",
              "      <td>0</td>\n",
              "      <td>0</td>\n",
              "      <td>0</td>\n",
              "      <td>0</td>\n",
              "      <td>0</td>\n",
              "      <td>0</td>\n",
              "      <td>0</td>\n",
              "      <td>0</td>\n",
              "      <td>0</td>\n",
              "      <td>0</td>\n",
              "      <td>0</td>\n",
              "      <td>0</td>\n",
              "      <td>0</td>\n",
              "      <td>0</td>\n",
              "      <td>0</td>\n",
              "      <td>0</td>\n",
              "      <td>0</td>\n",
              "      <td>0</td>\n",
              "      <td>0</td>\n",
              "      <td>0</td>\n",
              "      <td>0</td>\n",
              "      <td>...</td>\n",
              "      <td>0</td>\n",
              "      <td>0</td>\n",
              "      <td>0</td>\n",
              "      <td>0</td>\n",
              "      <td>0</td>\n",
              "      <td>0</td>\n",
              "      <td>0</td>\n",
              "      <td>0</td>\n",
              "      <td>0</td>\n",
              "      <td>0</td>\n",
              "      <td>0</td>\n",
              "      <td>0</td>\n",
              "      <td>0</td>\n",
              "      <td>0</td>\n",
              "      <td>0</td>\n",
              "      <td>0</td>\n",
              "      <td>0</td>\n",
              "      <td>0</td>\n",
              "      <td>0</td>\n",
              "      <td>0</td>\n",
              "      <td>0</td>\n",
              "      <td>0</td>\n",
              "      <td>0</td>\n",
              "      <td>0</td>\n",
              "      <td>0</td>\n",
              "      <td>0</td>\n",
              "      <td>0</td>\n",
              "      <td>0</td>\n",
              "      <td>1</td>\n",
              "      <td>0</td>\n",
              "      <td>0</td>\n",
              "      <td>0</td>\n",
              "      <td>0</td>\n",
              "      <td>0</td>\n",
              "      <td>0</td>\n",
              "      <td>0</td>\n",
              "      <td>0</td>\n",
              "      <td>0</td>\n",
              "      <td>0</td>\n",
              "      <td>1</td>\n",
              "    </tr>\n",
              "    <tr>\n",
              "      <th>ACAMBAY</th>\n",
              "      <td>0</td>\n",
              "      <td>0</td>\n",
              "      <td>0</td>\n",
              "      <td>0</td>\n",
              "      <td>0</td>\n",
              "      <td>1</td>\n",
              "      <td>0</td>\n",
              "      <td>0</td>\n",
              "      <td>0</td>\n",
              "      <td>0</td>\n",
              "      <td>0</td>\n",
              "      <td>0</td>\n",
              "      <td>0</td>\n",
              "      <td>0</td>\n",
              "      <td>0</td>\n",
              "      <td>0</td>\n",
              "      <td>0</td>\n",
              "      <td>0</td>\n",
              "      <td>0</td>\n",
              "      <td>0</td>\n",
              "      <td>0</td>\n",
              "      <td>0</td>\n",
              "      <td>0</td>\n",
              "      <td>0</td>\n",
              "      <td>0</td>\n",
              "      <td>0</td>\n",
              "      <td>0</td>\n",
              "      <td>0</td>\n",
              "      <td>0</td>\n",
              "      <td>0</td>\n",
              "      <td>0</td>\n",
              "      <td>0</td>\n",
              "      <td>0</td>\n",
              "      <td>0</td>\n",
              "      <td>0</td>\n",
              "      <td>0</td>\n",
              "      <td>0</td>\n",
              "      <td>0</td>\n",
              "      <td>0</td>\n",
              "      <td>0</td>\n",
              "      <td>...</td>\n",
              "      <td>0</td>\n",
              "      <td>0</td>\n",
              "      <td>0</td>\n",
              "      <td>0</td>\n",
              "      <td>0</td>\n",
              "      <td>0</td>\n",
              "      <td>0</td>\n",
              "      <td>0</td>\n",
              "      <td>0</td>\n",
              "      <td>0</td>\n",
              "      <td>0</td>\n",
              "      <td>0</td>\n",
              "      <td>0</td>\n",
              "      <td>0</td>\n",
              "      <td>0</td>\n",
              "      <td>0</td>\n",
              "      <td>0</td>\n",
              "      <td>0</td>\n",
              "      <td>0</td>\n",
              "      <td>0</td>\n",
              "      <td>0</td>\n",
              "      <td>0</td>\n",
              "      <td>0</td>\n",
              "      <td>0</td>\n",
              "      <td>1</td>\n",
              "      <td>0</td>\n",
              "      <td>0</td>\n",
              "      <td>0</td>\n",
              "      <td>0</td>\n",
              "      <td>0</td>\n",
              "      <td>0</td>\n",
              "      <td>0</td>\n",
              "      <td>0</td>\n",
              "      <td>0</td>\n",
              "      <td>0</td>\n",
              "      <td>0</td>\n",
              "      <td>0</td>\n",
              "      <td>0</td>\n",
              "      <td>0</td>\n",
              "      <td>1</td>\n",
              "    </tr>\n",
              "    <tr>\n",
              "      <th>ACAPULCO DE JUAREZ</th>\n",
              "      <td>0</td>\n",
              "      <td>0</td>\n",
              "      <td>0</td>\n",
              "      <td>0</td>\n",
              "      <td>0</td>\n",
              "      <td>6</td>\n",
              "      <td>0</td>\n",
              "      <td>0</td>\n",
              "      <td>0</td>\n",
              "      <td>0</td>\n",
              "      <td>1</td>\n",
              "      <td>0</td>\n",
              "      <td>0</td>\n",
              "      <td>0</td>\n",
              "      <td>0</td>\n",
              "      <td>0</td>\n",
              "      <td>0</td>\n",
              "      <td>0</td>\n",
              "      <td>0</td>\n",
              "      <td>0</td>\n",
              "      <td>0</td>\n",
              "      <td>0</td>\n",
              "      <td>0</td>\n",
              "      <td>0</td>\n",
              "      <td>0</td>\n",
              "      <td>0</td>\n",
              "      <td>0</td>\n",
              "      <td>0</td>\n",
              "      <td>0</td>\n",
              "      <td>0</td>\n",
              "      <td>0</td>\n",
              "      <td>0</td>\n",
              "      <td>0</td>\n",
              "      <td>1</td>\n",
              "      <td>0</td>\n",
              "      <td>0</td>\n",
              "      <td>0</td>\n",
              "      <td>0</td>\n",
              "      <td>0</td>\n",
              "      <td>0</td>\n",
              "      <td>...</td>\n",
              "      <td>0</td>\n",
              "      <td>0</td>\n",
              "      <td>0</td>\n",
              "      <td>0</td>\n",
              "      <td>0</td>\n",
              "      <td>0</td>\n",
              "      <td>1</td>\n",
              "      <td>0</td>\n",
              "      <td>0</td>\n",
              "      <td>0</td>\n",
              "      <td>0</td>\n",
              "      <td>0</td>\n",
              "      <td>0</td>\n",
              "      <td>0</td>\n",
              "      <td>0</td>\n",
              "      <td>0</td>\n",
              "      <td>0</td>\n",
              "      <td>0</td>\n",
              "      <td>0</td>\n",
              "      <td>1</td>\n",
              "      <td>0</td>\n",
              "      <td>0</td>\n",
              "      <td>0</td>\n",
              "      <td>0</td>\n",
              "      <td>0</td>\n",
              "      <td>0</td>\n",
              "      <td>0</td>\n",
              "      <td>0</td>\n",
              "      <td>6</td>\n",
              "      <td>0</td>\n",
              "      <td>0</td>\n",
              "      <td>0</td>\n",
              "      <td>2</td>\n",
              "      <td>1</td>\n",
              "      <td>0</td>\n",
              "      <td>0</td>\n",
              "      <td>0</td>\n",
              "      <td>0</td>\n",
              "      <td>0</td>\n",
              "      <td>4</td>\n",
              "    </tr>\n",
              "    <tr>\n",
              "      <th>ACATLAN</th>\n",
              "      <td>0</td>\n",
              "      <td>0</td>\n",
              "      <td>0</td>\n",
              "      <td>0</td>\n",
              "      <td>0</td>\n",
              "      <td>1</td>\n",
              "      <td>0</td>\n",
              "      <td>0</td>\n",
              "      <td>0</td>\n",
              "      <td>0</td>\n",
              "      <td>0</td>\n",
              "      <td>0</td>\n",
              "      <td>0</td>\n",
              "      <td>0</td>\n",
              "      <td>0</td>\n",
              "      <td>0</td>\n",
              "      <td>0</td>\n",
              "      <td>0</td>\n",
              "      <td>0</td>\n",
              "      <td>0</td>\n",
              "      <td>0</td>\n",
              "      <td>0</td>\n",
              "      <td>0</td>\n",
              "      <td>0</td>\n",
              "      <td>0</td>\n",
              "      <td>0</td>\n",
              "      <td>0</td>\n",
              "      <td>0</td>\n",
              "      <td>0</td>\n",
              "      <td>0</td>\n",
              "      <td>0</td>\n",
              "      <td>0</td>\n",
              "      <td>0</td>\n",
              "      <td>0</td>\n",
              "      <td>0</td>\n",
              "      <td>0</td>\n",
              "      <td>0</td>\n",
              "      <td>0</td>\n",
              "      <td>0</td>\n",
              "      <td>0</td>\n",
              "      <td>...</td>\n",
              "      <td>0</td>\n",
              "      <td>0</td>\n",
              "      <td>0</td>\n",
              "      <td>0</td>\n",
              "      <td>0</td>\n",
              "      <td>0</td>\n",
              "      <td>0</td>\n",
              "      <td>0</td>\n",
              "      <td>0</td>\n",
              "      <td>0</td>\n",
              "      <td>0</td>\n",
              "      <td>0</td>\n",
              "      <td>0</td>\n",
              "      <td>0</td>\n",
              "      <td>0</td>\n",
              "      <td>0</td>\n",
              "      <td>0</td>\n",
              "      <td>0</td>\n",
              "      <td>0</td>\n",
              "      <td>0</td>\n",
              "      <td>0</td>\n",
              "      <td>0</td>\n",
              "      <td>0</td>\n",
              "      <td>0</td>\n",
              "      <td>0</td>\n",
              "      <td>0</td>\n",
              "      <td>0</td>\n",
              "      <td>0</td>\n",
              "      <td>0</td>\n",
              "      <td>0</td>\n",
              "      <td>0</td>\n",
              "      <td>0</td>\n",
              "      <td>0</td>\n",
              "      <td>0</td>\n",
              "      <td>0</td>\n",
              "      <td>0</td>\n",
              "      <td>0</td>\n",
              "      <td>0</td>\n",
              "      <td>0</td>\n",
              "      <td>0</td>\n",
              "    </tr>\n",
              "    <tr>\n",
              "      <th>...</th>\n",
              "      <td>...</td>\n",
              "      <td>...</td>\n",
              "      <td>...</td>\n",
              "      <td>...</td>\n",
              "      <td>...</td>\n",
              "      <td>...</td>\n",
              "      <td>...</td>\n",
              "      <td>...</td>\n",
              "      <td>...</td>\n",
              "      <td>...</td>\n",
              "      <td>...</td>\n",
              "      <td>...</td>\n",
              "      <td>...</td>\n",
              "      <td>...</td>\n",
              "      <td>...</td>\n",
              "      <td>...</td>\n",
              "      <td>...</td>\n",
              "      <td>...</td>\n",
              "      <td>...</td>\n",
              "      <td>...</td>\n",
              "      <td>...</td>\n",
              "      <td>...</td>\n",
              "      <td>...</td>\n",
              "      <td>...</td>\n",
              "      <td>...</td>\n",
              "      <td>...</td>\n",
              "      <td>...</td>\n",
              "      <td>...</td>\n",
              "      <td>...</td>\n",
              "      <td>...</td>\n",
              "      <td>...</td>\n",
              "      <td>...</td>\n",
              "      <td>...</td>\n",
              "      <td>...</td>\n",
              "      <td>...</td>\n",
              "      <td>...</td>\n",
              "      <td>...</td>\n",
              "      <td>...</td>\n",
              "      <td>...</td>\n",
              "      <td>...</td>\n",
              "      <td>...</td>\n",
              "      <td>...</td>\n",
              "      <td>...</td>\n",
              "      <td>...</td>\n",
              "      <td>...</td>\n",
              "      <td>...</td>\n",
              "      <td>...</td>\n",
              "      <td>...</td>\n",
              "      <td>...</td>\n",
              "      <td>...</td>\n",
              "      <td>...</td>\n",
              "      <td>...</td>\n",
              "      <td>...</td>\n",
              "      <td>...</td>\n",
              "      <td>...</td>\n",
              "      <td>...</td>\n",
              "      <td>...</td>\n",
              "      <td>...</td>\n",
              "      <td>...</td>\n",
              "      <td>...</td>\n",
              "      <td>...</td>\n",
              "      <td>...</td>\n",
              "      <td>...</td>\n",
              "      <td>...</td>\n",
              "      <td>...</td>\n",
              "      <td>...</td>\n",
              "      <td>...</td>\n",
              "      <td>...</td>\n",
              "      <td>...</td>\n",
              "      <td>...</td>\n",
              "      <td>...</td>\n",
              "      <td>...</td>\n",
              "      <td>...</td>\n",
              "      <td>...</td>\n",
              "      <td>...</td>\n",
              "      <td>...</td>\n",
              "      <td>...</td>\n",
              "      <td>...</td>\n",
              "      <td>...</td>\n",
              "      <td>...</td>\n",
              "      <td>...</td>\n",
              "    </tr>\n",
              "    <tr>\n",
              "      <th>ZINACANTEPEC</th>\n",
              "      <td>0</td>\n",
              "      <td>0</td>\n",
              "      <td>0</td>\n",
              "      <td>0</td>\n",
              "      <td>0</td>\n",
              "      <td>1</td>\n",
              "      <td>0</td>\n",
              "      <td>0</td>\n",
              "      <td>0</td>\n",
              "      <td>0</td>\n",
              "      <td>0</td>\n",
              "      <td>0</td>\n",
              "      <td>0</td>\n",
              "      <td>0</td>\n",
              "      <td>0</td>\n",
              "      <td>0</td>\n",
              "      <td>0</td>\n",
              "      <td>0</td>\n",
              "      <td>0</td>\n",
              "      <td>0</td>\n",
              "      <td>0</td>\n",
              "      <td>0</td>\n",
              "      <td>0</td>\n",
              "      <td>0</td>\n",
              "      <td>0</td>\n",
              "      <td>0</td>\n",
              "      <td>0</td>\n",
              "      <td>0</td>\n",
              "      <td>0</td>\n",
              "      <td>0</td>\n",
              "      <td>0</td>\n",
              "      <td>0</td>\n",
              "      <td>0</td>\n",
              "      <td>0</td>\n",
              "      <td>0</td>\n",
              "      <td>0</td>\n",
              "      <td>0</td>\n",
              "      <td>0</td>\n",
              "      <td>0</td>\n",
              "      <td>0</td>\n",
              "      <td>...</td>\n",
              "      <td>0</td>\n",
              "      <td>0</td>\n",
              "      <td>0</td>\n",
              "      <td>0</td>\n",
              "      <td>0</td>\n",
              "      <td>0</td>\n",
              "      <td>0</td>\n",
              "      <td>0</td>\n",
              "      <td>0</td>\n",
              "      <td>0</td>\n",
              "      <td>0</td>\n",
              "      <td>0</td>\n",
              "      <td>0</td>\n",
              "      <td>0</td>\n",
              "      <td>0</td>\n",
              "      <td>0</td>\n",
              "      <td>0</td>\n",
              "      <td>0</td>\n",
              "      <td>0</td>\n",
              "      <td>0</td>\n",
              "      <td>0</td>\n",
              "      <td>0</td>\n",
              "      <td>0</td>\n",
              "      <td>0</td>\n",
              "      <td>0</td>\n",
              "      <td>0</td>\n",
              "      <td>0</td>\n",
              "      <td>0</td>\n",
              "      <td>0</td>\n",
              "      <td>0</td>\n",
              "      <td>0</td>\n",
              "      <td>0</td>\n",
              "      <td>0</td>\n",
              "      <td>0</td>\n",
              "      <td>0</td>\n",
              "      <td>0</td>\n",
              "      <td>0</td>\n",
              "      <td>0</td>\n",
              "      <td>0</td>\n",
              "      <td>1</td>\n",
              "    </tr>\n",
              "    <tr>\n",
              "      <th>ZINAPECUARO</th>\n",
              "      <td>0</td>\n",
              "      <td>0</td>\n",
              "      <td>0</td>\n",
              "      <td>0</td>\n",
              "      <td>0</td>\n",
              "      <td>1</td>\n",
              "      <td>0</td>\n",
              "      <td>0</td>\n",
              "      <td>0</td>\n",
              "      <td>0</td>\n",
              "      <td>0</td>\n",
              "      <td>0</td>\n",
              "      <td>0</td>\n",
              "      <td>0</td>\n",
              "      <td>0</td>\n",
              "      <td>0</td>\n",
              "      <td>0</td>\n",
              "      <td>0</td>\n",
              "      <td>0</td>\n",
              "      <td>0</td>\n",
              "      <td>0</td>\n",
              "      <td>0</td>\n",
              "      <td>0</td>\n",
              "      <td>0</td>\n",
              "      <td>0</td>\n",
              "      <td>0</td>\n",
              "      <td>0</td>\n",
              "      <td>0</td>\n",
              "      <td>0</td>\n",
              "      <td>0</td>\n",
              "      <td>0</td>\n",
              "      <td>0</td>\n",
              "      <td>0</td>\n",
              "      <td>0</td>\n",
              "      <td>0</td>\n",
              "      <td>0</td>\n",
              "      <td>0</td>\n",
              "      <td>0</td>\n",
              "      <td>0</td>\n",
              "      <td>0</td>\n",
              "      <td>...</td>\n",
              "      <td>0</td>\n",
              "      <td>0</td>\n",
              "      <td>0</td>\n",
              "      <td>0</td>\n",
              "      <td>0</td>\n",
              "      <td>0</td>\n",
              "      <td>0</td>\n",
              "      <td>0</td>\n",
              "      <td>0</td>\n",
              "      <td>0</td>\n",
              "      <td>0</td>\n",
              "      <td>0</td>\n",
              "      <td>0</td>\n",
              "      <td>0</td>\n",
              "      <td>0</td>\n",
              "      <td>0</td>\n",
              "      <td>0</td>\n",
              "      <td>0</td>\n",
              "      <td>0</td>\n",
              "      <td>0</td>\n",
              "      <td>0</td>\n",
              "      <td>0</td>\n",
              "      <td>0</td>\n",
              "      <td>0</td>\n",
              "      <td>0</td>\n",
              "      <td>0</td>\n",
              "      <td>0</td>\n",
              "      <td>0</td>\n",
              "      <td>0</td>\n",
              "      <td>0</td>\n",
              "      <td>0</td>\n",
              "      <td>0</td>\n",
              "      <td>0</td>\n",
              "      <td>0</td>\n",
              "      <td>0</td>\n",
              "      <td>0</td>\n",
              "      <td>0</td>\n",
              "      <td>0</td>\n",
              "      <td>0</td>\n",
              "      <td>0</td>\n",
              "    </tr>\n",
              "    <tr>\n",
              "      <th>ZITACUARO</th>\n",
              "      <td>0</td>\n",
              "      <td>0</td>\n",
              "      <td>0</td>\n",
              "      <td>0</td>\n",
              "      <td>0</td>\n",
              "      <td>0</td>\n",
              "      <td>0</td>\n",
              "      <td>0</td>\n",
              "      <td>0</td>\n",
              "      <td>0</td>\n",
              "      <td>0</td>\n",
              "      <td>0</td>\n",
              "      <td>0</td>\n",
              "      <td>0</td>\n",
              "      <td>0</td>\n",
              "      <td>0</td>\n",
              "      <td>0</td>\n",
              "      <td>0</td>\n",
              "      <td>0</td>\n",
              "      <td>0</td>\n",
              "      <td>0</td>\n",
              "      <td>0</td>\n",
              "      <td>0</td>\n",
              "      <td>0</td>\n",
              "      <td>0</td>\n",
              "      <td>0</td>\n",
              "      <td>0</td>\n",
              "      <td>0</td>\n",
              "      <td>0</td>\n",
              "      <td>0</td>\n",
              "      <td>0</td>\n",
              "      <td>0</td>\n",
              "      <td>0</td>\n",
              "      <td>0</td>\n",
              "      <td>0</td>\n",
              "      <td>0</td>\n",
              "      <td>0</td>\n",
              "      <td>0</td>\n",
              "      <td>0</td>\n",
              "      <td>0</td>\n",
              "      <td>...</td>\n",
              "      <td>0</td>\n",
              "      <td>0</td>\n",
              "      <td>0</td>\n",
              "      <td>1</td>\n",
              "      <td>0</td>\n",
              "      <td>0</td>\n",
              "      <td>0</td>\n",
              "      <td>0</td>\n",
              "      <td>0</td>\n",
              "      <td>0</td>\n",
              "      <td>0</td>\n",
              "      <td>0</td>\n",
              "      <td>0</td>\n",
              "      <td>0</td>\n",
              "      <td>0</td>\n",
              "      <td>0</td>\n",
              "      <td>0</td>\n",
              "      <td>0</td>\n",
              "      <td>0</td>\n",
              "      <td>0</td>\n",
              "      <td>0</td>\n",
              "      <td>0</td>\n",
              "      <td>0</td>\n",
              "      <td>0</td>\n",
              "      <td>0</td>\n",
              "      <td>0</td>\n",
              "      <td>0</td>\n",
              "      <td>0</td>\n",
              "      <td>0</td>\n",
              "      <td>0</td>\n",
              "      <td>0</td>\n",
              "      <td>0</td>\n",
              "      <td>0</td>\n",
              "      <td>0</td>\n",
              "      <td>0</td>\n",
              "      <td>0</td>\n",
              "      <td>0</td>\n",
              "      <td>0</td>\n",
              "      <td>0</td>\n",
              "      <td>1</td>\n",
              "    </tr>\n",
              "    <tr>\n",
              "      <th>ZITLALTEPEC DE TRINIDAD SANCHEZ SANTOS</th>\n",
              "      <td>0</td>\n",
              "      <td>0</td>\n",
              "      <td>0</td>\n",
              "      <td>0</td>\n",
              "      <td>0</td>\n",
              "      <td>0</td>\n",
              "      <td>0</td>\n",
              "      <td>0</td>\n",
              "      <td>0</td>\n",
              "      <td>0</td>\n",
              "      <td>0</td>\n",
              "      <td>0</td>\n",
              "      <td>0</td>\n",
              "      <td>0</td>\n",
              "      <td>0</td>\n",
              "      <td>0</td>\n",
              "      <td>0</td>\n",
              "      <td>0</td>\n",
              "      <td>0</td>\n",
              "      <td>0</td>\n",
              "      <td>0</td>\n",
              "      <td>0</td>\n",
              "      <td>0</td>\n",
              "      <td>0</td>\n",
              "      <td>0</td>\n",
              "      <td>0</td>\n",
              "      <td>0</td>\n",
              "      <td>0</td>\n",
              "      <td>0</td>\n",
              "      <td>0</td>\n",
              "      <td>0</td>\n",
              "      <td>0</td>\n",
              "      <td>0</td>\n",
              "      <td>0</td>\n",
              "      <td>0</td>\n",
              "      <td>0</td>\n",
              "      <td>0</td>\n",
              "      <td>0</td>\n",
              "      <td>0</td>\n",
              "      <td>0</td>\n",
              "      <td>...</td>\n",
              "      <td>0</td>\n",
              "      <td>0</td>\n",
              "      <td>0</td>\n",
              "      <td>0</td>\n",
              "      <td>0</td>\n",
              "      <td>0</td>\n",
              "      <td>0</td>\n",
              "      <td>0</td>\n",
              "      <td>0</td>\n",
              "      <td>0</td>\n",
              "      <td>0</td>\n",
              "      <td>0</td>\n",
              "      <td>0</td>\n",
              "      <td>0</td>\n",
              "      <td>0</td>\n",
              "      <td>0</td>\n",
              "      <td>0</td>\n",
              "      <td>0</td>\n",
              "      <td>0</td>\n",
              "      <td>0</td>\n",
              "      <td>0</td>\n",
              "      <td>0</td>\n",
              "      <td>0</td>\n",
              "      <td>0</td>\n",
              "      <td>0</td>\n",
              "      <td>0</td>\n",
              "      <td>0</td>\n",
              "      <td>0</td>\n",
              "      <td>0</td>\n",
              "      <td>0</td>\n",
              "      <td>0</td>\n",
              "      <td>0</td>\n",
              "      <td>0</td>\n",
              "      <td>0</td>\n",
              "      <td>0</td>\n",
              "      <td>0</td>\n",
              "      <td>0</td>\n",
              "      <td>0</td>\n",
              "      <td>0</td>\n",
              "      <td>1</td>\n",
              "    </tr>\n",
              "    <tr>\n",
              "      <th>ZUMPANGO</th>\n",
              "      <td>0</td>\n",
              "      <td>0</td>\n",
              "      <td>0</td>\n",
              "      <td>0</td>\n",
              "      <td>0</td>\n",
              "      <td>5</td>\n",
              "      <td>0</td>\n",
              "      <td>0</td>\n",
              "      <td>0</td>\n",
              "      <td>0</td>\n",
              "      <td>0</td>\n",
              "      <td>0</td>\n",
              "      <td>0</td>\n",
              "      <td>0</td>\n",
              "      <td>0</td>\n",
              "      <td>0</td>\n",
              "      <td>0</td>\n",
              "      <td>0</td>\n",
              "      <td>0</td>\n",
              "      <td>0</td>\n",
              "      <td>0</td>\n",
              "      <td>0</td>\n",
              "      <td>0</td>\n",
              "      <td>0</td>\n",
              "      <td>0</td>\n",
              "      <td>0</td>\n",
              "      <td>0</td>\n",
              "      <td>0</td>\n",
              "      <td>0</td>\n",
              "      <td>0</td>\n",
              "      <td>0</td>\n",
              "      <td>0</td>\n",
              "      <td>0</td>\n",
              "      <td>0</td>\n",
              "      <td>0</td>\n",
              "      <td>0</td>\n",
              "      <td>0</td>\n",
              "      <td>0</td>\n",
              "      <td>0</td>\n",
              "      <td>0</td>\n",
              "      <td>...</td>\n",
              "      <td>0</td>\n",
              "      <td>0</td>\n",
              "      <td>0</td>\n",
              "      <td>2</td>\n",
              "      <td>0</td>\n",
              "      <td>0</td>\n",
              "      <td>0</td>\n",
              "      <td>0</td>\n",
              "      <td>0</td>\n",
              "      <td>0</td>\n",
              "      <td>0</td>\n",
              "      <td>0</td>\n",
              "      <td>0</td>\n",
              "      <td>0</td>\n",
              "      <td>0</td>\n",
              "      <td>0</td>\n",
              "      <td>0</td>\n",
              "      <td>0</td>\n",
              "      <td>0</td>\n",
              "      <td>0</td>\n",
              "      <td>0</td>\n",
              "      <td>0</td>\n",
              "      <td>0</td>\n",
              "      <td>0</td>\n",
              "      <td>0</td>\n",
              "      <td>2</td>\n",
              "      <td>0</td>\n",
              "      <td>0</td>\n",
              "      <td>0</td>\n",
              "      <td>0</td>\n",
              "      <td>0</td>\n",
              "      <td>0</td>\n",
              "      <td>1</td>\n",
              "      <td>0</td>\n",
              "      <td>0</td>\n",
              "      <td>0</td>\n",
              "      <td>0</td>\n",
              "      <td>0</td>\n",
              "      <td>0</td>\n",
              "      <td>13</td>\n",
              "    </tr>\n",
              "  </tbody>\n",
              "</table>\n",
              "<p>557 rows × 344 columns</p>\n",
              "</div>"
            ],
            "text/plain": [
              "delito                                  ABANDONO DE PERSONA  ...  VIOLENCIA FAMILIAR\n",
              "alcaldia_hechos                                              ...                    \n",
              "ABALA                                                     0  ...                   0\n",
              "ACAMBARO                                                  0  ...                   1\n",
              "ACAMBAY                                                   0  ...                   1\n",
              "ACAPULCO DE JUAREZ                                        0  ...                   4\n",
              "ACATLAN                                                   0  ...                   0\n",
              "...                                                     ...  ...                 ...\n",
              "ZINACANTEPEC                                              0  ...                   1\n",
              "ZINAPECUARO                                               0  ...                   0\n",
              "ZITACUARO                                                 0  ...                   1\n",
              "ZITLALTEPEC DE TRINIDAD SANCHEZ SANTOS                    0  ...                   1\n",
              "ZUMPANGO                                                  0  ...                  13\n",
              "\n",
              "[557 rows x 344 columns]"
            ]
          },
          "metadata": {},
          "execution_count": 209
        }
      ]
    },
    {
      "cell_type": "code",
      "metadata": {
        "colab": {
          "base_uri": "https://localhost:8080/",
          "height": 204
        },
        "id": "ZQ-kVIaq-age",
        "outputId": "8bc867a2-5251-4f15-c2df-522718caabe7"
      },
      "source": [
        "df_group2 = df.groupby([\"delito\", \"alcaldia_hechos\"], as_index=False)[\"mes_hechos\"].count()\n",
        "df_group2.head()\n",
        "\n"
      ],
      "execution_count": 196,
      "outputs": [
        {
          "output_type": "execute_result",
          "data": {
            "text/html": [
              "<div>\n",
              "<style scoped>\n",
              "    .dataframe tbody tr th:only-of-type {\n",
              "        vertical-align: middle;\n",
              "    }\n",
              "\n",
              "    .dataframe tbody tr th {\n",
              "        vertical-align: top;\n",
              "    }\n",
              "\n",
              "    .dataframe thead th {\n",
              "        text-align: right;\n",
              "    }\n",
              "</style>\n",
              "<table border=\"1\" class=\"dataframe\">\n",
              "  <thead>\n",
              "    <tr style=\"text-align: right;\">\n",
              "      <th></th>\n",
              "      <th>delito</th>\n",
              "      <th>alcaldia_hechos</th>\n",
              "      <th>mes_hechos</th>\n",
              "    </tr>\n",
              "  </thead>\n",
              "  <tbody>\n",
              "    <tr>\n",
              "      <th>0</th>\n",
              "      <td>ABANDONO DE PERSONA</td>\n",
              "      <td>AGUASCALIENTES</td>\n",
              "      <td>1</td>\n",
              "    </tr>\n",
              "    <tr>\n",
              "      <th>1</th>\n",
              "      <td>ABANDONO DE PERSONA</td>\n",
              "      <td>ALLENDE</td>\n",
              "      <td>1</td>\n",
              "    </tr>\n",
              "    <tr>\n",
              "      <th>2</th>\n",
              "      <td>ABANDONO DE PERSONA</td>\n",
              "      <td>ALVARO OBREGON</td>\n",
              "      <td>141</td>\n",
              "    </tr>\n",
              "    <tr>\n",
              "      <th>3</th>\n",
              "      <td>ABANDONO DE PERSONA</td>\n",
              "      <td>AZCAPOTZALCO</td>\n",
              "      <td>89</td>\n",
              "    </tr>\n",
              "    <tr>\n",
              "      <th>4</th>\n",
              "      <td>ABANDONO DE PERSONA</td>\n",
              "      <td>BENITO JUAREZ</td>\n",
              "      <td>173</td>\n",
              "    </tr>\n",
              "  </tbody>\n",
              "</table>\n",
              "</div>"
            ],
            "text/plain": [
              "                delito alcaldia_hechos  mes_hechos\n",
              "0  ABANDONO DE PERSONA  AGUASCALIENTES           1\n",
              "1  ABANDONO DE PERSONA         ALLENDE           1\n",
              "2  ABANDONO DE PERSONA  ALVARO OBREGON         141\n",
              "3  ABANDONO DE PERSONA    AZCAPOTZALCO          89\n",
              "4  ABANDONO DE PERSONA   BENITO JUAREZ         173"
            ]
          },
          "metadata": {},
          "execution_count": 196
        }
      ]
    },
    {
      "cell_type": "code",
      "metadata": {
        "colab": {
          "base_uri": "https://localhost:8080/",
          "height": 235
        },
        "id": "GCDHC842_HU0",
        "outputId": "354c630b-f8d7-4918-ec9d-3b33f0409479"
      },
      "source": [
        "#delitos que más caracterizan a cada alcaldia\n",
        "max_df_group = df_group2.groupby(by = \"alcaldia_hechos\").max()\n",
        "max_df_group.sort_values(by = \"mes_hechos\")\n",
        "max_df_group['alcaldia_hechos'] = max_df_group.index\n",
        "max_df_group.head()"
      ],
      "execution_count": 240,
      "outputs": [
        {
          "output_type": "execute_result",
          "data": {
            "text/html": [
              "<div>\n",
              "<style scoped>\n",
              "    .dataframe tbody tr th:only-of-type {\n",
              "        vertical-align: middle;\n",
              "    }\n",
              "\n",
              "    .dataframe tbody tr th {\n",
              "        vertical-align: top;\n",
              "    }\n",
              "\n",
              "    .dataframe thead th {\n",
              "        text-align: right;\n",
              "    }\n",
              "</style>\n",
              "<table border=\"1\" class=\"dataframe\">\n",
              "  <thead>\n",
              "    <tr style=\"text-align: right;\">\n",
              "      <th></th>\n",
              "      <th>delito</th>\n",
              "      <th>mes_hechos</th>\n",
              "      <th>alcaldia_hechos</th>\n",
              "    </tr>\n",
              "    <tr>\n",
              "      <th>alcaldia_hechos</th>\n",
              "      <th></th>\n",
              "      <th></th>\n",
              "      <th></th>\n",
              "    </tr>\n",
              "  </thead>\n",
              "  <tbody>\n",
              "    <tr>\n",
              "      <th>ABALA</th>\n",
              "      <td>DENUNCIA DE HECHOS</td>\n",
              "      <td>1</td>\n",
              "      <td>ABALA</td>\n",
              "    </tr>\n",
              "    <tr>\n",
              "      <th>ACAMBARO</th>\n",
              "      <td>VIOLENCIA FAMILIAR</td>\n",
              "      <td>1</td>\n",
              "      <td>ACAMBARO</td>\n",
              "    </tr>\n",
              "    <tr>\n",
              "      <th>ACAMBAY</th>\n",
              "      <td>VIOLENCIA FAMILIAR</td>\n",
              "      <td>1</td>\n",
              "      <td>ACAMBAY</td>\n",
              "    </tr>\n",
              "    <tr>\n",
              "      <th>ACAPULCO DE JUAREZ</th>\n",
              "      <td>VIOLENCIA FAMILIAR</td>\n",
              "      <td>8</td>\n",
              "      <td>ACAPULCO DE JUAREZ</td>\n",
              "    </tr>\n",
              "    <tr>\n",
              "      <th>ACATLAN</th>\n",
              "      <td>ROBO DE VEHICULO DE SERVICIO PARTICULAR CON VI...</td>\n",
              "      <td>1</td>\n",
              "      <td>ACATLAN</td>\n",
              "    </tr>\n",
              "  </tbody>\n",
              "</table>\n",
              "</div>"
            ],
            "text/plain": [
              "                                                               delito  ...     alcaldia_hechos\n",
              "alcaldia_hechos                                                        ...                    \n",
              "ABALA                                              DENUNCIA DE HECHOS  ...               ABALA\n",
              "ACAMBARO                                           VIOLENCIA FAMILIAR  ...            ACAMBARO\n",
              "ACAMBAY                                            VIOLENCIA FAMILIAR  ...             ACAMBAY\n",
              "ACAPULCO DE JUAREZ                                 VIOLENCIA FAMILIAR  ...  ACAPULCO DE JUAREZ\n",
              "ACATLAN             ROBO DE VEHICULO DE SERVICIO PARTICULAR CON VI...  ...             ACATLAN\n",
              "\n",
              "[5 rows x 3 columns]"
            ]
          },
          "metadata": {},
          "execution_count": 240
        }
      ]
    },
    {
      "cell_type": "code",
      "metadata": {
        "colab": {
          "base_uri": "https://localhost:8080/"
        },
        "id": "Ylqc2I1PVJWg",
        "outputId": "1685d3f2-7996-4a50-b8cf-6dc537f4e861"
      },
      "source": [
        "max_df_group['delito'].value_counts().head(20)"
      ],
      "execution_count": 242,
      "outputs": [
        {
          "output_type": "execute_result",
          "data": {
            "text/plain": [
              "VIOLENCIA FAMILIAR                                       198\n",
              "VIOLACION                                                 33\n",
              "ROBO DE VEHICULO DE SERVICIO PARTICULAR CON VIOLENCIA     32\n",
              "FRAUDE                                                    20\n",
              "DENUNCIA DE HECHOS                                        18\n",
              "SUSTRACCION DE MENORES                                    17\n",
              "ABUSO SEXUAL                                              17\n",
              "ROBO DE OBJETOS                                           16\n",
              "ROBO DE VEHICULO DE SERVICIO PARTICULAR SIN VIOLENCIA     13\n",
              "SUSTRACCIÃN DE MENORES                                   13\n",
              "USURPACIÃN DE IDENTIDAD                                  12\n",
              "LESIONES INTENCIONALES POR ARMA DE FUEGO                  11\n",
              "HOMICIDIOS INTENCIONALES (OTROS)                           9\n",
              "PERDIDA DE LA VIDA POR QUEMADURA                           9\n",
              "ROBO A REPARTIDOR Y VEHICULO CON VIOLENCIA                 5\n",
              "PERDIDA DE LA VIDA POR OTRAS CAUSAS                        5\n",
              "INSOLVENCIA ALIMENTARIA                                    5\n",
              "PRIVACION DE LA LIBERTAD PERSONAL                          5\n",
              "ROBO DE FLUIDOS                                            5\n",
              "ROBO A TRANSEUNTE EN VIA PUBLICA CON VIOLENCIA             5\n",
              "Name: delito, dtype: int64"
            ]
          },
          "metadata": {},
          "execution_count": 242
        }
      ]
    },
    {
      "cell_type": "code",
      "metadata": {
        "colab": {
          "base_uri": "https://localhost:8080/"
        },
        "id": "gzHsNdpsVXu6",
        "outputId": "1cfcbeac-197e-48e2-f6b7-59cdbc14d98d"
      },
      "source": [
        "sum(max_df_group['delito'].value_counts().head(10))/sum(max_df_group['delito'].value_counts())"
      ],
      "execution_count": 243,
      "outputs": [
        {
          "output_type": "execute_result",
          "data": {
            "text/plain": [
              "0.6768402154398564"
            ]
          },
          "metadata": {},
          "execution_count": 243
        }
      ]
    },
    {
      "cell_type": "code",
      "metadata": {
        "colab": {
          "base_uri": "https://localhost:8080/",
          "height": 235
        },
        "id": "JV0AiTOYVugQ",
        "outputId": "8ad1c1c2-083b-486c-b891-7c12279f0107"
      },
      "source": [
        "#delitos que menos caracterizan a cada alcaldia\n",
        "min_df_group = df_group2.groupby(by = \"alcaldia_hechos\").min()\n",
        "min_df_group.sort_values(by = \"mes_hechos\")\n",
        "min_df_group['alcaldia_hechos'] = min_df_group.index\n",
        "min_df_group.head()"
      ],
      "execution_count": 244,
      "outputs": [
        {
          "output_type": "execute_result",
          "data": {
            "text/html": [
              "<div>\n",
              "<style scoped>\n",
              "    .dataframe tbody tr th:only-of-type {\n",
              "        vertical-align: middle;\n",
              "    }\n",
              "\n",
              "    .dataframe tbody tr th {\n",
              "        vertical-align: top;\n",
              "    }\n",
              "\n",
              "    .dataframe thead th {\n",
              "        text-align: right;\n",
              "    }\n",
              "</style>\n",
              "<table border=\"1\" class=\"dataframe\">\n",
              "  <thead>\n",
              "    <tr style=\"text-align: right;\">\n",
              "      <th></th>\n",
              "      <th>delito</th>\n",
              "      <th>mes_hechos</th>\n",
              "      <th>alcaldia_hechos</th>\n",
              "    </tr>\n",
              "    <tr>\n",
              "      <th>alcaldia_hechos</th>\n",
              "      <th></th>\n",
              "      <th></th>\n",
              "      <th></th>\n",
              "    </tr>\n",
              "  </thead>\n",
              "  <tbody>\n",
              "    <tr>\n",
              "      <th>ABALA</th>\n",
              "      <td>DENUNCIA DE HECHOS</td>\n",
              "      <td>1</td>\n",
              "      <td>ABALA</td>\n",
              "    </tr>\n",
              "    <tr>\n",
              "      <th>ACAMBARO</th>\n",
              "      <td>PRIVACION DE LA LIBERTAD PERSONAL</td>\n",
              "      <td>1</td>\n",
              "      <td>ACAMBARO</td>\n",
              "    </tr>\n",
              "    <tr>\n",
              "      <th>ACAMBAY</th>\n",
              "      <td>ABUSO SEXUAL</td>\n",
              "      <td>1</td>\n",
              "      <td>ACAMBAY</td>\n",
              "    </tr>\n",
              "    <tr>\n",
              "      <th>ACAPULCO DE JUAREZ</th>\n",
              "      <td>ABUSO SEXUAL</td>\n",
              "      <td>1</td>\n",
              "      <td>ACAPULCO DE JUAREZ</td>\n",
              "    </tr>\n",
              "    <tr>\n",
              "      <th>ACATLAN</th>\n",
              "      <td>ABUSO SEXUAL</td>\n",
              "      <td>1</td>\n",
              "      <td>ACATLAN</td>\n",
              "    </tr>\n",
              "  </tbody>\n",
              "</table>\n",
              "</div>"
            ],
            "text/plain": [
              "                                               delito  ...     alcaldia_hechos\n",
              "alcaldia_hechos                                        ...                    \n",
              "ABALA                              DENUNCIA DE HECHOS  ...               ABALA\n",
              "ACAMBARO            PRIVACION DE LA LIBERTAD PERSONAL  ...            ACAMBARO\n",
              "ACAMBAY                                  ABUSO SEXUAL  ...             ACAMBAY\n",
              "ACAPULCO DE JUAREZ                       ABUSO SEXUAL  ...  ACAPULCO DE JUAREZ\n",
              "ACATLAN                                  ABUSO SEXUAL  ...             ACATLAN\n",
              "\n",
              "[5 rows x 3 columns]"
            ]
          },
          "metadata": {},
          "execution_count": 244
        }
      ]
    },
    {
      "cell_type": "code",
      "metadata": {
        "colab": {
          "base_uri": "https://localhost:8080/"
        },
        "id": "V5BBGvqUV8BU",
        "outputId": "6e787db1-55ed-43f7-e019-9fb71b280808"
      },
      "source": [
        "min_df_group['delito'].value_counts().head(20)"
      ],
      "execution_count": 245,
      "outputs": [
        {
          "output_type": "execute_result",
          "data": {
            "text/plain": [
              "ABUSO SEXUAL                                             67\n",
              "DENUNCIA DE HECHOS                                       54\n",
              "ABANDONO DE PERSONA                                      47\n",
              "FRAUDE                                                   35\n",
              "VIOLENCIA FAMILIAR                                       34\n",
              "ABUSO DE CONFIANZA                                       29\n",
              "ROBO DE VEHICULO DE SERVICIO PARTICULAR CON VIOLENCIA    20\n",
              "LESIONES INTENCIONALES POR ARMA DE FUEGO                 13\n",
              "AMENAZAS                                                 13\n",
              "VIOLACION                                                10\n",
              "ABUSO DE AUTORIDAD Y USO ILEGAL DE LA FUERZA PUBLICA      9\n",
              "SUSTRACCIÃN DE MENORES                                   9\n",
              "ROBO DE OBJETOS                                           9\n",
              "HOMICIDIOS INTENCIONALES (OTROS)                          8\n",
              "PERDIDA DE LA VIDA POR QUEMADURA                          8\n",
              "ROBO DE VEHICULO DE SERVICIO PARTICULAR SIN VIOLENCIA     7\n",
              "LESIONES CULPOSAS POR QUEMADURAS                          7\n",
              "SUSTRACCION DE MENORES                                    7\n",
              "PRIVACION DE LA LIBERTAD PERSONAL                         7\n",
              "DESPOJO                                                   6\n",
              "Name: delito, dtype: int64"
            ]
          },
          "metadata": {},
          "execution_count": 245
        }
      ]
    },
    {
      "cell_type": "code",
      "metadata": {
        "colab": {
          "base_uri": "https://localhost:8080/"
        },
        "id": "ti_7nViEWAFi",
        "outputId": "0a6237e0-7c84-4059-c5b7-f60f25fae927"
      },
      "source": [
        "sum(min_df_group['delito'].value_counts().head(10))/sum(min_df_group['delito'].value_counts())"
      ],
      "execution_count": 246,
      "outputs": [
        {
          "output_type": "execute_result",
          "data": {
            "text/plain": [
              "0.578096947935368"
            ]
          },
          "metadata": {},
          "execution_count": 246
        }
      ]
    },
    {
      "cell_type": "markdown",
      "metadata": {
        "id": "cLeBTrryL1ur"
      },
      "source": [
        "**5.- ¿Cuáles son los delitos que más caracterizan a cada alcaldía? Es decir, delitos que suceden con mayor frecuencia en una alcaldía y con menor frecuencia en las demás?**"
      ]
    },
    {
      "cell_type": "markdown",
      "metadata": {
        "id": "rVcTjw83L6Bd"
      },
      "source": [
        "La violencia familiar ocurre en las de la mitad de las alcaldias, en 198 para ser exactos, de ahí sigue violación y robo de vehiculos. Mientras que los delitos que menos suceden con frecuencia son abuso sexual, denuncia de hechos y abandono de persona... Es más que claro que por la situación de pandemia, influyo también en la situación de relaciones familiares, debido al cambio social que pasamos por varios meses. "
      ]
    },
    {
      "cell_type": "code",
      "metadata": {
        "colab": {
          "base_uri": "https://localhost:8080/"
        },
        "id": "mD7Wv8kuZmOQ",
        "outputId": "f7bae3da-2887-453a-abff-285336b6c729"
      },
      "source": [
        "df.columns"
      ],
      "execution_count": 251,
      "outputs": [
        {
          "output_type": "execute_result",
          "data": {
            "text/plain": [
              "Index(['ao_hechos', 'mes_hechos', 'fecha_hechos', 'ao_inicio', 'mes_inicio',\n",
              "       'fecha_inicio', 'delito', 'fiscalia', 'agencia', 'unidad_investigacion',\n",
              "       'categoria_delito', 'calle_hechos', 'colonia_hechos', 'alcaldia_hechos',\n",
              "       'longitud', 'latitud', 'date'],\n",
              "      dtype='object')"
            ]
          },
          "metadata": {},
          "execution_count": 251
        }
      ]
    },
    {
      "cell_type": "code",
      "metadata": {
        "colab": {
          "base_uri": "https://localhost:8080/",
          "height": 204
        },
        "id": "jxsfdS-TXUC5",
        "outputId": "0760d0df-3279-4903-beda-61607aa97f7f"
      },
      "source": [
        "df_group3 = df.groupby([\"ao_hechos\", \"mes_hechos\", \"alcaldia_hechos\"], as_index=False)[\"delito\"].count()\n",
        "df_group3.head()\n",
        "values_3=['2016', '2017', '2018', '2019','2020','2021']\n",
        "df_group3 = df_group3[df_group3.ao_hechos.isin(values_3)]\n",
        "df_group3.head()"
      ],
      "execution_count": 260,
      "outputs": [
        {
          "output_type": "execute_result",
          "data": {
            "text/html": [
              "<div>\n",
              "<style scoped>\n",
              "    .dataframe tbody tr th:only-of-type {\n",
              "        vertical-align: middle;\n",
              "    }\n",
              "\n",
              "    .dataframe tbody tr th {\n",
              "        vertical-align: top;\n",
              "    }\n",
              "\n",
              "    .dataframe thead th {\n",
              "        text-align: right;\n",
              "    }\n",
              "</style>\n",
              "<table border=\"1\" class=\"dataframe\">\n",
              "  <thead>\n",
              "    <tr style=\"text-align: right;\">\n",
              "      <th></th>\n",
              "      <th>ao_hechos</th>\n",
              "      <th>mes_hechos</th>\n",
              "      <th>alcaldia_hechos</th>\n",
              "      <th>delito</th>\n",
              "    </tr>\n",
              "  </thead>\n",
              "  <tbody>\n",
              "    <tr>\n",
              "      <th>2984</th>\n",
              "      <td>2016.0</td>\n",
              "      <td>Abril</td>\n",
              "      <td>ACOLMAN</td>\n",
              "      <td>2</td>\n",
              "    </tr>\n",
              "    <tr>\n",
              "      <th>2985</th>\n",
              "      <td>2016.0</td>\n",
              "      <td>Abril</td>\n",
              "      <td>ALVARO OBREGON</td>\n",
              "      <td>1014</td>\n",
              "    </tr>\n",
              "    <tr>\n",
              "      <th>2986</th>\n",
              "      <td>2016.0</td>\n",
              "      <td>Abril</td>\n",
              "      <td>ATIZAPAN</td>\n",
              "      <td>1</td>\n",
              "    </tr>\n",
              "    <tr>\n",
              "      <th>2987</th>\n",
              "      <td>2016.0</td>\n",
              "      <td>Abril</td>\n",
              "      <td>ATIZAPAN DE ZARAGOZA</td>\n",
              "      <td>3</td>\n",
              "    </tr>\n",
              "    <tr>\n",
              "      <th>2988</th>\n",
              "      <td>2016.0</td>\n",
              "      <td>Abril</td>\n",
              "      <td>AZCAPOTZALCO</td>\n",
              "      <td>824</td>\n",
              "    </tr>\n",
              "  </tbody>\n",
              "</table>\n",
              "</div>"
            ],
            "text/plain": [
              "      ao_hechos mes_hechos       alcaldia_hechos  delito\n",
              "2984     2016.0      Abril               ACOLMAN       2\n",
              "2985     2016.0      Abril        ALVARO OBREGON    1014\n",
              "2986     2016.0      Abril              ATIZAPAN       1\n",
              "2987     2016.0      Abril  ATIZAPAN DE ZARAGOZA       3\n",
              "2988     2016.0      Abril          AZCAPOTZALCO     824"
            ]
          },
          "metadata": {},
          "execution_count": 260
        }
      ]
    },
    {
      "cell_type": "code",
      "metadata": {
        "colab": {
          "base_uri": "https://localhost:8080/",
          "height": 204
        },
        "id": "Fj6dYbiHaU-_",
        "outputId": "4b9f3309-61d5-41db-e102-a6cf5fff1aed"
      },
      "source": [
        "df_group3['AVG_SALARY'] = df_group3.groupby('alcaldia_hechos').delito.transform('mean')\n",
        "df_group3.head()\n",
        "df_group3['AVG_SALARY']"
      ],
      "execution_count": 266,
      "outputs": [
        {
          "output_type": "execute_result",
          "data": {
            "text/html": [
              "<div>\n",
              "<style scoped>\n",
              "    .dataframe tbody tr th:only-of-type {\n",
              "        vertical-align: middle;\n",
              "    }\n",
              "\n",
              "    .dataframe tbody tr th {\n",
              "        vertical-align: top;\n",
              "    }\n",
              "\n",
              "    .dataframe thead th {\n",
              "        text-align: right;\n",
              "    }\n",
              "</style>\n",
              "<table border=\"1\" class=\"dataframe\">\n",
              "  <thead>\n",
              "    <tr style=\"text-align: right;\">\n",
              "      <th></th>\n",
              "      <th>ao_hechos</th>\n",
              "      <th>mes_hechos</th>\n",
              "      <th>alcaldia_hechos</th>\n",
              "      <th>delito</th>\n",
              "      <th>AVG_SALARY</th>\n",
              "    </tr>\n",
              "  </thead>\n",
              "  <tbody>\n",
              "    <tr>\n",
              "      <th>2984</th>\n",
              "      <td>2016.0</td>\n",
              "      <td>Abril</td>\n",
              "      <td>ACOLMAN</td>\n",
              "      <td>2</td>\n",
              "      <td>1.181818</td>\n",
              "    </tr>\n",
              "    <tr>\n",
              "      <th>2985</th>\n",
              "      <td>2016.0</td>\n",
              "      <td>Abril</td>\n",
              "      <td>ALVARO OBREGON</td>\n",
              "      <td>1014</td>\n",
              "      <td>1268.869565</td>\n",
              "    </tr>\n",
              "    <tr>\n",
              "      <th>2986</th>\n",
              "      <td>2016.0</td>\n",
              "      <td>Abril</td>\n",
              "      <td>ATIZAPAN</td>\n",
              "      <td>1</td>\n",
              "      <td>1.111111</td>\n",
              "    </tr>\n",
              "    <tr>\n",
              "      <th>2987</th>\n",
              "      <td>2016.0</td>\n",
              "      <td>Abril</td>\n",
              "      <td>ATIZAPAN DE ZARAGOZA</td>\n",
              "      <td>3</td>\n",
              "      <td>2.415094</td>\n",
              "    </tr>\n",
              "    <tr>\n",
              "      <th>2988</th>\n",
              "      <td>2016.0</td>\n",
              "      <td>Abril</td>\n",
              "      <td>AZCAPOTZALCO</td>\n",
              "      <td>824</td>\n",
              "      <td>904.710145</td>\n",
              "    </tr>\n",
              "  </tbody>\n",
              "</table>\n",
              "</div>"
            ],
            "text/plain": [
              "      ao_hechos mes_hechos       alcaldia_hechos  delito   AVG_SALARY\n",
              "2984     2016.0      Abril               ACOLMAN       2     1.181818\n",
              "2985     2016.0      Abril        ALVARO OBREGON    1014  1268.869565\n",
              "2986     2016.0      Abril              ATIZAPAN       1     1.111111\n",
              "2987     2016.0      Abril  ATIZAPAN DE ZARAGOZA       3     2.415094\n",
              "2988     2016.0      Abril          AZCAPOTZALCO     824   904.710145"
            ]
          },
          "metadata": {},
          "execution_count": 266
        }
      ]
    },
    {
      "cell_type": "code",
      "metadata": {
        "colab": {
          "base_uri": "https://localhost:8080/",
          "height": 204
        },
        "id": "kXLAYVrAfesP",
        "outputId": "85752f51-6945-4b8d-c8dd-ac2f450841f0"
      },
      "source": [
        "df_group4 = df_group3.groupby([\"alcaldia_hechos\"], as_index=False)[\"delito\"].mean()\n",
        "df_group4.head()\n"
      ],
      "execution_count": 271,
      "outputs": [
        {
          "output_type": "execute_result",
          "data": {
            "text/html": [
              "<div>\n",
              "<style scoped>\n",
              "    .dataframe tbody tr th:only-of-type {\n",
              "        vertical-align: middle;\n",
              "    }\n",
              "\n",
              "    .dataframe tbody tr th {\n",
              "        vertical-align: top;\n",
              "    }\n",
              "\n",
              "    .dataframe thead th {\n",
              "        text-align: right;\n",
              "    }\n",
              "</style>\n",
              "<table border=\"1\" class=\"dataframe\">\n",
              "  <thead>\n",
              "    <tr style=\"text-align: right;\">\n",
              "      <th></th>\n",
              "      <th>alcaldia_hechos</th>\n",
              "      <th>delito</th>\n",
              "    </tr>\n",
              "  </thead>\n",
              "  <tbody>\n",
              "    <tr>\n",
              "      <th>0</th>\n",
              "      <td>ABALA</td>\n",
              "      <td>1.000000</td>\n",
              "    </tr>\n",
              "    <tr>\n",
              "      <th>1</th>\n",
              "      <td>ACAMBARO</td>\n",
              "      <td>1.000000</td>\n",
              "    </tr>\n",
              "    <tr>\n",
              "      <th>2</th>\n",
              "      <td>ACAMBAY</td>\n",
              "      <td>1.000000</td>\n",
              "    </tr>\n",
              "    <tr>\n",
              "      <th>3</th>\n",
              "      <td>ACAPULCO DE JUAREZ</td>\n",
              "      <td>1.885714</td>\n",
              "    </tr>\n",
              "    <tr>\n",
              "      <th>4</th>\n",
              "      <td>ACATLAN</td>\n",
              "      <td>1.000000</td>\n",
              "    </tr>\n",
              "  </tbody>\n",
              "</table>\n",
              "</div>"
            ],
            "text/plain": [
              "      alcaldia_hechos    delito\n",
              "0               ABALA  1.000000\n",
              "1            ACAMBARO  1.000000\n",
              "2             ACAMBAY  1.000000\n",
              "3  ACAPULCO DE JUAREZ  1.885714\n",
              "4             ACATLAN  1.000000"
            ]
          },
          "metadata": {},
          "execution_count": 271
        }
      ]
    },
    {
      "cell_type": "markdown",
      "metadata": {
        "id": "2rSASYOrhYpw"
      },
      "source": [
        "![info de extra.PNG](data:image/png;base64,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)"
      ]
    },
    {
      "cell_type": "code",
      "metadata": {
        "colab": {
          "base_uri": "https://localhost:8080/"
        },
        "id": "TohUC6TFiBl9",
        "outputId": "9220b487-8488-4c77-ee1d-b247f966d3f9"
      },
      "source": [
        "max_value = max(df_group4['delito'])\n",
        "max_value"
      ],
      "execution_count": 273,
      "outputs": [
        {
          "output_type": "execute_result",
          "data": {
            "text/plain": [
              "2828.246376811594"
            ]
          },
          "metadata": {},
          "execution_count": 273
        }
      ]
    },
    {
      "cell_type": "code",
      "metadata": {
        "colab": {
          "base_uri": "https://localhost:8080/"
        },
        "id": "ukrxnlMkhXBU",
        "outputId": "f15eeff3-0664-4b85-b237-3b3f21b69fe7"
      },
      "source": [
        "min_value = min(df_group4['delito'])\n",
        "min_value"
      ],
      "execution_count": 275,
      "outputs": [
        {
          "output_type": "execute_result",
          "data": {
            "text/plain": [
              "1.0"
            ]
          },
          "metadata": {},
          "execution_count": 275
        }
      ]
    },
    {
      "cell_type": "code",
      "metadata": {
        "id": "oGEd2ED4g7P4"
      },
      "source": [
        "df_group4['Indice'] = 5+((1-5)/(min_value-max_value)*(df_group4['delito']-max_value))"
      ],
      "execution_count": 276,
      "outputs": []
    },
    {
      "cell_type": "code",
      "metadata": {
        "colab": {
          "base_uri": "https://localhost:8080/",
          "height": 419
        },
        "id": "CMFOxdjGk3Ax",
        "outputId": "67488add-f912-4861-d066-433e0514530b"
      },
      "source": [
        "df_group4.sort_values(by = \"delito\")"
      ],
      "execution_count": 278,
      "outputs": [
        {
          "output_type": "execute_result",
          "data": {
            "text/html": [
              "<div>\n",
              "<style scoped>\n",
              "    .dataframe tbody tr th:only-of-type {\n",
              "        vertical-align: middle;\n",
              "    }\n",
              "\n",
              "    .dataframe tbody tr th {\n",
              "        vertical-align: top;\n",
              "    }\n",
              "\n",
              "    .dataframe thead th {\n",
              "        text-align: right;\n",
              "    }\n",
              "</style>\n",
              "<table border=\"1\" class=\"dataframe\">\n",
              "  <thead>\n",
              "    <tr style=\"text-align: right;\">\n",
              "      <th></th>\n",
              "      <th>alcaldia_hechos</th>\n",
              "      <th>delito</th>\n",
              "      <th>Indice</th>\n",
              "    </tr>\n",
              "  </thead>\n",
              "  <tbody>\n",
              "    <tr>\n",
              "      <th>0</th>\n",
              "      <td>ABALA</td>\n",
              "      <td>1.000000</td>\n",
              "      <td>1.000000</td>\n",
              "    </tr>\n",
              "    <tr>\n",
              "      <th>300</th>\n",
              "      <td>OZUMBA</td>\n",
              "      <td>1.000000</td>\n",
              "      <td>1.000000</td>\n",
              "    </tr>\n",
              "    <tr>\n",
              "      <th>299</th>\n",
              "      <td>OTZOLOTEPEC</td>\n",
              "      <td>1.000000</td>\n",
              "      <td>1.000000</td>\n",
              "    </tr>\n",
              "    <tr>\n",
              "      <th>298</th>\n",
              "      <td>OTUMBA</td>\n",
              "      <td>1.000000</td>\n",
              "      <td>1.000000</td>\n",
              "    </tr>\n",
              "    <tr>\n",
              "      <th>297</th>\n",
              "      <td>OTHON P. BLANCO</td>\n",
              "      <td>1.000000</td>\n",
              "      <td>1.000000</td>\n",
              "    </tr>\n",
              "    <tr>\n",
              "      <th>...</th>\n",
              "      <td>...</td>\n",
              "      <td>...</td>\n",
              "      <td>...</td>\n",
              "    </tr>\n",
              "    <tr>\n",
              "      <th>28</th>\n",
              "      <td>ALVARO OBREGON</td>\n",
              "      <td>1268.869565</td>\n",
              "      <td>2.793787</td>\n",
              "    </tr>\n",
              "    <tr>\n",
              "      <th>67</th>\n",
              "      <td>BENITO JUAREZ</td>\n",
              "      <td>1516.536232</td>\n",
              "      <td>3.144187</td>\n",
              "    </tr>\n",
              "    <tr>\n",
              "      <th>177</th>\n",
              "      <td>GUSTAVO A MADERO</td>\n",
              "      <td>1871.608696</td>\n",
              "      <td>3.646545</td>\n",
              "    </tr>\n",
              "    <tr>\n",
              "      <th>211</th>\n",
              "      <td>IZTAPALAPA</td>\n",
              "      <td>2797.304348</td>\n",
              "      <td>4.956223</td>\n",
              "    </tr>\n",
              "    <tr>\n",
              "      <th>135</th>\n",
              "      <td>CUAUHTEMOC</td>\n",
              "      <td>2828.246377</td>\n",
              "      <td>5.000000</td>\n",
              "    </tr>\n",
              "  </tbody>\n",
              "</table>\n",
              "<p>523 rows × 3 columns</p>\n",
              "</div>"
            ],
            "text/plain": [
              "      alcaldia_hechos       delito    Indice\n",
              "0               ABALA     1.000000  1.000000\n",
              "300            OZUMBA     1.000000  1.000000\n",
              "299       OTZOLOTEPEC     1.000000  1.000000\n",
              "298            OTUMBA     1.000000  1.000000\n",
              "297   OTHON P. BLANCO     1.000000  1.000000\n",
              "..                ...          ...       ...\n",
              "28     ALVARO OBREGON  1268.869565  2.793787\n",
              "67      BENITO JUAREZ  1516.536232  3.144187\n",
              "177  GUSTAVO A MADERO  1871.608696  3.646545\n",
              "211        IZTAPALAPA  2797.304348  4.956223\n",
              "135        CUAUHTEMOC  2828.246377  5.000000\n",
              "\n",
              "[523 rows x 3 columns]"
            ]
          },
          "metadata": {},
          "execution_count": 278
        }
      ]
    },
    {
      "cell_type": "markdown",
      "metadata": {
        "id": "-6CRCQsrlkNB"
      },
      "source": [
        "**Reglas del indice**\n",
        "4-5 => Muy inseguro\n",
        "3-4 => Inseguro\n",
        "2-3 => Poco Inseguro\n",
        "1-2 => Seguro"
      ]
    },
    {
      "cell_type": "markdown",
      "metadata": {
        "id": "fipissN9M3SO"
      },
      "source": [
        "**6.-¿Diseña un indicador que mida el nivel de “inseguridad”. Genéralo al nivel de desagregación que te parezca más adecuado (ej. manzana, calle, AGEB, etc.). Analiza los resultados ¿Encontraste algún patrón interesante? ¿Qué decisiones se podrían tomar con el indicador?**"
      ]
    },
    {
      "cell_type": "markdown",
      "metadata": {
        "id": "ASpIn_xnNYsP"
      },
      "source": [
        "El indicador está basado en interpolación lineal, considerando el de mas alto promedio mensual de delitos, y el de menor promedio mensual de delitos. Posteriormente el indice se asigna 5 al mas alto y 1 al mas bajo. Y de ahi se aplica la formula mencionada anteriormente. Donde dependiendo del resultado se define si la ciudad es insegura o segura. Las decisiones que podrian tomar, es dividir las operaciones policiales, asignación de presupuesto con mayor equipos a las zonas mas inseguras, para minimizar los efectos generados por esta situación social. Esto se encuentra correlacionado al turismo, las alcaldias más seguras deben ser promocionadas para generar mayor visita que signifique mayores remesas para los mexicanos, y las alcaldias mas inseguras deberan tener un fuerte control militar en las zonas turisticas, para que no generen alguna situación defavorable para el turista. Adicional el nivel de delitos impacta negativamente en el mercado inmobiliario y negocios del sector, lo cual debe ser controlado. "
      ]
    }
  ]
}